{
 "cells": [
  {
   "cell_type": "markdown",
   "id": "5a7be7a4",
   "metadata": {},
   "source": [
    "## INTRODUCCION AL ALGEBRA LINEAL\n",
    "#### Especializacion en Matematica y Estadistica para Ciencia de Datos"
   ]
  },
  {
   "cell_type": "markdown",
   "id": "19b8bef9",
   "metadata": {},
   "source": [
    "#### Principales propiedades de numpy en el algebra lineal:"
   ]
  },
  {
   "cell_type": "code",
   "execution_count": 1,
   "id": "723c6537",
   "metadata": {},
   "outputs": [],
   "source": [
    "import numpy as np\n",
    "import pandas as pd\n",
    "# Matriz identidad ---> np.eye(a) donde a representa la dimension de la matriz cuadrada.\n",
    "# Matriz cuadrada ----> np.random.randn(6,6)  Genera numeros aleatorios a partir de una distribucion normal gaussiana, \n",
    "                        # 68% valores entre -1,+1,95% valores entre -2,2, raro ver numeros -3,3\n",
    "# Matriz diagonal ----> np.random.normal(a,b,c) donde a es la media, b la varianza, y c la cantidad de valores que va a tener\n",
    "                        # una matriz de 1xn, si ponemos size = (d,d), generará una matriz de dxd.\n",
    "                        #ejemplo: print(np.random.normal(6,1.75,4))\n",
    "# Matriz nula ----> np.zeros((10,8)) matriz nula de dimension 10x8\n",
    "                        # print(np.zeros((10,8)))\n",
    "# Matriz triangular superior: recordemos que una matriz triangular sup o inf debe ser cuadrada, i > j, i = filas, j = cols\n",
    "         #print(np.triu(np.random.randn(6,6)))\n",
    "# Matriz triangular inferior: j > i  donde j = columnas, i = filas \n",
    "         #print(np.tril(np.random.randn(6,6)))\n",
    "# Matriz transpuesta: recordemos que una matriz transpuesta resulta del intercambio de filas por columnas o viceversa.\n",
    "        #A = np.random.normal(4,1,size =(5,3))\n",
    "        #print(\"La matriz A es: \",A, sep = \"\\n\")\n",
    "        #print(\"La transpuesta de A es: \",A.T,sep=\"\\n\")\n",
    "        \n",
    "# Expresiones importantes en numpy: el cuadrado de un numero --->  np.sqrt(7) ejm: print(np.sqrt(7))\n",
    "         # e^n print(np.exp(n))  ejm: print(np.exp(2))\n",
    "         # logaritmo neperiano --> np.log(n) ejm: print(np.log(15))\n",
    "         # Logaritmo en base 10 -->np.log10(25) ejm: print(np.log10(16))\n",
    "            \n",
    "# PROPIEDADES DE LAS MATRICES\n"
   ]
  },
  {
   "cell_type": "markdown",
   "id": "b788f3aa",
   "metadata": {},
   "source": [
    "\n",
    "### Seccion 1: Matrices"
   ]
  },
  {
   "cell_type": "markdown",
   "id": "1c264820",
   "metadata": {},
   "source": [
    "#### I. Especificacion de Matrices"
   ]
  },
  {
   "attachments": {
    "image.png": {
     "image/png": "[encoded data removed]"
    }
   },
   "cell_type": "markdown",
   "id": "b413c730",
   "metadata": {},
   "source": [
    "![image.png](attachment:image.png)\n",
    "\n",
    "###### A es una matriz de 4x4 (4 filas) x (4 columnas)"
   ]
  },
  {
   "cell_type": "code",
   "execution_count": 2,
   "id": "c4005339",
   "metadata": {},
   "outputs": [],
   "source": [
    "import numpy as np\n",
    "import pandas as pd"
   ]
  },
  {
   "cell_type": "code",
   "execution_count": 3,
   "id": "0ab7317d",
   "metadata": {},
   "outputs": [
    {
     "name": "stdout",
     "output_type": "stream",
     "text": [
      "La matriz A es: \n",
      "[[6.0000 5.0000 4.0000 1.2000]\n",
      " [6.0000 4.0000 7.0000 7.0000]\n",
      " [8.0000 2.5000 1.1500 6.0000]\n",
      " [4.0000 5.0000 7.0000 3.0000]]\n"
     ]
    }
   ],
   "source": [
    "np.set_printoptions(formatter= {'float': lambda x: \"{0:0.4f}\".format(x)})\n",
    "\n",
    "\n",
    "A = np.array([[6,5,4,1.2],\n",
    "              [6,4,7,7],\n",
    "              [8,2.5,1.15,6],\n",
    "              [4,5,7,3]])\n",
    "\n",
    "print(\"La matriz A es: \",A, sep = '\\n')\n"
   ]
  },
  {
   "attachments": {
    "image.png": {
     "image/png": "[encoded data removed]"
    }
   },
   "cell_type": "markdown",
   "id": "2231c6e3",
   "metadata": {},
   "source": [
    "Para una matriz de 2x3: ![image.png](attachment:image.png)"
   ]
  },
  {
   "cell_type": "code",
   "execution_count": 4,
   "id": "f93020eb",
   "metadata": {},
   "outputs": [
    {
     "name": "stdout",
     "output_type": "stream",
     "text": [
      "[[5.0000 2.6458 7.3891]\n",
      " [7.0000 -0.1429 6.0000]]\n"
     ]
    }
   ],
   "source": [
    "B = np.array([[5,np.sqrt(7),np.exp(2)],\n",
    "              [7,-1/7,6]])\n",
    "\n",
    "print(B)"
   ]
  },
  {
   "attachments": {
    "image.png": {
     "image/png": "[encoded data removed]"
    }
   },
   "cell_type": "markdown",
   "id": "87498ea5",
   "metadata": {},
   "source": [
    "Para un vector columna (matriz con una columna): ![image.png](attachment:image.png)"
   ]
  },
  {
   "cell_type": "code",
   "execution_count": 5,
   "id": "60f46ed7",
   "metadata": {},
   "outputs": [
    {
     "name": "stdout",
     "output_type": "stream",
     "text": [
      "La matriz C es: \n",
      "\n",
      "[[8.0000]\n",
      " [1.4310]\n",
      " [0.5000]\n",
      " [-7.0000]\n",
      " [4.0000]\n",
      " [3.5000]\n",
      " [2.7081]]\n",
      "[[8.0000]\n",
      " [1.4310]\n",
      " [0.5000]\n",
      " [-7.0000]\n",
      " [4.0000]\n",
      " [3.5000]\n",
      " [2.7081]]\n"
     ]
    }
   ],
   "source": [
    "C = np.array([[8],\n",
    "              [6**(1/5)],\n",
    "              [1/2],\n",
    "              [-7],\n",
    "              [4],\n",
    "              [3.5],\n",
    "              [np.log(15)]])\n",
    "\n",
    "print(\"La matriz C es: \",C, sep = \"\\n\\n\")\n",
    "print(C)"
   ]
  },
  {
   "attachments": {
    "image.png": {
     "image/png": "[encoded data removed]"
    }
   },
   "cell_type": "markdown",
   "id": "b861f680",
   "metadata": {},
   "source": [
    "Para un vector fila (matriz con solo una fila) : ![image.png](attachment:image.png)"
   ]
  },
  {
   "cell_type": "code",
   "execution_count": 6,
   "id": "48a23a50",
   "metadata": {},
   "outputs": [
    {
     "name": "stdout",
     "output_type": "stream",
     "text": [
      "La matriz D es: \n",
      "\n",
      "[[4.5826 1.5341 0.8851 2.0794 7.3610 0.0025 0.5000 3.0000]]\n"
     ]
    }
   ],
   "source": [
    "D = np.array([[np.sqrt(21),20**(1/7),1/(3**(1/9)),np.log(8),7.361,np.exp(-6),0.5,3]])\n",
    "\n",
    "print(\"La matriz D es: \", D, sep =\"\\n\\n\")"
   ]
  },
  {
   "cell_type": "markdown",
   "id": "0003b5a0",
   "metadata": {},
   "source": [
    "### II. MATRICES ESPECIALES"
   ]
  },
  {
   "cell_type": "markdown",
   "id": "4fcbcea4",
   "metadata": {},
   "source": [
    "### a) Matriz Cuadrada"
   ]
  },
  {
   "cell_type": "markdown",
   "id": "339a2e2a",
   "metadata": {},
   "source": [
    "###### Crear una matriz con una dimension de 6x6"
   ]
  },
  {
   "cell_type": "code",
   "execution_count": 7,
   "id": "3c1fd4a7",
   "metadata": {},
   "outputs": [
    {
     "name": "stdout",
     "output_type": "stream",
     "text": [
      "          0         1         2         3         4         5\n",
      "0 -1.085631  0.997345  0.282978 -1.506295 -0.578600  1.651437\n",
      "1 -2.426679 -0.428913  1.265936 -0.866740 -0.678886 -0.094709\n",
      "2  1.491390 -0.638902 -0.443982 -0.434351  2.205930  2.186786\n",
      "3  1.004054  0.386186  0.737369  1.490732 -0.935834  1.175829\n",
      "4 -1.253881 -0.637752  0.907105 -1.428681 -0.140069 -0.861755\n",
      "5 -0.255619 -2.798589 -1.771533 -0.699877  0.927462 -0.173636\n"
     ]
    }
   ],
   "source": [
    "np.random.seed(123)\n",
    "A = np.random.randn(6,6) # Genera numeros aleatorios a partir de una distribucion normal gaussiana, 68% valores entre -1,+1, \n",
    "                         #95% valores entre -2,2, raro ver numeros -3,3\n",
    "A = pd.DataFrame(A)\n",
    "print(A)"
   ]
  },
  {
   "cell_type": "markdown",
   "id": "9ac88c65",
   "metadata": {},
   "source": [
    "#### Matriz Diagonal"
   ]
  },
  {
   "cell_type": "code",
   "execution_count": 8,
   "id": "f889fcdd",
   "metadata": {},
   "outputs": [
    {
     "name": "stdout",
     "output_type": "stream",
     "text": [
      "[4.1001 7.7454 6.4952 3.3640]\n",
      "          0         1         2         3\n",
      "0  4.100146  0.000000  0.000000  0.000000\n",
      "1  0.000000  7.745355  0.000000  0.000000\n",
      "2  0.000000  0.000000  6.495212  0.000000\n",
      "3  0.000000  0.000000  0.000000  3.363984\n"
     ]
    }
   ],
   "source": [
    "np.random.seed(123)\n",
    "random_numbers = np.random.normal(6,1.75,4) # --> el ultimo 4 es un array 1D con 4 valores, seran la diagonal de la matriz\n",
    "C = np.diag(random_numbers) # diag genera la diagonal con los 4 valores, y rellena los demas valores de la matriz con ceros\n",
    "C = pd.DataFrame(C)\n",
    "print(random_numbers)\n",
    "print(C)"
   ]
  },
  {
   "cell_type": "markdown",
   "id": "d5559037",
   "metadata": {},
   "source": [
    "#### Matriz Identidad"
   ]
  },
  {
   "cell_type": "code",
   "execution_count": 9,
   "id": "68ea481b",
   "metadata": {},
   "outputs": [
    {
     "name": "stdout",
     "output_type": "stream",
     "text": [
      "[[1.0000 0.0000 0.0000 0.0000 0.0000 0.0000 0.0000 0.0000]\n",
      " [0.0000 1.0000 0.0000 0.0000 0.0000 0.0000 0.0000 0.0000]\n",
      " [0.0000 0.0000 1.0000 0.0000 0.0000 0.0000 0.0000 0.0000]\n",
      " [0.0000 0.0000 0.0000 1.0000 0.0000 0.0000 0.0000 0.0000]\n",
      " [0.0000 0.0000 0.0000 0.0000 1.0000 0.0000 0.0000 0.0000]\n",
      " [0.0000 0.0000 0.0000 0.0000 0.0000 1.0000 0.0000 0.0000]\n",
      " [0.0000 0.0000 0.0000 0.0000 0.0000 0.0000 1.0000 0.0000]\n",
      " [0.0000 0.0000 0.0000 0.0000 0.0000 0.0000 0.0000 1.0000]]\n"
     ]
    }
   ],
   "source": [
    "# Creamos una matriz identidad de orden 5\n",
    "\n",
    "D = np.eye(8)\n",
    "print(D)"
   ]
  },
  {
   "cell_type": "markdown",
   "id": "de7d3092",
   "metadata": {},
   "source": [
    "#### Matriz Nula"
   ]
  },
  {
   "cell_type": "code",
   "execution_count": 10,
   "id": "7f00bb11",
   "metadata": {},
   "outputs": [
    {
     "name": "stdout",
     "output_type": "stream",
     "text": [
      "[[0.0000 0.0000 0.0000 0.0000 0.0000 0.0000 0.0000]\n",
      " [0.0000 0.0000 0.0000 0.0000 0.0000 0.0000 0.0000]\n",
      " [0.0000 0.0000 0.0000 0.0000 0.0000 0.0000 0.0000]\n",
      " [0.0000 0.0000 0.0000 0.0000 0.0000 0.0000 0.0000]\n",
      " [0.0000 0.0000 0.0000 0.0000 0.0000 0.0000 0.0000]\n",
      " [0.0000 0.0000 0.0000 0.0000 0.0000 0.0000 0.0000]\n",
      " [0.0000 0.0000 0.0000 0.0000 0.0000 0.0000 0.0000]\n",
      " [0.0000 0.0000 0.0000 0.0000 0.0000 0.0000 0.0000]\n",
      " [0.0000 0.0000 0.0000 0.0000 0.0000 0.0000 0.0000]\n",
      " [0.0000 0.0000 0.0000 0.0000 0.0000 0.0000 0.0000]]\n"
     ]
    }
   ],
   "source": [
    "E = np.zeros((10,7))\n",
    "print(E)"
   ]
  },
  {
   "cell_type": "markdown",
   "id": "26c01ab0",
   "metadata": {},
   "source": [
    "#### Matriz Triangular Superior"
   ]
  },
  {
   "cell_type": "code",
   "execution_count": 40,
   "id": "d17abff3",
   "metadata": {},
   "outputs": [
    {
     "name": "stdout",
     "output_type": "stream",
     "text": [
      "          0         1         2         3         4\n",
      "0  0.696469  0.286139  0.226851  0.551315  0.719469\n",
      "1  0.000000  0.980764  0.684830  0.480932  0.392118\n",
      "2  0.000000  0.000000  0.438572  0.059678  0.398044\n",
      "3  0.000000  0.000000  0.000000  0.531551  0.531828\n",
      "4  0.000000  0.000000  0.000000  0.000000  0.722443\n"
     ]
    }
   ],
   "source": [
    "np.random.seed(123)\n",
    "matriz_triang_sup = np.triu(np.random.rand(5,5))\n",
    "G = pd.DataFrame(matriz_triang_sup)\n",
    "print(G)"
   ]
  },
  {
   "cell_type": "code",
   "execution_count": 20,
   "id": "35402fb1",
   "metadata": {},
   "outputs": [
    {
     "name": "stdout",
     "output_type": "stream",
     "text": [
      "          0         1         2         3         4         5\n",
      "0  0.696469  0.286139  0.226851  0.551315  0.719469  0.423106\n",
      "1  0.000000  0.684830  0.480932  0.392118  0.343178  0.729050\n",
      "2  0.000000  0.000000  0.398044  0.737995  0.182492  0.175452\n",
      "3  0.000000  0.000000  0.000000  0.849432  0.724455  0.611024\n",
      "4  0.000000  0.000000  0.000000  0.000000  0.293714  0.630976\n",
      "5  0.000000  0.000000  0.000000  0.000000  0.000000  0.312261\n"
     ]
    }
   ],
   "source": [
    "# Creamos una matriz triangular superior de orden 5\n",
    "np.random.seed(123)\n",
    "triangular_sup_mat = np.triu(np.random.rand(6,6))\n",
    "G = pd.DataFrame(triangular_sup_mat)\n",
    "print(G)"
   ]
  },
  {
   "cell_type": "markdown",
   "id": "830673ef",
   "metadata": {},
   "source": [
    "#### Matriz Triangular Inferior"
   ]
  },
  {
   "cell_type": "code",
   "execution_count": 42,
   "id": "34787993",
   "metadata": {},
   "outputs": [
    {
     "name": "stdout",
     "output_type": "stream",
     "text": [
      "          0         1         2         3         4         5\n",
      "0  0.696469  0.000000  0.000000  0.000000  0.000000  0.000000\n",
      "1  0.980764  0.684830  0.000000  0.000000  0.000000  0.000000\n",
      "2  0.438572  0.059678  0.398044  0.000000  0.000000  0.000000\n",
      "3  0.531551  0.531828  0.634401  0.849432  0.000000  0.000000\n",
      "4  0.722443  0.322959  0.361789  0.228263  0.293714  0.000000\n",
      "5  0.092105  0.433701  0.430863  0.493685  0.425830  0.312261\n"
     ]
    }
   ],
   "source": [
    "np.random.seed(123)\n",
    "matr_triang_inf = np.tril(np.random.rand(6,6))\n",
    "G = pd.DataFrame(matr_triang_inf)\n",
    "print(G)"
   ]
  },
  {
   "cell_type": "code",
   "execution_count": 21,
   "id": "c18c881f",
   "metadata": {},
   "outputs": [
    {
     "name": "stdout",
     "output_type": "stream",
     "text": [
      "          0         1         2         3         4         5\n",
      "0  0.696469  0.000000  0.000000  0.000000  0.000000  0.000000\n",
      "1  0.980764  0.684830  0.000000  0.000000  0.000000  0.000000\n",
      "2  0.438572  0.059678  0.398044  0.000000  0.000000  0.000000\n",
      "3  0.531551  0.531828  0.634401  0.849432  0.000000  0.000000\n",
      "4  0.722443  0.322959  0.361789  0.228263  0.293714  0.000000\n",
      "5  0.092105  0.433701  0.430863  0.493685  0.425830  0.312261\n"
     ]
    }
   ],
   "source": [
    "# Creamos una matriz triangular inferior de orden 6\n",
    "\n",
    "np.random.seed(123)\n",
    "trian_inf_mat = np.tril(np.random.rand(6,6))\n",
    "G = pd.DataFrame(trian_inf_mat)\n",
    "print(G)"
   ]
  },
  {
   "cell_type": "markdown",
   "id": "e70eaa68",
   "metadata": {},
   "source": [
    "### Matriz Transpuesta"
   ]
  },
  {
   "cell_type": "code",
   "execution_count": 11,
   "id": "fc99c1b9",
   "metadata": {},
   "outputs": [
    {
     "name": "stdout",
     "output_type": "stream",
     "text": [
      "          0         1         2         3         4         5         6\n",
      "0  2.782874  3.199469  3.056596  2.698741  2.884280  3.330287  2.514664\n",
      "1  2.914217  3.253187  2.826652  2.864223  2.981058  3.298278  2.872220\n",
      "2  2.911204  2.913130  3.441186  3.437357  3.200811  3.077237  3.147474\n",
      "3  3.298146  2.812833  3.235166  2.749224  2.872450  3.181421  2.714264\n"
     ]
    }
   ],
   "source": [
    "np.random.seed(123)\n",
    "A = np.random.normal(3,0.2,size = (4,7))\n",
    "A = pd.DataFrame(A)\n",
    "print(A)"
   ]
  },
  {
   "cell_type": "code",
   "execution_count": 12,
   "id": "fc37e678",
   "metadata": {},
   "outputs": [
    {
     "name": "stdout",
     "output_type": "stream",
     "text": [
      "          0         1         2         3\n",
      "0  2.782874  2.914217  2.911204  3.298146\n",
      "1  3.199469  3.253187  2.913130  2.812833\n",
      "2  3.056596  2.826652  3.441186  3.235166\n",
      "3  2.698741  2.864223  3.437357  2.749224\n",
      "4  2.884280  2.981058  3.200811  2.872450\n",
      "5  3.330287  3.298278  3.077237  3.181421\n",
      "6  2.514664  2.872220  3.147474  2.714264\n"
     ]
    }
   ],
   "source": [
    "# La transpuesta de esta matriz es:\n",
    "print(A.T)"
   ]
  },
  {
   "cell_type": "markdown",
   "id": "7e8972a4",
   "metadata": {},
   "source": [
    "#### Propiedades"
   ]
  },
  {
   "cell_type": "code",
   "execution_count": 13,
   "id": "29fb6bf3",
   "metadata": {},
   "outputs": [
    {
     "name": "stdout",
     "output_type": "stream",
     "text": [
      "Matriz A\n",
      "=====================================================\n",
      "[[-8.1579 -1.3260 -1.3827 -0.1263 -1.4834 -3.7548]\n",
      " [-1.4730 7.8678 8.8832 0.0367 2.4791 -7.6876]\n",
      " [-3.6543 -1.7035 7.3262 -4.9909 -0.3393 9.7112]\n",
      " [0.3897 2.2579 -7.5874 6.5268 2.0612 0.9014]\n",
      " [-3.1447 -3.9176 -1.6596 3.6260 7.5091 0.2084]\n",
      " [3.3863 1.7187 2.4981 3.4938 6.8468 -8.3361]]\n",
      "=====================================================\n",
      "Matriz B\n",
      "=====================================================\n",
      "[[5.2737 -5.1267 -6.1155 1.4491 -8.0857 7.7065]\n",
      " [2.5450 4.4683 -9.6774 1.8886 1.1357 -6.8208]\n",
      " [-6.9386 3.9106 -3.6247 3.8394 1.0877 -2.2210]\n",
      " [8.5026 6.8334 -2.8520 -9.1282 -3.9046 -2.0363]\n",
      " [4.0992 9.9072 -2.8817 5.2510 1.8635 3.8340]\n",
      " [-6.9775 -2.0225 -5.1829 -3.1309 0.2626 3.3325]]\n",
      "=====================================================\n",
      "El escalar es:  1.953\n"
     ]
    }
   ],
   "source": [
    "# Definimos el tamaño de la matriz (ejemplo: 6x6)\n",
    "n = 6\n",
    "# Generar matrices aleatorias A y B con decimales entre -10 y 10\n",
    "A = np.random.uniform(-10,10,(n,n))\n",
    "print(\"Matriz A\")\n",
    "print(\"=====================================================\")\n",
    "print(A)\n",
    "print(\"=====================================================\")\n",
    "\n",
    "\n",
    "B = np.random.uniform(-10,10,(n,n))\n",
    "print(\"Matriz B\")\n",
    "print(\"=====================================================\")\n",
    "print(B)\n",
    "print(\"=====================================================\")\n",
    "\n",
    "\n",
    "# Creamos un escalar aleatorio λ con decimales\n",
    "\n",
    "lamb = np.random.uniform(1,10)\n",
    "print(\"El escalar es: \",round(lamb,3))"
   ]
  },
  {
   "cell_type": "code",
   "execution_count": 36,
   "id": "e6b939f0",
   "metadata": {},
   "outputs": [
    {
     "name": "stdout",
     "output_type": "stream",
     "text": [
      "Propiedad 1: True\n",
      "_______________________________________________________________\n",
      "[[-0.0753114  -0.13904539  0.03865599 -0.12267604 -0.06318953 -0.06910518]\n",
      " [ 0.0403737  -0.00583157  0.02744934 -0.00148049 -0.05918899 -0.04203009]\n",
      " [ 0.10755428  0.07079593  0.0391373  -0.1034397  -0.04102357  0.12975566]\n",
      " [ 0.07869961  0.02131587  0.07425905 -0.07012275 -0.00164114  0.13142322]\n",
      " [-0.08461261 -0.08430931 -0.08942658  0.00840976  0.10995665 -0.16821144]\n",
      " [-0.04737178  0.06056033 -0.00336631  0.04885831  0.10185673 -0.0279909 ]]\n",
      "_______________________________________________________________\n",
      "\n",
      "[[-0.0753114  -0.13904539  0.03865599 -0.12267604 -0.06318953 -0.06910518]\n",
      " [ 0.0403737  -0.00583157  0.02744934 -0.00148049 -0.05918899 -0.04203009]\n",
      " [ 0.10755428  0.07079593  0.0391373  -0.1034397  -0.04102357  0.12975566]\n",
      " [ 0.07869961  0.02131587  0.07425905 -0.07012275 -0.00164114  0.13142322]\n",
      " [-0.08461261 -0.08430931 -0.08942658  0.00840976  0.10995665 -0.16821144]\n",
      " [-0.04737178  0.06056033 -0.00336631  0.04885831  0.10185673 -0.0279909 ]]\n",
      "________________________________________________________________\n"
     ]
    }
   ],
   "source": [
    "# Propiedad 1: (A^-1)^t = (A^t)^-1 : Inversa de la transpuesta (Solo si A es invertible)\n",
    "# Si tengo la inversa de una matriz y a esta le aplico la transpuesta, esta va a ser igual a la inversa de la matriz transpuesta\n",
    "if np.linalg.det(A) != 0:\n",
    "    A_inv_T = np.linalg.inv(A).T\n",
    "    A_T_inv = np.linalg.inv(A.T)\n",
    "    print(\"Propiedad 1:\", np.allclose(A_inv_T,A_T_inv))\n",
    "    print(\"_______________________________________________________________\")\n",
    "else:\n",
    "    print(\"Propiedad 1: No se puede calcular porque A no es invertible\")\n",
    "    \n",
    "print(A_inv_T)\n",
    "print(\"_______________________________________________________________\")\n",
    "print(\"\")\n",
    "print(A_T_inv)\n",
    "print(\"________________________________________________________________\")"
   ]
  },
  {
   "cell_type": "code",
   "execution_count": 15,
   "id": "69c34c58",
   "metadata": {},
   "outputs": [
    {
     "name": "stdout",
     "output_type": "stream",
     "text": [
      "Propiedad 2:  True\n",
      "________________________________________\n",
      "(A+B)^t\n",
      "________________________________________\n",
      "[[-2.8842 1.0720 -10.5929 8.8924 0.9545 -3.5912]\n",
      " [-6.4526 12.3361 2.2071 9.0913 5.9896 -0.3037]\n",
      " [-7.4983 -0.7942 3.7015 -10.4395 -4.5413 -2.6848]\n",
      " [1.3228 1.9254 -1.1515 -2.6014 8.8770 0.3629]\n",
      " [-9.5691 3.6148 0.7484 -1.8434 9.3727 7.1094]\n",
      " [3.9518 -14.5084 7.4902 -1.1349 4.0425 -5.0036]]\n",
      "________________________________________\n",
      "A^t + B^t\n",
      "________________________________________\n",
      "[[-2.8842 1.0720 -10.5929 8.8924 0.9545 -3.5912]\n",
      " [-6.4526 12.3361 2.2071 9.0913 5.9896 -0.3037]\n",
      " [-7.4983 -0.7942 3.7015 -10.4395 -4.5413 -2.6848]\n",
      " [1.3228 1.9254 -1.1515 -2.6014 8.8770 0.3629]\n",
      " [-9.5691 3.6148 0.7484 -1.8434 9.3727 7.1094]\n",
      " [3.9518 -14.5084 7.4902 -1.1349 4.0425 -5.0036]]\n"
     ]
    }
   ],
   "source": [
    "# Propiedad 2 : (A+B)^t = A^t + B^t\n",
    "sum_T = (A+B).T\n",
    "T_sum = A.T + B.T\n",
    "\n",
    "print(\"Propiedad 2: \", np.allclose(sum_T,T_sum))\n",
    "\n",
    "print(\"________________________________________\")\n",
    "print(\"(A+B)^t\")\n",
    "print(\"________________________________________\")\n",
    "print(sum_T)\n",
    "\n",
    "\n",
    "print(\"________________________________________\")\n",
    "print(\"A^t + B^t\")\n",
    "print(\"________________________________________\")\n",
    "print(T_sum)"
   ]
  },
  {
   "cell_type": "code",
   "execution_count": 16,
   "id": "7ad818e0",
   "metadata": {},
   "outputs": [
    {
     "name": "stdout",
     "output_type": "stream",
     "text": [
      "Propiedad 3:  True\n",
      "________________________________________\n",
      "(λA)^t\n",
      "________________________________________\n",
      "[[-15.9338 -2.8770 -7.1375 0.7612 -6.1422 6.6140]\n",
      " [-2.5899 15.3672 -3.3272 4.4101 -7.6517 3.3570]\n",
      " [-2.7007 17.3505 14.3093 -14.8196 -3.2414 4.8792]\n",
      " [-0.2467 0.0717 -9.7481 12.7480 7.0822 6.8240]\n",
      " [-2.8973 4.8420 -0.6627 4.0259 14.6667 13.3731]\n",
      " [-7.3337 -15.0153 18.9677 1.7605 0.4071 -16.2819]]\n",
      "________________________________________\n",
      "λ A^t\n",
      "________________________________________\n",
      "[[-15.9338 -2.8770 -7.1375 0.7612 -6.1422 6.6140]\n",
      " [-2.5899 15.3672 -3.3272 4.4101 -7.6517 3.3570]\n",
      " [-2.7007 17.3505 14.3093 -14.8196 -3.2414 4.8792]\n",
      " [-0.2467 0.0717 -9.7481 12.7480 7.0822 6.8240]\n",
      " [-2.8973 4.8420 -0.6627 4.0259 14.6667 13.3731]\n",
      " [-7.3337 -15.0153 18.9677 1.7605 0.4071 -16.2819]]\n"
     ]
    }
   ],
   "source": [
    "# Propiedad 3: (λA)^t = λA^t\n",
    "scalar_T = (lamb*A).T\n",
    "T_scalar = lamb*A.T\n",
    "print(\"Propiedad 3: \", np.allclose(scalar_T,T_scalar))\n",
    "print(\"________________________________________\")\n",
    "print(\"(λA)^t\")\n",
    "print(\"________________________________________\")\n",
    "print(scalar_T)\n",
    "\n",
    "print(\"________________________________________\")\n",
    "print(\"λ A^t\")\n",
    "print(\"________________________________________\")\n",
    "print(T_scalar)"
   ]
  },
  {
   "cell_type": "code",
   "execution_count": 17,
   "id": "d3840888",
   "metadata": {},
   "outputs": [
    {
     "name": "stdout",
     "output_type": "stream",
     "text": [
      "Propiedad 4:  True\n",
      "________________________________________\n",
      "(AB)^t\n",
      "________________________________________\n",
      "[[-17.7581 14.7330 -186.0263 118.1028 45.1182 120.8367]\n",
      " [22.5253 117.8054 -17.3347 41.6178 90.8778 108.6553]\n",
      " [91.8295 -66.7350 -22.8417 -25.9581 30.0981 -32.8865]\n",
      " [-14.5158 83.5822 32.9868 -75.8788 -12.6491 47.9044]\n",
      " [59.6958 32.9654 56.9866 -30.2464 19.0632 -25.7829]\n",
      " [-68.6968 -100.9346 8.4102 2.0702 28.2734 0.1819]]\n",
      "________________________________________\n",
      "B^t  A^t\n",
      "________________________________________\n",
      "[[-17.7581 14.7330 -186.0263 118.1028 45.1182 120.8367]\n",
      " [22.5253 117.8054 -17.3347 41.6178 90.8778 108.6553]\n",
      " [91.8295 -66.7350 -22.8417 -25.9581 30.0981 -32.8865]\n",
      " [-14.5158 83.5822 32.9868 -75.8788 -12.6491 47.9044]\n",
      " [59.6958 32.9654 56.9866 -30.2464 19.0632 -25.7829]\n",
      " [-68.6968 -100.9346 8.4102 2.0702 28.2734 0.1819]]\n"
     ]
    }
   ],
   "source": [
    "# Propiedad 4: (AB)^t = B^t * A^t\n",
    "\n",
    "AB_T  =(A @ B).T\n",
    "T_B_T_A = B.T @ A.T\n",
    "print(\"Propiedad 4: \", np.allclose(AB_T,T_B_T_A))\n",
    "\n",
    "print(\"________________________________________\")\n",
    "print(\"(AB)^t\")\n",
    "print(\"________________________________________\")\n",
    "print(AB_T)\n",
    "\n",
    "print(\"________________________________________\")\n",
    "print(\"B^t  A^t\")\n",
    "print(\"________________________________________\")\n",
    "print(T_B_T_A)\n",
    "\n"
   ]
  },
  {
   "cell_type": "markdown",
   "id": "3213325f",
   "metadata": {},
   "source": [
    "#### Traza de una matriz"
   ]
  },
  {
   "cell_type": "code",
   "execution_count": 18,
   "id": "ab5f33fa",
   "metadata": {},
   "outputs": [
    {
     "name": "stdout",
     "output_type": "stream",
     "text": [
      "          0         1         2         3         4         5         6\n",
      "0 -0.387539 -0.803522  0.938989  0.437819  1.141092  0.171452 -1.549579\n",
      "1 -0.974023 -1.049111 -0.464834 -0.490560  1.000746  2.148514  1.432409\n",
      "2 -0.133353  0.005774 -0.667621 -0.940619  0.930810  0.046343  1.336737\n",
      "3  0.280260  1.496630 -0.684152  0.335301 -1.128555 -0.133727 -0.785039\n",
      "4 -0.235903 -1.411957 -0.887761  0.104267  0.422496 -0.200722 -1.416727\n",
      "5  2.295469  0.823200  0.862899  0.061431 -0.132878 -0.310482  0.315298\n",
      "6 -0.714177  0.940126  1.067317 -1.249887  0.321387 -0.757516  0.337862\n"
     ]
    }
   ],
   "source": [
    "# Suma de los valores de la diagonal principal de una matriz solo si es cuadrada.\n",
    "\n",
    "A = np.random.normal(size= (7,7))\n",
    "A = pd.DataFrame(A)\n",
    "print(A)"
   ]
  },
  {
   "cell_type": "code",
   "execution_count": 19,
   "id": "de1ab8ee",
   "metadata": {},
   "outputs": [
    {
     "name": "stdout",
     "output_type": "stream",
     "text": [
      "La traza de la matriz A es:  -1.3190938599950084\n"
     ]
    }
   ],
   "source": [
    "# Calculamos la traza de la matriz\n",
    "\n",
    "trace = np.trace(A)\n",
    "print(\"La traza de la matriz A es: \",trace)"
   ]
  },
  {
   "cell_type": "markdown",
   "id": "b174b889",
   "metadata": {},
   "source": [
    "## IV Suma de Matrices"
   ]
  },
  {
   "cell_type": "code",
   "execution_count": 20,
   "id": "beaa4217",
   "metadata": {
    "scrolled": true
   },
   "outputs": [
    {
     "name": "stdout",
     "output_type": "stream",
     "text": [
      "Matriz A:\n",
      "[[0.6675 -1.9093 -1.8440 0.3738 1.5097]\n",
      " [0.1595 -0.8007 -0.5390 1.0416 0.0944]\n",
      " [0.1611 1.5410 0.4535 -0.2872 -1.0319]\n",
      " [1.6213 -1.9725 -0.2407 -0.3045 -0.1397]\n",
      " [1.3603 0.7411 0.0885 -1.3534 0.3784]\n",
      " [-0.8109 1.4591 -0.0275 0.0099 -0.3100]]\n"
     ]
    }
   ],
   "source": [
    "# Las matrices deben mantener la misma cantidad de filas y columnas. Es decir, deben mantener el mismo orden.\n",
    "\n",
    "# Se crean dos matrices A y B de orden 6x5\n",
    "A = np.random.randn(6,5)\n",
    "print(\"Matriz A:\")\n",
    "print(A)"
   ]
  },
  {
   "cell_type": "code",
   "execution_count": 21,
   "id": "a9361682",
   "metadata": {},
   "outputs": [
    {
     "name": "stdout",
     "output_type": "stream",
     "text": [
      "\n",
      "Matriz B:\n",
      "[[5.1801 4.6298 8.3457 5.2340 2.9241]\n",
      " [5.3876 3.9051 3.1858 5.3368 7.0502]\n",
      " [7.5421 -0.3146 6.3418 4.1653 7.7202]\n",
      " [2.3226 4.8404 6.7802 4.0794 4.3267]\n",
      " [2.4512 4.8425 3.2285 1.0263 5.0473]\n",
      " [4.5813 4.3529 4.8959 4.7600 5.0624]]\n"
     ]
    }
   ],
   "source": [
    "B = np.random.normal(5,2, size = (6,5))\n",
    "print(\"\\nMatriz B:\")\n",
    "print(B)"
   ]
  },
  {
   "cell_type": "code",
   "execution_count": 22,
   "id": "46fae3f0",
   "metadata": {},
   "outputs": [
    {
     "name": "stdout",
     "output_type": "stream",
     "text": [
      "La suma de A+B: \n",
      "[[5.8476 2.7205 6.5017 5.6078 4.4339]\n",
      " [5.5471 3.1044 2.6467 6.3784 7.1446]\n",
      " [7.7031 1.2263 6.7953 3.8782 6.6883]\n",
      " [3.9439 2.8680 6.5395 3.7750 4.1870]\n",
      " [3.8115 5.5835 3.3171 -0.3271 5.4257]\n",
      " [3.7704 5.8121 4.8684 4.7698 4.7524]]\n"
     ]
    }
   ],
   "source": [
    "# Sumamos la matrices\n",
    "\n",
    "print(\"La suma de A+B: \")\n",
    "print(A+B)"
   ]
  },
  {
   "cell_type": "markdown",
   "id": "23cdbccc",
   "metadata": {},
   "source": [
    "## V. Producto de un scalar por una matriz"
   ]
  },
  {
   "cell_type": "code",
   "execution_count": 23,
   "id": "3e31ba02",
   "metadata": {},
   "outputs": [
    {
     "name": "stdout",
     "output_type": "stream",
     "text": [
      "\n",
      "Matriz C:\n",
      "          0         1         2         3         4\n",
      "0  0.379470  0.304108 -0.009398 -0.787607 -0.243955\n",
      "1  0.540387 -0.044457  1.105394 -0.584899 -0.592707\n",
      "2  0.607120  1.738595 -0.456679 -1.275777 -0.369448\n",
      "3  0.081796  0.253660  0.015523 -1.747073 -0.631522\n",
      "4 -1.323941 -0.259734 -0.188265 -0.760160 -1.019902\n",
      "5 -1.391004  0.854842  0.554472 -2.197222  0.328539\n",
      "6 -1.139665  0.907898 -1.422156  0.391117  0.691712\n",
      "7 -0.082903  0.541581 -0.340949  0.882606 -0.230550\n"
     ]
    }
   ],
   "source": [
    "# se define una matriz C de 8x5:\n",
    "C = np.random.normal(size = (8,5))\n",
    "C = pd.DataFrame(C)\n",
    "print(\"\\nMatriz C:\")\n",
    "print(C)"
   ]
  },
  {
   "cell_type": "code",
   "execution_count": 24,
   "id": "5872bb9a",
   "metadata": {},
   "outputs": [
    {
     "name": "stdout",
     "output_type": "stream",
     "text": [
      "Matriz resultado: \n",
      "          0         1         2         3         4\n",
      "0  1.003983  0.804593 -0.024864 -2.083812 -0.645446\n",
      "1  1.429730 -0.117623  2.924598 -1.547497 -1.568155\n",
      "2  1.606288  4.599890 -1.208260 -3.375389 -0.977467\n",
      "3  0.216413  0.671120  0.041070 -4.622320 -1.670850\n",
      "4 -3.502819 -0.687191 -0.498103 -2.011194 -2.698407\n",
      "5 -3.680249  2.261699  1.466996 -5.813304  0.869234\n",
      "6 -3.015271  2.402071 -3.762671  1.034797  1.830098\n",
      "7 -0.219340  1.432888 -0.902066  2.335157 -0.609977\n"
     ]
    }
   ],
   "source": [
    "# Se desea calcular: 7^1/2*C ---> 7^1/2 es la raiz cuadrada de 7 = escalar\n",
    "\n",
    "print(\"Matriz resultado: \")\n",
    "print(np.sqrt(7)*C)"
   ]
  },
  {
   "cell_type": "code",
   "execution_count": 27,
   "id": "6525bbdc",
   "metadata": {},
   "outputs": [
    {
     "name": "stdout",
     "output_type": "stream",
     "text": [
      "¿Son iguales?:  True\n"
     ]
    }
   ],
   "source": [
    "print(\"¿Son iguales?: \", np.allclose(C[0:0],np.sqrt(7)*C[0:0]))\n",
    "\n",
    "#Combinacion lineal: A = xW + yR + zT , W,R y R son matriz del mismo orden. x,y,z son escalares."
   ]
  },
  {
   "cell_type": "code",
   "execution_count": 28,
   "id": "fc24d868",
   "metadata": {},
   "outputs": [
    {
     "name": "stdout",
     "output_type": "stream",
     "text": [
      "Matriz: A\n",
      "[[17.9330 10.0851 10.9330 12.4805]\n",
      " [19.6264 13.9993 15.9396 16.2491]\n",
      " [12.4801 16.2936 17.2705 13.2807]\n",
      " [14.6049 14.9840 20.2559 16.4624]\n",
      " [20.4308 16.1164 15.5062 10.0389]\n",
      " [15.2898 20.2020 12.1820 10.5730]\n",
      " [14.4746 14.0964 19.4287 10.2927]]\n"
     ]
    }
   ],
   "source": [
    "# Se definen dos matrices de orden 7x4\n",
    "\n",
    "A = np.random.uniform(10,21,size = (7,4))\n",
    "print(\"Matriz: A\")\n",
    "print(A)"
   ]
  },
  {
   "cell_type": "code",
   "execution_count": 30,
   "id": "b6a9550b",
   "metadata": {},
   "outputs": [
    {
     "name": "stdout",
     "output_type": "stream",
     "text": [
      "\n",
      "Matriz: B\n",
      "[[15.1062 21.2352 18.3702 20.7748]\n",
      " [16.2960 22.1229 16.5861 17.3363]\n",
      " [22.9011 20.7169 18.0180 20.5159]\n",
      " [22.3278 24.9456 20.9686 16.7922]\n",
      " [22.9604 23.3332 16.4048 23.8469]\n",
      " [19.5792 23.3572 16.8497 17.9910]\n",
      " [25.4444 21.8938 23.2745 22.2605]]\n"
     ]
    }
   ],
   "source": [
    "B = np.random.uniform(14,26,size = (7,4))\n",
    "print(\"\\nMatriz: B\")\n",
    "print(B)"
   ]
  },
  {
   "attachments": {
    "image.png": {
     "image/png": "[encoded data removed]"
    }
   },
   "cell_type": "markdown",
   "id": "bc63535c",
   "metadata": {},
   "source": [
    "![image.png](attachment:image.png)"
   ]
  },
  {
   "cell_type": "code",
   "execution_count": 31,
   "id": "33ecc8ff",
   "metadata": {},
   "outputs": [
    {
     "name": "stdout",
     "output_type": "stream",
     "text": [
      "[[42.1426 23.7000 25.6927 29.3291]\n",
      " [46.1220 32.8984 37.4580 38.1855]\n",
      " [29.3282 38.2900 40.5856 31.2096]\n",
      " [34.3215 35.2123 47.6013 38.6867]\n",
      " [48.0123 37.8735 36.4395 23.5913]\n",
      " [35.9310 47.4747 28.6278 24.8466]\n",
      " [34.0152 33.1264 45.6574 24.1879]]\n"
     ]
    }
   ],
   "source": [
    "print(2.35*A)"
   ]
  },
  {
   "cell_type": "code",
   "execution_count": 32,
   "id": "0aaa62b4",
   "metadata": {},
   "outputs": [
    {
     "name": "stdout",
     "output_type": "stream",
     "text": [
      "[[38.7467 54.4672 47.1188 53.2864]\n",
      " [41.7985 56.7440 42.5424 44.4667]\n",
      " [58.7402 53.1377 46.2154 52.6222]\n",
      " [57.2697 63.9842 53.7833 43.0712]\n",
      " [58.8922 59.8485 42.0775 61.1661]\n",
      " [50.2197 59.9100 43.2187 46.1459]\n",
      " [65.2635 56.1564 59.6980 57.0970]]\n"
     ]
    }
   ],
   "source": [
    "print(np.log(13)*B)"
   ]
  },
  {
   "cell_type": "code",
   "execution_count": 33,
   "id": "0cb26a16",
   "metadata": {},
   "outputs": [
    {
     "name": "stdout",
     "output_type": "stream",
     "text": [
      "Matriz resultado: \n",
      "[[80.8893 78.1672 72.8114 82.6156]\n",
      " [87.9205 89.6425 80.0004 82.6522]\n",
      " [88.0685 91.4277 86.8010 83.8318]\n",
      " [91.5912 99.1965 101.3846 81.7579]\n",
      " [106.9045 97.7220 78.5170 84.7574]\n",
      " [86.1507 107.3847 71.8465 70.9925]\n",
      " [99.2787 89.2829 105.3554 81.2849]]\n"
     ]
    }
   ],
   "source": [
    "P = 2.35*A + np.log(13)*B\n",
    "print(\"Matriz resultado: \")\n",
    "print(P)"
   ]
  },
  {
   "attachments": {
    "image.png": {
     "image/png": "[encoded data removed]"
    }
   },
   "cell_type": "markdown",
   "id": "201457db",
   "metadata": {},
   "source": [
    "![image.png](attachment:image.png)"
   ]
  },
  {
   "cell_type": "code",
   "execution_count": 35,
   "id": "d171791f",
   "metadata": {},
   "outputs": [
    {
     "name": "stdout",
     "output_type": "stream",
     "text": [
      "La matriz resultante es: \n",
      "[[226.5150 231.5380 212.9873 241.5349]\n",
      " [245.9694 261.2806 227.1614 235.0730]\n",
      " [258.9156 262.9656 246.5136 244.0146]\n",
      " [266.4347 290.0133 287.7847 231.8506]\n",
      " [305.0732 283.3371 223.1900 252.6236]\n",
      " [247.8985 307.0031 207.7316 207.8183]\n",
      " [291.1647 259.9650 301.8849 241.1128]]\n"
     ]
    }
   ],
   "source": [
    "Q = np.sqrt(33)*A + (17)/(np.log(8))*B\n",
    "print(\"La matriz resultante es: \")\n",
    "print(Q)"
   ]
  },
  {
   "cell_type": "markdown",
   "id": "1459b684",
   "metadata": {},
   "source": [
    "## VI. Producto de matrices"
   ]
  },
  {
   "cell_type": "code",
   "execution_count": 36,
   "id": "13804ec4",
   "metadata": {},
   "outputs": [
    {
     "name": "stdout",
     "output_type": "stream",
     "text": [
      "Matriz A: \n",
      "[[1.4086 1.9414 2.6179 2.3501 1.0121 1.1748]\n",
      " [1.6936 2.8887 1.9824 1.5404 1.7208 1.4213]\n",
      " [1.8424 1.4361 2.6915 1.9125 1.5596 2.8658]\n",
      " [1.6287 2.8194 1.0868 2.4142 1.9678 1.8884]\n",
      " [1.0726 1.0814 1.6655 2.8942 2.2353 1.7377]]\n"
     ]
    }
   ],
   "source": [
    "# Se define dos matrices y se requiere calcular : A5x6 X B6x3\n",
    "\n",
    "A = np.random.uniform(1,3,size = (5,6))\n",
    "print(\"Matriz A: \")\n",
    "print(A)"
   ]
  },
  {
   "cell_type": "code",
   "execution_count": 37,
   "id": "d5b5d5f1",
   "metadata": {},
   "outputs": [
    {
     "name": "stdout",
     "output_type": "stream",
     "text": [
      "Matriz B: \n",
      "[[6.2838 3.4429 3.1555]\n",
      " [4.5327 8.0435 5.5658]\n",
      " [4.0783 8.6518 7.7118]\n",
      " [4.2608 8.8047 8.9115]\n",
      " [4.8606 6.5915 4.8396]\n",
      " [3.8014 2.5786 3.8453]]\n"
     ]
    }
   ],
   "source": [
    "B = np.random.uniform(2,9,size = (6,3))\n",
    "print(\"Matriz B: \")\n",
    "print(B)"
   ]
  },
  {
   "cell_type": "code",
   "execution_count": 38,
   "id": "2d2df593",
   "metadata": {},
   "outputs": [
    {
     "name": "stdout",
     "output_type": "stream",
     "text": [
      "El producto de las matrices es:\n",
      "[[47.7263 73.5067 65.7969]\n",
      " [52.1514 74.7876 64.2301]\n",
      " [55.6872 75.6895 70.1738]\n",
      " [54.4767 76.7851 67.5122]\n",
      " [48.2371 71.4984 65.5394]]\n"
     ]
    }
   ],
   "source": [
    "print(\"El producto de las matrices es:\")\n",
    "print(np.dot(A,B))"
   ]
  },
  {
   "cell_type": "code",
   "execution_count": 39,
   "id": "8c35313a",
   "metadata": {},
   "outputs": [
    {
     "data": {
      "text/plain": [
       "array([[47.7263, 73.5067, 65.7969],\n",
       "       [52.1514, 74.7876, 64.2301],\n",
       "       [55.6872, 75.6895, 70.1738],\n",
       "       [54.4767, 76.7851, 67.5122],\n",
       "       [48.2371, 71.4984, 65.5394]])"
      ]
     },
     "execution_count": 39,
     "metadata": {},
     "output_type": "execute_result"
    }
   ],
   "source": [
    "A.dot(B)"
   ]
  },
  {
   "cell_type": "code",
   "execution_count": 41,
   "id": "64b82fe1",
   "metadata": {},
   "outputs": [
    {
     "name": "stdout",
     "output_type": "stream",
     "text": [
      "[[47.7263 73.5067 65.7969]\n",
      " [52.1514 74.7876 64.2301]\n",
      " [55.6872 75.6895 70.1738]\n",
      " [54.4767 76.7851 67.5122]\n",
      " [48.2371 71.4984 65.5394]]\n"
     ]
    }
   ],
   "source": [
    "print(A @ B)"
   ]
  },
  {
   "cell_type": "code",
   "execution_count": 40,
   "id": "9ddae203",
   "metadata": {},
   "outputs": [
    {
     "name": "stdout",
     "output_type": "stream",
     "text": [
      "El producto de B y A\n"
     ]
    },
    {
     "ename": "ValueError",
     "evalue": "shapes (6,3) and (5,6) not aligned: 3 (dim 1) != 5 (dim 0)",
     "output_type": "error",
     "traceback": [
      "\u001b[1;31m---------------------------------------------------------------------------\u001b[0m",
      "\u001b[1;31mValueError\u001b[0m                                Traceback (most recent call last)",
      "\u001b[1;32m<ipython-input-40-473971711bab>\u001b[0m in \u001b[0;36m<module>\u001b[1;34m\u001b[0m\n\u001b[0;32m      1\u001b[0m \u001b[0mprint\u001b[0m\u001b[1;33m(\u001b[0m\u001b[1;34m\"El producto de B y A\"\u001b[0m\u001b[1;33m)\u001b[0m\u001b[1;33m\u001b[0m\u001b[1;33m\u001b[0m\u001b[0m\n\u001b[1;32m----> 2\u001b[1;33m \u001b[0mprint\u001b[0m\u001b[1;33m(\u001b[0m\u001b[0mB\u001b[0m\u001b[1;33m.\u001b[0m\u001b[0mdot\u001b[0m\u001b[1;33m(\u001b[0m\u001b[0mA\u001b[0m\u001b[1;33m)\u001b[0m\u001b[1;33m)\u001b[0m\u001b[1;33m\u001b[0m\u001b[1;33m\u001b[0m\u001b[0m\n\u001b[0m",
      "\u001b[1;31mValueError\u001b[0m: shapes (6,3) and (5,6) not aligned: 3 (dim 1) != 5 (dim 0)"
     ]
    }
   ],
   "source": [
    "print(\"El producto de B y A\") # Esto cumple que A@B no es igual que B@A\n",
    "print(B.dot(A))"
   ]
  },
  {
   "attachments": {
    "image.png": {
     "image/png": "[encoded data removed]"
    }
   },
   "cell_type": "markdown",
   "id": "d3132688",
   "metadata": {},
   "source": [
    "![image.png](attachment:image.png)"
   ]
  },
  {
   "cell_type": "code",
   "execution_count": 42,
   "id": "5673d553",
   "metadata": {},
   "outputs": [
    {
     "name": "stdout",
     "output_type": "stream",
     "text": [
      "Matriz resultado: \n",
      "\n",
      "[[479.3046 738.2111 660.7835]\n",
      " [523.7441 751.0742 645.0481]\n",
      " [559.2534 760.1322 704.7396]\n",
      " [547.0965 771.1350 678.0098]\n",
      " [484.4344 718.0414 658.1968]]\n"
     ]
    }
   ],
   "source": [
    "R = np.dot(1/2*A,np.exp(3)*B)\n",
    "print(\"Matriz resultado: \")\n",
    "print(\"\")\n",
    "print(R)"
   ]
  },
  {
   "cell_type": "markdown",
   "id": "a16d82d5",
   "metadata": {},
   "source": [
    "## VII. Determinante de una matriz\n",
    "#### La determinante se emplea para evaluar si la matriz presentaria algun problema con respecto a filas o columnas. Por ejemplo, si la columna 2 y 3 de la matriz fuesen proporcionales, la det sería 0. Pero no necesariamente las columns o filas deben ser adyacentes.\n",
    "#### La determinante de una matriz solo esta definida para matrices cuadradas. \n",
    "#### Nos brinda informacion sobre si la matriz es invertible (det !=0), la escala de transformacion, para hallar la inversa de una matriz se requiere hallar primero su determinante.\n",
    "#### Matriz singular --> determinante = 0, esto se debe porque hay columnas en las matrices que pueden ser fuermente proporcionales. Matriz no singular --> determinante != 0. \n"
   ]
  },
  {
   "cell_type": "code",
   "execution_count": 43,
   "id": "2c66b27a",
   "metadata": {},
   "outputs": [
    {
     "name": "stdout",
     "output_type": "stream",
     "text": [
      "Matriz A: \n",
      "[[7.2682 3.5753 3.0417 5.9618 7.4752 4.8080]\n",
      " [9.8269 7.1635 5.3284 4.5291 4.0886 7.5614]\n",
      " [4.9472 1.5371 4.5824 7.6420 2.6424 2.5791]\n",
      " [5.7840 5.7864 6.7096 8.6449 7.5201 6.4992]\n",
      " [7.5020 3.9066 4.2561 3.0544 3.6434 6.6788]\n",
      " [1.8289 4.9033 4.8778 5.4432 4.8325 3.8104]]\n"
     ]
    }
   ],
   "source": [
    "# Se crea una matriz cuadrada de 6x6:\n",
    "\n",
    "np.random.seed(123)\n",
    "A = np.random.uniform(1,10, size = (6,6))\n",
    "print(\"Matriz A: \")\n",
    "print(A)"
   ]
  },
  {
   "cell_type": "code",
   "execution_count": 44,
   "id": "424e6bf6",
   "metadata": {},
   "outputs": [
    {
     "name": "stdout",
     "output_type": "stream",
     "text": [
      "El determinante de la matriz A es:  -660.9248766198104\n"
     ]
    }
   ],
   "source": [
    "# la determinante es: \n",
    "print(\"El determinante de la matriz A es: \",np.linalg.det(A))"
   ]
  },
  {
   "attachments": {
    "image-2.png": {
     "image/png": "[encoded data removed]"
    }
   },
   "cell_type": "markdown",
   "id": "5e056f62",
   "metadata": {},
   "source": [
    "\n",
    "Por ejemplo, se declara la siguiente matriz B: ![image-2.png](attachment:image-2.png)"
   ]
  },
  {
   "cell_type": "code",
   "execution_count": 45,
   "id": "47649eac",
   "metadata": {},
   "outputs": [
    {
     "name": "stdout",
     "output_type": "stream",
     "text": [
      "Matri B\n",
      "[[3.0000 3.3166 0.1353 5.0000]\n",
      " [0.0625 1.1000 0.0000 6.5809]\n",
      " [5.0000 0.7966 1.0000 2.0000]\n",
      " [4.0000 -1.0000 0.0000 7.0000]]\n"
     ]
    }
   ],
   "source": [
    "B = np.array([[3,np.sqrt(11),np.exp(-2),5],\n",
    "             [1/16,1.1,0,2**(np.exp(1))],\n",
    "             [5,1/(np.log10(18)),1,2],\n",
    "             [4,-1,0,7]])\n",
    "print(\"Matri B\")\n",
    "print(B)"
   ]
  },
  {
   "cell_type": "code",
   "execution_count": 46,
   "id": "222752fa",
   "metadata": {},
   "outputs": [
    {
     "name": "stdout",
     "output_type": "stream",
     "text": [
      "El determinante de la matriz B es:  95.13791756226341\n"
     ]
    }
   ],
   "source": [
    "print(\"El determinante de la matriz B es: \",np.linalg.det(B))"
   ]
  },
  {
   "cell_type": "markdown",
   "id": "54ecd5a7",
   "metadata": {},
   "source": [
    "## VIII Rango de una matriz\n",
    "##### El rango de una matriz es un valor entero que nos va a indicar el numero de filas que son independientes (no relacionadas). se espera que si la matriz tiene una cantidad de filas igual a 6, se espera que el valor del rango tambien sea 6. Si esto ocurro, va a indicar que la det()!=0.\n",
    "##### Si el numero de filas de una matriz, coincide con el rango de la matriz, la determinante va a ser diferente de cero. Y puede tener inversa."
   ]
  },
  {
   "cell_type": "code",
   "execution_count": 47,
   "id": "dfd624b7",
   "metadata": {},
   "outputs": [
    {
     "name": "stdout",
     "output_type": "stream",
     "text": [
      "Matriz A:\n",
      "[[28.1082 17.4396 15.8981 24.3342 28.7062]\n",
      " [21.0008 35.4999 27.8056 22.5042 20.1951]\n",
      " [18.9226 28.9553 21.4029 11.5516 20.3492]\n",
      " [29.1879 14.7448 14.5617 23.8203 23.8275]\n",
      " [26.4944 32.0852 28.8358 25.8866 28.7835]]\n"
     ]
    }
   ],
   "source": [
    "np.random.seed(123)\n",
    "A =  np.random.uniform(10,36, size = (5,5))\n",
    "print(\"Matriz A:\")\n",
    "print(A)"
   ]
  },
  {
   "cell_type": "code",
   "execution_count": 49,
   "id": "1457e89d",
   "metadata": {},
   "outputs": [
    {
     "name": "stdout",
     "output_type": "stream",
     "text": [
      "El rango de A es:  5\n"
     ]
    }
   ],
   "source": [
    "print(\"El rango de A es: \", np.linalg.matrix_rank(A)) # numero filas = valor del rango --> det(A) != 0"
   ]
  },
  {
   "cell_type": "markdown",
   "id": "ab2b5733",
   "metadata": {},
   "source": [
    "###### El rango coincide con el numero de filas de la matriz A"
   ]
  },
  {
   "cell_type": "code",
   "execution_count": 50,
   "id": "532da96c",
   "metadata": {},
   "outputs": [
    {
     "name": "stdout",
     "output_type": "stream",
     "text": [
      "El rango de la matriz B es:  4\n",
      "El rango de la matriz C es:  5\n"
     ]
    }
   ],
   "source": [
    "print(\"El rango de la matriz B es: \",np.linalg.matrix_rank(B))\n",
    "print(\"El rango de la matriz C es: \",np.linalg.matrix_rank(C))"
   ]
  },
  {
   "cell_type": "markdown",
   "id": "a6c065e4",
   "metadata": {},
   "source": [
    "## IX. Inversa de una matriz\n",
    "##### La inversa de una matriz va a ser otra matriz, que va a poseer el mismo orden la matriz original.\n",
    "##### Para hallar la inversa de una matriz deben cumplirse dos condiciones: 1) la matriz debe ser cuadrada. 2) Determinante != 0, y el rango de esa matriz debe ser igual al numero de filas de la matriz."
   ]
  },
  {
   "cell_type": "code",
   "execution_count": 52,
   "id": "da492876",
   "metadata": {},
   "outputs": [
    {
     "name": "stdout",
     "output_type": "stream",
     "text": [
      "La inversa de la matriz A es: \n",
      "\n",
      "[[-0.1448 -0.0337 0.0741 0.1807 -0.0339]\n",
      " [0.1637 0.1600 0.0344 -0.0921 -0.2235]\n",
      " [-0.2940 -0.1992 -0.0158 0.1349 0.3324]\n",
      " [0.1037 0.1178 -0.1165 -0.0601 -0.0539]\n",
      " [0.1521 -0.0537 0.0140 -0.1447 0.0306]]\n"
     ]
    }
   ],
   "source": [
    "print(\"La inversa de la matriz A es: \")\n",
    "print(\"\")\n",
    "print(np.linalg.inv(A))"
   ]
  },
  {
   "cell_type": "code",
   "execution_count": 53,
   "id": "69e539b0",
   "metadata": {},
   "outputs": [
    {
     "name": "stdout",
     "output_type": "stream",
     "text": [
      "La inversa de la matriz B es: \n",
      "\n",
      "[[0.1501 -0.2858 -0.0203 0.1673]\n",
      " [0.2721 -0.0279 -0.0368 -0.1576]\n",
      " [-0.8735 1.1326 1.1182 -0.7604]\n",
      " [-0.0469 0.1593 0.0063 0.0248]]\n"
     ]
    }
   ],
   "source": [
    "print(\"La inversa de la matriz B es: \")\n",
    "print(\"\")\n",
    "print(np.linalg.inv(B))"
   ]
  },
  {
   "cell_type": "code",
   "execution_count": 85,
   "id": "569657cd",
   "metadata": {},
   "outputs": [
    {
     "name": "stdout",
     "output_type": "stream",
     "text": [
      "La inversa de la matriz C es: \n",
      "\n"
     ]
    },
    {
     "ename": "LinAlgError",
     "evalue": "Last 2 dimensions of the array must be square",
     "output_type": "error",
     "traceback": [
      "\u001b[1;31m---------------------------------------------------------------------------\u001b[0m",
      "\u001b[1;31mLinAlgError\u001b[0m                               Traceback (most recent call last)",
      "\u001b[1;32m<ipython-input-85-5c32944385a9>\u001b[0m in \u001b[0;36m<module>\u001b[1;34m\u001b[0m\n\u001b[0;32m      1\u001b[0m \u001b[0mprint\u001b[0m\u001b[1;33m(\u001b[0m\u001b[1;34m\"La inversa de la matriz C es: \"\u001b[0m\u001b[1;33m)\u001b[0m\u001b[1;33m\u001b[0m\u001b[1;33m\u001b[0m\u001b[0m\n\u001b[0;32m      2\u001b[0m \u001b[0mprint\u001b[0m\u001b[1;33m(\u001b[0m\u001b[1;34m\"\"\u001b[0m\u001b[1;33m)\u001b[0m\u001b[1;33m\u001b[0m\u001b[1;33m\u001b[0m\u001b[0m\n\u001b[1;32m----> 3\u001b[1;33m \u001b[0mprint\u001b[0m\u001b[1;33m(\u001b[0m\u001b[0mnp\u001b[0m\u001b[1;33m.\u001b[0m\u001b[0mlinalg\u001b[0m\u001b[1;33m.\u001b[0m\u001b[0minv\u001b[0m\u001b[1;33m(\u001b[0m\u001b[0mC\u001b[0m\u001b[1;33m)\u001b[0m\u001b[1;33m)\u001b[0m\u001b[1;33m\u001b[0m\u001b[1;33m\u001b[0m\u001b[0m\n\u001b[0m",
      "\u001b[1;32m<__array_function__ internals>\u001b[0m in \u001b[0;36minv\u001b[1;34m(*args, **kwargs)\u001b[0m\n",
      "\u001b[1;32m~\\anaconda3\\lib\\site-packages\\numpy\\linalg\\linalg.py\u001b[0m in \u001b[0;36minv\u001b[1;34m(a)\u001b[0m\n\u001b[0;32m    538\u001b[0m     \u001b[0ma\u001b[0m\u001b[1;33m,\u001b[0m \u001b[0mwrap\u001b[0m \u001b[1;33m=\u001b[0m \u001b[0m_makearray\u001b[0m\u001b[1;33m(\u001b[0m\u001b[0ma\u001b[0m\u001b[1;33m)\u001b[0m\u001b[1;33m\u001b[0m\u001b[1;33m\u001b[0m\u001b[0m\n\u001b[0;32m    539\u001b[0m     \u001b[0m_assert_stacked_2d\u001b[0m\u001b[1;33m(\u001b[0m\u001b[0ma\u001b[0m\u001b[1;33m)\u001b[0m\u001b[1;33m\u001b[0m\u001b[1;33m\u001b[0m\u001b[0m\n\u001b[1;32m--> 540\u001b[1;33m     \u001b[0m_assert_stacked_square\u001b[0m\u001b[1;33m(\u001b[0m\u001b[0ma\u001b[0m\u001b[1;33m)\u001b[0m\u001b[1;33m\u001b[0m\u001b[1;33m\u001b[0m\u001b[0m\n\u001b[0m\u001b[0;32m    541\u001b[0m     \u001b[0mt\u001b[0m\u001b[1;33m,\u001b[0m \u001b[0mresult_t\u001b[0m \u001b[1;33m=\u001b[0m \u001b[0m_commonType\u001b[0m\u001b[1;33m(\u001b[0m\u001b[0ma\u001b[0m\u001b[1;33m)\u001b[0m\u001b[1;33m\u001b[0m\u001b[1;33m\u001b[0m\u001b[0m\n\u001b[0;32m    542\u001b[0m \u001b[1;33m\u001b[0m\u001b[0m\n",
      "\u001b[1;32m~\\anaconda3\\lib\\site-packages\\numpy\\linalg\\linalg.py\u001b[0m in \u001b[0;36m_assert_stacked_square\u001b[1;34m(*arrays)\u001b[0m\n\u001b[0;32m    201\u001b[0m         \u001b[0mm\u001b[0m\u001b[1;33m,\u001b[0m \u001b[0mn\u001b[0m \u001b[1;33m=\u001b[0m \u001b[0ma\u001b[0m\u001b[1;33m.\u001b[0m\u001b[0mshape\u001b[0m\u001b[1;33m[\u001b[0m\u001b[1;33m-\u001b[0m\u001b[1;36m2\u001b[0m\u001b[1;33m:\u001b[0m\u001b[1;33m]\u001b[0m\u001b[1;33m\u001b[0m\u001b[1;33m\u001b[0m\u001b[0m\n\u001b[0;32m    202\u001b[0m         \u001b[1;32mif\u001b[0m \u001b[0mm\u001b[0m \u001b[1;33m!=\u001b[0m \u001b[0mn\u001b[0m\u001b[1;33m:\u001b[0m\u001b[1;33m\u001b[0m\u001b[1;33m\u001b[0m\u001b[0m\n\u001b[1;32m--> 203\u001b[1;33m             \u001b[1;32mraise\u001b[0m \u001b[0mLinAlgError\u001b[0m\u001b[1;33m(\u001b[0m\u001b[1;34m'Last 2 dimensions of the array must be square'\u001b[0m\u001b[1;33m)\u001b[0m\u001b[1;33m\u001b[0m\u001b[1;33m\u001b[0m\u001b[0m\n\u001b[0m\u001b[0;32m    204\u001b[0m \u001b[1;33m\u001b[0m\u001b[0m\n\u001b[0;32m    205\u001b[0m \u001b[1;32mdef\u001b[0m \u001b[0m_assert_finite\u001b[0m\u001b[1;33m(\u001b[0m\u001b[1;33m*\u001b[0m\u001b[0marrays\u001b[0m\u001b[1;33m)\u001b[0m\u001b[1;33m:\u001b[0m\u001b[1;33m\u001b[0m\u001b[1;33m\u001b[0m\u001b[0m\n",
      "\u001b[1;31mLinAlgError\u001b[0m: Last 2 dimensions of the array must be square"
     ]
    }
   ],
   "source": [
    "print(\"La inversa de la matriz C es: \")\n",
    "print(\"\")\n",
    "print(np.linalg.inv(C)) # En este caso la matriz C no es cuadrada, por tal motivo no se puede hallar su inversa."
   ]
  },
  {
   "cell_type": "markdown",
   "id": "0b1f5aeb",
   "metadata": {},
   "source": [
    "## SECCION 2: SISTEMAS DE ECUACIONES LINEALES"
   ]
  },
  {
   "attachments": {
    "image.png": {
     "image/png": "[encoded data removed]"
    }
   },
   "cell_type": "markdown",
   "id": "750e5945",
   "metadata": {},
   "source": [
    "![image.png](attachment:image.png)"
   ]
  },
  {
   "cell_type": "code",
   "execution_count": 82,
   "id": "cbf6a97b",
   "metadata": {},
   "outputs": [
    {
     "name": "stdout",
     "output_type": "stream",
     "text": [
      "La solucion del sistema es: \n",
      "x = 1.0\n",
      "y = 2.0\n",
      "z = 7.0\n"
     ]
    }
   ],
   "source": [
    "# Definir la matriz de coeficientes A y el vector de terminos independientes B\n",
    "\n",
    "A  = np.array([[1,3,-1],\n",
    "              [3,-4,1],\n",
    "              [2,2,1]])\n",
    "B  = np.array([0,2,13])\n",
    "\n",
    "# Resolver el sistema de ecuaciones lineales\n",
    "solucion = np.linalg.solve(A,B)\n",
    "\n",
    "# Imprimimos la solucion: \n",
    "print(\"La solucion del sistema es: \")\n",
    "print(f\"x = {solucion[0]}\")\n",
    "print(f\"y = {solucion[1]}\")\n",
    "print(f\"z = {solucion[2]}\")\n"
   ]
  },
  {
   "cell_type": "code",
   "execution_count": 83,
   "id": "f953cde8",
   "metadata": {},
   "outputs": [
    {
     "data": {
      "text/plain": [
       "array([['x'],\n",
       "       ['y'],\n",
       "       ['z']], dtype='<U1')"
      ]
     },
     "execution_count": 83,
     "metadata": {},
     "output_type": "execute_result"
    }
   ],
   "source": [
    "# 2da forma --> Hallando la inversa\n",
    "V = np.array([['x'],['y'],['z']])\n",
    "V"
   ]
  },
  {
   "cell_type": "code",
   "execution_count": 92,
   "id": "7b090b37",
   "metadata": {},
   "outputs": [
    {
     "name": "stdout",
     "output_type": "stream",
     "text": [
      "['x'] = 1.0\n",
      "['y'] = 2.0\n",
      "['z'] = 7.0\n"
     ]
    }
   ],
   "source": [
    "res = np.linalg.inv(A).dot(B)\n",
    "print(V[0], \"=\",round(res[0],2))\n",
    "print(V[1], \"=\",round(res[1],2))\n",
    "print(V[2], \"=\",round(res[2],2))"
   ]
  },
  {
   "cell_type": "code",
   "execution_count": 73,
   "id": "e4807341",
   "metadata": {},
   "outputs": [
    {
     "data": {
      "text/latex": [
       "$\\displaystyle \\left[\\begin{matrix}1 & 3 & -1 & 0\\\\3 & -4 & 1 & 2\\\\2 & 2 & 1 & 13\\end{matrix}\\right]$"
      ],
      "text/plain": [
       "Matrix([\n",
       "[1,  3, -1,  0],\n",
       "[3, -4,  1,  2],\n",
       "[2,  2,  1, 13]])"
      ]
     },
     "execution_count": 73,
     "metadata": {},
     "output_type": "execute_result"
    }
   ],
   "source": [
    "# 3ra forma -> usando la matriz aumentada\n",
    "from sympy import *\n",
    "Aug = Matrix([[1,3,-1,0],\n",
    "                [3,-4,1,2],\n",
    "                [2,2,1,13]])\n",
    "Aug"
   ]
  },
  {
   "cell_type": "code",
   "execution_count": 74,
   "id": "bd7b4b50",
   "metadata": {},
   "outputs": [
    {
     "data": {
      "text/latex": [
       "$\\displaystyle \\left[\\begin{matrix}1 & 3 & -1\\\\3 & -4 & 1\\\\2 & 2 & 1\\end{matrix}\\right]$"
      ],
      "text/plain": [
       "Matrix([\n",
       "[1,  3, -1],\n",
       "[3, -4,  1],\n",
       "[2,  2,  1]])"
      ]
     },
     "execution_count": 74,
     "metadata": {},
     "output_type": "execute_result"
    }
   ],
   "source": [
    "A  = Matrix([[1,3,-1],\n",
    "              [3,-4,1],\n",
    "              [2,2,1]])\n",
    "A"
   ]
  },
  {
   "cell_type": "code",
   "execution_count": 75,
   "id": "c96c935e",
   "metadata": {},
   "outputs": [
    {
     "data": {
      "text/latex": [
       "$\\displaystyle \\left[\\begin{matrix}0\\\\2\\\\3\\end{matrix}\\right]$"
      ],
      "text/plain": [
       "Matrix([\n",
       "[0],\n",
       "[2],\n",
       "[3]])"
      ]
     },
     "execution_count": 75,
     "metadata": {},
     "output_type": "execute_result"
    }
   ],
   "source": [
    "B = Matrix([[0],\n",
    "            [2],\n",
    "            [3]])\n",
    "B"
   ]
  },
  {
   "cell_type": "code",
   "execution_count": 76,
   "id": "7c6474e6",
   "metadata": {},
   "outputs": [
    {
     "data": {
      "text/latex": [
       "$\\displaystyle \\left[\\begin{matrix}1 & 0 & 0 & 1\\\\0 & 1 & 0 & 2\\\\0 & 0 & 1 & 7\\end{matrix}\\right]$"
      ],
      "text/plain": [
       "Matrix([\n",
       "[1, 0, 0, 1],\n",
       "[0, 1, 0, 2],\n",
       "[0, 0, 1, 7]])"
      ]
     },
     "execution_count": 76,
     "metadata": {},
     "output_type": "execute_result"
    }
   ],
   "source": [
    "Matrix(Aug).rref(pivots=False)"
   ]
  },
  {
   "cell_type": "code",
   "execution_count": 77,
   "id": "791d4edb",
   "metadata": {},
   "outputs": [],
   "source": [
    "# x = 1\n",
    "# y = 2\n",
    "# z = 7"
   ]
  },
  {
   "attachments": {
    "image.png": {
     "image/png": "[encoded data removed]"
    }
   },
   "cell_type": "markdown",
   "id": "2ee08143",
   "metadata": {},
   "source": [
    "![image.png](attachment:image.png)"
   ]
  },
  {
   "cell_type": "code",
   "execution_count": 90,
   "id": "bfe8c820",
   "metadata": {},
   "outputs": [
    {
     "name": "stdout",
     "output_type": "stream",
     "text": [
      "La solucion del sistema es: \n",
      "x = -1.0\n",
      "y = -1.0\n",
      "z = 0.0\n",
      "w = 0.9999999999999999\n"
     ]
    }
   ],
   "source": [
    "# METODO DE CRAMER\n",
    "C = np.array([[1,1,2,3],\n",
    "             [3,-1,-1,-2],\n",
    "             [2,3,-1,-1],\n",
    "             [1,2,-3,-1]])\n",
    "D = np.array([1,-4,-6,-4])\n",
    "\n",
    "solucion_2 = np.linalg.solve(C,D)\n",
    "# Imprimimos la solucion: \n",
    "print(\"La solucion del sistema es: \")\n",
    "print(f\"x = {solucion_2[0]}\")\n",
    "print(f\"y = {solucion_2[1]}\")\n",
    "print(f\"z = {solucion_2[2]}\")\n",
    "print(f\"w = {solucion_2[3]}\")"
   ]
  },
  {
   "attachments": {
    "image.png": {
     "image/png": "[encoded data removed]"
    }
   },
   "cell_type": "markdown",
   "id": "071c334c",
   "metadata": {},
   "source": [
    "![image.png](attachment:image.png)"
   ]
  },
  {
   "cell_type": "code",
   "execution_count": 97,
   "id": "85587cee",
   "metadata": {},
   "outputs": [],
   "source": [
    " A_3 = np.array([[2,1,1,1,1],\n",
    "                 [1,2,1,1,1],\n",
    "                 [1,1,3,1,1],\n",
    "                 [1,1,1,4,1],\n",
    "                 [1,1,1,1,5]])\n",
    "B_3 = np.array([2,\n",
    "                0,\n",
    "                3,\n",
    "                -2,\n",
    "                5])\n"
   ]
  },
  {
   "cell_type": "code",
   "execution_count": 100,
   "id": "5f492ce9",
   "metadata": {},
   "outputs": [
    {
     "name": "stdout",
     "output_type": "stream",
     "text": [
      "La solucion del sistema es: \n",
      "x = 1.0\n",
      "y = -1.0\n",
      "z = 1.0\n",
      "w = -1.0\n",
      "u = 1.0\n"
     ]
    }
   ],
   "source": [
    "Solucion = np.linalg.solve(A_3,B_3)\n",
    "print(\"La solucion del sistema es: \")\n",
    "print(f\"x = {Solucion[0]}\")\n",
    "print(f\"y = {Solucion[1]}\")\n",
    "print(f\"z = {Solucion[2]}\")\n",
    "print(f\"w = {round(Solucion[3],2)}\")\n",
    "print(f\"u = {round(Solucion[4],2)}\")"
   ]
  },
  {
   "cell_type": "code",
   "execution_count": 109,
   "id": "745060fe",
   "metadata": {},
   "outputs": [
    {
     "data": {
      "text/latex": [
       "$\\displaystyle \\left[\\begin{matrix}2 & 1 & 1 & 1 & 1 & 2\\\\1 & 2 & 1 & 1 & 1 & 0\\\\1 & 1 & 3 & 1 & 1 & 3\\\\1 & 1 & 1 & 4 & 1 & -2\\\\1 & 1 & 1 & 1 & 5 & 5\\end{matrix}\\right]$"
      ],
      "text/plain": [
       "Matrix([\n",
       "[2, 1, 1, 1, 1,  2],\n",
       "[1, 2, 1, 1, 1,  0],\n",
       "[1, 1, 3, 1, 1,  3],\n",
       "[1, 1, 1, 4, 1, -2],\n",
       "[1, 1, 1, 1, 5,  5]])"
      ]
     },
     "execution_count": 109,
     "metadata": {},
     "output_type": "execute_result"
    }
   ],
   "source": [
    "# 2da Forma ---> matriz aumentada\n",
    "Aug_A = Matrix([[2,1,1,1,1,2],\n",
    "                 [1,2,1,1,1,0],\n",
    "                 [1,1,3,1,1,3],\n",
    "                 [1,1,1,4,1,-2],\n",
    "                 [1,1,1,1,5,5]])\n",
    "Aug_A"
   ]
  },
  {
   "cell_type": "code",
   "execution_count": 110,
   "id": "2b8ccf34",
   "metadata": {},
   "outputs": [
    {
     "data": {
      "text/latex": [
       "$\\displaystyle \\left[\\begin{matrix}2\\\\0\\\\3\\\\-2\\\\5\\end{matrix}\\right]$"
      ],
      "text/plain": [
       "Matrix([\n",
       "[ 2],\n",
       "[ 0],\n",
       "[ 3],\n",
       "[-2],\n",
       "[ 5]])"
      ]
     },
     "execution_count": 110,
     "metadata": {},
     "output_type": "execute_result"
    }
   ],
   "source": [
    "Aug_B = Matrix([[2],\n",
    "                [0],\n",
    "                [3],\n",
    "                [-2],\n",
    "                [5]])\n",
    "Aug_B"
   ]
  },
  {
   "cell_type": "code",
   "execution_count": 111,
   "id": "60c20b6e",
   "metadata": {},
   "outputs": [
    {
     "data": {
      "text/latex": [
       "$\\displaystyle \\left[\\begin{matrix}1 & 0 & 0 & 0 & 0 & 1\\\\0 & 1 & 0 & 0 & 0 & -1\\\\0 & 0 & 1 & 0 & 0 & 1\\\\0 & 0 & 0 & 1 & 0 & -1\\\\0 & 0 & 0 & 0 & 1 & 1\\end{matrix}\\right]$"
      ],
      "text/plain": [
       "Matrix([\n",
       "[1, 0, 0, 0, 0,  1],\n",
       "[0, 1, 0, 0, 0, -1],\n",
       "[0, 0, 1, 0, 0,  1],\n",
       "[0, 0, 0, 1, 0, -1],\n",
       "[0, 0, 0, 0, 1,  1]])"
      ]
     },
     "execution_count": 111,
     "metadata": {},
     "output_type": "execute_result"
    }
   ],
   "source": [
    "Matrix(Aug_A).rref(pivots=False)"
   ]
  },
  {
   "cell_type": "code",
   "execution_count": 112,
   "id": "6710ae9f",
   "metadata": {},
   "outputs": [],
   "source": [
    "# x = 1\n",
    "# y = -1\n",
    "# z = 1\n",
    "# w = -1\n",
    "# u = 1"
   ]
  },
  {
   "cell_type": "code",
   "execution_count": 120,
   "id": "d7658496",
   "metadata": {},
   "outputs": [
    {
     "name": "stdout",
     "output_type": "stream",
     "text": [
      "x = 1.0000000000000002\n",
      "x = -1.0\n",
      "x = 0.9999999999999998\n",
      "x = -1.0\n",
      "x = 0.9999999999999998\n"
     ]
    }
   ],
   "source": [
    "# 3ra forma\n",
    "\n",
    "# Usamos el metodo de la inversa: x = A^1B\n",
    "\n",
    "V = np.linalg.inv(A_3).dot(B_3)\n",
    "print(f\"x = {V[0]}\")\n",
    "print(f\"x = {V[1]}\")\n",
    "print(f\"x = {V[2]}\")\n",
    "print(f\"x = {V[3]}\")\n",
    "print(f\"x = {V[4]}\")"
   ]
  },
  {
   "attachments": {
    "image.png": {
     "image/png": "[encoded data removed]"
    }
   },
   "cell_type": "markdown",
   "id": "233d2d59",
   "metadata": {},
   "source": [
    "![image.png](attachment:image.png)"
   ]
  },
  {
   "cell_type": "code",
   "execution_count": 158,
   "id": "d074126c",
   "metadata": {},
   "outputs": [
    {
     "data": {
      "text/plain": [
       "array([[1.0000, 0.4000, 0.1429, -0.5643, 1.0625, 0.1429],\n",
       "       [0.6667, 0.8000, 0.6364, 0.1364, 3.3166, 2.0000],\n",
       "       [0.0000, 3.0000, 1.0000, 4.0000, 0.4444, 0.9167],\n",
       "       [0.2727, 0.2105, 0.3684, 0.0449, 0.1098, 9.5394],\n",
       "       [0.4685, 0.6364, -1.0414, 5.0000, 6.0000, 7.0000],\n",
       "       [3.0000, 4.0000, 7.0000, 0.0588, 4.0000, 0.1429]])"
      ]
     },
     "execution_count": 158,
     "metadata": {},
     "output_type": "execute_result"
    }
   ],
   "source": [
    "A_4 = np.array([[1,2/5,1/7,np.log10(3/11),17/16,1/7],\n",
    "                [2/3,4/5,7/11,3/22,np.sqrt(11),2],\n",
    "                [0,3,1,4,4/9,11/12],\n",
    "                [3/11,4/19,7/19,4/89,19/173,np.sqrt(91)],\n",
    "                [3/np.sqrt(41),7/11,np.log10(1/11),5,6,7],\n",
    "                [3,4,7,1/17,4,1/7]])\n",
    "A_4"
   ]
  },
  {
   "cell_type": "code",
   "execution_count": 159,
   "id": "a1f03763",
   "metadata": {},
   "outputs": [
    {
     "data": {
      "text/plain": [
       "array([[0.8889],\n",
       "       [0.5385],\n",
       "       [1.0465],\n",
       "       [1.7321],\n",
       "       [0.1622],\n",
       "       [1.3333]])"
      ]
     },
     "execution_count": 159,
     "metadata": {},
     "output_type": "execute_result"
    }
   ],
   "source": [
    "B_4 = np.array([[8/9],[7/13],[np.sqrt(23/21)],[np.sqrt(3)],[18/111],[4/3]])\n",
    "B_4"
   ]
  },
  {
   "cell_type": "code",
   "execution_count": 160,
   "id": "7cae1729",
   "metadata": {},
   "outputs": [
    {
     "data": {
      "text/plain": [
       "array([['x'],\n",
       "       ['y'],\n",
       "       ['z'],\n",
       "       ['w'],\n",
       "       ['a'],\n",
       "       ['b']], dtype='<U1')"
      ]
     },
     "execution_count": 160,
     "metadata": {},
     "output_type": "execute_result"
    }
   ],
   "source": [
    "C_4 = np.array([['x'],['y'],['z'],['w'],['a'],['b']])\n",
    "C_4"
   ]
  },
  {
   "cell_type": "code",
   "execution_count": 162,
   "id": "e90cf198",
   "metadata": {},
   "outputs": [
    {
     "name": "stdout",
     "output_type": "stream",
     "text": [
      "['x'] = 0.6279283583230302\n",
      "['y'] = 0.8235247603142611\n",
      "['z'] = -0.4564812185945653\n",
      "['w'] = -0.261711271346892\n",
      "['a'] = -0.16438247071152184\n",
      "['b'] = 0.16619687547895032\n"
     ]
    }
   ],
   "source": [
    "res_4 = np.linalg.solve(A_4,B_4_1)\n",
    "print(C_4[0], \"=\",res_4[0])\n",
    "print(C_4[1], \"=\",res_4[1])\n",
    "print(C_4[2], \"=\",res_4[2])\n",
    "print(C_4[3], \"=\",res_4[3])\n",
    "print(C_4[4], \"=\",res_4[4])\n",
    "print(C_4[5], \"=\",res_4[5])"
   ]
  },
  {
   "cell_type": "code",
   "execution_count": 145,
   "id": "19933cd7",
   "metadata": {},
   "outputs": [
    {
     "data": {
      "text/latex": [
       "$\\displaystyle \\left[\\begin{matrix}1 & 0.4 & 0.142857142857143 & -0.564271430438563 & 1.0625 & 0.142857142857143 & 0.888888888888889\\\\0.666666666666667 & 0.8 & 0.636363636363636 & 0.136363636363636 & 3.3166247903554 & 2 & 0.538461538461538\\\\0 & 3 & 1 & 4 & 0.444444444444444 & 0.916666666666667 & 1.04653623694457\\\\0.272727272727273 & 0.210526315789474 & 0.368421052631579 & 0.0449438202247191 & 0.109826589595376 & 9.53939201416946 & 1.73205080756888\\\\0.468521285665818 & 0.636363636363636 & -1.04139268515822 & 5 & 6 & 7 & 0.162162162162162\\\\3 & 4 & 7 & 0.0588235294117647 & 4 & 0.142857142857143 & 1.33333333333333\\end{matrix}\\right]$"
      ],
      "text/plain": [
       "Matrix([\n",
       "[                1,               0.4, 0.142857142857143, -0.564271430438563,            1.0625, 0.142857142857143, 0.888888888888889],\n",
       "[0.666666666666667,               0.8, 0.636363636363636,  0.136363636363636,   3.3166247903554,                 2, 0.538461538461538],\n",
       "[                0,                 3,                 1,                  4, 0.444444444444444, 0.916666666666667,  1.04653623694457],\n",
       "[0.272727272727273, 0.210526315789474, 0.368421052631579, 0.0449438202247191, 0.109826589595376,  9.53939201416946,  1.73205080756888],\n",
       "[0.468521285665818, 0.636363636363636, -1.04139268515822,                  5,                 6,                 7, 0.162162162162162],\n",
       "[                3,                 4,                 7, 0.0588235294117647,                 4, 0.142857142857143,  1.33333333333333]])"
      ]
     },
     "execution_count": 145,
     "metadata": {},
     "output_type": "execute_result"
    }
   ],
   "source": [
    "# 2da Forma -----> Matriz aumentada\n",
    "A_4_aug = Matrix([[1,2/5,1/7,np.log10(3/11),17/16,1/7,8/9],\n",
    "                [2/3,4/5,7/11,3/22,np.sqrt(11),2,7/13],\n",
    "                [0,3,1,4,4/9,11/12,np.sqrt(23/21)],\n",
    "                [3/11,4/19,7/19,4/89,19/173,np.sqrt(91),np.sqrt(3)],\n",
    "                [3/np.sqrt(41),7/11,np.log10(1/11),5,6,7,18/111],\n",
    "                [3,4,7,1/17,4,1/7,4/3]])\n",
    "A_4_aug"
   ]
  },
  {
   "cell_type": "code",
   "execution_count": 146,
   "id": "cc397595",
   "metadata": {},
   "outputs": [
    {
     "data": {
      "text/latex": [
       "$\\displaystyle \\left[\\begin{matrix}1 & 0 & 0 & 0 & 0 & 0 & 0.62792835832303\\\\0 & 1 & 0 & 0 & 0 & 0 & 0.823524760314261\\\\0 & 0 & 1 & 0 & 0 & 0 & -0.456481218594565\\\\0 & 0 & 0 & 1 & 0 & 0 & -0.261711271346892\\\\0 & 0 & 0 & 0 & 1 & 0 & -0.164382470711522\\\\0 & 0 & 0 & 0 & 0 & 1 & 0.16619687547895\\end{matrix}\\right]$"
      ],
      "text/plain": [
       "Matrix([\n",
       "[1, 0, 0, 0, 0, 0,   0.62792835832303],\n",
       "[0, 1, 0, 0, 0, 0,  0.823524760314261],\n",
       "[0, 0, 1, 0, 0, 0, -0.456481218594565],\n",
       "[0, 0, 0, 1, 0, 0, -0.261711271346892],\n",
       "[0, 0, 0, 0, 1, 0, -0.164382470711522],\n",
       "[0, 0, 0, 0, 0, 1,   0.16619687547895]])"
      ]
     },
     "execution_count": 146,
     "metadata": {},
     "output_type": "execute_result"
    }
   ],
   "source": [
    "Matrix(A_4_aug).rref(pivots=False)"
   ]
  },
  {
   "cell_type": "code",
   "execution_count": 163,
   "id": "452c29ec",
   "metadata": {},
   "outputs": [],
   "source": [
    "#'x' = 0.6279283583230302\n",
    "#'y' = 0.8235247603142611\n",
    "#'z' = -0.4564812185945653\n",
    "#'w' = -0.261711271346892\n",
    "#'a' = -0.16438247071152184\n",
    "#'b' = 0.16619687547895032"
   ]
  },
  {
   "cell_type": "code",
   "execution_count": 165,
   "id": "9133e53d",
   "metadata": {},
   "outputs": [
    {
     "name": "stdout",
     "output_type": "stream",
     "text": [
      "x = [0.6279]\n",
      "y = [0.8235]\n",
      "z = [-0.4565]\n",
      "w = [-0.2617]\n",
      "a = [-0.1644]\n",
      "b = [0.1662]\n"
     ]
    }
   ],
   "source": [
    "# 3ra Forma --> Hallando la inversa\n",
    "\n",
    "A_4_inv = np.linalg.inv(A_4).dot(B_4)\n",
    "print(f\"x = {A_4_inv[0]}\")\n",
    "print(f\"y = {A_4_inv[1]}\")\n",
    "print(f\"z = {A_4_inv[2]}\")\n",
    "print(f\"w = {A_4_inv[3]}\")\n",
    "print(f\"a = {A_4_inv[4]}\")\n",
    "print(f\"b = {A_4_inv[5]}\")"
   ]
  },
  {
   "attachments": {
    "image.png": {
     "image/png": "[encoded data removed]"
    }
   },
   "cell_type": "markdown",
   "id": "2c235323",
   "metadata": {},
   "source": [
    "### SECCION 3. APLICACIONES DE MATRICES\n",
    "#### Ejercicio 1\n",
    "\n",
    "###### Se presenta el siguiente sistema de ecuaciones lineales que relaciona las variables en entidades financieras respecto al saldo final de operaciones de un año particular.\n",
    "\n",
    "**GO:** Gasto operativo(miles de dolares)  \n",
    "**LIQ:** Liquidez corriente (miles de dolares)  \n",
    "**MOR:** Morosidad de principal cartera de clientes(miles de clientes)  \n",
    "**PAC:** Pasivo Corriente (miles de dolares)  \n",
    "**ACC:** Activo Corriente (miles de dolares)  \n",
    "**PAT:** Patrimonio Neto (miles de dolares)  \n",
    "**CCP:** Cuentas por pagar a proveedores (miles de dolares)\n",
    "\n",
    "###### El sistema, representado de manera matricial, se presenta a continuación:\n",
    "![image.png](attachment:image.png)"
   ]
  },
  {
   "cell_type": "code",
   "execution_count": 168,
   "id": "e13efbeb",
   "metadata": {},
   "outputs": [
    {
     "name": "stdout",
     "output_type": "stream",
     "text": [
      "[[0.1760 0.1180 0.6730 0.5340 0.1770 0.0340 0.1780]\n",
      " [0.7960 0.2470 0.0310 0.6720 0.9440 0.1110 0.7360]\n",
      " [0.3370 0.1840 0.0880 0.9110 0.2100 0.9580 0.4440]\n",
      " [0.3860 0.5970 0.4920 0.8210 0.4930 0.7580 0.4410]\n",
      " [0.1780 0.8630 0.9520 0.3360 0.5850 0.2900 0.1390]\n",
      " [0.5090 0.2300 0.6870 0.8770 0.1490 0.4600 0.7090]\n",
      " [0.4230 0.4510 0.8260 0.9630 0.0400 0.2130 0.6670]]\n",
      "\n",
      "[[0.8310]\n",
      " [0.1430]\n",
      " [0.7240]\n",
      " [0.9410]\n",
      " [0.9220]\n",
      " [0.2220]\n",
      " [0.4680]]\n",
      "\n",
      "[['CO']\n",
      " ['LIQ']\n",
      " ['MOR']\n",
      " ['PAC']\n",
      " ['ACC']\n",
      " ['PAT']\n",
      " ['CCP']]\n"
     ]
    }
   ],
   "source": [
    "# Definimos la matriz de coeficientes:\n",
    "A = np.array([[0.176,0.118,0.673,0.534,0.177,0.034,0.178],\n",
    "              [0.796,0.247,0.031,0.672,0.944,0.111,0.736],\n",
    "              [0.337,0.184,0.088,0.911,0.210,0.958,0.444],\n",
    "              [0.386,0.597,0.492,0.821,0.493,0.758,0.441],\n",
    "              [0.178,0.863,0.952,0.336,0.585,0.290,0.139],\n",
    "              [0.509,0.230,0.687,0.877,0.149,0.460,0.709],\n",
    "              [0.423,0.451,0.826,0.963,0.040,0.213,0.667]])\n",
    "# Matriz de resultados\n",
    "B = np.array([[0.831],[0.143],[0.724],[0.941],[0.922],[0.222],[0.468]])\n",
    "\n",
    "C = np.array([['CO'],['LIQ'],['MOR'],['PAC'],['ACC'],['PAT'],['CCP']])\n",
    "\n",
    "print(A)\n",
    "print()\n",
    "print(B)\n",
    "print()\n",
    "print(C)\n"
   ]
  },
  {
   "cell_type": "code",
   "execution_count": 172,
   "id": "c0ce28d6",
   "metadata": {},
   "outputs": [
    {
     "name": "stdout",
     "output_type": "stream",
     "text": [
      "['CO'] = [11.3608]\n",
      "['LIQ'] = [1.5893]\n",
      "['MOR'] = [0.1927]\n",
      "['PAC'] = [1.6064]\n",
      "['ACC'] = [-3.2075]\n",
      "['PAT'] = [0.2585]\n",
      "['CCP'] = [-10.0260]\n"
     ]
    }
   ],
   "source": [
    "res = np.linalg.inv(A).dot(B)\n",
    "print(C[0],\"=\",res[0])\n",
    "print(C[1],\"=\",res[1])\n",
    "print(C[2],\"=\",res[2])\n",
    "print(C[3],\"=\",res[3])\n",
    "print(C[4],\"=\",res[4])\n",
    "print(C[5],\"=\",res[5])\n",
    "print(C[6],\"=\",res[6])"
   ]
  },
  {
   "attachments": {
    "image-2.png": {
     "image/png": "[encoded data removed]"
    },
    "image-3.png": {
     "image/png": "[encoded data removed]"
    },
    "image.png": {
     "image/png": "[encoded data removed]"
    }
   },
   "cell_type": "markdown",
   "id": "707dcc62",
   "metadata": {},
   "source": [
    "### Ejercicio 2\n",
    "\n",
    "##### Supongamos que tienes un portafolio con cinco activos financieros. Se te proporciona la siguiente informacion:\n",
    "**Rendimientos esperados:** Un vector que contiene el rendimiento esperado de cada activo:\n",
    "![image.png](attachment:image.png)\n",
    "\n",
    "**Matriz de varianza-Covarianza:**\n",
    "![image-2.png](attachment:image-2.png)\n",
    "**Pesos del portafolio:** \n",
    "![image-3.png](attachment:image-3.png)\n",
    "\n",
    "#### Como distribuir correctamente los activos para optimizar los rendimientos?\n",
    "#### Hallar el rendimiento esperado y la varianza del portafolio"
   ]
  },
  {
   "attachments": {
    "image.png": {
     "image/png": "[encoded data removed]"
    }
   },
   "cell_type": "markdown",
   "id": "240eee62",
   "metadata": {},
   "source": [
    "#### Rendimiento esperado\n",
    "![image.png](attachment:image.png)"
   ]
  },
  {
   "cell_type": "code",
   "execution_count": 174,
   "id": "29b28e66",
   "metadata": {},
   "outputs": [
    {
     "name": "stdout",
     "output_type": "stream",
     "text": [
      "Rendimiento esperado del portafolio: 0.1120\n"
     ]
    }
   ],
   "source": [
    "# Datos\n",
    "R = np.array([0.08,0.12,0.10,0.14,0.09])\n",
    "w = np.array([0.20,0.25,0.15,0.30,0.10])\n",
    "\n",
    "# Rendimiento esperado del portafolio\n",
    "R_p = np.dot(w,R)\n",
    "print(f\"Rendimiento esperado del portafolio: {R_p:.4f}\")"
   ]
  },
  {
   "attachments": {
    "image.png": {
     "image/png": "[encoded data removed]"
    }
   },
   "cell_type": "markdown",
   "id": "51b44541",
   "metadata": {},
   "source": [
    "#### Varianza del portafolio\n",
    "![image.png](attachment:image.png)"
   ]
  },
  {
   "cell_type": "code",
   "execution_count": 175,
   "id": "2695adf2",
   "metadata": {},
   "outputs": [
    {
     "name": "stdout",
     "output_type": "stream",
     "text": [
      "Varianza del portafolio: 0.0087 \n",
      "Desviacion standar del portafolio: 0.0935 \n"
     ]
    }
   ],
   "source": [
    "# Matriz de varianza - covarianza\n",
    "Sigma = np.array([\n",
    "    [0.04,0.02,0.001,0.003,0.002],\n",
    "    [0.002,0.03,0.0025,0.002,0.001],\n",
    "    [0.001,0.0025,0.02,0.0015,0.001],\n",
    "    [0.003,0.002,0.0015,0.025,0.002],\n",
    "    [0.002,0.001,0.001,0.002,0.015]\n",
    "])\n",
    "\n",
    "# Varianza del portafolio\n",
    "sigma_p_squared = np.dot(w.T,np.dot(Sigma,w))\n",
    "\n",
    "# Desviacion standar del portafolio\n",
    "sigma_p = np.sqrt(sigma_p_squared)\n",
    "print(f\"Varianza del portafolio: {sigma_p_squared:.4f} \")\n",
    "print(f\"Desviacion standar del portafolio: {sigma_p:.4f} \")"
   ]
  },
  {
   "cell_type": "markdown",
   "id": "3db8e4b0",
   "metadata": {},
   "source": [
    "## Propiedades de las operaciones\n",
    "\n",
    "#### A + (B + C) = (A + B) + C\n",
    "\n",
    "##### *La suma de matrices solo se puede realizar cuando las matrices son del mismo tamaño*"
   ]
  },
  {
   "cell_type": "code",
   "execution_count": 5,
   "id": "224d05b9",
   "metadata": {},
   "outputs": [
    {
     "name": "stdout",
     "output_type": "stream",
     "text": [
      "La matriz A: \n",
      "[[19.76682338 19.21199423 19.47772107 18.85204771 17.73165738 16.54271479]\n",
      " [14.3780271  14.1719508  17.3484897  11.22786801 15.73551942 15.50145528]\n",
      " [15.00172292 15.00333995 11.1793405  12.2405437  14.95164303 15.07733876]\n",
      " [14.9649193  17.83146125 11.83396559 13.7309041  10.33413841 11.7243171 ]\n",
      " [18.95155218 16.31338941 16.01454129 10.02176626 12.23465196 17.05034705]]\n"
     ]
    }
   ],
   "source": [
    "A = np.random.uniform(10,20, size = (5,6))\n",
    "print(\"La matriz A: \")\n",
    "print(A)"
   ]
  },
  {
   "cell_type": "code",
   "execution_count": 12,
   "id": "f1ba091b",
   "metadata": {},
   "outputs": [
    {
     "name": "stdout",
     "output_type": "stream",
     "text": [
      "La matriz B: \n",
      "[[19.33229732 14.025831   16.25122006 13.41739592 10.10883437 12.81859554]\n",
      " [10.52551248 17.14785395 15.59091987 12.63725167 11.88941943 13.57903824]\n",
      " [10.00913289 19.62547149 16.15079606 11.07803101 10.78568087 16.1989529 ]\n",
      " [18.95300602 14.21708163 12.38911449 16.30321063 13.08231768 13.89939179]\n",
      " [11.54444767 17.64339976 10.90646735 10.08495581 11.26931068 19.68041839]]\n"
     ]
    }
   ],
   "source": [
    "B = np.random.uniform(10,20, size = (5,6))\n",
    "print(\"La matriz B: \")\n",
    "print(B)"
   ]
  },
  {
   "cell_type": "code",
   "execution_count": 13,
   "id": "7d2f046a",
   "metadata": {},
   "outputs": [
    {
     "name": "stdout",
     "output_type": "stream",
     "text": [
      "La matriz C: \n",
      "[[ 7.05346008 18.38956907 16.67279697 12.89096195 10.02816892 18.09287135]\n",
      " [15.28707888  9.79472624 14.50168467  6.48093613 16.48254158 14.86368632]\n",
      " [11.49307283 12.30323297 19.61663549 11.51027118 12.01021281 16.27618127]\n",
      " [ 8.8972336  15.44436178 16.20240386 18.41103005 15.86311266  9.92690811]\n",
      " [12.09279965  5.40048793  5.9223089  11.96008656 16.38233242  5.67703374]]\n"
     ]
    }
   ],
   "source": [
    "C = np.random.uniform(5,20, size = (5,6))\n",
    "print(\"La matriz C: \")\n",
    "print(C)"
   ]
  },
  {
   "cell_type": "code",
   "execution_count": 14,
   "id": "14bebd64",
   "metadata": {},
   "outputs": [],
   "source": [
    "res = (A+B)+C"
   ]
  },
  {
   "cell_type": "code",
   "execution_count": 23,
   "id": "fa74d2f2",
   "metadata": {},
   "outputs": [
    {
     "data": {
      "text/plain": [
       "array([[46.15258078, 51.6273943 , 52.40173809, 45.16040558, 37.86866067,\n",
       "        47.45418169],\n",
       "       [40.19061847, 41.11453099, 47.44109424, 30.34605581, 44.10748043,\n",
       "        43.94417984],\n",
       "       [36.50392864, 46.93204442, 46.94677205, 34.82884589, 37.7475367 ,\n",
       "        47.55247293],\n",
       "       [42.81515891, 47.49290466, 40.42548394, 48.44514478, 39.27956875,\n",
       "        35.550617  ],\n",
       "       [42.5887995 , 39.3572771 , 32.84331755, 32.06680863, 39.88629506,\n",
       "        42.40779918]])"
      ]
     },
     "execution_count": 23,
     "metadata": {},
     "output_type": "execute_result"
    }
   ],
   "source": [
    "res"
   ]
  },
  {
   "cell_type": "code",
   "execution_count": 22,
   "id": "1692b37b",
   "metadata": {},
   "outputs": [],
   "source": [
    "res_2 = A + (B+C)"
   ]
  },
  {
   "cell_type": "code",
   "execution_count": 24,
   "id": "03d417fe",
   "metadata": {},
   "outputs": [
    {
     "data": {
      "text/plain": [
       "array([[46.15258078, 51.6273943 , 52.40173809, 45.16040558, 37.86866067,\n",
       "        47.45418169],\n",
       "       [40.19061847, 41.11453099, 47.44109424, 30.34605581, 44.10748043,\n",
       "        43.94417984],\n",
       "       [36.50392864, 46.93204442, 46.94677205, 34.82884589, 37.7475367 ,\n",
       "        47.55247293],\n",
       "       [42.81515891, 47.49290466, 40.42548394, 48.44514478, 39.27956875,\n",
       "        35.550617  ],\n",
       "       [42.5887995 , 39.3572771 , 32.84331755, 32.06680863, 39.88629506,\n",
       "        42.40779918]])"
      ]
     },
     "execution_count": 24,
     "metadata": {},
     "output_type": "execute_result"
    }
   ],
   "source": [
    "res_2"
   ]
  },
  {
   "cell_type": "markdown",
   "id": "056c542b",
   "metadata": {},
   "source": [
    "##### A + B = B + A"
   ]
  },
  {
   "cell_type": "markdown",
   "id": "e4ed5d78",
   "metadata": {},
   "source": [
    "sum = A + B\n",
    "sum"
   ]
  },
  {
   "cell_type": "code",
   "execution_count": 27,
   "id": "5b5f1b99",
   "metadata": {},
   "outputs": [
    {
     "data": {
      "text/plain": [
       "array([[39.0991207 , 33.23782523, 35.72894112, 32.26944363, 27.84049175,\n",
       "        29.36131033],\n",
       "       [24.90353958, 31.31980475, 32.93940957, 23.86511969, 27.62493885,\n",
       "        29.08049352],\n",
       "       [25.0108558 , 34.62881144, 27.33013656, 23.31857471, 25.73732389,\n",
       "        31.27629166],\n",
       "       [33.91792532, 32.04854288, 24.22308008, 30.03411473, 23.41645609,\n",
       "        25.62370889],\n",
       "       [30.49599985, 33.95678917, 26.92100865, 20.10672207, 23.50396265,\n",
       "        36.73076544]])"
      ]
     },
     "execution_count": 27,
     "metadata": {},
     "output_type": "execute_result"
    }
   ],
   "source": [
    "sum_2 = B + A\n",
    "sum_2"
   ]
  },
  {
   "cell_type": "markdown",
   "id": "c71e5339",
   "metadata": {},
   "source": [
    "##### A + o = A, donde o es la matriz cero m x n"
   ]
  },
  {
   "cell_type": "code",
   "execution_count": 29,
   "id": "26fa0f40",
   "metadata": {},
   "outputs": [
    {
     "name": "stdout",
     "output_type": "stream",
     "text": [
      "[[0. 0. 0. 0. 0. 0.]\n",
      " [0. 0. 0. 0. 0. 0.]\n",
      " [0. 0. 0. 0. 0. 0.]\n",
      " [0. 0. 0. 0. 0. 0.]\n",
      " [0. 0. 0. 0. 0. 0.]]\n"
     ]
    }
   ],
   "source": [
    "N = np.zeros((5,6))\n",
    "print(N)"
   ]
  },
  {
   "cell_type": "code",
   "execution_count": 31,
   "id": "5f8bb99a",
   "metadata": {},
   "outputs": [
    {
     "name": "stdout",
     "output_type": "stream",
     "text": [
      "[[19.76682338 19.21199423 19.47772107 18.85204771 17.73165738 16.54271479]\n",
      " [14.3780271  14.1719508  17.3484897  11.22786801 15.73551942 15.50145528]\n",
      " [15.00172292 15.00333995 11.1793405  12.2405437  14.95164303 15.07733876]\n",
      " [14.9649193  17.83146125 11.83396559 13.7309041  10.33413841 11.7243171 ]\n",
      " [18.95155218 16.31338941 16.01454129 10.02176626 12.23465196 17.05034705]]\n"
     ]
    }
   ],
   "source": [
    "sum_3  = A + N\n",
    "print(sum_3)"
   ]
  },
  {
   "attachments": {
    "image-2.png": {
     "image/png": "[encoded data removed]"
    }
   },
   "cell_type": "markdown",
   "id": "db38c9b7",
   "metadata": {},
   "source": [
    "![image-2.png](attachment:image-2.png)"
   ]
  },
  {
   "cell_type": "code",
   "execution_count": 33,
   "id": "4e0b198c",
   "metadata": {},
   "outputs": [
    {
     "name": "stdout",
     "output_type": "stream",
     "text": [
      "[[-19.76682338 -19.21199423 -19.47772107 -18.85204771 -17.73165738\n",
      "  -16.54271479]\n",
      " [-14.3780271  -14.1719508  -17.3484897  -11.22786801 -15.73551942\n",
      "  -15.50145528]\n",
      " [-15.00172292 -15.00333995 -11.1793405  -12.2405437  -14.95164303\n",
      "  -15.07733876]\n",
      " [-14.9649193  -17.83146125 -11.83396559 -13.7309041  -10.33413841\n",
      "  -11.7243171 ]\n",
      " [-18.95155218 -16.31338941 -16.01454129 -10.02176626 -12.23465196\n",
      "  -17.05034705]]\n"
     ]
    }
   ],
   "source": [
    "matr_neg = -A\n",
    "print(matr_neg)"
   ]
  },
  {
   "cell_type": "code",
   "execution_count": 34,
   "id": "fa9f1365",
   "metadata": {},
   "outputs": [
    {
     "name": "stdout",
     "output_type": "stream",
     "text": [
      "[[0. 0. 0. 0. 0. 0.]\n",
      " [0. 0. 0. 0. 0. 0.]\n",
      " [0. 0. 0. 0. 0. 0.]\n",
      " [0. 0. 0. 0. 0. 0.]\n",
      " [0. 0. 0. 0. 0. 0.]]\n"
     ]
    }
   ],
   "source": [
    "res_matr_neg = A + (-A)\n",
    "print(res_matr_neg)"
   ]
  },
  {
   "attachments": {
    "image.png": {
     "image/png": "[encoded data removed]"
    }
   },
   "cell_type": "markdown",
   "id": "df33a8dd",
   "metadata": {},
   "source": [
    "![image.png](attachment:image.png)"
   ]
  },
  {
   "cell_type": "code",
   "execution_count": 36,
   "id": "ae046750",
   "metadata": {},
   "outputs": [
    {
     "name": "stdout",
     "output_type": "stream",
     "text": [
      "[[49.41705846 48.02998557 48.69430267 47.13011927 44.32914345 41.35678698]\n",
      " [35.94506776 35.42987701 43.37122425 28.06967003 39.33879855 38.75363819]\n",
      " [37.50430729 37.50834988 27.94835124 30.60135924 37.37910757 37.69334691]\n",
      " [37.41229825 44.57865314 29.58491397 34.32726025 25.83534603 29.31079276]\n",
      " [47.37888044 40.78347353 40.03635324 25.05441564 30.58662991 42.62586762]]\n"
     ]
    }
   ],
   "source": [
    "lamb = 5\n",
    "beta = 0.5\n",
    "new_mat = lamb*(beta*A)\n",
    "print(new_mat)"
   ]
  },
  {
   "cell_type": "code",
   "execution_count": 38,
   "id": "c5c68044",
   "metadata": {},
   "outputs": [
    {
     "name": "stdout",
     "output_type": "stream",
     "text": [
      "[[49.41705846 48.02998557 48.69430267 47.13011927 44.32914345 41.35678698]\n",
      " [35.94506776 35.42987701 43.37122425 28.06967003 39.33879855 38.75363819]\n",
      " [37.50430729 37.50834988 27.94835124 30.60135924 37.37910757 37.69334691]\n",
      " [37.41229825 44.57865314 29.58491397 34.32726025 25.83534603 29.31079276]\n",
      " [47.37888044 40.78347353 40.03635324 25.05441564 30.58662991 42.62586762]]\n"
     ]
    }
   ],
   "source": [
    "new_mat_2 = (lamb*beta)*A\n",
    "print(new_mat_2)"
   ]
  },
  {
   "attachments": {
    "image.png": {
     "image/png": "[encoded data removed]"
    }
   },
   "cell_type": "markdown",
   "id": "1c8cd80c",
   "metadata": {},
   "source": [
    "![image.png](attachment:image.png)"
   ]
  },
  {
   "cell_type": "code",
   "execution_count": 39,
   "id": "ce4c674e",
   "metadata": {},
   "outputs": [
    {
     "name": "stdout",
     "output_type": "stream",
     "text": [
      "[[108.71752861 105.66596826 107.12746587 103.68626239  97.52411558\n",
      "   90.98493135]\n",
      " [ 79.07914906  77.94572942  95.41669335  61.75327407  86.54535682\n",
      "   85.25800403]\n",
      " [ 82.50947604  82.51836974  61.48637274  67.32299034  82.23403664\n",
      "   82.9253632 ]\n",
      " [ 82.30705616  98.0730369   65.08681073  75.51997255  56.83776127\n",
      "   64.48374407]\n",
      " [104.23353696  89.72364177  88.07997712  55.11971442  67.2905858\n",
      "   93.77690876]]\n"
     ]
    }
   ],
   "source": [
    "new_mat_3 = (lamb + beta)*A\n",
    "print(new_mat_3)"
   ]
  },
  {
   "cell_type": "code",
   "execution_count": 41,
   "id": "09fc2a29",
   "metadata": {},
   "outputs": [
    {
     "name": "stdout",
     "output_type": "stream",
     "text": [
      "[[108.71752861 105.66596826 107.12746587 103.68626239  97.52411558\n",
      "   90.98493135]\n",
      " [ 79.07914906  77.94572942  95.41669335  61.75327407  86.54535682\n",
      "   85.25800403]\n",
      " [ 82.50947604  82.51836974  61.48637274  67.32299034  82.23403664\n",
      "   82.9253632 ]\n",
      " [ 82.30705616  98.0730369   65.08681073  75.51997255  56.83776127\n",
      "   64.48374407]\n",
      " [104.23353696  89.72364177  88.07997712  55.11971442  67.2905858\n",
      "   93.77690876]]\n"
     ]
    }
   ],
   "source": [
    "new_mat_4 = lamb*A + beta*A\n",
    "print(new_mat_4)"
   ]
  },
  {
   "attachments": {
    "image.png": {
     "image/png": "[encoded data removed]"
    }
   },
   "cell_type": "markdown",
   "id": "5bc35ff2",
   "metadata": {},
   "source": [
    "![image.png](attachment:image.png)"
   ]
  },
  {
   "cell_type": "code",
   "execution_count": 42,
   "id": "77cc3162",
   "metadata": {},
   "outputs": [
    {
     "name": "stdout",
     "output_type": "stream",
     "text": [
      "[[195.4956035  166.18912615 178.64470561 161.34721816 139.20245873\n",
      "  146.80655167]\n",
      " [124.51769791 156.59902376 164.69704786 119.32559843 138.12469426\n",
      "  145.40246761]\n",
      " [125.05427901 173.14405721 136.6506828  116.59287354 128.68661946\n",
      "  156.38145832]\n",
      " [169.58962659 160.24271441 121.1154004  150.17057364 117.08228045\n",
      "  128.11854445]\n",
      " [152.47999924 169.78394585 134.60504323 100.53361036 117.51981323\n",
      "  183.65382719]]\n"
     ]
    }
   ],
   "source": [
    "new_mat_5 = lamb*(A + B)\n",
    "print(new_mat_5)"
   ]
  },
  {
   "cell_type": "code",
   "execution_count": 43,
   "id": "961b95c1",
   "metadata": {},
   "outputs": [
    {
     "name": "stdout",
     "output_type": "stream",
     "text": [
      "[[195.4956035  166.18912615 178.64470561 161.34721816 139.20245873\n",
      "  146.80655167]\n",
      " [124.51769791 156.59902376 164.69704786 119.32559843 138.12469426\n",
      "  145.40246761]\n",
      " [125.05427901 173.14405721 136.6506828  116.59287354 128.68661946\n",
      "  156.38145832]\n",
      " [169.58962659 160.24271441 121.1154004  150.17057364 117.08228045\n",
      "  128.11854445]\n",
      " [152.47999924 169.78394585 134.60504323 100.53361036 117.51981323\n",
      "  183.65382719]]\n"
     ]
    }
   ],
   "source": [
    "new_mat_6 = lamb*A + lamb*B\n",
    "print(new_mat_6)"
   ]
  },
  {
   "cell_type": "markdown",
   "id": "f1e60f7c",
   "metadata": {},
   "source": [
    "#### Propiedades de producto de matrices"
   ]
  },
  {
   "attachments": {
    "image.png": {
     "image/png": "[encoded data removed]"
    }
   },
   "cell_type": "markdown",
   "id": "2fafa46e",
   "metadata": {},
   "source": [
    "![image.png](attachment:image.png)"
   ]
  },
  {
   "cell_type": "code",
   "execution_count": 60,
   "id": "f502db87",
   "metadata": {},
   "outputs": [
    {
     "name": "stdout",
     "output_type": "stream",
     "text": [
      "[[9.29453067 9.20343419 8.0664995  8.86875086 6.66062295 9.52089015]\n",
      " [5.38187851 7.99783113 5.82637473 5.17362312 8.39081049 6.86977376]\n",
      " [5.62965231 9.11424969 5.35720612 6.66756482 6.6084507  6.95036437]\n",
      " [5.86446903 9.0448054  7.91058858 6.31384149 7.98898813 6.69814088]\n",
      " [9.45184646 8.94330844 5.5168822  9.65065801 6.10434658 7.69220783]\n",
      " [5.28931572 8.45952406 6.16809984 6.45158974 8.88368311 7.39389127]]\n"
     ]
    }
   ],
   "source": [
    "A = np.random.uniform(5,10, size = (6,6))\n",
    "print(A)"
   ]
  },
  {
   "cell_type": "code",
   "execution_count": 61,
   "id": "a0e19f44",
   "metadata": {},
   "outputs": [
    {
     "name": "stdout",
     "output_type": "stream",
     "text": [
      "[[10.67763632 19.00329089 10.96564575  7.39182144]\n",
      " [17.82325458  5.50829502 19.60602502 11.28841309]\n",
      " [10.14486797  7.09582651 18.70874184  8.25785366]\n",
      " [18.45741944  8.83695011  9.69958887  5.46133777]\n",
      " [10.21902967  6.11029422  5.88307835 18.4480405 ]\n",
      " [ 9.66637537 16.50542677  7.90304643 17.72195208]]\n"
     ]
    }
   ],
   "source": [
    "B = np.random.uniform(5,20, size = (6,4))\n",
    "print(B)"
   ]
  },
  {
   "cell_type": "code",
   "execution_count": 62,
   "id": "2af0e513",
   "metadata": {},
   "outputs": [
    {
     "name": "stdout",
     "output_type": "stream",
     "text": [
      "[[11.17759806 22.54008352 12.01251099]\n",
      " [ 9.42859211  7.20696961 13.75918611]\n",
      " [19.2964954  12.58459592 17.01239451]\n",
      " [ 8.97009273 17.32447042 17.257735  ]]\n"
     ]
    }
   ],
   "source": [
    "C = np.random.uniform(5,30, size = (4,3))\n",
    "print(C)"
   ]
  },
  {
   "cell_type": "code",
   "execution_count": 66,
   "id": "18f1329a",
   "metadata": {},
   "outputs": [
    {
     "name": "stdout",
     "output_type": "stream",
     "text": [
      "[[30188.74776454 37129.04508748 36528.81594478]\n",
      " [22986.28696278 28682.27165688 28042.56807691]\n",
      " [23684.4929092  29429.16562578 28660.17073112]\n",
      " [25631.77124413 31688.26540937 30958.13284599]\n",
      " [27628.92544309 34135.61804741 33382.74997907]\n",
      " [24676.18632229 30864.47098872 30076.57472047]]\n"
     ]
    }
   ],
   "source": [
    "prd = A @ (B @ C)\n",
    "print(prd)"
   ]
  },
  {
   "cell_type": "code",
   "execution_count": 67,
   "id": "313e2820",
   "metadata": {},
   "outputs": [
    {
     "name": "stdout",
     "output_type": "stream",
     "text": [
      "[[30188.74776454 37129.04508748 36528.81594478]\n",
      " [22986.28696278 28682.27165688 28042.56807691]\n",
      " [23684.4929092  29429.16562578 28660.17073112]\n",
      " [25631.77124413 31688.26540937 30958.13284599]\n",
      " [27628.92544309 34135.61804741 33382.74997907]\n",
      " [24676.18632229 30864.47098872 30076.57472047]]\n"
     ]
    }
   ],
   "source": [
    "prd_1 = (A @ B) @ C\n",
    "print(prd_1)"
   ]
  },
  {
   "attachments": {
    "image.png": {
     "image/png": "[encoded data removed]"
    }
   },
   "cell_type": "markdown",
   "id": "7fae288b",
   "metadata": {},
   "source": [
    "![image.png](attachment:image.png)"
   ]
  },
  {
   "cell_type": "code",
   "execution_count": 68,
   "id": "60e7264c",
   "metadata": {},
   "outputs": [
    {
     "name": "stdout",
     "output_type": "stream",
     "text": [
      "[[66.89041972 56.07778116 63.3729589  57.92470953]\n",
      " [50.67644094 39.80486786 47.8663545  48.2972773 ]\n",
      " [53.46879463 40.92189477 49.91332895 47.02386383]\n",
      " [56.7002085  43.25636758 55.08147586 51.13424199]\n",
      " [63.11527935 51.7570318  57.25138937 51.80194018]\n",
      " [55.11626469 42.42133513 51.25312284 51.56825889]]\n"
     ]
    }
   ],
   "source": [
    "lamb = 0.1\n",
    "\n",
    "new_prod = lamb*(A@B)\n",
    "print(new_prod)"
   ]
  },
  {
   "cell_type": "code",
   "execution_count": 69,
   "id": "2b5b3d9a",
   "metadata": {},
   "outputs": [
    {
     "name": "stdout",
     "output_type": "stream",
     "text": [
      "[[66.89041972 56.07778116 63.3729589  57.92470953]\n",
      " [50.67644094 39.80486786 47.8663545  48.2972773 ]\n",
      " [53.46879463 40.92189477 49.91332895 47.02386383]\n",
      " [56.7002085  43.25636758 55.08147586 51.13424199]\n",
      " [63.11527935 51.7570318  57.25138937 51.80194018]\n",
      " [55.11626469 42.42133513 51.25312284 51.56825889]]\n"
     ]
    }
   ],
   "source": [
    "new_prod_1 = (lamb*A)@B\n",
    "print(new_prod_1)"
   ]
  },
  {
   "cell_type": "code",
   "execution_count": 71,
   "id": "3c96aa95",
   "metadata": {},
   "outputs": [
    {
     "name": "stdout",
     "output_type": "stream",
     "text": [
      "[[66.89041972 56.07778116 63.3729589  57.92470953]\n",
      " [50.67644094 39.80486786 47.8663545  48.2972773 ]\n",
      " [53.46879463 40.92189477 49.91332895 47.02386383]\n",
      " [56.7002085  43.25636758 55.08147586 51.13424199]\n",
      " [63.11527935 51.7570318  57.25138937 51.80194018]\n",
      " [55.11626469 42.42133513 51.25312284 51.56825889]]\n"
     ]
    }
   ],
   "source": [
    "new_prod_2 = A@(lamb*B)\n",
    "print(new_prod_2)"
   ]
  },
  {
   "attachments": {
    "image.png": {
     "image/png": "[encoded data removed]"
    }
   },
   "cell_type": "markdown",
   "id": "d9040b81",
   "metadata": {},
   "source": [
    "![image.png](attachment:image.png)"
   ]
  },
  {
   "cell_type": "code",
   "execution_count": 80,
   "id": "d30933d4",
   "metadata": {},
   "outputs": [],
   "source": [
    "# Las matrices B y C deben ser iguales\n",
    "B = np.random.uniform(10,25, size = (6,5))\n",
    "C = np.random.uniform(10,50, size = (6,5))"
   ]
  },
  {
   "cell_type": "code",
   "execution_count": 81,
   "id": "8d0b88c6",
   "metadata": {},
   "outputs": [
    {
     "name": "stdout",
     "output_type": "stream",
     "text": [
      "[[2217.9559884  2406.09822083 1787.95766224 2394.74862608 2115.87211483]\n",
      " [1730.19067903 1910.55071107 1350.53629068 1827.19909092 1632.40693542]\n",
      " [1710.3744141  1960.40737185 1390.98424995 1848.53278422 1649.72945393]\n",
      " [1898.86538066 2127.1938681  1506.35582012 2046.39122569 1815.10756422]\n",
      " [2048.26047799 2195.08411243 1665.50031948 2185.94596512 1948.67340893]\n",
      " [1848.93971308 2065.50322142 1459.72442705 1953.16893298 1773.24371471]]\n"
     ]
    }
   ],
   "source": [
    "new_matrix = A @ (B+C)\n",
    "print(new_matrix)"
   ]
  },
  {
   "cell_type": "code",
   "execution_count": 77,
   "id": "c7b51fc7",
   "metadata": {},
   "outputs": [
    {
     "name": "stdout",
     "output_type": "stream",
     "text": [
      "[[2509.39181499 2070.18446515 2884.77777614 2561.19265151 2517.59753777]\n",
      " [1979.45094216 1602.78467277 2251.82697687 2056.77893677 1929.28576653]\n",
      " [1974.14390089 1585.87286039 2314.85803914 2030.51750376 1972.59705158]\n",
      " [2176.38804557 1798.19315662 2476.09683804 2238.9370448  2096.18160926]\n",
      " [2223.41760064 1868.93617995 2661.60594099 2305.36394494 2321.06789166]\n",
      " [2131.39109708 1722.93256058 2447.9820068  2204.9365472  2065.27457665]]\n"
     ]
    }
   ],
   "source": [
    "new_matrix_1 = A@B + A@C\n",
    "print(new_matrix_1)"
   ]
  },
  {
   "attachments": {
    "image.png": {
     "image/png": "[encoded data removed]"
    }
   },
   "cell_type": "markdown",
   "id": "cf2da985",
   "metadata": {},
   "source": [
    "![image.png](attachment:image.png)"
   ]
  },
  {
   "cell_type": "code",
   "execution_count": 82,
   "id": "e1b769e6",
   "metadata": {},
   "outputs": [],
   "source": [
    "A = np.random.uniform(10,50,size = (5,7))\n",
    "B = np.random.uniform(20,80, size = (5,7))"
   ]
  },
  {
   "cell_type": "code",
   "execution_count": 83,
   "id": "d97dba7e",
   "metadata": {},
   "outputs": [
    {
     "name": "stdout",
     "output_type": "stream",
     "text": [
      "[[ 42.43461174  70.10314259  63.57358766  99.70885514  70.37024433]\n",
      " [ 96.37497097  69.12621547  97.0536832   67.04737011  57.65076153]\n",
      " [101.50897819 119.21165093  75.82415558  87.01541791  53.51418721]\n",
      " [ 75.78155037 101.8973832   73.07388969  50.95086331 100.57128245]\n",
      " [ 64.75074913  94.23593341  80.23821666  89.85150886 101.55655209]\n",
      " [105.88463333 127.61965525  85.63905497  68.03553771  89.15171886]\n",
      " [ 67.03464957 107.48432633  66.4453388   69.00906702 103.868696  ]]\n"
     ]
    }
   ],
   "source": [
    "reslt = (A + B).T\n",
    "print(reslt)"
   ]
  },
  {
   "cell_type": "code",
   "execution_count": 87,
   "id": "5db167f5",
   "metadata": {},
   "outputs": [
    {
     "name": "stdout",
     "output_type": "stream",
     "text": [
      "[[ 42.43461174  70.10314259  63.57358766  99.70885514  70.37024433]\n",
      " [ 96.37497097  69.12621547  97.0536832   67.04737011  57.65076153]\n",
      " [101.50897819 119.21165093  75.82415558  87.01541791  53.51418721]\n",
      " [ 75.78155037 101.8973832   73.07388969  50.95086331 100.57128245]\n",
      " [ 64.75074913  94.23593341  80.23821666  89.85150886 101.55655209]\n",
      " [105.88463333 127.61965525  85.63905497  68.03553771  89.15171886]\n",
      " [ 67.03464957 107.48432633  66.4453388   69.00906702 103.868696  ]]\n"
     ]
    }
   ],
   "source": [
    "res_tot = A.T + B.T\n",
    "print(res_tot)"
   ]
  },
  {
   "attachments": {
    "image-2.png": {
     "image/png": "[encoded data removed]"
    }
   },
   "cell_type": "markdown",
   "id": "c161b163",
   "metadata": {},
   "source": [
    "![image-2.png](attachment:image-2.png)"
   ]
  },
  {
   "cell_type": "code",
   "execution_count": 88,
   "id": "00d24be6",
   "metadata": {},
   "outputs": [],
   "source": [
    "# Para que dos matrices esten definidas o se puedan multiplicar, el numero de columnas de la primara matriz\n",
    "# debe ser igual al numero de filas de la segunda matriz\n",
    "A = np.random.uniform(10,50, size = (5,6))\n",
    "B = np.random.uniform(5,15, size = (6,4))"
   ]
  },
  {
   "cell_type": "code",
   "execution_count": 89,
   "id": "da3d2a3f",
   "metadata": {},
   "outputs": [
    {
     "name": "stdout",
     "output_type": "stream",
     "text": [
      "[[1823.28410088 1876.39397181 2460.60759045 1799.84953729 1803.47398976]\n",
      " [1894.76114297 1849.47907109 2719.30876068 1926.43881868 1921.81905862]\n",
      " [1237.746323   1283.8965521  2078.56012911 1412.65337166 1593.37577513]\n",
      " [1863.53861138 1790.43666477 2839.81565141 1855.04729121 1878.17721043]]\n"
     ]
    }
   ],
   "source": [
    "prd_tot = (A@B).T\n",
    "print(prd_tot)"
   ]
  },
  {
   "cell_type": "code",
   "execution_count": 90,
   "id": "e6c0a413",
   "metadata": {},
   "outputs": [
    {
     "name": "stdout",
     "output_type": "stream",
     "text": [
      "[[1823.28410088 1876.39397181 2460.60759045 1799.84953729 1803.47398976]\n",
      " [1894.76114297 1849.47907109 2719.30876068 1926.43881868 1921.81905862]\n",
      " [1237.746323   1283.8965521  2078.56012911 1412.65337166 1593.37577513]\n",
      " [1863.53861138 1790.43666477 2839.81565141 1855.04729121 1878.17721043]]\n"
     ]
    }
   ],
   "source": [
    "prd_tot_1 = B.T @ A.T\n",
    "print(prd_tot_1)"
   ]
  },
  {
   "attachments": {
    "image.png": {
     "image/png": "[encoded data removed]"
    }
   },
   "cell_type": "markdown",
   "id": "6474135d",
   "metadata": {},
   "source": [
    "![image.png](attachment:image.png)"
   ]
  },
  {
   "cell_type": "code",
   "execution_count": 91,
   "id": "a27e1178",
   "metadata": {
    "scrolled": true
   },
   "outputs": [
    {
     "name": "stdout",
     "output_type": "stream",
     "text": [
      "[[34.45598091 49.11669198 16.10501611 37.33819696 20.77045576 21.0489601 ]\n",
      " [34.43621648 46.36992963 18.52138946 14.13966093 23.46566469 38.1524572 ]\n",
      " [43.47323118 15.56147154 44.74805685 47.86147459 48.7969456  49.68721882]\n",
      " [14.64547978 47.82372562 21.36656382 38.43843311 39.20435166 19.64312526]\n",
      " [13.33134889 27.84825936 36.85603891 27.82879304 46.83766665 26.02441694]]\n"
     ]
    }
   ],
   "source": [
    "print(A)"
   ]
  },
  {
   "cell_type": "code",
   "execution_count": 92,
   "id": "b8958251",
   "metadata": {},
   "outputs": [
    {
     "name": "stdout",
     "output_type": "stream",
     "text": [
      "[[34.45598091 49.11669198 16.10501611 37.33819696 20.77045576 21.0489601 ]\n",
      " [34.43621648 46.36992963 18.52138946 14.13966093 23.46566469 38.1524572 ]\n",
      " [43.47323118 15.56147154 44.74805685 47.86147459 48.7969456  49.68721882]\n",
      " [14.64547978 47.82372562 21.36656382 38.43843311 39.20435166 19.64312526]\n",
      " [13.33134889 27.84825936 36.85603891 27.82879304 46.83766665 26.02441694]]\n"
     ]
    }
   ],
   "source": [
    "trs_A = (A.T).T\n",
    "print(trs_A)"
   ]
  },
  {
   "cell_type": "code",
   "execution_count": null,
   "id": "c7d82af9",
   "metadata": {},
   "outputs": [],
   "source": []
  }
 ],
 "metadata": {
  "kernelspec": {
   "display_name": "Python 3",
   "language": "python",
   "name": "python3"
  },
  "language_info": {
   "codemirror_mode": {
    "name": "ipython",
    "version": 3
   },
   "file_extension": ".py",
   "mimetype": "text/x-python",
   "name": "python",
   "nbconvert_exporter": "python",
   "pygments_lexer": "ipython3",
   "version": "3.8.8"
  }
 },
 "nbformat": 4,
 "nbformat_minor": 5
}
