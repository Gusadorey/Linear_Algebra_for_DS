{
 "cells": [
  {
   "cell_type": "code",
   "execution_count": 1,
   "id": "17618095",
   "metadata": {},
   "outputs": [],
   "source": [
    "import pandas as pd\n",
    "import numpy as np"
   ]
  },
  {
   "cell_type": "markdown",
   "id": "80027263",
   "metadata": {},
   "source": [
    "### Ejercicio N° 1"
   ]
  },
  {
   "cell_type": "code",
   "execution_count": 55,
   "id": "b4c27f7c",
   "metadata": {},
   "outputs": [
    {
     "name": "stdout",
     "output_type": "stream",
     "text": [
      "Matriz A: \n",
      "[[ 2 -1  3]\n",
      " [ 0  4  5]\n",
      " [-2  1  0]]\n",
      "\n",
      "Matriz B: \n",
      "[[ 1  0 -3]\n",
      " [ 2  5  4]\n",
      " [-1 -2  3]]\n",
      "\n",
      "Matriz C: \n",
      "[[ 3 -2  1]\n",
      " [ 0  1  4]\n",
      " [ 5  2 -1]]\n",
      "\n",
      "Matriz D: \n",
      "[[ 3  1  0  2]\n",
      " [-1  4  5 -3]\n",
      " [ 2 -2  3  1]\n",
      " [ 0  1 -1  2]]\n",
      "\n",
      "Matriz E: \n",
      "[[1. 0. 0. 0.]\n",
      " [0. 1. 0. 0.]\n",
      " [0. 0. 1. 0.]\n",
      " [0. 0. 0. 1.]]\n",
      "\n",
      "Matriz F: \n",
      "[[ 2 -1  0  3]\n",
      " [ 1  0 -2  4]\n",
      " [-3  2  1  0]]\n"
     ]
    }
   ],
   "source": [
    "A = np.array([[2,-1,3],\n",
    "             [0,4,5],\n",
    "             [-2,1,0]])\n",
    "\n",
    "B = np.array([[1,0,-3],\n",
    "             [2,5,4],\n",
    "             [-1,-2,3]])\n",
    "\n",
    "C = np.array([[3,-2,1],\n",
    "             [0,1,4],\n",
    "             [5,2,-1]])\n",
    "\n",
    "D = np.array([[3,1,0,2],\n",
    "             [-1,4,5,-3],\n",
    "             [2,-2,3,1],\n",
    "             [0,1,-1,2]])\n",
    "\n",
    "E = np.eye(4,4)\n",
    "\n",
    "F = np.array([[2,-1,0,3],\n",
    "             [1,0,-2,4],\n",
    "             [-3,2,1,0]])\n",
    "print(\"Matriz A: \",A,sep = \"\\n\")\n",
    "print()\n",
    "print(\"Matriz B: \",B,sep = \"\\n\")\n",
    "print()\n",
    "print(\"Matriz C: \",C,sep = \"\\n\")\n",
    "print()\n",
    "print(\"Matriz D: \",D,sep = \"\\n\")\n",
    "print()\n",
    "print(\"Matriz E: \",E,sep = \"\\n\")\n",
    "print()\n",
    "print(\"Matriz F: \",F,sep = \"\\n\")"
   ]
  },
  {
   "attachments": {
    "image.png": {
     "image/png": "[encoded data removed]"
    }
   },
   "cell_type": "markdown",
   "id": "ff0964d6",
   "metadata": {},
   "source": [
    "#### Realizar las siguientes operaciones: \n",
    "![image.png](attachment:image.png)"
   ]
  },
  {
   "cell_type": "code",
   "execution_count": 35,
   "id": "c2b6eba8",
   "metadata": {},
   "outputs": [
    {
     "data": {
      "text/plain": [
       "array([[ 1, -2, 15],\n",
       "       [-6, -7, -2],\n",
       "       [-1,  8, -9]])"
      ]
     },
     "metadata": {},
     "output_type": "display_data"
    }
   ],
   "source": [
    "# Los valores 2 y 3 serian como escalares, por lo que se aplicarian las propiedades de ellas.\n",
    "\n",
    "res_A = 2*A - 3*B\n",
    "display(res_A)"
   ]
  },
  {
   "attachments": {
    "image.png": {
     "image/png": "[encoded data removed]"
    }
   },
   "cell_type": "markdown",
   "id": "f726b322",
   "metadata": {},
   "source": [
    "![image.png](attachment:image.png)"
   ]
  },
  {
   "cell_type": "code",
   "execution_count": 36,
   "id": "c8dbb96c",
   "metadata": {},
   "outputs": [
    {
     "name": "stdout",
     "output_type": "stream",
     "text": [
      "[[11.58639713 -5.86462714 -3.14355765]\n",
      " [ 5.00578834 17.45272021 23.46020449]\n",
      " [ 9.57961336  0.8588388   4.86293119]]\n"
     ]
    }
   ],
   "source": [
    "res_B = np.log(25)*A - (1/7)*B + np.sqrt(7)*(C - A + B)\n",
    "print(res_B)"
   ]
  },
  {
   "attachments": {
    "image.png": {
     "image/png": "[encoded data removed]"
    }
   },
   "cell_type": "markdown",
   "id": "c8a3a7f3",
   "metadata": {},
   "source": [
    "![image.png](attachment:image.png)"
   ]
  },
  {
   "cell_type": "code",
   "execution_count": 37,
   "id": "7ac9a2e6",
   "metadata": {},
   "outputs": [
    {
     "name": "stdout",
     "output_type": "stream",
     "text": [
      "[[ 5 -3  4]\n",
      " [ 0  5  9]\n",
      " [ 3  3 -1]]\n"
     ]
    }
   ],
   "source": [
    "res_C = A + C\n",
    "print(res_C)"
   ]
  },
  {
   "attachments": {
    "image.png": {
     "image/png": "[encoded data removed]"
    }
   },
   "cell_type": "markdown",
   "id": "b19f2e89",
   "metadata": {},
   "source": [
    "![image.png](attachment:image.png)"
   ]
  },
  {
   "cell_type": "code",
   "execution_count": 38,
   "id": "4c1d7a56",
   "metadata": {},
   "outputs": [
    {
     "name": "stdout",
     "output_type": "stream",
     "text": [
      "[[ -3 -11  -1]\n",
      " [  3  10  31]\n",
      " [  0   5  10]]\n"
     ]
    }
   ],
   "source": [
    "res_D = A @ B\n",
    "print(res_D)"
   ]
  },
  {
   "attachments": {
    "image.png": {
     "image/png": "[encoded data removed]"
    }
   },
   "cell_type": "markdown",
   "id": "b0b21ab5",
   "metadata": {},
   "source": [
    "![image.png](attachment:image.png)"
   ]
  },
  {
   "cell_type": "code",
   "execution_count": 39,
   "id": "81dc2e0f",
   "metadata": {},
   "outputs": [
    {
     "name": "stdout",
     "output_type": "stream",
     "text": [
      "[[ 9  6 -9]\n",
      " [-3 27 -3]\n",
      " [ 0 27  9]]\n"
     ]
    }
   ],
   "source": [
    "res_E = 3*(A+B).T\n",
    "print(res_E)"
   ]
  },
  {
   "attachments": {
    "image.png": {
     "image/png": "[encoded data removed]"
    }
   },
   "cell_type": "markdown",
   "id": "1fc32e0d",
   "metadata": {},
   "source": [
    "![image.png](attachment:image.png)"
   ]
  },
  {
   "cell_type": "code",
   "execution_count": 44,
   "id": "1973f62b",
   "metadata": {},
   "outputs": [
    {
     "name": "stdout",
     "output_type": "stream",
     "text": [
      "El determinante de AxBxC es:  -34560.0\n"
     ]
    }
   ],
   "source": [
    "res_F = A @ B @ C\n",
    "res_det = np.linalg.det(res_F)\n",
    "print(\"El determinante de AxBxC es: \",res_det)"
   ]
  },
  {
   "attachments": {
    "image.png": {
     "image/png": "[encoded data removed]"
    }
   },
   "cell_type": "markdown",
   "id": "77ab3fe3",
   "metadata": {},
   "source": [
    "![image.png](attachment:image.png)"
   ]
  },
  {
   "cell_type": "code",
   "execution_count": 45,
   "id": "4c70e7ff",
   "metadata": {},
   "outputs": [
    {
     "name": "stdout",
     "output_type": "stream",
     "text": [
      "-11550.000000000022\n"
     ]
    }
   ],
   "source": [
    "res_G = (C @ B @ B) + A\n",
    "res_det_G = np.linalg.det(res_G)\n",
    "print(res_det_G)"
   ]
  },
  {
   "cell_type": "code",
   "execution_count": 47,
   "id": "1fd8f183",
   "metadata": {},
   "outputs": [
    {
     "name": "stdout",
     "output_type": "stream",
     "text": [
      "-11550.000000000022\n"
     ]
    }
   ],
   "source": [
    "# Otra manera\n",
    "B_Cuadrada = B @ B\n",
    "res_F = C @ B_Cuadrada\n",
    "res_F_sum = res_F + A\n",
    "res_final = np.linalg.det(res_F_sum)\n",
    "print(res_final)"
   ]
  },
  {
   "attachments": {
    "image.png": {
     "image/png": "[encoded data removed]"
    }
   },
   "cell_type": "markdown",
   "id": "286a443a",
   "metadata": {},
   "source": [
    "![image.png](attachment:image.png)"
   ]
  },
  {
   "cell_type": "code",
   "execution_count": 48,
   "id": "7861b1a3",
   "metadata": {},
   "outputs": [
    {
     "name": "stdout",
     "output_type": "stream",
     "text": [
      "[[ 18   8 -21]\n",
      " [ 12  27  24]\n",
      " [  5   6  12]]\n"
     ]
    }
   ],
   "source": [
    "res_H = (A - C).T\n",
    "res_H_1 = (B + A)\n",
    "res_H_tot = res_H @ res_H_1\n",
    "print(res_H_tot)"
   ]
  },
  {
   "cell_type": "code",
   "execution_count": 49,
   "id": "8c15007c",
   "metadata": {},
   "outputs": [
    {
     "name": "stdout",
     "output_type": "stream",
     "text": [
      "[[ 18   8 -21]\n",
      " [ 12  27  24]\n",
      " [  5   6  12]]\n"
     ]
    }
   ],
   "source": [
    "res_H_new = ((A-C).T @ (B+A))\n",
    "print(res_H_new)"
   ]
  },
  {
   "attachments": {
    "image.png": {
     "image/png": "[encoded data removed]"
    }
   },
   "cell_type": "markdown",
   "id": "896f32ef",
   "metadata": {},
   "source": [
    "![image.png](attachment:image.png)"
   ]
  },
  {
   "cell_type": "code",
   "execution_count": 56,
   "id": "e7e97c9a",
   "metadata": {},
   "outputs": [
    {
     "name": "stdout",
     "output_type": "stream",
     "text": [
      "[[ 112.  113.  360.  -34.]\n",
      " [ 607. -507.    9.  561.]\n",
      " [   6.  246. -372.  233.]\n",
      " [   0.  -11.  295. -141.]]\n"
     ]
    }
   ],
   "source": [
    "res_I = (D @ D @ D @ D) @ E\n",
    "print(res_I)"
   ]
  },
  {
   "attachments": {
    "image.png": {
     "image/png": "[encoded data removed]"
    }
   },
   "cell_type": "markdown",
   "id": "eb527aad",
   "metadata": {},
   "source": [
    "![image.png](attachment:image.png)"
   ]
  },
  {
   "cell_type": "code",
   "execution_count": 58,
   "id": "2565289e",
   "metadata": {},
   "outputs": [
    {
     "name": "stdout",
     "output_type": "stream",
     "text": [
      "[[  7  -1  -9]\n",
      " [  1   9   3]\n",
      " [ -8 -10  13]\n",
      " [ 13   8 -11]]\n"
     ]
    }
   ],
   "source": [
    "res_J = (F @ D).T\n",
    "print(res_J)"
   ]
  },
  {
   "attachments": {
    "image.png": {
     "image/png": "[encoded data removed]"
    }
   },
   "cell_type": "markdown",
   "id": "adb38795",
   "metadata": {},
   "source": [
    "![image.png](attachment:image.png)"
   ]
  },
  {
   "cell_type": "code",
   "execution_count": 59,
   "id": "c479bb9c",
   "metadata": {},
   "outputs": [
    {
     "name": "stdout",
     "output_type": "stream",
     "text": [
      "[[ 1. -2.  4.  0.]\n",
      " [ 2.  3. -4.  2.]\n",
      " [ 0. 10.  1. -2.]\n",
      " [ 4. -6.  2. -1.]]\n"
     ]
    }
   ],
   "source": [
    "res_K = (2*D - 5*E).T\n",
    "print(res_K)"
   ]
  },
  {
   "attachments": {
    "image.png": {
     "image/png": "[encoded data removed]"
    }
   },
   "cell_type": "markdown",
   "id": "767fd3cf",
   "metadata": {},
   "source": [
    "![image.png](attachment:image.png)"
   ]
  },
  {
   "cell_type": "code",
   "execution_count": 60,
   "id": "5759f273",
   "metadata": {},
   "outputs": [
    {
     "name": "stdout",
     "output_type": "stream",
     "text": [
      "[[  5.   2.  -8.  10.]\n",
      " [ -2.   9.  -8.   4.]\n",
      " [ -6.   1.  12. -11.]]\n"
     ]
    }
   ],
   "source": [
    "res_L = F @ (D - E)\n",
    "print(res_L)"
   ]
  },
  {
   "attachments": {
    "image.png": {
     "image/png": "[encoded data removed]"
    }
   },
   "cell_type": "markdown",
   "id": "12b4df64",
   "metadata": {},
   "source": [
    "![image.png](attachment:image.png)"
   ]
  },
  {
   "cell_type": "code",
   "execution_count": 62,
   "id": "cb77f914",
   "metadata": {},
   "outputs": [
    {
     "name": "stdout",
     "output_type": "stream",
     "text": [
      "3\n"
     ]
    }
   ],
   "source": [
    "res_M = (D - E) @ (F @ D).T\n",
    "res_M_tot = np.linalg.matrix_rank(res_M)\n",
    "print(res_M_tot)"
   ]
  },
  {
   "cell_type": "markdown",
   "id": "20e256f1",
   "metadata": {},
   "source": [
    "### Ejercicio N° 2"
   ]
  },
  {
   "attachments": {
    "image.png": {
     "image/png": "[encoded data removed]"
    }
   },
   "cell_type": "markdown",
   "id": "b7930787",
   "metadata": {},
   "source": [
    "![image.png](attachment:image.png)"
   ]
  },
  {
   "cell_type": "code",
   "execution_count": 66,
   "id": "1b0cb963",
   "metadata": {},
   "outputs": [
    {
     "name": "stdout",
     "output_type": "stream",
     "text": [
      "Matriz A: \n",
      "[[19.08102761 12.80254619  6.98244402 17.14766802 16.28355021 18.17114279]\n",
      " [ 5.1268297  11.55430629 17.34574419 14.13534674 15.01032539 19.33292685]\n",
      " [15.01456248 19.72316243 17.06622445 14.33185752  9.22653032 11.44025227]\n",
      " [13.31783208 12.76261243 15.19599607  8.9404097   7.75218206 14.96483651]\n",
      " [ 6.5195776   8.84210144 11.37029798  8.10837256 15.80787401  7.34319522]\n",
      " [16.87716891 18.91682657 14.35111726 14.83339754  7.28297443 16.96045943]]\n",
      "\n",
      "Matriz B: \n",
      "[[16.41785603 13.06308468 11.86029674 12.05360693 14.24693734 17.07269408]\n",
      " [ 6.56091147 11.91428974  6.52333044 12.2798338  17.89789605 10.03414819]\n",
      " [17.10970464  7.19806323 15.76493501 10.59700809 17.92206416 10.94186885]\n",
      " [10.36187782  6.51792949 16.07748804 18.07681574 19.81911191 17.81891434]\n",
      " [16.45555418 16.31050585 12.83522503 14.32484954 15.32037174 15.70042984]\n",
      " [ 8.73300814 13.05264668 12.29747895  7.28190213  6.48838274  7.52714165]]\n",
      "\n",
      "Matriz C: \n",
      "[[-0.55963705  0.06778684  1.53584795  0.28802773  1.85820618]\n",
      " [-1.72541069  0.04175665 -0.4009878  -1.62073309 -0.55812417]\n",
      " [ 1.22035576 -0.88640308 -0.58294982  0.37498094  1.03113648]\n",
      " [ 0.42625215 -0.35219128 -1.55230573 -1.01895921  0.36799794]\n",
      " [ 0.59989532  0.73493593 -0.39675633  1.10343915  0.08206639]\n",
      " [-0.80582261 -0.00527184  0.30635727 -0.29566547 -0.46476386]]\n",
      "\n",
      "Matriz D: \n",
      "[[ 0.05838829  0.0965567   0.02606396  0.82963156 -2.41869344 -0.52083809]\n",
      " [-0.95914237  0.65597396  1.51150533 -1.28555071 -0.69934816 -0.8887137 ]\n",
      " [ 1.34941707 -1.97802635  0.50870165  0.3604456  -0.21410012 -0.16901965]\n",
      " [-0.19152074 -0.05913119 -1.20796025  0.67371669 -0.62926569  0.93966218]\n",
      " [-1.21683038 -2.03410943 -0.36685908 -0.58032037 -1.58996771 -1.05035104]]\n",
      "\n",
      "Matriz E: \n",
      "[[34.00905859 43.06136294 26.54958123 19.2695336  31.07024189 49.06010098\n",
      "  16.53391744]\n",
      " [21.2424007  33.51900598 26.16693714 49.37469511 31.52815215 10.38469579\n",
      "  10.7790518 ]\n",
      " [23.83986379 37.65919736 39.01978172 38.15895925 16.87742698 26.91016488\n",
      "  25.52493026]\n",
      " [11.62927808 29.98429637 16.45977255 25.48720682 45.800873   33.87398666\n",
      "  32.81372049]\n",
      " [42.07402463 35.99011161 41.98259678 42.27843688 15.83169518 14.73763936\n",
      "  37.96652695]\n",
      " [13.74801734 27.56328096 45.85762669 15.59806185 47.60416518 10.63926432\n",
      "  20.92555521]\n",
      " [19.7290159  23.22878317 39.71113893 18.584186   35.4675018  26.68542945\n",
      "  27.65380687]]\n",
      "\n",
      "Matriz F: \n",
      "[[21.65562118 17.39901192 47.35849303 26.14397162 16.75399536 22.3649365\n",
      "  45.44189873]\n",
      " [35.49805109 27.58647172 15.75371981 14.46237284 28.34701354 30.9476224\n",
      "  29.4626027 ]\n",
      " [15.12662653 15.22166366 14.4257716  26.11044347 35.06931855 37.97833157\n",
      "  46.89173735]\n",
      " [21.42309499 36.96442253 36.57631045 23.66608674 28.4001716  10.59039139\n",
      "  26.48835216]\n",
      " [38.819958   10.26193108 49.47920567 42.60766241 17.49989299 36.86795965\n",
      "  11.00633224]\n",
      " [21.75403121 30.51017216 30.14857704 44.0931459  34.82866262 31.73249255\n",
      "  38.26938299]\n",
      " [27.12724415 21.5712445  14.96875352 22.81808318 17.41854126 29.74639465\n",
      "  17.48286633]]\n"
     ]
    }
   ],
   "source": [
    "A = np.random.uniform(5,20, size = (6,6))\n",
    "B = np.random.uniform(5,20,size = (6,6))\n",
    "C = np.random.randn(6,5)\n",
    "D = np.random.randn(5,6)\n",
    "E = np.random.uniform(10,50,size = (7,7))\n",
    "F = np.random.uniform(10,50, size = (7,7))\n",
    "\n",
    "print(\"Matriz A: \",A, sep = \"\\n\")\n",
    "print()\n",
    "print(\"Matriz B: \",B, sep = \"\\n\")\n",
    "print()\n",
    "print(\"Matriz C: \",C, sep = \"\\n\")\n",
    "print()\n",
    "print(\"Matriz D: \",D, sep = \"\\n\")\n",
    "print()\n",
    "print(\"Matriz E: \",E, sep = \"\\n\")\n",
    "print()\n",
    "print(\"Matriz F: \",F, sep = \"\\n\")"
   ]
  },
  {
   "cell_type": "markdown",
   "id": "2b872332",
   "metadata": {},
   "source": [
    "### Realiza las siguientes operaciones"
   ]
  },
  {
   "attachments": {
    "image.png": {
     "image/png": "[encoded data removed]"
    }
   },
   "cell_type": "markdown",
   "id": "0b4a13a8",
   "metadata": {},
   "source": [
    "![image.png](attachment:image.png)"
   ]
  },
  {
   "cell_type": "code",
   "execution_count": 67,
   "id": "54299a5e",
   "metadata": {},
   "outputs": [
    {
     "name": "stdout",
     "output_type": "stream",
     "text": [
      "[[35.49888364 25.86563087 18.84274076 29.20127495 30.53048755 35.24383687]\n",
      " [11.68774117 23.46859603 23.86907464 26.41518054 32.90822144 29.36707504]\n",
      " [32.12426711 26.92122566 32.83115946 24.92886562 27.14859448 22.38212112]\n",
      " [23.6797099  19.28054192 31.2734841  27.01722543 27.57129397 32.78375084]\n",
      " [22.97513179 25.15260729 24.20552301 22.4332221  31.12824576 23.04362506]\n",
      " [25.61017705 31.96947325 26.64859621 22.11529966 13.77135717 24.48760109]]\n"
     ]
    }
   ],
   "source": [
    "res_A = A + B\n",
    "print(res_A)"
   ]
  },
  {
   "cell_type": "code",
   "execution_count": null,
   "id": "120cfc2f",
   "metadata": {},
   "outputs": [],
   "source": []
  }
 ],
 "metadata": {
  "kernelspec": {
   "display_name": "Python 3",
   "language": "python",
   "name": "python3"
  },
  "language_info": {
   "codemirror_mode": {
    "name": "ipython",
    "version": 3
   },
   "file_extension": ".py",
   "mimetype": "text/x-python",
   "name": "python",
   "nbconvert_exporter": "python",
   "pygments_lexer": "ipython3",
   "version": "3.8.8"
  }
 },
 "nbformat": 4,
 "nbformat_minor": 5
}
