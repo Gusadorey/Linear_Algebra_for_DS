{
 "cells": [
  {
   "cell_type": "markdown",
   "id": "95ecf96e",
   "metadata": {},
   "source": [
    "# **SESIÓN 01**\n",
    "# **INTRODUCCIÓN AL ÁLGEBRA LINEAL**\n",
    "## **ESPECIALIZACIÓN: MATEMÁTICA Y ESTADÍSTICA PARA CIENCIA DE DATOS**\n",
    "## **MÓDULO 1: FUNDAMENTOS MATEMÁTICOS PARA CIENCIAS DE DATOS**"
   ]
  },
  {
   "cell_type": "markdown",
   "id": "2328c044",
   "metadata": {},
   "source": [
    "### **Docente**: Mg. Leonel Heredia Altamirano"
   ]
  },
  {
   "cell_type": "markdown",
   "id": "f89534a8",
   "metadata": {},
   "source": [
    "# **SECCIÓN 1: MATRICES**"
   ]
  },
  {
   "cell_type": "markdown",
   "id": "c195bc1f",
   "metadata": {},
   "source": [
    "# **I.- Especificación de matrices**"
   ]
  },
  {
   "cell_type": "markdown",
   "id": "eaca1a44",
   "metadata": {},
   "source": [
    "Se desea declarar la siguiente matriz: \n",
    "$$A=\\begin{pmatrix}6&5&4&1.2\\\\ 6&4&7&7\\\\ 8&2.5&1.15&6\\\\ 4&5&7&3\\end{pmatrix}$$"
   ]
  },
  {
   "cell_type": "code",
   "execution_count": null,
   "id": "6baaac5f",
   "metadata": {},
   "outputs": [],
   "source": [
    "import numpy as np\n",
    "np.set_printoptions(formatter={'float': lambda x: \"{0:0.4f}\".format(x)})\n",
    "\n",
    "A = np.array([[6, 5, 4, 1.2],\n",
    "              [6, 4, 7, 7],\n",
    "              [8, 2.5, 1.15, 6],\n",
    "              [4, 5, 7, 3]])\n",
    "print(\"La matriz A es: \")\n",
    "print(A)"
   ]
  },
  {
   "cell_type": "markdown",
   "id": "4ba9c319",
   "metadata": {},
   "source": [
    "Para una matriz de orden 2 $\\times$ 3:\n",
    "$$B=\\begin{pmatrix}5&\\sqrt{7}&e^2\\\\ 7&-\\frac{1}{7}&6\\end{pmatrix}$$"
   ]
  },
  {
   "cell_type": "code",
   "execution_count": null,
   "id": "1daef30b",
   "metadata": {},
   "outputs": [],
   "source": [
    "B = np.array([[5, np.sqrt(7), np.exp(2)],\n",
    "              [7, -1/7, 6]])\n",
    "print(\"La matriz B es: \")\n",
    "print(B)"
   ]
  },
  {
   "cell_type": "markdown",
   "id": "b0860ce9",
   "metadata": {},
   "source": [
    "Para un vector columna (matriz con una columna):\n",
    "$$C=\\begin{pmatrix}8\\\\ \\sqrt[5]{6}\\\\ \\frac{1}{2}\\\\ -7\\\\ 4\\\\ 3.5\\\\ ln15\\end{pmatrix}$$"
   ]
  },
  {
   "cell_type": "code",
   "execution_count": 1,
   "id": "24794038",
   "metadata": {},
   "outputs": [
    {
     "ename": "NameError",
     "evalue": "name 'np' is not defined",
     "output_type": "error",
     "traceback": [
      "\u001b[1;31m---------------------------------------------------------------------------\u001b[0m",
      "\u001b[1;31mNameError\u001b[0m                                 Traceback (most recent call last)",
      "\u001b[1;32m<ipython-input-1-d2daf773b097>\u001b[0m in \u001b[0;36m<module>\u001b[1;34m\u001b[0m\n\u001b[1;32m----> 1\u001b[1;33m C = np.array([[8], \n\u001b[0m\u001b[0;32m      2\u001b[0m               \u001b[1;33m[\u001b[0m\u001b[1;36m6\u001b[0m\u001b[1;33m**\u001b[0m\u001b[1;33m(\u001b[0m\u001b[1;36m1\u001b[0m\u001b[1;33m/\u001b[0m\u001b[1;36m5\u001b[0m\u001b[1;33m)\u001b[0m\u001b[1;33m]\u001b[0m\u001b[1;33m,\u001b[0m\u001b[1;33m\u001b[0m\u001b[1;33m\u001b[0m\u001b[0m\n\u001b[0;32m      3\u001b[0m               \u001b[1;33m[\u001b[0m\u001b[1;36m1\u001b[0m\u001b[1;33m/\u001b[0m\u001b[1;36m2\u001b[0m\u001b[1;33m]\u001b[0m\u001b[1;33m,\u001b[0m\u001b[1;33m\u001b[0m\u001b[1;33m\u001b[0m\u001b[0m\n\u001b[0;32m      4\u001b[0m               \u001b[1;33m[\u001b[0m\u001b[1;33m-\u001b[0m\u001b[1;36m7\u001b[0m\u001b[1;33m]\u001b[0m\u001b[1;33m,\u001b[0m\u001b[1;33m\u001b[0m\u001b[1;33m\u001b[0m\u001b[0m\n\u001b[0;32m      5\u001b[0m               \u001b[1;33m[\u001b[0m\u001b[1;36m4\u001b[0m\u001b[1;33m]\u001b[0m\u001b[1;33m,\u001b[0m\u001b[1;33m\u001b[0m\u001b[1;33m\u001b[0m\u001b[0m\n",
      "\u001b[1;31mNameError\u001b[0m: name 'np' is not defined"
     ]
    }
   ],
   "source": [
    "C = np.array([[8], \n",
    "              [6**(1/5)], \n",
    "              [1/2], \n",
    "              [-7], \n",
    "              [4], \n",
    "              [3.5], \n",
    "              [np.log(15)]])\n",
    "print(\"La matriz C es: \")\n",
    "print(C)"
   ]
  },
  {
   "cell_type": "markdown",
   "id": "7973de53",
   "metadata": {},
   "source": [
    "Para un vector fila (matriz con una fila):\n",
    "$$D=\\begin{pmatrix}\\sqrt{21}&\\sqrt[7]{20}&\\frac{1}{\\sqrt[9]{3}}&ln8&7.361&e^{-6}&\\frac{1}{2}&3\\end{pmatrix}$$"
   ]
  },
  {
   "cell_type": "code",
   "execution_count": null,
   "id": "4ba90785",
   "metadata": {},
   "outputs": [],
   "source": [
    "D = np.array([[np.sqrt(21), \n",
    "               20**(1/7), \n",
    "               3**(-1/9), \n",
    "               np.log(8), \n",
    "               7.361, \n",
    "               np.exp(-6), \n",
    "               1/2, \n",
    "               3]])\n",
    "\n",
    "print(\"La matriz D es: \")\n",
    "print(D)"
   ]
  },
  {
   "cell_type": "markdown",
   "id": "0274cd1f",
   "metadata": {},
   "source": [
    "# **II.- Matrices especiales**"
   ]
  },
  {
   "cell_type": "markdown",
   "id": "774a61f6",
   "metadata": {},
   "source": [
    "## **a) Matriz cuadrada**"
   ]
  },
  {
   "cell_type": "markdown",
   "id": "cf15ce22",
   "metadata": {},
   "source": [
    "Crear una matriz cuadrada de orden 6 con números aleatorios"
   ]
  },
  {
   "cell_type": "code",
   "execution_count": null,
   "id": "3085b86e",
   "metadata": {},
   "outputs": [],
   "source": [
    "import pandas as pd\n",
    "np.random.seed(123)\n",
    "A = np.random.randn(6, 6)\n",
    "A = pd.DataFrame(A)\n",
    "print(A)"
   ]
  },
  {
   "cell_type": "markdown",
   "id": "6697fc78",
   "metadata": {},
   "source": [
    "## **b) Matriz diagonal**"
   ]
  },
  {
   "cell_type": "markdown",
   "id": "aa913daa",
   "metadata": {},
   "source": [
    "Crear una matriz diagonal de orden 4 con números aleatorios con distribución $N(\\mu=6,\\sigma=1.75)$"
   ]
  },
  {
   "cell_type": "code",
   "execution_count": null,
   "id": "f6c2dcaa",
   "metadata": {},
   "outputs": [],
   "source": [
    "np.random.seed(123)\n",
    "random_numbers = np.random.normal(6, 1.75, 4)\n",
    "C = np.diag(random_numbers)\n",
    "C = pd.DataFrame(C)\n",
    "print(C)"
   ]
  },
  {
   "cell_type": "markdown",
   "id": "684585b6",
   "metadata": {},
   "source": [
    "## **c) Matriz Identidad**"
   ]
  },
  {
   "cell_type": "markdown",
   "id": "5f86bec7",
   "metadata": {},
   "source": [
    "Crear una matriz identidad de orden 5"
   ]
  },
  {
   "cell_type": "code",
   "execution_count": null,
   "id": "b36549d2",
   "metadata": {},
   "outputs": [],
   "source": [
    "D = np.eye(5)\n",
    "print(D)"
   ]
  },
  {
   "cell_type": "markdown",
   "id": "b4b0a11f",
   "metadata": {},
   "source": [
    "## **d) Matriz nula**"
   ]
  },
  {
   "cell_type": "markdown",
   "id": "2dc995ee",
   "metadata": {},
   "source": [
    "Crear una matriz nula de orden 15 $\\times$ 7"
   ]
  },
  {
   "cell_type": "code",
   "execution_count": null,
   "id": "cb181d0c",
   "metadata": {},
   "outputs": [],
   "source": [
    "E= np.zeros((15, 7))\n",
    "print(E)"
   ]
  },
  {
   "cell_type": "markdown",
   "id": "bc609912",
   "metadata": {},
   "source": [
    "## **e) Matriz triangular superior**"
   ]
  },
  {
   "cell_type": "markdown",
   "id": "1deb307e",
   "metadata": {},
   "source": [
    "Crear una matriz triangular superior de orden 5"
   ]
  },
  {
   "cell_type": "code",
   "execution_count": null,
   "id": "487a5b07",
   "metadata": {},
   "outputs": [],
   "source": [
    "triangular_upper_matrix = np.triu(np.random.rand(5, 5))\n",
    "G = pd.DataFrame(triangular_upper_matrix)\n",
    "print(G)"
   ]
  },
  {
   "cell_type": "markdown",
   "id": "40896c0b",
   "metadata": {},
   "source": [
    "## **f) Matriz triangular inferior**"
   ]
  },
  {
   "cell_type": "markdown",
   "id": "8976903d",
   "metadata": {},
   "source": [
    "Crear una matriz triangular inferior de orden 5"
   ]
  },
  {
   "cell_type": "code",
   "execution_count": null,
   "id": "882b1462",
   "metadata": {},
   "outputs": [],
   "source": [
    "triangular_lower_matrix = np.tril(np.random.rand(5, 5))\n",
    "G = pd.DataFrame(triangular_lower_matrix)\n",
    "print(G)"
   ]
  },
  {
   "cell_type": "markdown",
   "id": "79d2fa99",
   "metadata": {},
   "source": [
    "## **g) Matriz transpuesta**"
   ]
  },
  {
   "cell_type": "markdown",
   "id": "7e22814b",
   "metadata": {},
   "source": [
    "Si creamos una matriz de orden 3 $\\times$ 6"
   ]
  },
  {
   "cell_type": "code",
   "execution_count": null,
   "id": "7b3966b5",
   "metadata": {},
   "outputs": [],
   "source": [
    "np.random.seed(123)\n",
    "A = np.random.normal(3, 0.2, size=(3, 6))\n",
    "A = pd.DataFrame(A)\n",
    "print(A)"
   ]
  },
  {
   "cell_type": "markdown",
   "id": "c2389855",
   "metadata": {},
   "source": [
    "La transpuesta es:"
   ]
  },
  {
   "cell_type": "code",
   "execution_count": null,
   "id": "a68b711a",
   "metadata": {
    "scrolled": true
   },
   "outputs": [],
   "source": [
    "print(A.T)"
   ]
  },
  {
   "cell_type": "markdown",
   "id": "edd104b8",
   "metadata": {},
   "source": [
    "### **Propiedades**"
   ]
  },
  {
   "cell_type": "code",
   "execution_count": null,
   "id": "bc6413c5",
   "metadata": {},
   "outputs": [],
   "source": [
    "# Definir el tamaño de la matriz (ejemplo: 5x5)\n",
    "n = 6\n",
    "\n",
    "# Generar matrices aleatorias A y B con decimales entre -10 y 10\n",
    "A = np.random.uniform(-10, 10, (n, n))\n",
    "print(\"===============================\")\n",
    "print(\"Matriz A\")\n",
    "print(\"===============================\")\n",
    "print(A)\n",
    "\n",
    "B = np.random.uniform(-10, 10, (n, n))\n",
    "print(\"Matriz B\")\n",
    "print(\"===============================\")\n",
    "print(B)\n",
    "\n",
    "# Crear un escalar aleatorio λ con decimales\n",
    "lamb = np.random.uniform(1, 10)\n",
    "print(\"El escalar es: \", lamb)"
   ]
  },
  {
   "cell_type": "code",
   "execution_count": null,
   "id": "223fc0b8",
   "metadata": {},
   "outputs": [],
   "source": [
    "# Propiedad 1: (A⁻¹)ᵗ = (Aᵗ)⁻¹ (Solo si A es invertible)\n",
    "if np.linalg.det(A) != 0:\n",
    "    A_inv_T = np.linalg.inv(A).T\n",
    "    A_T_inv = np.linalg.inv(A.T)\n",
    "    print(\"Propiedad 1:\", np.allclose(A_inv_T, A_T_inv))\n",
    "else:\n",
    "    print(\"Propiedad 1: No se puede calcular porque A no es invertible\")\n",
    "\n",
    "print(\"============================\")\n",
    "print(\"(A⁻¹)ᵗ\")\n",
    "print(\"============================\")\n",
    "print(A_inv_T)\n",
    "\n",
    "print(\"============================\")\n",
    "print(\"(Aᵗ)⁻¹\")\n",
    "print(\"============================\")\n",
    "print(A_T_inv)"
   ]
  },
  {
   "cell_type": "code",
   "execution_count": null,
   "id": "6bf97679",
   "metadata": {},
   "outputs": [],
   "source": [
    "# Propiedad 2: (A + B)ᵗ = Aᵗ + Bᵗ\n",
    "sum_T = (A + B).T\n",
    "T_sum = A.T + B.T\n",
    "print(\"Propiedad 2:\", np.allclose(sum_T, T_sum))\n",
    "\n",
    "print(\"============================\")\n",
    "print(\"(A + B)ᵗ\")\n",
    "print(\"============================\")\n",
    "print(sum_T)\n",
    "\n",
    "print(\"============================\")\n",
    "print(\"Aᵗ + Bᵗ\")\n",
    "print(\"============================\")\n",
    "print(T_sum)"
   ]
  },
  {
   "cell_type": "code",
   "execution_count": null,
   "id": "cf92ca9c",
   "metadata": {},
   "outputs": [],
   "source": [
    "# Propiedad 3: (λA)ᵗ = λ Aᵗ\n",
    "scalar_T = (lamb * A).T\n",
    "T_scalar = lamb * A.T\n",
    "print(\"Propiedad 3:\", np.allclose(scalar_T, T_scalar))\n",
    "\n",
    "print(\"============================\")\n",
    "print(\"(λA)ᵗ\")\n",
    "print(\"============================\")\n",
    "print(scalar_T)\n",
    "\n",
    "print(\"============================\")\n",
    "print(\"λ Aᵗ\")\n",
    "print(\"============================\")\n",
    "print(T_scalar)"
   ]
  },
  {
   "cell_type": "code",
   "execution_count": null,
   "id": "4a4d431f",
   "metadata": {},
   "outputs": [],
   "source": [
    "# Propiedad 4: (AB)ᵗ = Bᵗ Aᵗ\n",
    "AB_T = (A @ B).T\n",
    "T_B_T_A = B.T @ A.T\n",
    "print(\"Propiedad 4:\", np.allclose(AB_T, T_B_T_A))\n",
    "\n",
    "print(\"============================\")\n",
    "print(\"(AB)ᵗ\")\n",
    "print(\"============================\")\n",
    "print(AB_T)\n",
    "\n",
    "print(\"============================\")\n",
    "print(\"Bᵗ Aᵗ\")\n",
    "print(\"============================\")\n",
    "print(T_B_T_A)"
   ]
  },
  {
   "cell_type": "markdown",
   "id": "3a33f925",
   "metadata": {},
   "source": [
    "## h) Traza de una matriz"
   ]
  },
  {
   "cell_type": "code",
   "execution_count": null,
   "id": "8dbe4d4e",
   "metadata": {},
   "outputs": [],
   "source": [
    "A = np.random.normal(size=(7, 7))\n",
    "A = pd.DataFrame(A)\n",
    "print(A)"
   ]
  },
  {
   "cell_type": "code",
   "execution_count": null,
   "id": "8cdb445f",
   "metadata": {},
   "outputs": [],
   "source": [
    "# Calcular la traza de la matriz\n",
    "trace = np.trace(A)\n",
    "print(\"Traza de la matriz:\", trace)"
   ]
  },
  {
   "cell_type": "code",
   "execution_count": null,
   "id": "c3447419",
   "metadata": {},
   "outputs": [],
   "source": [
    "import numpy as np\n",
    "\n",
    "# Semilla para reproducibilidad\n",
    "np.random.seed(42)\n",
    "\n",
    "# Matrices aleatorias de 4x4 con valores enteros entre -10 y 10\n",
    "A = np.random.randint(-10, 11, (4, 4))\n",
    "B = np.random.randint(-10, 11, (4, 4))\n",
    "C = np.random.randint(-10, 11, (4, 4))\n",
    "alpha = 5\n",
    "\n",
    "print(\"Matriz A:\\n\", A)\n",
    "print(\"Matriz B:\\n\", B)\n",
    "print(\"Matriz C:\\n\", C)\n",
    "print()"
   ]
  },
  {
   "cell_type": "code",
   "execution_count": null,
   "id": "0ccb3159",
   "metadata": {},
   "outputs": [],
   "source": [
    "# 1. Linealidad\n",
    "print(\"Propiedad 1: Linealidad\")\n",
    "print(\"tr(A + B):\", np.trace(A + B))\n",
    "print(\"tr(A) + tr(B):\", np.trace(A) + np.trace(B))\n",
    "print(\"tr(alpha * A):\", np.trace(alpha * A))\n",
    "print(\"alpha * tr(A):\", alpha * np.trace(A))\n",
    "print()"
   ]
  },
  {
   "cell_type": "code",
   "execution_count": null,
   "id": "3627216b",
   "metadata": {},
   "outputs": [],
   "source": [
    "# 2. Invariancia bajo transposición\n",
    "print(\"Propiedad 2: Invariancia bajo transposición\")\n",
    "print(\"tr(A):\", np.trace(A))\n",
    "print(\"tr(A.T):\", np.trace(A.T))\n",
    "print()"
   ]
  },
  {
   "cell_type": "code",
   "execution_count": null,
   "id": "731e46a8",
   "metadata": {},
   "outputs": [],
   "source": [
    "# 3. Relación con el producto de matrices\n",
    "print(\"Propiedad 3: tr(AB) = tr(BA)\")\n",
    "AB = A @ B\n",
    "BA = B @ A\n",
    "print(\"tr(AB):\", np.trace(AB))\n",
    "print(\"tr(BA):\", np.trace(BA))\n",
    "print()"
   ]
  },
  {
   "cell_type": "code",
   "execution_count": null,
   "id": "dcec2ef5",
   "metadata": {},
   "outputs": [],
   "source": [
    "# 4. Propiedad cíclica\n",
    "print(\"Propiedad 4: Ciclidad de la traza\")\n",
    "ABC = A @ B @ C\n",
    "BCA = B @ C @ A\n",
    "CAB = C @ A @ B\n",
    "print(\"tr(ABC):\", np.trace(ABC))\n",
    "print(\"tr(BCA):\", np.trace(BCA))\n",
    "print(\"tr(CAB):\", np.trace(CAB))\n",
    "print()"
   ]
  },
  {
   "cell_type": "code",
   "execution_count": null,
   "id": "092c01d7",
   "metadata": {},
   "outputs": [],
   "source": [
    "# 5. Matriz diagonal\n",
    "print(\"Propiedad 5: Matriz diagonal\")\n",
    "D = np.diag(np.random.randint(1, 21, 4))\n",
    "print(\"Matriz diagonal D:\\n\", D)\n",
    "print(\"tr(D):\", np.trace(D))\n",
    "print(\"Suma de los elementos diagonales:\", np.sum(np.diag(D)))"
   ]
  },
  {
   "cell_type": "markdown",
   "id": "1cba1e61",
   "metadata": {},
   "source": [
    "# **IV.- Suma de matrices**"
   ]
  },
  {
   "cell_type": "markdown",
   "id": "48018705",
   "metadata": {},
   "source": [
    "Se crean 2 matrices de orden 6 $\\times$ 5 : "
   ]
  },
  {
   "cell_type": "code",
   "execution_count": null,
   "id": "5aac4ad3",
   "metadata": {},
   "outputs": [],
   "source": [
    "A = np.random.randn(6, 5)\n",
    "print(\"Matriz A:\")\n",
    "print(A)"
   ]
  },
  {
   "cell_type": "code",
   "execution_count": null,
   "id": "df6e16c5",
   "metadata": {
    "scrolled": true
   },
   "outputs": [],
   "source": [
    "B = np.random.normal(5, 2, size=(6, 5))\n",
    "print(\"\\nMatriz B:\")\n",
    "print(B)"
   ]
  },
  {
   "cell_type": "markdown",
   "id": "ae59099e",
   "metadata": {},
   "source": [
    "La suma de matrices se define como: "
   ]
  },
  {
   "cell_type": "code",
   "execution_count": null,
   "id": "e6e72179",
   "metadata": {},
   "outputs": [],
   "source": [
    "print(\"Suma de matrices: \")\n",
    "print(A+B)"
   ]
  },
  {
   "cell_type": "markdown",
   "id": "b001b9cf",
   "metadata": {},
   "source": [
    "# **V.- Producto de un escalar por una matriz**"
   ]
  },
  {
   "cell_type": "markdown",
   "id": "74418d1d",
   "metadata": {},
   "source": [
    "Se define una matriz de orden 8 $\\times$ 5:"
   ]
  },
  {
   "cell_type": "code",
   "execution_count": null,
   "id": "ce34531b",
   "metadata": {},
   "outputs": [],
   "source": [
    "C = np.random.normal(size=(8, 5))\n",
    "C = pd.DataFrame(C)\n",
    "print(\"\\nMatriz C:\")\n",
    "print(C)"
   ]
  },
  {
   "cell_type": "markdown",
   "id": "4fdad0c5",
   "metadata": {},
   "source": [
    "Si se desea calcular: $\\sqrt{7}\\left[C\\right]_{8\\times 5}$"
   ]
  },
  {
   "cell_type": "code",
   "execution_count": null,
   "id": "a2063bbf",
   "metadata": {},
   "outputs": [],
   "source": [
    "print(\"Matriz resultado: \")\n",
    "print(np.sqrt(7)*C)"
   ]
  },
  {
   "cell_type": "code",
   "execution_count": null,
   "id": "cadd325f",
   "metadata": {},
   "outputs": [],
   "source": [
    "print(\"¿Son iguales?: \", np.allclose(C[0:0],np.sqrt(7)*C[0:0]))"
   ]
  },
  {
   "cell_type": "markdown",
   "id": "c223c46c",
   "metadata": {},
   "source": [
    "Si se definen dos matrices de orden 7 $\\times$ 4:"
   ]
  },
  {
   "cell_type": "code",
   "execution_count": null,
   "id": "c391458f",
   "metadata": {},
   "outputs": [],
   "source": [
    "A = np.random.uniform(10, 21, size=(7, 4))\n",
    "print(\"Matriz A:\")\n",
    "print(A)"
   ]
  },
  {
   "cell_type": "code",
   "execution_count": null,
   "id": "6b0c4af8",
   "metadata": {},
   "outputs": [],
   "source": [
    "B = np.random.uniform(14, 26, size=(7, 4))\n",
    "print(\"\\nMatriz B:\")\n",
    "print(B)"
   ]
  },
  {
   "cell_type": "markdown",
   "id": "9eca43e6",
   "metadata": {},
   "source": [
    "Se desea calcular la matriz: $P=2.35\\cdot A+ln13\\cdot B$"
   ]
  },
  {
   "cell_type": "code",
   "execution_count": null,
   "id": "181cf631",
   "metadata": {},
   "outputs": [],
   "source": [
    "print(2.35*A)"
   ]
  },
  {
   "cell_type": "code",
   "execution_count": null,
   "id": "28825a3b",
   "metadata": {},
   "outputs": [],
   "source": [
    "print(np.log(13)*B)"
   ]
  },
  {
   "cell_type": "code",
   "execution_count": null,
   "id": "b433d286",
   "metadata": {},
   "outputs": [],
   "source": [
    "P = 2.35*A+np.log(13)*B\n",
    "print(\"Matriz resultado: \")\n",
    "print(P)"
   ]
  },
  {
   "cell_type": "markdown",
   "id": "ff1b204b",
   "metadata": {},
   "source": [
    "Se desea calcular la matriz: $Q = \\sqrt{33}\\cdot A + \\frac{17}{\\ln 8}\\cdot B$"
   ]
  },
  {
   "cell_type": "code",
   "execution_count": null,
   "id": "732b6d5c",
   "metadata": {},
   "outputs": [],
   "source": [
    "print(np.sqrt(33)*A)"
   ]
  },
  {
   "cell_type": "code",
   "execution_count": null,
   "id": "633e63b1",
   "metadata": {},
   "outputs": [],
   "source": [
    "print((17)/(np.log(8))*B)"
   ]
  },
  {
   "cell_type": "code",
   "execution_count": null,
   "id": "3981c1d4",
   "metadata": {
    "scrolled": false
   },
   "outputs": [],
   "source": [
    "Q = np.sqrt(33)*A + (17)/(np.log(8))*B\n",
    "print(\"Matriz resultado: \")\n",
    "print(Q)"
   ]
  },
  {
   "cell_type": "markdown",
   "id": "0038728d",
   "metadata": {},
   "source": [
    "# **VI.- Multiplicación de matrices**"
   ]
  },
  {
   "cell_type": "markdown",
   "id": "8fccf9b5",
   "metadata": {},
   "source": [
    "Se define dos matrices y se requiere calcular: $A_{5\\times 6}\\times B_{6\\times 3}$"
   ]
  },
  {
   "cell_type": "code",
   "execution_count": null,
   "id": "f200f8be",
   "metadata": {},
   "outputs": [],
   "source": [
    "A = np.random.uniform(1, 3, size=(5, 6))\n",
    "print(\"Matriz A:\")\n",
    "print(A)"
   ]
  },
  {
   "cell_type": "code",
   "execution_count": null,
   "id": "d17a316d",
   "metadata": {},
   "outputs": [],
   "source": [
    "B = np.random.uniform(2, 9, size=(6, 3))\n",
    "print(\"\\nMatriz B:\")\n",
    "print(B)"
   ]
  },
  {
   "cell_type": "code",
   "execution_count": null,
   "id": "18d021ab",
   "metadata": {},
   "outputs": [],
   "source": [
    "print(\"El producto A y B\")\n",
    "print(np.dot(A,B))"
   ]
  },
  {
   "cell_type": "markdown",
   "id": "d656cc37",
   "metadata": {},
   "source": [
    "Si se desea calcular: $\\frac{1}{2}\\cdot A\\times e^3\\cdot B$"
   ]
  },
  {
   "cell_type": "code",
   "execution_count": null,
   "id": "4e559e61",
   "metadata": {},
   "outputs": [],
   "source": [
    "print(1/2*A)"
   ]
  },
  {
   "cell_type": "code",
   "execution_count": null,
   "id": "d22dccb1",
   "metadata": {},
   "outputs": [],
   "source": [
    "print(np.exp(3)*B)"
   ]
  },
  {
   "cell_type": "code",
   "execution_count": null,
   "id": "7968c295",
   "metadata": {},
   "outputs": [],
   "source": [
    "R = np.dot(1/2*A, np.exp(3)*B)\n",
    "print(\"Matriz resultado:\")\n",
    "print(R)"
   ]
  },
  {
   "cell_type": "markdown",
   "id": "1c8003c8",
   "metadata": {},
   "source": [
    "# **VII.- Determinante de una matriz**"
   ]
  },
  {
   "cell_type": "markdown",
   "id": "ed7187ac",
   "metadata": {},
   "source": [
    "Se crea una matriz cuadrada de orden 6 $\\times$ 6:"
   ]
  },
  {
   "cell_type": "code",
   "execution_count": null,
   "id": "c07ed75e",
   "metadata": {},
   "outputs": [],
   "source": [
    "np.random.seed(123)\n",
    "A = np.random.uniform(1, 10, size=(6, 6))\n",
    "print(\"Matriz A:\")\n",
    "print(A)"
   ]
  },
  {
   "cell_type": "markdown",
   "id": "05875fa6",
   "metadata": {},
   "source": [
    "La determinante es: "
   ]
  },
  {
   "cell_type": "code",
   "execution_count": null,
   "id": "590005e7",
   "metadata": {},
   "outputs": [],
   "source": [
    "print(\"El determinante de la matriz es: \", np.linalg.det(A))"
   ]
  },
  {
   "cell_type": "markdown",
   "id": "16e16a75",
   "metadata": {},
   "source": [
    "Por ejemplo, se declara la siguiente matriz B:\n",
    "$$B=\\begin{pmatrix}3&\\sqrt{11}&e^{-2}&5\\\\ \\frac{1}{16}&1.1&0&2^e\\\\ 5&\\frac{1}{log18}&1&2\\\\ 4&-1&0&7\\end{pmatrix}$$"
   ]
  },
  {
   "cell_type": "code",
   "execution_count": null,
   "id": "4ea5dc27",
   "metadata": {},
   "outputs": [],
   "source": [
    "B=np.array([[3,np.sqrt(11),np.exp(-2),5],[1/16,1.1,0,2**(np.exp(1))],\n",
    "      [5,1/(np.log10(18)),1,2],[4,-1,0,7]])\n",
    "print(\"Matriz B: \")\n",
    "print(B)"
   ]
  },
  {
   "cell_type": "code",
   "execution_count": null,
   "id": "dfd96b06",
   "metadata": {},
   "outputs": [],
   "source": [
    "print(\"El determinante de la matriz B es:\",np.linalg.det(B))"
   ]
  },
  {
   "cell_type": "markdown",
   "id": "28ae6d71",
   "metadata": {},
   "source": [
    "Por ejemplo, se declara la matriz C: \n",
    "$$C=\\begin{pmatrix}\\frac{1}{28}&\\sqrt{7}&\\frac{1}{\\sqrt{11}}&e^{\\sqrt{8}}&cos\\left(5\\right)\\\\ sen\\left(20\\right)&7&6.25&ln10&4\\\\ 1&2&e&10&7\\\\ 6.75&4^e&\\sqrt[3]{11}&1&0\\\\ 3&3.25&\\sqrt[5]{10}&20&7\\end{pmatrix}$$"
   ]
  },
  {
   "cell_type": "code",
   "execution_count": null,
   "id": "ea846735",
   "metadata": {},
   "outputs": [],
   "source": [
    "import math\n",
    "\n",
    "C=np.array([[1/28, math.sqrt(7), 1/(math.sqrt(11)), math.exp(math.sqrt(8)), math.cos(5)],\n",
    "[math.sin(20),7,6.25,math.log(10),4], [1,2,math.exp(1),10,7],\n",
    "[6.75,4**math.exp(1),11**(1/3),1,0],[3,3.25,10**(1/5),20,7]])\n",
    "print(\"Matriz C:\")\n",
    "print(C)"
   ]
  },
  {
   "cell_type": "code",
   "execution_count": null,
   "id": "0d6ce190",
   "metadata": {},
   "outputs": [],
   "source": [
    "print(\"El determinante de la matriz C es:\",np.linalg.det(C))"
   ]
  },
  {
   "cell_type": "markdown",
   "id": "32ed0d84",
   "metadata": {},
   "source": [
    "# **VIII.- Rango de una matriz**"
   ]
  },
  {
   "cell_type": "markdown",
   "id": "11034399",
   "metadata": {},
   "source": [
    "Se crea una matriz cuadrada de orden 5 $\\times$ 5:"
   ]
  },
  {
   "cell_type": "code",
   "execution_count": null,
   "id": "8b43393b",
   "metadata": {},
   "outputs": [],
   "source": [
    "np.random.seed(123)\n",
    "A = np.random.uniform(10, 36, size=(5, 5))\n",
    "print(\"Matriz A:\")\n",
    "print(A)"
   ]
  },
  {
   "cell_type": "code",
   "execution_count": null,
   "id": "924dc48a",
   "metadata": {},
   "outputs": [],
   "source": [
    "print(\"El rango de A es:\", np.linalg.matrix_rank(A))"
   ]
  },
  {
   "cell_type": "code",
   "execution_count": null,
   "id": "a6f4cc5d",
   "metadata": {},
   "outputs": [],
   "source": [
    "print(\"El rango de B es:\", np.linalg.matrix_rank(B))\n",
    "print(\"El rango de C es:\", np.linalg.matrix_rank(C))"
   ]
  },
  {
   "cell_type": "markdown",
   "id": "3ad62607",
   "metadata": {},
   "source": [
    "# **IX.- Inversa de una matriz**"
   ]
  },
  {
   "cell_type": "code",
   "execution_count": null,
   "id": "e21a1d9c",
   "metadata": {},
   "outputs": [],
   "source": [
    "print(\"La inversa de A es:\")\n",
    "print(np.linalg.inv(A))"
   ]
  },
  {
   "cell_type": "code",
   "execution_count": null,
   "id": "591af3e3",
   "metadata": {},
   "outputs": [],
   "source": [
    "print(\"La inversa de B es:\")\n",
    "print(np.linalg.inv(B))"
   ]
  },
  {
   "cell_type": "code",
   "execution_count": null,
   "id": "d29d0aa5",
   "metadata": {},
   "outputs": [],
   "source": [
    "print(\"La inversa de C es:\")\n",
    "print(np.linalg.inv(C))"
   ]
  },
  {
   "cell_type": "markdown",
   "id": "73c3265d",
   "metadata": {},
   "source": [
    "# **SECCIÓN 2: SISTEMAS DE ECUACIONES LINEALES**"
   ]
  },
  {
   "cell_type": "markdown",
   "id": "96a0f2d6",
   "metadata": {},
   "source": [
    "## **Ejercicio 01**"
   ]
  },
  {
   "cell_type": "markdown",
   "id": "99cb79c3",
   "metadata": {},
   "source": [
    "Hallar la solución del siguiente sistema:\n",
    "$$\\left\\{\n",
    "\t\t\t\\begin{array}{ll}\n",
    "\t\t\t\tx+3y-z=0 \\\\\n",
    "\t\t\t\t3x-4y+z=2 \\\\\n",
    "\t\t\t\t2x+2y+z=13\n",
    "\t\t\t\\end{array}\n",
    "\t\t\t\\right.$$"
   ]
  },
  {
   "cell_type": "code",
   "execution_count": null,
   "id": "3d7fd0dc",
   "metadata": {},
   "outputs": [],
   "source": [
    "#MÉTODO DE CRAMER\n",
    "# Definir la matriz de coeficientes A y el vector de términos independientes B\n",
    "A = np.array([[1, 3, -1],\n",
    "              [3, -4, 1],\n",
    "              [2, 2, 1]])\n",
    "\n",
    "B = np.array([0, 2, 13])\n",
    "\n",
    "# Resolver el sistema de ecuaciones lineales\n",
    "solucion = np.linalg.solve(A, B)\n",
    "\n",
    "# Imprimir la solución\n",
    "print(\"La solución del sistema es:\")\n",
    "print(f\"x = {solucion[0]}\")\n",
    "print(f\"y = {solucion[1]}\")\n",
    "print(f\"z = {solucion[2]}\")"
   ]
  },
  {
   "cell_type": "markdown",
   "id": "7ed9c554",
   "metadata": {},
   "source": [
    "## **Ejercicio 02**"
   ]
  },
  {
   "cell_type": "markdown",
   "id": "930e3ba2",
   "metadata": {},
   "source": [
    "Hallar la solución del siguiente sistema:\n",
    "$$\\left\\{\n",
    "\t\t\\begin{array}{ll}\n",
    "\t\t\tx+y+2z+3w=1 \\\\\n",
    "\t\t\t3x-y-z-2w=-4 \\\\\n",
    "\t\t\t2x+3y-z-w=-6 \\\\\n",
    "\t\t\tx+2y-3z-w=-4\n",
    "\t\t\\end{array}\n",
    "\t\t\\right.$$"
   ]
  },
  {
   "cell_type": "code",
   "execution_count": null,
   "id": "05abe637",
   "metadata": {},
   "outputs": [],
   "source": [
    "#MÉTODO DE CRAMER\n",
    "# Definir la matriz de coeficientes A y el vector de términos independientes B\n",
    "A = np.array([[1, 1, 2, 3],\n",
    "              [3, -1, -1, -2],\n",
    "              [2, 3, -1, -1],\n",
    "              [1, 2, -3, -1]])\n",
    "\n",
    "B = np.array([1, -4, -6, -4])\n",
    "\n",
    "# Resolver el sistema de ecuaciones lineales\n",
    "solucion = np.linalg.solve(A, B)\n",
    "\n",
    "# Imprimir la solución\n",
    "print(\"La solución del sistema es:\")\n",
    "print(f\"x = {solucion[0]}\")\n",
    "print(f\"y = {solucion[1]}\")\n",
    "print(f\"z = {solucion[2]}\")\n",
    "print(f\"w = {solucion[3]}\")"
   ]
  },
  {
   "cell_type": "markdown",
   "id": "00275624",
   "metadata": {},
   "source": [
    "## **Ejercicio 03**"
   ]
  },
  {
   "cell_type": "markdown",
   "id": "095d1ff2",
   "metadata": {},
   "source": [
    "Hallar la solución del siguiente sistema:\n",
    "$$\\left\\{\n",
    "\t\t\\begin{array}{ll}\n",
    "\t\t\t2x+y+z+w+u=2 \\\\\n",
    "\t\t\tx+2y+z+w+u=0 \\\\\n",
    "\t\t\tx+y+3z+w+u=3 \\\\\n",
    "\t\t\tx+y+z+4w+u=-2 \\\\\n",
    "\t\t\tx+y+z+w+5u=5\n",
    "\t\t\\end{array}\n",
    "\t\t\\right.$$"
   ]
  },
  {
   "cell_type": "code",
   "execution_count": null,
   "id": "f5134e89",
   "metadata": {},
   "outputs": [],
   "source": [
    "#MÉTODO DE CRAMER\n",
    "# Definir la matriz de coeficientes A y el vector de términos independientes B\n",
    "A = np.array([[2, 1, 1, 1, 1],\n",
    "              [1, 2, 1, 1, 1],\n",
    "              [1, 1, 3, 1, 1],\n",
    "              [1, 1, 1, 4, 1],\n",
    "              [1, 1, 1, 1, 5]])\n",
    "\n",
    "B = np.array([2, 0, 3, -2, 5])\n",
    "\n",
    "# Resolver el sistema de ecuaciones lineales\n",
    "solucion = np.linalg.solve(A, B)\n",
    "\n",
    "# Imprimir la solución\n",
    "print(\"La solución del sistema es:\")\n",
    "print(f\"x = {solucion[0]}\")\n",
    "print(f\"y = {solucion[1]}\")\n",
    "print(f\"z = {solucion[2]}\")\n",
    "print(f\"w = {solucion[3]}\")\n",
    "print(f\"u = {solucion[4]}\")"
   ]
  },
  {
   "cell_type": "markdown",
   "id": "64448e6d",
   "metadata": {},
   "source": [
    "## **Ejercicio 04**"
   ]
  },
  {
   "cell_type": "markdown",
   "id": "ab46d77d",
   "metadata": {},
   "source": [
    "Hallar la solución del siguiente sistema:\n",
    "$$\\begin{pmatrix}1&\\frac{2}{5}&\\frac{1}{7}&log\\left(\\frac{3}{11}\\right)&\\frac{17}{16}&\\frac{1}{7}\\\\ \\frac{2}{3}&\\frac{4}{5}&\\frac{7}{11}&\\frac{3}{22}&\\sqrt{11}&2\\\\ 0&3&1&4&\\frac{4}{9}&\\frac{11}{12}\\\\ \\frac{3}{11}&\\frac{4}{19}&\\frac{7}{19}&\\frac{4}{89}&\\frac{19}{173}&\\sqrt{91}\\\\ \\frac{3}{\\sqrt{41}}&\\frac{7}{11}&log\\left(\\frac{1}{11}\\right)&5&6&7\\\\ 3&4&7&\\frac{1}{17}&4&\\frac{1}{7}\\end{pmatrix}\\begin{pmatrix}x\\\\ y\\\\ z\\\\ w\\\\ a\\\\ b\\end{pmatrix}=\\begin{pmatrix}\\frac{8}{9}\\\\ \\frac{7}{13}\\\\ \\sqrt{\\frac{23}{21}}\\\\ \\sqrt{3}\\\\ \\frac{18}{111}\\\\ \\frac{4}{3}\\end{pmatrix}$$"
   ]
  },
  {
   "cell_type": "code",
   "execution_count": null,
   "id": "1eac79bc",
   "metadata": {},
   "outputs": [],
   "source": [
    "import numpy as np\n",
    "import sympy as sp\n",
    "\n",
    "# Definir los elementos de la matriz A y el vector B usando sympy\n",
    "A = sp.Matrix([\n",
    "    [1, 2/5, 1/7, sp.log(3/11), 17/16, 1/7],\n",
    "    [2/3, 4/5, 7/11, 3/22, sp.sqrt(11), 2],\n",
    "    [0, 3, 1, 4, 4/9, 11/12],\n",
    "    [3/11, 4/19, 7/19, 4/89, 19/173, sp.sqrt(91)],\n",
    "    [3/sp.sqrt(41), 7/11, sp.log(1/11), 5, 6, 7],\n",
    "    [3, 4, 7, 1/17, 4, 1/7]\n",
    "])\n",
    "\n",
    "B = sp.Matrix([\n",
    "    8/9,\n",
    "    7/13,\n",
    "    sp.sqrt(23/21),\n",
    "    sp.sqrt(3),\n",
    "    18/111,\n",
    "    4/3\n",
    "])\n",
    "\n",
    "# Calcular la inversa de A\n",
    "A_inv = A.inv()\n",
    "\n",
    "# Calcular la solución\n",
    "solution = A_inv * B\n",
    "\n",
    "# Mostrar la solución en formato numérico\n",
    "numeric_solution = solution.evalf()\n",
    "print(\"La solución del sistema es:\")\n",
    "for var, value in zip(['x', 'y', 'z', 'w', 'a', 'b'], numeric_solution):\n",
    "    print(f\"{var} = {value}\")"
   ]
  },
  {
   "cell_type": "markdown",
   "id": "20011513",
   "metadata": {},
   "source": [
    "# **SECCIÓN 3: APLICACIONES DE MATRICES**"
   ]
  },
  {
   "cell_type": "markdown",
   "id": "376451f9",
   "metadata": {},
   "source": [
    "## Ejercicio 01"
   ]
  },
  {
   "cell_type": "markdown",
   "id": "6ebb71e0",
   "metadata": {},
   "source": [
    "Se presenta el siguiente sistema de ecuaciones lineales que relaciona las variables en entidades financieras respecto al saldo final de operaciones de un año en particular:\n",
    "- **GO**: Gasto operativo (miles de dólares)\n",
    "- **LIQ**: Liquidez corriente (miles de dólares)\n",
    "- **MOR**: Morosidad de principal cartera de clientes (miles de clientes)\n",
    "- **PAC**: Pasivo corriente (miles de dólares)\n",
    "- **ACC**: Activo corriente (miles de dólares)\n",
    "- **PAT**: Patrimonio neto (miles de dólares)\n",
    "- **CCP**: Cuentas por pagar a proveedores (miles de dólares)\n",
    "\n",
    "El sistema, representado de manera matricial, se presenta a continuación: \n",
    "$$\\begin{pmatrix} \n",
    "    0.176&\t0.118&\t0.673&\t0.534&\t0.177&\t0.034&\t0.178 \\\\\n",
    "    0.796&\t0.247&\t0.031&\t0.672&\t0.944&\t0.111&\t0.736 \\\\\n",
    "    0.337&\t0.184&\t0.088&\t0.911&\t0.210&\t0.958&\t0.444 \\\\\n",
    "    0.386&\t0.597&\t0.492&\t0.821&\t0.493&\t0.758&\t0.441 \\\\\n",
    "    0.178&\t0.863&\t0.952&\t0.336&\t0.585&\t0.290&\t0.139 \\\\\n",
    "    0.509&\t0.230&  0.687&\t0.877&\t0.149&\t0.460&\t0.709 \\\\\n",
    "    0.423&\t0.451&\t0.826&\t0.963&\t0.040&\t0.213&  0.667 \\\\\n",
    "   \\end{pmatrix} \\begin{pmatrix} GO \\\\ LIQ \\\\ MOR \\\\ PAC \\\\ ACC \\\\ PAT \\\\ CCP  \\end{pmatrix} = \\begin{pmatrix} 0.831 \\\\\n",
    "0.143 \\\\\n",
    "0.724 \\\\\n",
    "0.941 \\\\\n",
    "0.922 \\\\\n",
    "0.222 \\\\\n",
    "0.468 \\\\\n",
    "   \\end{pmatrix}$$\n",
    "Determine la solución del sistema"
   ]
  },
  {
   "cell_type": "code",
   "execution_count": null,
   "id": "e482fbbb",
   "metadata": {},
   "outputs": [],
   "source": [
    "# Definir la matriz de coeficientes A\n",
    "A = np.array([\n",
    "    [0.176, 0.118, 0.673, 0.534, 0.177, 0.034, 0.178],\n",
    "    [0.796, 0.247, 0.031, 0.672, 0.944, 0.111, 0.736],\n",
    "    [0.337, 0.184, 0.088, 0.911, 0.210, 0.958, 0.444],\n",
    "    [0.386, 0.597, 0.492, 0.821, 0.493, 0.758, 0.441],\n",
    "    [0.178, 0.863, 0.952, 0.336, 0.585, 0.290, 0.139],\n",
    "    [0.509, 0.230, 0.687, 0.877, 0.149, 0.460, 0.709],\n",
    "    [0.423, 0.451, 0.826, 0.963, 0.040, 0.213, 0.667]\n",
    "])\n",
    "\n",
    "# Definir el vector de constantes b\n",
    "b = np.array([0.831, 0.143, 0.724, 0.941, 0.922, 0.222, 0.468])"
   ]
  },
  {
   "cell_type": "code",
   "execution_count": null,
   "id": "1e8679fb",
   "metadata": {},
   "outputs": [],
   "source": [
    "# Mostrar la solución en formato numérico\n",
    "# Calcular la inversa de A\n",
    "A_inv = np.linalg.inv(A)\n",
    "\n",
    "# Calcular la solución\n",
    "solution = np.dot(A_inv,b)\n",
    "\n",
    "numeric_solution = solution\n",
    "print(\"La solución del sistema es:\")\n",
    "for var, value in zip(['GO', 'LIQ', 'MOR', 'PAC', 'ACC', 'PAT', 'CCP'], numeric_solution):\n",
    "    print(f\"{var} = {value}\")"
   ]
  },
  {
   "cell_type": "markdown",
   "id": "e5d89634",
   "metadata": {},
   "source": [
    "## Ejercicio 02"
   ]
  },
  {
   "cell_type": "markdown",
   "id": "c966ba4d",
   "metadata": {},
   "source": [
    "Supongamos que tienes un portafolio con cinco activos financieros. Se te proporciona la siguiente información:\n",
    "\n",
    "**Rendimientos esperados:** Un vector que contiene el rendimiento esperado de cada activo.\n",
    "$$R= \\begin{pmatrix}0.08 \\\\ 0.12 \\\\ 0.10 \\\\ 0.14 \\\\ 0.09 \\end{pmatrix}$$\n",
    "\n",
    "**Matriz de varianza-covarianza:** \n",
    "$$\\Sigma= \\begin{pmatrix}0.04 & 0.002 & 0.001 & 0.003 & 0.002 \\\\\n",
    "0.002 & 0.03 & 0.0025 & 0.002 & 0.001 \\\\\n",
    "0.001 & 0.0025 & 0.02 & 0.0015 & 0.001 \\\\\n",
    "0.003 & 0.002 & 0.0015 & 0.025 & 0.002 \\\\\n",
    "0.002 & 0.001 & 0.001 & 0.002 & 0.015 \\end{pmatrix}$$\n",
    "\n",
    "**Pesos del portafolio:** \n",
    "$$W= \\begin{pmatrix}0.20 \\\\ 0.25 \\\\ 0.15 \\\\ 0.30 \\\\ 0.10 \\end{pmatrix}$$\n",
    "\n",
    "Hallar el rendimiento esperado y la varianza del portafolio"
   ]
  },
  {
   "cell_type": "markdown",
   "id": "e14477a5",
   "metadata": {},
   "source": [
    "**RENDIMIENTO ESPERADO**\n",
    "$$R_p= w^{T}R$$"
   ]
  },
  {
   "cell_type": "code",
   "execution_count": null,
   "id": "35143ee6",
   "metadata": {},
   "outputs": [],
   "source": [
    "# Datos\n",
    "R = np.array([0.08, 0.12, 0.10, 0.14, 0.09])\n",
    "w = np.array([0.20, 0.25, 0.15, 0.30, 0.10])\n",
    "\n",
    "# Rendimiento esperado del portafolio\n",
    "R_p = np.dot(w, R)\n",
    "\n",
    "print(f\"Rendimiento esperado del portafolio: {R_p:.4f}\")"
   ]
  },
  {
   "cell_type": "markdown",
   "id": "cbf62206",
   "metadata": {},
   "source": [
    "**VARIANZA DEL PORTAFOLIO**\n",
    "$$\\sigma^2_p = w^T\\Sigma w$$"
   ]
  },
  {
   "cell_type": "code",
   "execution_count": null,
   "id": "ad828f24",
   "metadata": {
    "scrolled": false
   },
   "outputs": [],
   "source": [
    "# Matriz de varianza-covarianza\n",
    "Sigma = np.array([                \n",
    "    [0.04, 0.002, 0.001, 0.003, 0.002],\n",
    "    [0.002, 0.03, 0.0025, 0.002, 0.001],\n",
    "    [0.001, 0.0025, 0.02, 0.0015, 0.001],\n",
    "    [0.003, 0.002, 0.0015, 0.025, 0.002],\n",
    "    [0.002, 0.001, 0.001, 0.002, 0.015]\n",
    "])\n",
    "\n",
    "# Varianza del portafolio\n",
    "sigma_p_squared = np.dot(w.T, np.dot(Sigma, w))\n",
    "\n",
    "# Desviación estándar del portafolio\n",
    "sigma_p = np.sqrt(sigma_p_squared)\n",
    "\n",
    "print(f\"Varianza del portafolio: {sigma_p_squared:.4f}\")\n",
    "print(f\"Desviación estándar del portafolio: {sigma_p:.4f}\")"
   ]
  },
  {
   "cell_type": "markdown",
   "id": "8ad4236f",
   "metadata": {},
   "source": [
    "### **Caso de aplicación con datos reales**"
   ]
  },
  {
   "cell_type": "markdown",
   "id": "9434aa2f",
   "metadata": {},
   "source": [
    "Un inversionista desea construir un portafolio óptimo utilizando 10 acciones del S&P 500. Su objetivo es minimizar el riesgo (desviación estándar del portafolio) dado un nivel de rendimiento esperado. Las 10 acciones que usaremos como ejemplo son:\n",
    "- Apple (AAPL)\n",
    "- Microsoft (MSFT)\n",
    "- Google (GOOGL)\n",
    "- Amazon (AMZN)\n",
    "- Tesla (TSLA)\n",
    "- Meta (META)\n",
    "- Nvidia (NVDA)\n",
    "- JPMorgan Chase (JPM)\n",
    "- Johnson & Johnson (JNJ)\n",
    "- Procter & Gamble (PG)"
   ]
  },
  {
   "cell_type": "code",
   "execution_count": null,
   "id": "6d90162d",
   "metadata": {},
   "outputs": [],
   "source": [
    "import numpy as np\n",
    "import pandas as pd\n",
    "import yfinance as yf\n",
    "import scipy.optimize as sco\n",
    "import matplotlib.pyplot as plt\n",
    "\n",
    "# 1. Definir las acciones y el periodo de análisis\n",
    "tickers = [\"AAPL\", \"MSFT\", \"GOOGL\", \"AMZN\", \"TSLA\", \"META\", \"NVDA\", \"JPM\", \"JNJ\", \"PG\"]\n",
    "start_date = \"2017-01-01\"\n",
    "end_date = \"2024-12-31\"\n",
    "\n",
    "# 2. Descargar datos de Yahoo Finance\n",
    "data = yf.download(tickers, start=start_date, end=end_date)[\"Close\"]"
   ]
  },
  {
   "cell_type": "code",
   "execution_count": null,
   "id": "c1625d6f",
   "metadata": {},
   "outputs": [],
   "source": [
    "# Gráfico de evolución de los precios ajustados\n",
    "plt.figure(figsize=(12, 6))\n",
    "\n",
    "for ticker in tickers:\n",
    "    plt.plot(data.index, data[ticker], label=ticker)\n",
    "\n",
    "plt.xlabel(\"Fecha\")\n",
    "plt.ylabel(\"Precio Ajustado ($)\")\n",
    "plt.title(\"Evolución de los Precios Ajustados de las Acciones\")\n",
    "plt.legend(loc=\"upper left\", fontsize=8)\n",
    "plt.grid(False)\n",
    "\n",
    "plt.show()"
   ]
  },
  {
   "cell_type": "code",
   "execution_count": null,
   "id": "245cf4d0",
   "metadata": {},
   "outputs": [],
   "source": [
    "# 3. Calcular rendimientos logarítmicos\n",
    "returns = np.log(data / data.shift(1)).dropna()\n",
    "returns"
   ]
  },
  {
   "cell_type": "code",
   "execution_count": null,
   "id": "22c76de5",
   "metadata": {},
   "outputs": [],
   "source": [
    "# Gráfico de rendimientos logarítmicos\n",
    "plt.figure(figsize=(12, 6))\n",
    "\n",
    "for ticker in tickers:\n",
    "    plt.plot(returns.index, returns[ticker], label=ticker, alpha=0.7)\n",
    "\n",
    "plt.xlabel(\"Fecha\")\n",
    "plt.ylabel(\"Rendimiento Logarítmico\")\n",
    "plt.title(\"Evolución de los Rendimientos Logarítmicos de las Acciones\")\n",
    "plt.legend(loc=\"upper right\", fontsize=8)\n",
    "plt.axhline(y=0, color=\"black\", linestyle=\"--\", linewidth=1)  # Línea base en 0\n",
    "plt.grid(False)\n",
    "\n",
    "plt.show()"
   ]
  },
  {
   "cell_type": "code",
   "execution_count": null,
   "id": "6932da15",
   "metadata": {},
   "outputs": [],
   "source": [
    "# 4. Cálculo de los rendimientos esperados y matriz de covarianza\n",
    "expected_returns = returns.mean()  # Rendimiento anualizado\n",
    "expected_returns"
   ]
  },
  {
   "cell_type": "code",
   "execution_count": null,
   "id": "501af62a",
   "metadata": {},
   "outputs": [],
   "source": [
    "cov_matrix = returns.cov()  # Matriz de covarianza anualizada\n",
    "cov_matrix"
   ]
  },
  {
   "cell_type": "code",
   "execution_count": null,
   "id": "ac3f08b9",
   "metadata": {},
   "outputs": [],
   "source": [
    "# 5. Función de minimización de la varianza del portafolio\n",
    "def portfolio_volatility(weights, cov_matrix):\n",
    "    return np.sqrt(weights.T @ cov_matrix @ weights)  # σ_p = sqrt(W' * Σ * W)"
   ]
  },
  {
   "cell_type": "code",
   "execution_count": null,
   "id": "67e5f480",
   "metadata": {},
   "outputs": [],
   "source": [
    "# 6. Restricciones y optimización del portafolio de mínima varianza\n",
    "num_assets = len(tickers)\n",
    "init_guess = np.ones(num_assets) / num_assets  # Pesos iniciales (iguales)\n",
    "bounds = [(0, 1) for _ in range(num_assets)]  # Cada peso entre 0 y 1\n",
    "constraints = [{\"type\": \"eq\", \"fun\": lambda w: np.sum(w) - 1}]  # Suma de pesos = 1\n",
    "\n",
    "# Optimización para minimizar la varianza\n",
    "opt_results = sco.minimize(portfolio_volatility, init_guess, args=(cov_matrix,), \n",
    "                           method=\"SLSQP\", bounds=bounds, constraints=constraints)"
   ]
  },
  {
   "cell_type": "code",
   "execution_count": null,
   "id": "c83e9d63",
   "metadata": {},
   "outputs": [],
   "source": [
    "# 7. Resultados óptimos\n",
    "optimal_weights = opt_results.x\n",
    "min_variance = portfolio_volatility(optimal_weights, cov_matrix)"
   ]
  },
  {
   "cell_type": "code",
   "execution_count": null,
   "id": "c9f3aa5f",
   "metadata": {},
   "outputs": [],
   "source": [
    "# 8. Mostrar resultados\n",
    "print(\"\\nPesos Óptimos del Portafolio de Mínima Varianza:\")\n",
    "for ticker, weight in zip(tickers, optimal_weights):\n",
    "    print(f\"{ticker}: {weight:.4f}\")\n",
    "\n",
    "print(f\"\\nDesviación estándar del portafolio óptimo: {min_variance:.4%}\")"
   ]
  },
  {
   "cell_type": "code",
   "execution_count": null,
   "id": "d171ed09",
   "metadata": {},
   "outputs": [],
   "source": [
    "# 9. Gráfico de distribución de pesos\n",
    "plt.figure(figsize=(10, 5))\n",
    "plt.bar(tickers, optimal_weights, color=\"skyblue\")\n",
    "plt.xlabel(\"Acciones\")\n",
    "plt.ylabel(\"Peso en el portafolio\")\n",
    "plt.title(\"Distribución de Pesos en el Portafolio Óptimo\")\n",
    "plt.xticks(rotation=45)\n",
    "plt.show()"
   ]
  },
  {
   "cell_type": "markdown",
   "id": "c843b8b2",
   "metadata": {},
   "source": [
    "## Ejercicio 03"
   ]
  },
  {
   "cell_type": "markdown",
   "id": "f92f3ae8",
   "metadata": {},
   "source": [
    "Estimar a través del método de mínimos cuadrados la estimación del modelo lineal-\n",
    "$$\\beta = (X^TX)^{-1}X^TY$$"
   ]
  },
  {
   "cell_type": "code",
   "execution_count": null,
   "id": "6ed4d076",
   "metadata": {},
   "outputs": [],
   "source": [
    "#GENERACIÓN DE VARIABLES ALEATORIOS\n",
    "# Número de datos a generar\n",
    "n_samples = 350\n",
    "\n",
    "# Generar valores aleatorios para las variables independientes\n",
    "INFLACION = np.random.normal(loc=2, scale=0.5, size=n_samples)  # Inflación en porcentaje\n",
    "DESEMPLEO = np.random.normal(loc=7, scale=1, size=n_samples)    # Tasa de desempleo en porcentaje\n",
    "INTERES = np.random.normal(loc=3, scale=1.75, size=n_samples)   # Tasa de interés en porcentaje\n",
    "GASTO_PUBLICO = np.random.normal(loc=100, scale=20, size=n_samples)  # Gasto público en miles de dólares\n",
    "\n",
    "# Generar términos de error aleatorios\n",
    "ALEATORIO = np.random.normal(loc=0, scale=0.5, size=n_samples)  # Error con distribución normal\n",
    "\n",
    "# Calcular PIB usando la ecuación proporcionada\n",
    "PIB = (0.251197 - 0.0759 * INFLACION - 0.5524 * DESEMPLEO\n",
    "       - 0.1865 * INTERES + 0.0977 * GASTO_PUBLICO + ALEATORIO)\n",
    "\n",
    "# Crear un DataFrame con los datos generados\n",
    "data = pd.DataFrame({\n",
    "    'PIB': PIB,\n",
    "    'INFLACION': INFLACION,\n",
    "    'DESEMPLEO': DESEMPLEO,\n",
    "    'INTERES': INTERES,\n",
    "    'GASTO_PUBLICO': GASTO_PUBLICO\n",
    "})\n",
    "\n",
    "# Mostrar las primeras filas del DataFrame\n",
    "print(data.head())"
   ]
  },
  {
   "cell_type": "code",
   "execution_count": null,
   "id": "d3f99ce3",
   "metadata": {},
   "outputs": [],
   "source": [
    "# 2.- Estimación del vector de parámetros estimados\n",
    "# -- Calculando el tamaño de muestra\n",
    "n = len(data)\n",
    "\n",
    "# -- Diseñando la matriz X\n",
    "ind = data[['INFLACION', 'DESEMPLEO', 'INTERES', 'GASTO_PUBLICO']].values\n",
    "constante = np.ones(n)\n",
    "X = np.column_stack((constante, ind))\n",
    "\n",
    "# -- Diseñando la matriz Y\n",
    "Y = data['PIB'].values\n",
    "\n",
    "# -- Cálculo de beta\n",
    "X_transpose_X_inv = np.linalg.inv(X.T @ X)\n",
    "beta = X_transpose_X_inv @ X.T @ Y\n",
    "\n",
    "numeric_solution = beta\n",
    "print(\"La solución del sistema es:\")\n",
    "for var, value in zip(['BO', 'B1', 'B2', 'B3', 'B4'], numeric_solution):\n",
    "    print(f\"{var} = {value}\")"
   ]
  },
  {
   "cell_type": "code",
   "execution_count": null,
   "id": "cb902307",
   "metadata": {},
   "outputs": [],
   "source": [
    "# 3.- Cálculo del error estándar\n",
    "# -- Cálculo de los valores ajustados\n",
    "y_hat = X @ beta\n",
    "\n",
    "# -- Estimación del sigma cuadrado\n",
    "mu2 = np.sum((Y - y_hat) ** 2)\n",
    "sigma2 = mu2 / (n - X.shape[1])\n",
    "print(\"Sigma2:\", sigma2)"
   ]
  },
  {
   "cell_type": "code",
   "execution_count": null,
   "id": "65c9879c",
   "metadata": {},
   "outputs": [],
   "source": [
    "# -- Hallar la matriz de covarianzas\n",
    "matriz_cov = sigma2 * X_transpose_X_inv\n",
    "print(\"Matriz de covarianzas:\\n\", matriz_cov)"
   ]
  },
  {
   "cell_type": "code",
   "execution_count": null,
   "id": "dbfb3e27",
   "metadata": {},
   "outputs": [],
   "source": [
    "# -- Cálculo del error estándar\n",
    "ee_b = np.sqrt(np.diag(matriz_cov))\n",
    "print(\"Error estándar de beta0:\", ee_b[0])\n",
    "print(\"Error estándar de beta1:\", ee_b[1])\n",
    "print(\"Error estándar de beta2:\", ee_b[2])\n",
    "print(\"Error estándar de beta3:\", ee_b[3])\n",
    "print(\"Error estándar de beta4:\", ee_b[4])"
   ]
  },
  {
   "cell_type": "code",
   "execution_count": null,
   "id": "f53afab6",
   "metadata": {},
   "outputs": [],
   "source": [
    "# 4.- Cálculo del coeficiente R2\n",
    "# -- Cálculo de SCE\n",
    "SCR = mu2\n",
    "print(\"SCE:\", SCR)"
   ]
  },
  {
   "cell_type": "code",
   "execution_count": null,
   "id": "c1d9e7a8",
   "metadata": {},
   "outputs": [],
   "source": [
    "# -- Cálculo de SCR\n",
    "y_media = np.mean(Y)\n",
    "SCE = np.sum((y_hat - y_media) ** 2)\n",
    "print(\"SCE:\", SCE)"
   ]
  },
  {
   "cell_type": "code",
   "execution_count": null,
   "id": "e4d4353a",
   "metadata": {},
   "outputs": [],
   "source": [
    "# -- Cálculo de SCT\n",
    "SCT = SCE + SCR\n",
    "print(\"SCT:\", SCT)"
   ]
  },
  {
   "cell_type": "code",
   "execution_count": null,
   "id": "ab61c804",
   "metadata": {},
   "outputs": [],
   "source": [
    "# -- Cálculo del indicador\n",
    "R2 = 1 - SCR / SCT\n",
    "print(\"R2:\", R2)"
   ]
  },
  {
   "cell_type": "code",
   "execution_count": null,
   "id": "c3469255",
   "metadata": {},
   "outputs": [],
   "source": [
    "# 5.- Gráfica de dispersión entre variables\n",
    "# a) Matriz de correlación\n",
    "correlation_matrix = data[['PIB','INFLACION', 'DESEMPLEO', 'INTERES', 'GASTO_PUBLICO']].corr()\n",
    "print(\"Matriz de correlación:\\n\", correlation_matrix)"
   ]
  },
  {
   "cell_type": "code",
   "execution_count": null,
   "id": "e9105460",
   "metadata": {},
   "outputs": [],
   "source": [
    "import matplotlib.pyplot as plt \n",
    "\n",
    "# Gráficos de dispersión con líneas de ajuste\n",
    "fig, axs = plt.subplots(2, 2, figsize=(14, 10))\n",
    "\n",
    "variables = ['INFLACION', 'DESEMPLEO', 'INTERES', 'GASTO_PUBLICO']\n",
    "for i, var in enumerate(variables):\n",
    "    ax = axs[i // 2, i % 2]\n",
    "    ax.scatter(data[var], data['PIB'], color=\"blue\")\n",
    "    # Ajuste de línea\n",
    "    coef = np.polyfit(data[var], data['PIB'], 1)\n",
    "    poly = np.poly1d(coef)\n",
    "    ax.plot(data[var], poly(data[var]), color=\"red\", linewidth=3)\n",
    "    ax.set_xlabel(var)\n",
    "    ax.set_ylabel('PIB')\n",
    "\n",
    "plt.tight_layout()\n",
    "plt.show()"
   ]
  },
  {
   "cell_type": "code",
   "execution_count": null,
   "id": "1422705d",
   "metadata": {},
   "outputs": [],
   "source": [
    "import statsmodels.api as sm\n",
    "\n",
    "# Ajustar el modelo de regresión\n",
    "X = data[['INFLACION', 'DESEMPLEO', 'INTERES', 'GASTO_PUBLICO']]\n",
    "Y = data['PIB']\n",
    "\n",
    "# Agregar una constante a la matriz de predictores\n",
    "X = sm.add_constant(X)\n",
    "\n",
    "# Crear el modelo de regresión\n",
    "model = sm.OLS(Y, X).fit()\n",
    "\n",
    "# Mostrar los resultados del resumen del modelo\n",
    "print(model.summary())"
   ]
  },
  {
   "cell_type": "markdown",
   "id": "577a25c1",
   "metadata": {},
   "source": [
    "# **SECCIÓN 3: VECTORES**"
   ]
  },
  {
   "cell_type": "markdown",
   "id": "9898d510",
   "metadata": {},
   "source": [
    "Un vector de largo $n$ es una secuencia (o array, o tupla) de $n$ números. La solemos escribir como $x = (x_1, \\dots, x_n)$ o $x = [x_1, \\ldots, x_n]$. En Python, un vector puede ser representado con una simple lista, o con un array de Numpy; siendo preferible utilizar esta última opción."
   ]
  },
  {
   "cell_type": "code",
   "execution_count": null,
   "id": "b70a95b6",
   "metadata": {},
   "outputs": [],
   "source": [
    "import random\n",
    "\n",
    "# Vector como lista de Python\n",
    "v1 = [random.random() for _ in range(5)]\n",
    "print(\"v1 =\", v1)"
   ]
  },
  {
   "cell_type": "code",
   "execution_count": null,
   "id": "6e3897fc",
   "metadata": {},
   "outputs": [],
   "source": [
    "# Vectores con numpy\n",
    "v2 = np.ones(8) # vector de solo unos.\n",
    "v2"
   ]
  },
  {
   "cell_type": "code",
   "execution_count": null,
   "id": "1d99bd7c",
   "metadata": {},
   "outputs": [],
   "source": [
    "v3 = np.array([1, 3, 5,11/7,np.sqrt(22)]) # pasando una lista a las arrays de numpy\n",
    "v3"
   ]
  },
  {
   "cell_type": "code",
   "execution_count": null,
   "id": "30da4a16",
   "metadata": {},
   "outputs": [],
   "source": [
    "v4 = np.arange(1, 10) # utilizando la funcion arange de numpy\n",
    "v4"
   ]
  },
  {
   "cell_type": "markdown",
   "id": "745b0cdd",
   "metadata": {},
   "source": [
    "Tradicionalmente, los vectores son representados visualmente como flechas que parten desde el origen hacia un punto. Por ejemplo, si quisiéramos representar gráficamente a los vectores $v_1 = [2, 4]$, $v_2 = [-3, 3]$ y $v_3 = [-4, -3.5]$, podríamos hacerlo de la siguiente manera.\n"
   ]
  },
  {
   "cell_type": "code",
   "execution_count": null,
   "id": "0fdfae39",
   "metadata": {},
   "outputs": [],
   "source": [
    "import matplotlib.pyplot as plt\n",
    "from warnings import filterwarnings\n",
    "\n",
    "%matplotlib inline\n",
    "filterwarnings('ignore') # Ignorar warnings"
   ]
  },
  {
   "cell_type": "code",
   "execution_count": null,
   "id": "c2ebc648",
   "metadata": {},
   "outputs": [],
   "source": [
    "def move_spines():\n",
    "    fix, ax = plt.subplots()\n",
    "    for spine in [\"left\", \"bottom\"]:\n",
    "        ax.spines[spine].set_position(\"zero\")\n",
    "    \n",
    "    for spine in [\"right\", \"top\"]:\n",
    "        ax.spines[spine].set_color(\"none\")\n",
    "    \n",
    "    return ax\n",
    "\n",
    "def vect_fig(): \n",
    "    ax = move_spines()\n",
    "    \n",
    "    ax.set_xlim(-5, 5)\n",
    "    ax.set_ylim(-5, 5)\n",
    "    ax.grid()\n",
    "    vecs = [[2, 4], [-3, 3], [-4, -3.5]] # lista de vectores\n",
    "    for v in vecs:\n",
    "        ax.annotate(\" \", xy=v, xytext=[0, 0],\n",
    "                   arrowprops=dict(facecolor=\"blue\",\n",
    "                                  shrink=0,\n",
    "                                  alpha=0.7,\n",
    "                                  width=0.5))\n",
    "        ax.text(1.1 * v[0], 1.1 * v[1], v)"
   ]
  },
  {
   "cell_type": "code",
   "execution_count": null,
   "id": "2a00c228",
   "metadata": {},
   "outputs": [],
   "source": [
    "vect_fig() # crea el gráfico"
   ]
  },
  {
   "cell_type": "markdown",
   "id": "7ffb8a5e",
   "metadata": {},
   "source": [
    "Las operaciones más comunes que utilizamos cuando trabajamos con vectores son la suma, la resta y la multiplicación por escalares.\n",
    "\n",
    "Cuando sumamos dos vectores, vamos sumando elemento por elemento de cada vector. $$x + y = \\begin{bmatrix}\n",
    "x_1 \\\\\n",
    "x_2 \\\\\n",
    "\\vdots \\\\\n",
    "x_n\n",
    "\\end{bmatrix}\n",
    "+ \\begin{bmatrix}\n",
    "y_1 \\\\\n",
    "y_2 \\\\\n",
    "\\vdots \\\\\n",
    "y_n\n",
    "\\end{bmatrix}\n",
    ":=\n",
    "\\begin{bmatrix}\n",
    "x_1 + y_1 \\\\\n",
    "x_2 + y_2 \\\\\n",
    "\\vdots \\\\\n",
    "x_n + y_n\n",
    "\\end{bmatrix}$$"
   ]
  },
  {
   "cell_type": "code",
   "execution_count": null,
   "id": "f994d947",
   "metadata": {},
   "outputs": [],
   "source": [
    "# Definir los vectores\n",
    "x = np.array([1, 3, 5, 11/7, np.sqrt(22), 1/21, np.log(33)])\n",
    "y = np.array([random.random() for _ in range(7)])  # Convertimos a np.array para facilitar la suma\n",
    "\n",
    "# Sumar los vectores\n",
    "suma = x + y\n",
    "\n",
    "# Imprimir los resultados con formato mejorado\n",
    "print(\"Vector X:\")\n",
    "print(np.round(x, 4))  # Redondeo para mejor visualización\n",
    "print(\"\\nVector Y:\")\n",
    "print(np.round(y, 4))\n",
    "print(\"\\nX + Y:\")\n",
    "print(np.round(suma, 4))"
   ]
  },
  {
   "cell_type": "code",
   "execution_count": null,
   "id": "49da8e07",
   "metadata": {},
   "outputs": [],
   "source": [
    "v1 = np.array([0,0,2,7])\n",
    "v2 = np.array([0,0,3,5])\n",
    "\n",
    "v1_aux = np.array([v1[2],v1[3],v2[2],v2[3]])\n",
    "v1v2 = np.array([0,0,5,12])"
   ]
  },
  {
   "cell_type": "code",
   "execution_count": null,
   "id": "63482e48",
   "metadata": {},
   "outputs": [],
   "source": [
    "import seaborn as sns\n",
    "\n",
    "plt.quiver([v1[0], v1_aux[0], v1v2[0]],\n",
    "           [v1[1], v1_aux[1], v1v2[1]],\n",
    "           [v1[2], v1_aux[2], v1v2[2]],\n",
    "           [v1[3], v1_aux[3], v1v2[3]],\n",
    "           angles='xy', scale_units='xy', scale=1,\n",
    "           color=sns.color_palette())\n",
    "\n",
    "plt.xlim(-0.5,6)\n",
    "plt.ylim(-0.5,15)"
   ]
  },
  {
   "cell_type": "markdown",
   "id": "69d861ae",
   "metadata": {},
   "source": [
    "De forma similar funciona la operación de resta.\n",
    "$$x - y = \\begin{bmatrix}\n",
    "x_1 \\\\\n",
    "x_2 \\\\\n",
    "\\vdots \\\\\n",
    "x_n\n",
    "\\end{bmatrix}\n",
    "- \\begin{bmatrix}\n",
    "y_1 \\\\\n",
    "y_2 \\\\\n",
    "\\vdots \\\\\n",
    "y_n\n",
    "\\end{bmatrix}\n",
    ":=\n",
    "\\begin{bmatrix}\n",
    "x_1 - y_1 \\\\\n",
    "x_2 - y_2 \\\\\n",
    "\\vdots \\\\\n",
    "x_n - y_n\n",
    "\\end{bmatrix}$$"
   ]
  },
  {
   "cell_type": "code",
   "execution_count": null,
   "id": "2f6bceba",
   "metadata": {},
   "outputs": [],
   "source": [
    "# Operación de resta\n",
    "resta = x - y\n",
    "\n",
    "# Imprimir los resultados con formato mejorado\n",
    "print(\"Vector X:\")\n",
    "print(np.round(x, 4))  # Redondeo para mejor visualización\n",
    "print(\"\\nVector Y:\")\n",
    "print(np.round(y, 4))\n",
    "print(\"\\nX - Y:\")\n",
    "print(np.round(resta, 4))"
   ]
  },
  {
   "cell_type": "markdown",
   "id": "9ec7b7b8",
   "metadata": {},
   "source": [
    "La multiplicación por escalares es una operación que toma a un número $\\gamma$, y a un vector $\\mathbf{x}$, y produce un nuevo vector donde cada elemento del vector $\\mathbf{x}$ es multiplicado por el número $\\gamma$.\n",
    "$$\\gamma \\mathbf{x} := \\begin{bmatrix}\n",
    "\\gamma x_1 \\\\\n",
    "\\gamma x_2 \\\\\n",
    "\\vdots \\\\\n",
    "\\gamma x_n\n",
    "\\end{bmatrix}\n",
    "$$"
   ]
  },
  {
   "cell_type": "markdown",
   "id": "fb1e15ca",
   "metadata": {},
   "source": [
    "Evaluar los siguientes vectores: \n",
    "$$A=\\frac{1}{17}X, \\hspace{2mm} B=\\sqrt{17}Y, \\hspace{2mm} C=\\frac{1}{32}X - e^{-5}Y$$"
   ]
  },
  {
   "cell_type": "code",
   "execution_count": null,
   "id": "5946025e",
   "metadata": {
    "scrolled": true
   },
   "outputs": [],
   "source": [
    "# Definir los nuevos vectores\n",
    "A = (1/17) * x\n",
    "B = np.sqrt(17) * y\n",
    "C = (1/32) * x - np.exp(-5) * y\n",
    "\n",
    "# Imprimir los resultados con formato mejorado\n",
    "print(\"Vector A:\")\n",
    "print(np.round(A, 4))  # Redondeo para mejor visualización\n",
    "print(\"\\nVector B:\")\n",
    "print(np.round(B, 4))\n",
    "print(\"\\nVector C:\")\n",
    "print(np.round(C, 4))"
   ]
  },
  {
   "cell_type": "code",
   "execution_count": null,
   "id": "4279a870",
   "metadata": {},
   "outputs": [],
   "source": [
    "v1 = np.array([2,5])\n",
    "v2 = np.array([3,2])\n",
    "v1v2 = 2*v1 + 1*v2\n",
    "v1v2"
   ]
  },
  {
   "cell_type": "code",
   "execution_count": null,
   "id": "27a3b10b",
   "metadata": {},
   "outputs": [],
   "source": [
    "def graficarVectores(vecs, cols, alpha=1):\n",
    "\n",
    "  plt.figure()\n",
    "  plt.axvline(x=0, color='grey', zorder=0)\n",
    "  plt.axhline(y=0, color='grey', zorder=0)\n",
    "\n",
    "  for i in range(len(vecs)):\n",
    "    x = np.concatenate([[0,0], vecs[i]])\n",
    "    plt.quiver([x[0]],\n",
    "               [x[1]],\n",
    "               [x[2]],\n",
    "               [x[3]],\n",
    "               angles='xy', scale_units='xy', scale=1, color=cols[i], alpha=alpha)"
   ]
  },
  {
   "cell_type": "code",
   "execution_count": null,
   "id": "4f283d12",
   "metadata": {},
   "outputs": [],
   "source": [
    "graficarVectores([v1, v2, v1v2], ['orange', 'blue', 'red'])\n",
    "plt.xlim(-1,8)\n",
    "plt.ylim(-1,12)"
   ]
  },
  {
   "cell_type": "markdown",
   "id": "e12af1b5",
   "metadata": {},
   "source": [
    "El producto escalar de dos vectores se define como la suma de los productos de sus elementos, y se representa matemáticamente como $\\langle \\mathbf{x}, \\mathbf{y} \\rangle$ o $\\mathbf{x}' \\mathbf{y}$, donde $\\mathbf{x}$ e $\\mathbf{y}$ son dos vectores.\n",
    "$$\\langle \\mathbf{x}, \\mathbf{y} \\rangle := \\sum_{i=1}^{n} x_i y_i$$"
   ]
  },
  {
   "cell_type": "code",
   "execution_count": null,
   "id": "7cc9a61a",
   "metadata": {},
   "outputs": [],
   "source": [
    "# Calculando el producto escalar de los vectores x e y\n",
    "x @ y"
   ]
  },
  {
   "cell_type": "code",
   "execution_count": null,
   "id": "3fa7af6d",
   "metadata": {},
   "outputs": [],
   "source": [
    "#Otras formas de calcular el producto interno\n",
    "f1=sum(x * y)\n",
    "f2=np.dot(x, y)\n",
    "print(\"Primera forma: \",f1)\n",
    "print(\"Segunda forma: \",f2)"
   ]
  },
  {
   "cell_type": "markdown",
   "id": "9f07b618",
   "metadata": {},
   "source": [
    "Todo producto escalar induce una norma sobre el espacio en el que está definido, de la siguiente manera: $$\\|\\mathbf{x}\\| := \\sqrt{\\langle \\mathbf{x}, \\mathbf{x} \\rangle} := \\left( \\sum_{i=1}^{n} x_i^2 \\right)^{1/2}\n",
    "$$"
   ]
  },
  {
   "cell_type": "code",
   "execution_count": null,
   "id": "474092bc",
   "metadata": {},
   "outputs": [],
   "source": [
    "#Calculando la norma de X\n",
    "np.linalg.norm(x)"
   ]
  },
  {
   "cell_type": "code",
   "execution_count": null,
   "id": "b9b9e027",
   "metadata": {
    "scrolled": false
   },
   "outputs": [],
   "source": [
    "# otra forma de calcular la norma de x\n",
    "np.sqrt(x @ x)"
   ]
  },
  {
   "cell_type": "markdown",
   "id": "0de9f3a6",
   "metadata": {},
   "source": [
    "### **APLICACIÓN**"
   ]
  },
  {
   "cell_type": "markdown",
   "id": "ed222b76",
   "metadata": {},
   "source": [
    "Supongamos que queremos recomendar películas a un usuario basado en sus preferencias. Podemos representar cada película con un vector que contiene características como:\n",
    "- Género Acción (1 si es de acción, 0 si no)\n",
    "- Género Comedia (1 si es comedia, 0 si no)\n",
    "- Duración (en minutos)\n",
    "- Puntuación de IMDb (de 0 a 10)\n",
    "- Número de votos en IMDb\n",
    "- Popularidad (escala 0-100)\n",
    "- Presupuesto en millones de dólares\n",
    "- Ingresos en millones de dólares\n",
    "\n",
    "Si un usuario tiene preferencias representadas un determinado vector de preferencias, Podemos calcular la similitud del coseno entre $U$ y cada película $P_i$, lo que nos dirá cuál es la película más parecida a los gustos del usuario."
   ]
  },
  {
   "cell_type": "code",
   "execution_count": null,
   "id": "2ed49575",
   "metadata": {},
   "outputs": [],
   "source": [
    "# Fijar la semilla para reproducibilidad\n",
    "np.random.seed(42)\n",
    "\n",
    "# Generar 50 películas con 8 características\n",
    "num_peliculas = 50\n",
    "genero_accion = np.random.choice([0, 1], size=num_peliculas)  # 0 o 1\n",
    "genero_comedia = np.random.choice([0, 1], size=num_peliculas)  # 0 o 1\n",
    "duracion = np.random.randint(80, 180, size=num_peliculas)  # Duración entre 80 y 180 min\n",
    "imdb = np.random.uniform(4.0, 10.0, size=num_peliculas)  # Puntuación entre 4 y 10\n",
    "votos_imdb = np.random.randint(1000, 1500000, size=num_peliculas)  # Votos entre 1,000 y 1,500,000\n",
    "popularidad = np.random.uniform(0, 100, size=num_peliculas)  # Popularidad de 0 a 100\n",
    "presupuesto = np.random.uniform(1, 300, size=num_peliculas)  # Presupuesto entre 1 y 300 millones\n",
    "ingresos = np.random.uniform(10, 2000, size=num_peliculas)  # Ingresos entre 10 y 2000 millones"
   ]
  },
  {
   "cell_type": "code",
   "execution_count": null,
   "id": "e75d5b36",
   "metadata": {},
   "outputs": [],
   "source": [
    "# Crear la matriz de características\n",
    "peliculas = np.column_stack([genero_accion, genero_comedia, duracion, imdb, votos_imdb, popularidad, presupuesto, ingresos])\n",
    "datos = pd.DataFrame(peliculas,columns=['Acción', 'Comedia', 'Duración', 'IMDb', 'Votos IMDb', 'Popularidad', 'Presupuesto', 'Ingresos'])\n",
    "datos"
   ]
  },
  {
   "cell_type": "code",
   "execution_count": null,
   "id": "2bc90c28",
   "metadata": {},
   "outputs": [],
   "source": [
    "# Definir el vector de usuario U con los mismos rangos\n",
    "U = np.array([\n",
    "    np.random.choice([0, 1]),  # Género Acción\n",
    "    np.random.choice([0, 1]),  # Género Comedia\n",
    "    np.random.randint(60, 120),  # Duración\n",
    "    np.random.uniform(4.0, 7.0),  # IMDb\n",
    "    np.random.randint(1000, 1500),  # Votos IMDb\n",
    "    np.random.uniform(0, 55),  # Popularidad\n",
    "    np.random.uniform(1, 100),  # Presupuesto\n",
    "    np.random.uniform(10, 100)  # Ingresos\n",
    "])\n",
    "U"
   ]
  },
  {
   "cell_type": "code",
   "execution_count": null,
   "id": "5ea27b2c",
   "metadata": {},
   "outputs": [],
   "source": [
    "# Función para calcular la similitud del coseno\n",
    "def cosine_similarity(a, b):\n",
    "    return np.dot(a, b) / (np.linalg.norm(a) * np.linalg.norm(b))"
   ]
  },
  {
   "cell_type": "code",
   "execution_count": null,
   "id": "326cd09c",
   "metadata": {},
   "outputs": [],
   "source": [
    "# Calcular la similitud del coseno entre U y cada película\n",
    "similitudes = np.array([cosine_similarity(U, pelicula) for pelicula in peliculas])\n",
    "\n",
    "# Crear un DataFrame para visualizar los resultados\n",
    "df = pd.DataFrame(peliculas, columns=['Acción', 'Comedia', 'Duración', 'IMDb', 'Votos IMDb', 'Popularidad', 'Presupuesto', 'Ingresos'])\n",
    "df['Similitud'] = similitudes\n",
    "\n",
    "# Ordenar por similitud (de mayor a menor)\n",
    "df_sorted = df.sort_values(by=\"Similitud\", ascending=False)\n",
    "\n",
    "# Mostrar las 5 películas más cercanas\n",
    "print(\"🎬 5 películas más cercanas al usuario:\")\n",
    "df_sorted.head(5)"
   ]
  },
  {
   "cell_type": "markdown",
   "id": "01130467",
   "metadata": {},
   "source": [
    "# **SECCIÓN 4: VECTORES Y VALORES PROPIOS**"
   ]
  },
  {
   "cell_type": "markdown",
   "id": "0f44f9c8",
   "metadata": {},
   "source": [
    "## **Polinomio característico**"
   ]
  },
  {
   "cell_type": "markdown",
   "id": "a92daceb",
   "metadata": {},
   "source": [
    "Son esenciales para la Geometría los conceptos o elementos que permanecen invariantes bajo una transformación, pues mediante ellos es posible entender mejor el efecto de ésta. En el caso de las transformaciones lineales de un espacio vectorial en sí mismo, es importante determinar las direcciones que permanecen invariantes, es decir, aquellos subespacios de dimensión 1 cuyos elementos se transforman en otros pertenecientes al mismo subespacio.\n",
    "\n",
    "**Definición** Si $T: V \\rightarrow V$ es una transformación lineal, decimos que\n",
    "$v \\in V$ es un *vector propio* de $T$ si su transformado es múltiplo del\n",
    "vector, es decir, si para algún $\\lambda \\in \\mathbb{R}$ se tiene que\n",
    "    $$T(v) = \\lambda v$$\n",
    "El escalar $\\lambda$ se denomina *valor propio* de T.\n",
    "\n",
    "**Observación.** Como cualquier transformación lineal lleva al vector cero en el\n",
    "vector cero, este vector es vector propio de cualquier transformación lineal,\n",
    "por eso lo interesante es determinar los vectores propios no cero de una transformación lineal."
   ]
  },
  {
   "cell_type": "markdown",
   "id": "adf10488",
   "metadata": {},
   "source": [
    "En general no es tan sencillo entender el efecto geométrico de una cierta\n",
    "transformación lineal; para esos casos existe un instrumento algebraico que\n",
    "mecaniza la obtención de los elementos invariantes mediante la determinación\n",
    "de los valores y vectores característicos. El procedimiento es el siguiente:\n",
    "\n",
    "Sabemos que, dada $T: V \\rightarrow V$ lineal y fijada una base en $V$, existe una única matriz $M_T$ que al muliplicar por la izquierda al vector columna formado con las coordenadas de un vector $v$ en términos de esa base, produce el vector columna transformado del vector dado; en el caso de un vector propio, ese transformado debe ser $\\lambda v$:\n",
    "$$M_{T}v = \\lambda v,$$\n",
    "que también puede escribirse como\n",
    "$$M_{T}v - \\lambda v = 0,$$\n",
    "y si denotamos por $I$ la matriz identidad, podemos introducirla en el segundo\n",
    "sumando del lado izquierdo así:\n",
    "$$M_{T}v - \\lambda I v = 0.$$\n",
    "Por la propiedad distributiva del producto de matrices, el lado izquierdo\n",
    "puede escribirse en la forma\n",
    "$$(M_{T} - \\lambda I) v = 0.$$\n",
    "\n",
    "Ahora, esta ecuación matricial para $v$ admite soluciones no triviales si y solamente si el determinante de la matriz $M_{T} - \\lambda I$ es cero. Como el determinante es una expresión polinomial en las entradas de la correspondiente matriz se tiene la siguiente definición.\n",
    "\n",
    "**Definición.** El polinomio característico de $T$ es\n",
    "    $$p(\\lambda) := \\det(M_{T} - \\lambda I). \\qquad (1)$$\n",
    "\n",
    "Por definición, las raíces del polinomio característico son los valores propios de $T$."
   ]
  },
  {
   "cell_type": "code",
   "execution_count": null,
   "id": "4d1f3662",
   "metadata": {},
   "outputs": [],
   "source": [
    "import sympy as sym\n",
    "\n",
    "# Implementación de la función\n",
    "def matriz_de(transformacion):\n",
    "    transformacion = sym.sympify(transformacion)\n",
    "    Matriz = sym.Matrix([])\n",
    "    for key in transformacion:\n",
    "        Matriz = Matriz.col_insert(key.index(1), sym.Matrix(transformacion[key]))\n",
    "    return Matriz"
   ]
  },
  {
   "cell_type": "code",
   "execution_count": null,
   "id": "a6a51f13",
   "metadata": {},
   "outputs": [],
   "source": [
    "def polinomio_caracteristico(transformacion):\n",
    "    MT = matriz_de(transformacion) # Cálculo de la matriz de 'transformacion'\n",
    "    nn = len(tuple(transformacion.keys())[0]) # Dimensión de R^n\n",
    "    identidad = sym.eye(nn) # Crear la matriz identidad de tamaño n x n\n",
    "    MT_menos_XI = MT - (sym.sympify('X'))*identidad # MT - X*I, en este caso usamos la leta X en vez de \\lambda\n",
    "    return sym.factor(MT_menos_XI.det()) # Utilizamos la función factor() para factorizar lo mejor posible una expresión 'simbólica'"
   ]
  },
  {
   "cell_type": "markdown",
   "id": "b9f1d85d",
   "metadata": {},
   "source": [
    "**Ejemplo 1.** Calcule el polinomio característico de la transformación lineal $T: \\mathbb{R}^2 \\rightarrow \\mathbb{R}^2$ definida por \n",
    "\n",
    "$$T(x, y) = x(2, 1)+y(3, 4).$$\n",
    "\n",
    "El primer paso consiste en saber cómo actúa la transformación $T$\n",
    "en la base canónica de $\\mathbb{R}^2$ para poder construir la matriz $M_T$ asociada a la transformación:\n",
    "$$T(1, 0) = (2, 1) \\quad \\text{y} \\quad T(0, 1) = (3, 4).$$\n",
    "\n",
    "Con esta información ya podemos calcular el polinomio característico de $T$:"
   ]
  },
  {
   "cell_type": "code",
   "execution_count": null,
   "id": "776a6dd7",
   "metadata": {},
   "outputs": [],
   "source": [
    "T1 = {(1,0): (2,1), (0,1): (3,4)}\n",
    "polinomio_caracteristico(T1)"
   ]
  },
  {
   "cell_type": "markdown",
   "id": "05d9ba79",
   "metadata": {},
   "source": [
    "Esto nos dice que:\n",
    "$$p(\\lambda) = (\\lambda - 5)(\\lambda - 1).$$"
   ]
  },
  {
   "cell_type": "markdown",
   "id": "370f438e",
   "metadata": {},
   "source": [
    "**Ejemplo 2.** Calcule el polinomio característico de la transformación lineal $T: \\mathbb{R}^2 \\rightarrow \\mathbb{R}^2$ definida por \n",
    "\n",
    "$$T(x, y) = x(3, 4) + y(2, 1).$$\n",
    "\n",
    "La actuación de $T$ en la base canónica de $\\mathbb{R}^{2}$ es dada por\n",
    "$$T(1, 0) = (3, 4) \\quad \\text{y} \\quad T(0, 1) = (2, 1).$$\n",
    "\n",
    "Con esto ya podemos calcular el polinomio característico de $T$:"
   ]
  },
  {
   "cell_type": "code",
   "execution_count": null,
   "id": "f3abb5d7",
   "metadata": {},
   "outputs": [],
   "source": [
    "T2 = {(1,0): (3,4), (0,1): (2,1)}\n",
    "polinomio_caracteristico(T2)"
   ]
  },
  {
   "cell_type": "markdown",
   "id": "43659344",
   "metadata": {},
   "source": [
    "Esto nos dice que:\n",
    "$$p(\\lambda) = (\\lambda - 5)(\\lambda + 1).$$"
   ]
  },
  {
   "cell_type": "markdown",
   "id": "ca3c5154",
   "metadata": {},
   "source": [
    "**Ejemplo 3.** Calcule el polinomio característico de la transformación lineal $T: \\mathbb{R}^3 \\rightarrow \\mathbb{R}^3$ que determina una reflexión respecto al plano $YZ$, dada por\n",
    "\n",
    "$$T(1, 0, 0) = (-1, 0, 0), \\quad T(0, 1, 0) = (0, 1, 0) \\text{y} \\quad T(0, 0, 1) = (0, 0, 1):$$"
   ]
  },
  {
   "cell_type": "code",
   "execution_count": null,
   "id": "e9132011",
   "metadata": {},
   "outputs": [],
   "source": [
    "T3 = {(1,0,0): (-1,0,0), (0,1,0): (0,1,0), (0,0,1): (0,0,1)}\n",
    "polinomio_caracteristico(T3)"
   ]
  },
  {
   "cell_type": "markdown",
   "id": "437e97f9",
   "metadata": {},
   "source": [
    "Esto nos dice que:\n",
    "$$p(\\lambda) = -(\\lambda - 1)^2(\\lambda + 1).$$"
   ]
  },
  {
   "cell_type": "markdown",
   "id": "1f3f2139",
   "metadata": {},
   "source": [
    "**Ejemplo 4.** Calcule el polinomio característico de la transformación ortogonal de orden 3 correspondiente a la reflexión respecto al plano $x + y + z = 0$, dada por\n",
    "\n",
    "$$T(1, 0, 0) = (1/3, -2/3, -2/3), \\quad T(0, 1, 0) = (-2/3, 1/3, -2/3) \\quad  \\text{y} \\quad T(0, 0, 1) = (-2/3, -2/3, 1/3):$$"
   ]
  },
  {
   "cell_type": "code",
   "execution_count": null,
   "id": "10315b6c",
   "metadata": {},
   "outputs": [],
   "source": [
    "T4 = {(1,0,0): (1/3,-2/3,-2/3), (0,1,0): (-2/3,1/3,-2/3), (0,0,1): (-2/3,-2/3,1/3)}\n",
    "polinomio_caracteristico(T4)"
   ]
  },
  {
   "cell_type": "markdown",
   "id": "d5e0e311",
   "metadata": {},
   "source": [
    "## **Valores propios**"
   ]
  },
  {
   "cell_type": "markdown",
   "id": "972e8604",
   "metadata": {},
   "source": [
    "Ya que tenemos una función para calcular el polinomio característico de una transformación lineal lo siguiente es buscar una manera de determinar sus raices, es decir, los *valores propios* de la correspondiente transformación lineal. Esto se puede hacer de diferentes maneras mediante funciones que Python, en particular `SymPy`, nos provee. Para nuestros propósitos utilizaremos la función `solve()` de `SymPy` para implementar una función que retorne los valores propios de una transformación lineal. "
   ]
  },
  {
   "cell_type": "code",
   "execution_count": null,
   "id": "aea2a0c8",
   "metadata": {},
   "outputs": [],
   "source": [
    "def valores_propios(transformacion):\n",
    "    return sym.solve(polinomio_caracteristico(transformacion), sym.sympify('X'))"
   ]
  },
  {
   "cell_type": "markdown",
   "id": "6efad439",
   "metadata": {},
   "source": [
    "**Ejemplo 1.1** Para la transformación lineal $T: \\mathbb{R}^2 \\rightarrow \\mathbb{R}^2$ definida por \n",
    "\n",
    "$$T(x, y) = x(2, 1)+y(3, 4),$$\n",
    "o equivalentemente, por\n",
    "\n",
    "$$T(1, 0) = (2, 1) \\quad \\text{y} \\quad T(0, 1) = (3, 4),$$\n",
    "\n",
    "tenemos que el polinomio característico es\n",
    "$$p(\\lambda) = (\\lambda - 5)(\\lambda - 1).$$\n",
    "\n",
    "Es inmediato que los valores propios, raíces de este polinomio, son\n",
    "\n",
    "$$\\lambda_{1} = 1, \\qquad \\lambda_{2} = 5.$$\n",
    "\n",
    "Lo cual coincide con el resultado de la siguiente celda:"
   ]
  },
  {
   "cell_type": "code",
   "execution_count": null,
   "id": "c1b7ae2c",
   "metadata": {},
   "outputs": [],
   "source": [
    "T1 = {(1,0): (2,1), (0,1): (3,4)}\n",
    "valores_propios(T1)"
   ]
  },
  {
   "cell_type": "markdown",
   "id": "839d1a89",
   "metadata": {},
   "source": [
    "**Ejemplo 2.1** Para la transformación lineal $T: \\mathbb{R}^2 \\rightarrow \\mathbb{R}^2$ definida por \n",
    "\n",
    "$$T(1, 0) = (3, 4) \\quad \\text{y} \\quad T(0, 1) = (2, 1),$$\n",
    "\n",
    "tenemos que el polinomio característico es\n",
    "$$p(\\lambda) = (\\lambda - 5)(\\lambda + 1).$$\n",
    "\n",
    "Es inmediato que los valores propios de $T$ son\n",
    "\n",
    "$$\\lambda_{1} = -1, \\qquad \\lambda_{2} = 5.$$\n",
    "\n",
    "Lo cual coincide con el resultado de la siguiente celda:"
   ]
  },
  {
   "cell_type": "code",
   "execution_count": null,
   "id": "16395080",
   "metadata": {},
   "outputs": [],
   "source": [
    "T2 = {(1,0): (3,4), (0,1): (2,1)}\n",
    "valores_propios(T2)"
   ]
  },
  {
   "cell_type": "markdown",
   "id": "1582a835",
   "metadata": {},
   "source": [
    "**Ejemplo 3.1** Para la transformación lineal $T: \\mathbb{R}^3 \\rightarrow \\mathbb{R}^3$ que determina una reflexión respecto al plano $YZ$, dada por\n",
    "\n",
    "$$T(1, 0, 0) = (-1, 0, 0), \\quad T(0, 1, 0) = (0, 1, 0) \\text{y} \\quad T(0, 0, 1) = (0, 0, 1):$$\n",
    "\n",
    "tenemos que el polinomio característico es\n",
    "$$p(\\lambda) = -(\\lambda - 1)^2(\\lambda + 1).$$\n",
    "\n",
    "Es inmediato que los valores propios de $T$ son\n",
    "\n",
    "$$\\lambda_{1} = -1, \\qquad \\lambda_{2} = \\lambda_{3} = 1.$$\n",
    "\n",
    "Lo cual coincide con el resultado de la siguiente celda:"
   ]
  },
  {
   "cell_type": "code",
   "execution_count": null,
   "id": "ad0d6b4e",
   "metadata": {},
   "outputs": [],
   "source": [
    "T3 = {(1,0,0): (-1,0,0), (0,1,0): (0,1,0), (0,0,1): (0,0,1)}\n",
    "valores_propios(T3)"
   ]
  },
  {
   "cell_type": "code",
   "execution_count": null,
   "id": "4350ec54",
   "metadata": {},
   "outputs": [],
   "source": [
    "# Definir una matriz\n",
    "A = np.array([[4, 1],\n",
    "              [2, 3]])\n",
    "\n",
    "# Calcular los valores propios y los vectores propios\n",
    "eigenvalues, eigenvectors = np.linalg.eig(A)\n",
    "\n",
    "print(\"Valores propios:\", eigenvalues)"
   ]
  },
  {
   "cell_type": "code",
   "execution_count": null,
   "id": "f6e2ff20",
   "metadata": {},
   "outputs": [],
   "source": [
    "B = np.random.randn(3, 3)\n",
    "# Calcular los valores propios y los vectores propios\n",
    "eigenvalues, eigenvectors = np.linalg.eig(B)\n",
    "\n",
    "print(\"Valores propios:\", eigenvalues)"
   ]
  },
  {
   "cell_type": "code",
   "execution_count": null,
   "id": "827d0604",
   "metadata": {},
   "outputs": [],
   "source": [
    "C = np.random.normal(3, 0.2, size=(4, 4))\n",
    "# Calcular los valores propios y los vectores propios\n",
    "eigenvalues, eigenvectors = np.linalg.eig(C)\n",
    "\n",
    "print(\"Valores propios:\")\n",
    "print(eigenvalues)"
   ]
  },
  {
   "cell_type": "markdown",
   "id": "5dd8555c",
   "metadata": {},
   "source": [
    "## **Vectores propios**"
   ]
  },
  {
   "cell_type": "markdown",
   "id": "a8419b6a",
   "metadata": {},
   "source": [
    "Finalmente, una vez determinados los valores propios de una transformación lineal lo siguiente es calcular los vectores propios asociados. Para esto recurriremos nuevamente a la función `solve()` de `SymPy`."
   ]
  },
  {
   "cell_type": "code",
   "execution_count": null,
   "id": "94fb2128",
   "metadata": {},
   "outputs": [],
   "source": [
    "def vectores_propios(transformacion):\n",
    "    MT = matriz_de(transformacion) # Cálculo de la matriz de 'transformacion'\n",
    "    nn = len(tuple(transformacion.keys())[0]) # Dimensión de R^n\n",
    "    identidad = sym.eye(nn) # Crear la matriz identidad de tamaño n x n\n",
    "    vv = sym.symbols(f'v1:{nn + 1}') # Crear vector 'arbitrario'\n",
    "    vv_vector = sym.Matrix(vv) # Convertir vv a una matriz 'simbólica'\n",
    "    vect_prop = dict() # Un diccionario vacío para guardar los valores propios y los correspondientes vectores propios\n",
    "    val_prop = valores_propios(transformacion)\n",
    "    for X in val_prop: # Para cada valor propio hacer:\n",
    "        MT_menos_XI = MT - sym.sympify(X)*identidad # MT - X*I, en este caso usamos la leta X en vez de \\lambda\n",
    "        MT_menos_XI_vv = MT_menos_XI * vv_vector # Producto de MT - X*I por el vector v, esto es, (MT - X*I)v\n",
    "        vect_prop[f'X = {X}'] = sym.solve(MT_menos_XI_vv, vv) # Resolver el sistema dado por la ecuación (MT - X*I)v = 0\n",
    "    return vect_prop"
   ]
  },
  {
   "cell_type": "markdown",
   "id": "d85af872",
   "metadata": {},
   "source": [
    "**Ejemplo 1.1.1** Para la transformación lineal $T: \\mathbb{R}^2 \\rightarrow \\mathbb{R}^2$ definida por \n",
    "\n",
    "$$T(1, 0) = (2, 1) \\quad \\text{y} \\quad T(0, 1) = (3, 4),$$\n",
    "\n",
    "tenemos que los valores propios son\n",
    "\n",
    "$$\\lambda_{1} = 1, \\qquad \\lambda_{2} = 5.$$\n",
    "\n",
    "Los respectivos vectores propios están determinados por:"
   ]
  },
  {
   "cell_type": "code",
   "execution_count": null,
   "id": "a7fa29d6",
   "metadata": {},
   "outputs": [],
   "source": [
    "T1 = {(1,0): (2,1), (0,1): (3,4)}\n",
    "vectores_propios(T1)"
   ]
  },
  {
   "cell_type": "markdown",
   "id": "0918b796",
   "metadata": {},
   "source": [
    "Lo que nos dice que:\n",
    "> Para $\\lambda_{1} = 1$ se tiene la familia de vectores propios\n",
    "    $$v = (-3v_2, v_2) = (v_1,-\\tfrac{1}{3}v_1).$$\n",
    "\n",
    "> Para $\\lambda_{1} = 5$ se tiene la familia de vectores propios\n",
    "    $$v = (v_1,v_1).$$"
   ]
  },
  {
   "cell_type": "markdown",
   "id": "cd29351e",
   "metadata": {},
   "source": [
    "**Ejemplo 2.1.1** Para la transformación lineal $T: \\mathbb{R}^2 \\rightarrow \\mathbb{R}^2$ definida por \n",
    "\n",
    "$$T(1, 0) = (3, 4) \\quad \\text{y} \\quad T(0, 1) = (2, 1),$$\n",
    "\n",
    "tenemos que los valores propios son\n",
    "\n",
    "$$\\lambda_{1} = -1, \\qquad \\lambda_{2} = 5.$$\n",
    "\n",
    "Los respectivos vectores propios están determinados por:"
   ]
  },
  {
   "cell_type": "code",
   "execution_count": null,
   "id": "9b21776d",
   "metadata": {},
   "outputs": [],
   "source": [
    "T2 = {(1,0): (3,4), (0,1): (2,1)}\n",
    "vectores_propios(T2)"
   ]
  },
  {
   "cell_type": "markdown",
   "id": "547c7879",
   "metadata": {},
   "source": [
    "Lo que nos dice que:\n",
    "> Para $\\lambda_{1} = -1$ se tiene la familia de vectores propios\n",
    "    $$v = (-\\tfrac{1}{2}v_2, v_2) = (v_1,-2v_1).$$\n",
    "\n",
    "> Para $\\lambda_{1} = 5$ se tiene la familia de vectores propios\n",
    "    $$v = (v_1,v_1).$$"
   ]
  },
  {
   "cell_type": "markdown",
   "id": "bc1d6a08",
   "metadata": {},
   "source": [
    "**Ejemplo 3.1.1** Para la transformación lineal $T: \\mathbb{R}^2 \\rightarrow \\mathbb{R}^2$ definida por \n",
    "\n",
    "$$T(1, 0, 0) = (-1, 0, 0), \\quad T(0, 1, 0) = (0, 1, 0) \\text{y} \\quad T(0, 0, 1) = (0, 0, 1):$$\n",
    "\n",
    "tenemos que los valores propios son\n",
    "\n",
    "$$\\lambda_{1} = -1, \\qquad \\lambda_{2} = \\lambda_{3} = 1.$$\n",
    "\n",
    "Los respectivos vectores propios están determinados por:"
   ]
  },
  {
   "cell_type": "code",
   "execution_count": null,
   "id": "db8b1034",
   "metadata": {},
   "outputs": [],
   "source": [
    "T3 = {(1,0,0): (-1,0,0), (0,1,0): (0,1,0), (0,0,1): (0,0,1)}\n",
    "vectores_propios(T3)"
   ]
  },
  {
   "cell_type": "markdown",
   "id": "415af8e5",
   "metadata": {},
   "source": [
    "Lo que nos dice que:\n",
    "> Para $\\lambda_{1} = -1$ se tiene la familia de vectores propios\n",
    "    $$v = (v_1,0,0).$$\n",
    "\n",
    "> Para $\\lambda_{1} = 5$ se tiene la familia de vectores propios\n",
    "    $$v = (0,v_2,v_3).$$"
   ]
  },
  {
   "cell_type": "code",
   "execution_count": null,
   "id": "7f8aa743",
   "metadata": {},
   "outputs": [],
   "source": [
    "A = np.array([[4, 1],\n",
    "              [2, 3]])\n",
    "\n",
    "# Calcular los valores propios y los vectores propios\n",
    "eigenvalues, eigenvectors = np.linalg.eig(A)\n",
    "\n",
    "print(\"Valores propios:\")\n",
    "print(eigenvalues)\n",
    "print(\" \")\n",
    "print(\"Vectores propios: \")\n",
    "print(eigenvectors)"
   ]
  },
  {
   "cell_type": "code",
   "execution_count": null,
   "id": "9a50e33f",
   "metadata": {},
   "outputs": [],
   "source": [
    "B = np.random.uniform(low=0, high=14, size=(5, 5))\n",
    "B = (B+B.T)/2\n",
    "\n",
    "# Calcular los valores propios y los vectores propios\n",
    "eigenvalues, eigenvectors = np.linalg.eig(B)\n",
    "\n",
    "print(\"Valores propios:\")\n",
    "print(eigenvalues)\n",
    "print(\" \")\n",
    "print(\"Vectores propios: \")\n",
    "print(eigenvectors)"
   ]
  },
  {
   "cell_type": "code",
   "execution_count": null,
   "id": "89735271",
   "metadata": {},
   "outputs": [],
   "source": [
    "C = np.random.normal(3, 0.2, size=(6, 6))\n",
    "C = (C+C.T)/2\n",
    "\n",
    "# Calcular los valores propios y los vectores propios\n",
    "eigenvalues, eigenvectors = np.linalg.eig(C)\n",
    "\n",
    "print(\"Valores propios:\")\n",
    "print(eigenvalues)\n",
    "print(\" \")\n",
    "print(\"Vectores propios: \")\n",
    "print(eigenvectors)"
   ]
  },
  {
   "cell_type": "markdown",
   "id": "5d9e6227",
   "metadata": {},
   "source": [
    "### **APLICACIÓN CON DATOS FINANCIEROS**"
   ]
  },
  {
   "cell_type": "code",
   "execution_count": null,
   "id": "d9f98956",
   "metadata": {},
   "outputs": [],
   "source": [
    "import yfinance as yf\n",
    "import numpy as np\n",
    "import pandas as pd\n",
    "import matplotlib.pyplot as plt\n",
    "from sklearn.decomposition import PCA"
   ]
  },
  {
   "cell_type": "code",
   "execution_count": null,
   "id": "38835f5e",
   "metadata": {},
   "outputs": [],
   "source": [
    "# Definir los tickers de 20 activos\n",
    "tickers = [\n",
    "    'AAPL', 'GOOG', 'AMZN', 'MSFT', 'TSLA', 'META', 'NVDA', 'SPY', 'IBM', 'CSCO', \n",
    "    'NFLX', 'AMD', 'WMT', 'BA', 'DIS', 'PYPL', 'V', 'GS', 'KO', 'PEP'\n",
    "]\n",
    "\n",
    "# Descargar los datos de Yahoo Finance\n",
    "datos = yf.download(tickers, start='2017-01-01', end='2023-01-01')['Close']\n",
    "datos"
   ]
  },
  {
   "cell_type": "code",
   "execution_count": null,
   "id": "b185d4c7",
   "metadata": {},
   "outputs": [],
   "source": [
    "# Graficar los datos de las 20 acciones\n",
    "plt.figure(figsize=(14, 7))\n",
    "for ticker in tickers:\n",
    "    plt.plot(datos.index, datos[ticker], label=ticker)\n",
    "\n",
    "plt.title('Precios Ajustados de Cierre de 20 Acciones (2017-2023)')\n",
    "plt.xlabel('Fecha')\n",
    "plt.ylabel('Precio Ajustado de Cierre')\n",
    "plt.legend(loc='upper left', bbox_to_anchor=(1, 1), ncol=1)\n",
    "plt.grid(False)\n",
    "plt.tight_layout()\n",
    "plt.show()"
   ]
  },
  {
   "cell_type": "code",
   "execution_count": null,
   "id": "7fa9f745",
   "metadata": {},
   "outputs": [],
   "source": [
    "# Calcular los rendimientos diarios de cada activo\n",
    "rendimientos = datos.pct_change().dropna()\n",
    "rendimientos"
   ]
  },
  {
   "cell_type": "code",
   "execution_count": null,
   "id": "f319fcd8",
   "metadata": {},
   "outputs": [],
   "source": [
    "# Graficar los rendimientos diarios de cada activo\n",
    "plt.figure(figsize=(14, 7))\n",
    "for ticker in tickers:\n",
    "    plt.plot(rendimientos.index, rendimientos[ticker], label=ticker)\n",
    "\n",
    "plt.title('Rendimientos Diarios de 20 Acciones (2017-2023)')\n",
    "plt.xlabel('Fecha')\n",
    "plt.ylabel('Rendimiento Diario')\n",
    "plt.legend(loc='upper left', bbox_to_anchor=(1, 1), ncol=1)\n",
    "plt.grid(False)\n",
    "plt.tight_layout()\n",
    "plt.show()"
   ]
  },
  {
   "cell_type": "code",
   "execution_count": null,
   "id": "99f0c66c",
   "metadata": {},
   "outputs": [],
   "source": [
    "# Paso 1: Calcular la matriz de correlación\n",
    "matriz_correlacion = rendimientos.corr()\n",
    "matriz_correlacion"
   ]
  },
  {
   "cell_type": "code",
   "execution_count": null,
   "id": "513ea3ce",
   "metadata": {},
   "outputs": [],
   "source": [
    "# Crear el heatmap\n",
    "plt.figure(figsize=(12, 8))\n",
    "cax = plt.imshow(matriz_correlacion, cmap='coolwarm', interpolation='nearest')\n",
    "plt.xticks(np.arange(len(tickers)), tickers, rotation=90)\n",
    "plt.yticks(np.arange(len(tickers)), tickers)\n",
    "plt.colorbar(cax)\n",
    "\n",
    "for i in range(len(tickers)):\n",
    "    for j in range(len(tickers)):\n",
    "        plt.text(j, i, f'{matriz_correlacion.iloc[i, j]:.2f}', ha='center', va='center', color='black', fontsize=10)\n",
    "\n",
    "plt.title('Matriz de Correlación de Rendimientos Diarios (2017-2023)', fontsize=16)\n",
    "plt.tight_layout()\n",
    "plt.grid(False)\n",
    "plt.show()"
   ]
  },
  {
   "cell_type": "code",
   "execution_count": null,
   "id": "0a9c9c6c",
   "metadata": {},
   "outputs": [],
   "source": [
    "# Paso 2: Aplicar PCA (Análisis de Componentes Principales)\n",
    "pca = PCA()\n",
    "pca.fit(matriz_correlacion)"
   ]
  },
  {
   "cell_type": "code",
   "execution_count": null,
   "id": "29110c22",
   "metadata": {},
   "outputs": [],
   "source": [
    "# Paso 3: Obtener los valores propios (varianza explicada) y los vectores propios\n",
    "valores_propios = pca.explained_variance_\n",
    "vectores_propios = pca.components_"
   ]
  },
  {
   "cell_type": "code",
   "execution_count": null,
   "id": "8d68cc3f",
   "metadata": {},
   "outputs": [],
   "source": [
    "# Paso 4: Visualizar la varianza explicada por cada componente\n",
    "plt.figure(figsize=(10, 6))\n",
    "plt.bar(range(1, len(valores_propios) + 1), valores_propios, alpha=0.7, align='center', label='Varianza Explicada')\n",
    "plt.ylabel('Varianza Explicada')\n",
    "plt.xlabel('Componentes Principales')\n",
    "plt.title('Varianza Explicada por cada Componente Principal (PCA)')\n",
    "plt.show()"
   ]
  },
  {
   "cell_type": "code",
   "execution_count": null,
   "id": "05b26473",
   "metadata": {},
   "outputs": [],
   "source": [
    "# Paso 5: Imprimir los resultados\n",
    "print(\"Valores propios (varianza explicada por cada componente):\")\n",
    "print(valores_propios)"
   ]
  },
  {
   "cell_type": "code",
   "execution_count": null,
   "id": "bc681d26",
   "metadata": {},
   "outputs": [],
   "source": [
    "print(\"\\nVectores propios (combinaciones lineales de activos):\")\n",
    "print(vectores_propios)"
   ]
  },
  {
   "cell_type": "code",
   "execution_count": null,
   "id": "e0d0ab4a",
   "metadata": {},
   "outputs": [],
   "source": [
    "# Paso 6: Mostrar los 5 primeros activos con mayor peso en el primer componente principal\n",
    "# Esto es útil para entender qué activos están dominando el riesgo de la cartera\n",
    "primer_componente = vectores_propios[0]\n",
    "activos_primer_componente = pd.DataFrame({'Activo': tickers, 'Peso en Componente 1': primer_componente})\n",
    "activos_primer_componente = activos_primer_componente.sort_values(by='Peso en Componente 1', ascending=False)\n",
    "print(\"\\nActivos más relevantes en el primer componente principal:\")\n",
    "print(activos_primer_componente.head())"
   ]
  },
  {
   "cell_type": "markdown",
   "id": "ff7119f1",
   "metadata": {},
   "source": [
    "**El análisis de los vectores y valores propios en el contexto de la cartera revela que el primer componente principal, que captura la mayor parte de la varianza del rendimiento de la cartera, está dominado por activos como CSCO (Cisco) y DIS (Disney), los cuales tienen los mayores pesos. Esto indica que estos activos explican en gran medida el comportamiento general del riesgo de la cartera, lo que sugiere que la volatilidad y las fluctuaciones de la cartera están fuertemente influenciadas por ellos. Los valores propios asociados reflejan la magnitud de esta influencia, y los activos con los mayores valores propios son los que tienen un impacto más significativo en el riesgo global de la cartera.**"
   ]
  },
  {
   "cell_type": "code",
   "execution_count": null,
   "id": "58c07ea6",
   "metadata": {},
   "outputs": [],
   "source": [
    "# Mostrar los 5 primeros activos con mayor peso en el segundo componente principal\n",
    "segundo_componente = vectores_propios[1]\n",
    "activos_segundo_componente = pd.DataFrame({'Activo': tickers, 'Peso en Componente 2': segundo_componente})\n",
    "activos_segundo_componente = activos_segundo_componente.sort_values(by='Peso en Componente 2', ascending=False)\n",
    "print(\"\\nActivos más relevantes en el segundo componente principal:\")\n",
    "print(activos_segundo_componente.head())"
   ]
  },
  {
   "cell_type": "markdown",
   "id": "1c14f7ad",
   "metadata": {},
   "source": [
    "**El segundo componente principal muestra que los activos más relevantes son CSCO (Cisco), IBM, KO (Coca-Cola), SPY (ETF del S&P 500) y V (Visa), con pesos relativamente altos en dicho componente. Esto sugiere que este grupo de activos está asociado con otro patrón de riesgo diferente al capturado por el primer componente. Específicamente, estos activos podrían estar correlacionados entre sí en términos de comportamiento de precios, lo que implica que son sensibles a factores comunes del mercado, como el sector tecnológico (CSCO y IBM), el sector de consumo (KO), y el mercado en general (SPY y V).**"
   ]
  },
  {
   "cell_type": "code",
   "execution_count": null,
   "id": "e69e1621",
   "metadata": {},
   "outputs": [],
   "source": [
    "# Mostrar los 5 primeros activos con mayor peso en el tercer componente principal\n",
    "tercer_componente = vectores_propios[2]\n",
    "activos_tercer_componente = pd.DataFrame({'Activo': tickers, 'Peso en Componente 3': tercer_componente})\n",
    "activos_tercer_componente = activos_tercer_componente.sort_values(by='Peso en Componente 3', ascending=False)\n",
    "print(\"\\nActivos más relevantes en el tercer componente principal:\")\n",
    "print(activos_tercer_componente.head())"
   ]
  },
  {
   "cell_type": "markdown",
   "id": "7c6cad65",
   "metadata": {},
   "source": [
    "**El tercer componente principal destaca a MSFT (Microsoft), SPY (ETF del S&P 500), META (Meta Platforms), GS (Goldman Sachs) y KO (Coca-Cola), con pesos significativos en dicho componente. Este componente refleja un patrón de riesgo que parece estar asociado a las grandes tecnológicas (MSFT y META), el mercado general (SPY), el sector financiero (GS) y el consumo (KO). La presencia destacada de Microsoft y Meta sugiere una relación fuerte con el rendimiento de las acciones tecnológicas, mientras que SPY indica sensibilidad a los movimientos del mercado en general. El peso de Goldman Sachs sugiere que el componente también captura influencias macroeconómicas y financieras, mientras que el menor peso de KO refleja una menor influencia del sector de consumo en este componente específico**"
   ]
  },
  {
   "cell_type": "markdown",
   "id": "b04ba2bb",
   "metadata": {},
   "source": [
    "# **SECCIÓN 5: FACTORIZACIÓN DE MATRICES**"
   ]
  },
  {
   "cell_type": "markdown",
   "id": "cf7271a9",
   "metadata": {},
   "source": [
    "## **Factorización LU**"
   ]
  },
  {
   "cell_type": "markdown",
   "id": "63969f85",
   "metadata": {},
   "source": [
    "La factorización LU descompone una matriz cuadrada \\( A \\) en el producto de dos matrices, \\( L \\) y \\( U \\), donde:\n",
    "$$A= L \\cdot U$$\n",
    "- \\( L \\) es una matriz triangular inferior con unos en su diagonal principal.\n",
    "- \\( U \\) es una matriz triangular superior.\n",
    "\n",
    "**Procedimiento**\n",
    "1. Se realiza la descomposición de \\( A \\) en dos matrices: \\( L \\) (triangular inferior) y \\( U \\) (triangular superior), de manera que, al multiplicarlas, se obtenga la matriz original.\n",
    "2. La matriz \\( L \\) tiene valores en su diagonal principal iguales a 1.\n",
    "3. La matriz \\( U \\) tiene todos los valores debajo de la diagonal principal iguales a 0.\n",
    "\n",
    "La factorización LU se usa principalmente para resolver sistemas de ecuaciones lineales de la forma \\( A \\cdot x = b \\). Si se conoce la factorización \\( A = L \\cdot U \\), el sistema puede resolverse en dos pasos:\n",
    "- Resuelve $L \\cdot y = b$ para \\( y \\) mediante sustitución hacia adelante.\n",
    "- Luego resuelve $U \\cdot x = y $ para \\( x \\) mediante sustitución hacia atrás."
   ]
  },
  {
   "cell_type": "code",
   "execution_count": null,
   "id": "858c39bc",
   "metadata": {},
   "outputs": [],
   "source": [
    "# Creación de la matroz A\n",
    "np.random.seed(124)\n",
    "A = np.random.normal(5,2, size=(5, 5))\n",
    "print(A)"
   ]
  },
  {
   "cell_type": "code",
   "execution_count": null,
   "id": "1c3a4aa2",
   "metadata": {},
   "outputs": [],
   "source": [
    "import scipy.linalg as la\n",
    "\n",
    "#Factorización LU\n",
    "P, L, U = la.lu(A)"
   ]
  },
  {
   "cell_type": "code",
   "execution_count": null,
   "id": "2de40ed8",
   "metadata": {},
   "outputs": [],
   "source": [
    "# Matriz triangular inferior\n",
    "L"
   ]
  },
  {
   "cell_type": "code",
   "execution_count": null,
   "id": "8b7fb1ec",
   "metadata": {},
   "outputs": [],
   "source": [
    "# Matriz triangular superior\n",
    "U"
   ]
  },
  {
   "cell_type": "code",
   "execution_count": null,
   "id": "12fe42cd",
   "metadata": {},
   "outputs": [],
   "source": [
    "# A = LU\n",
    "L @ U"
   ]
  },
  {
   "cell_type": "markdown",
   "id": "a0db3f44",
   "metadata": {},
   "source": [
    "### **APLICACIÓN**"
   ]
  },
  {
   "cell_type": "markdown",
   "id": "da468609",
   "metadata": {},
   "source": [
    "Hallar la solución del siguiente sistema:\n",
    "$$\\begin{pmatrix}1&\\frac{2}{5}&\\frac{1}{7}&log\\left(\\frac{3}{11}\\right)&\\frac{17}{16}&\\frac{1}{7}\\\\ \\frac{2}{3}&\\frac{4}{5}&\\frac{7}{11}&\\frac{3}{22}&\\sqrt{11}&2\\\\ 0&3&1&4&\\frac{4}{9}&\\frac{11}{12}\\\\ \\frac{3}{11}&\\frac{4}{19}&\\frac{7}{19}&\\frac{4}{89}&\\frac{19}{173}&\\sqrt{91}\\\\ \\frac{3}{\\sqrt{41}}&\\frac{7}{11}&log\\left(\\frac{1}{11}\\right)&5&6&7\\\\ 3&4&7&\\frac{1}{17}&4&\\frac{1}{7}\\end{pmatrix}\\begin{pmatrix}x\\\\ y\\\\ z\\\\ w\\\\ a\\\\ b\\end{pmatrix}=\\begin{pmatrix}\\frac{8}{9}\\\\ \\frac{7}{13}\\\\ \\sqrt{\\frac{23}{21}}\\\\ \\sqrt{3}\\\\ \\frac{18}{111}\\\\ \\frac{4}{3}\\end{pmatrix}$$"
   ]
  },
  {
   "cell_type": "code",
   "execution_count": null,
   "id": "faee18ed",
   "metadata": {},
   "outputs": [],
   "source": [
    "import numpy as np\n",
    "import scipy.linalg as la\n",
    "\n",
    "# Definir la matriz A y el vector b\n",
    "A = np.array([[1, 2/5, 1/7, np.log(3/11), 17/16, 1/7],\n",
    "              [2/3, 4/5, 7/11, 3/22, np.sqrt(11), 2],\n",
    "              [0, 3, 1, 4, 4/9, 11/12],\n",
    "              [3/11, 4/19, 7/19, 4/89, 19/173, np.sqrt(91)],\n",
    "              [3/np.sqrt(41), 7/11, np.log(1/11), 5, 6, 7],\n",
    "              [3, 4, 7, 1/17, 4, 1/7]])\n",
    "\n",
    "b = np.array([8/9, 7/13, np.sqrt(23/21), np.sqrt(3), 18/111, 4/3])\n",
    "\n",
    "# Método de descomposición LU usando SciPy\n",
    "P, L, U = la.lu(A)\n",
    "y = np.linalg.solve(L, np.dot(P.T, b))  # Resolución para y\n",
    "x_LU = np.linalg.solve(U, y)  # Resolución para x\n",
    "\n",
    "# Método de la inversa de la matriz\n",
    "A_inv = np.linalg.inv(A)\n",
    "x_inversa = np.dot(A_inv, b)\n",
    "\n",
    "# Comprobación de las soluciones\n",
    "comprobacion_LU = np.dot(A, x_LU)\n",
    "comprobacion_inversa = np.dot(A, x_inversa)\n",
    "\n",
    "# Imprimir las soluciones y comparaciones\n",
    "print(\"\\nSolución usando LU:\")\n",
    "print(f\"x = {x_LU[0]}, y = {x_LU[1]}, z = {x_LU[2]}, w = {x_LU[3]}, a = {x_LU[4]}, b = {x_LU[5]}\")\n",
    "\n",
    "print(\"\\nSolución usando la inversa de la matriz:\")\n",
    "print(f\"x = {x_inversa[0]}, y = {x_inversa[1]}, z = {x_inversa[2]}, w = {x_inversa[3]}, a = {x_inversa[4]}, b = {x_inversa[5]}\")\n",
    "\n",
    "print(\"\\nComprobación con LU:\", comprobacion_LU)\n",
    "print(\"Comprobación con Inversa:\", comprobacion_inversa)"
   ]
  },
  {
   "cell_type": "markdown",
   "id": "5dcf8d5b",
   "metadata": {},
   "source": [
    "## **Factorización QR**"
   ]
  },
  {
   "cell_type": "markdown",
   "id": "f4b129cf",
   "metadata": {},
   "source": [
    "La descomposición o factorización QR consiste en la descomposición de una matriz como producto de una matriz ortogonal ($Q^T \\cdot Q = I$) por una matriz triangular superior. la factorización QR es ampliamente utilizada en las finanzas cuantitativas como base para la solución del problema de los mínimos cuadrados lineales, que a su vez se utiliza para el análisis de regresión estadística.\n",
    "\n",
    "La factorización QR descompone una matriz \\( A \\) en el producto de una matriz ortogonal \\( Q \\) y una matriz triangular superior \\( R \\). Es decir, se tiene que:\n",
    "$$A = QR$$\n",
    "- \\( A \\) es una matriz de tamaño $ m \\times n$,\n",
    "- \\( Q \\) es una matriz ortogonal o unitaria de tamaño $ m \\times m$, tal que $Q^T Q = I$ (donde \\( I \\) es la matriz identidad),\n",
    "- \\( R \\) es una matriz triangular superior de tamaño $ m \\times n$, es decir, tiene ceros debajo de la diagonal principal.\n",
    "\n",
    "La factorización QR se utiliza principalmente para resolver sistemas de ecuaciones lineales de la forma $Ax = b$. Tras realizar la factorización QR, el sistema se transforma en:\n",
    "$$Ax = b \\quad \\text{se convierte en} \\quad QRx = b$$\n",
    "\n",
    "Multiplicando ambos lados por $Q^T$, se obtiene:\n",
    "$$Rx = Q^T b$$\n",
    "Dado que R es triangular superior, este sistema es fácil de resolver mediante sustitución hacia atrás."
   ]
  },
  {
   "cell_type": "code",
   "execution_count": null,
   "id": "523f4509",
   "metadata": {},
   "outputs": [],
   "source": [
    "# Ejemplo factorización QR\n",
    "Q, R = la.qr(A)"
   ]
  },
  {
   "cell_type": "code",
   "execution_count": null,
   "id": "64195b95",
   "metadata": {},
   "outputs": [],
   "source": [
    "# Matriz A\n",
    "A"
   ]
  },
  {
   "cell_type": "code",
   "execution_count": null,
   "id": "e6cf45b8",
   "metadata": {},
   "outputs": [],
   "source": [
    "# Matriz ortogonal Q\n",
    "Q"
   ]
  },
  {
   "cell_type": "code",
   "execution_count": null,
   "id": "c5087942",
   "metadata": {},
   "outputs": [],
   "source": [
    "# Matriz triangular superior R\n",
    "R"
   ]
  },
  {
   "cell_type": "code",
   "execution_count": null,
   "id": "ba0ff492",
   "metadata": {
    "scrolled": true
   },
   "outputs": [],
   "source": [
    "# A = QR\n",
    "Q @ R"
   ]
  },
  {
   "cell_type": "markdown",
   "id": "9821e56f",
   "metadata": {},
   "source": [
    "### **APLICACIÓN**"
   ]
  },
  {
   "cell_type": "markdown",
   "id": "7d6326af",
   "metadata": {},
   "source": [
    "Hallar la solución del siguiente sistema:\n",
    "$$\\begin{pmatrix}1&\\frac{2}{5}&\\frac{1}{7}&log\\left(\\frac{3}{11}\\right)&\\frac{17}{16}&\\frac{1}{7}\\\\ \\frac{2}{3}&\\frac{4}{5}&\\frac{7}{11}&\\frac{3}{22}&\\sqrt{11}&2\\\\ 0&3&1&4&\\frac{4}{9}&\\frac{11}{12}\\\\ \\frac{3}{11}&\\frac{4}{19}&\\frac{7}{19}&\\frac{4}{89}&\\frac{19}{173}&\\sqrt{91}\\\\ \\frac{3}{\\sqrt{41}}&\\frac{7}{11}&log\\left(\\frac{1}{11}\\right)&5&6&7\\\\ 3&4&7&\\frac{1}{17}&4&\\frac{1}{7}\\end{pmatrix}\\begin{pmatrix}x\\\\ y\\\\ z\\\\ w\\\\ a\\\\ b\\end{pmatrix}=\\begin{pmatrix}\\frac{8}{9}\\\\ \\frac{7}{13}\\\\ \\sqrt{\\frac{23}{21}}\\\\ \\sqrt{3}\\\\ \\frac{18}{111}\\\\ \\frac{4}{3}\\end{pmatrix}$$"
   ]
  },
  {
   "cell_type": "code",
   "execution_count": null,
   "id": "b29f591c",
   "metadata": {},
   "outputs": [],
   "source": [
    "import numpy as np\n",
    "import scipy.linalg as la\n",
    "\n",
    "# Definir la matriz A y el vector b\n",
    "A = np.array([[1, 2/5, 1/7, np.log(3/11), 17/16, 1/7],\n",
    "              [2/3, 4/5, 7/11, 3/22, np.sqrt(11), 2],\n",
    "              [0, 3, 1, 4, 4/9, 11/12],\n",
    "              [3/11, 4/19, 7/19, 4/89, 19/173, np.sqrt(91)],\n",
    "              [3/np.sqrt(41), 7/11, np.log(1/11), 5, 6, 7],\n",
    "              [3, 4, 7, 1/17, 4, 1/7]])\n",
    "\n",
    "b = np.array([8/9, 7/13, np.sqrt(23/21), np.sqrt(3), 18/111, 4/3])\n",
    "\n",
    "# Método de descomposición QR usando SciPy\n",
    "Q, R = la.qr(A)\n",
    "\n",
    "# Resolver el sistema Rx = Q^T b\n",
    "Q_T_b = np.dot(Q.T, b)\n",
    "x_QR = np.linalg.solve(R, Q_T_b)\n",
    "\n",
    "# Comprobación de la solución\n",
    "comprobacion_QR = np.dot(A, x_QR)\n",
    "\n",
    "# Imprimir la solución y la comprobación\n",
    "print(\"\\nSolución usando el método QR:\")\n",
    "print(f\"x = {x_QR[0]}, y = {x_QR[1]}, z = {x_QR[2]}, w = {x_QR[3]}, a = {x_QR[4]}, b = {x_QR[5]}\")\n",
    "\n",
    "print(\"\\nComprobación con QR:\", comprobacion_QR)"
   ]
  },
  {
   "cell_type": "markdown",
   "id": "f9db3ae9",
   "metadata": {},
   "source": [
    "## **Descomposición en Valores Singulares (SVD)**"
   ]
  },
  {
   "cell_type": "markdown",
   "id": "a9e81daf",
   "metadata": {},
   "source": [
    "La Descomposición en Valores Singulares (SVD) es una técnica matemática que descompone una matriz en tres matrices más simples. Es muy útil en muchas áreas de las matemáticas y la computación, como el análisis de datos, la compresión de imágenes, la reducción de dimensionalidad, y la resolución de sistemas de ecuaciones.\n",
    "\n",
    "$$A=U \\Sigma V^T$$\n",
    "\n",
    "El SVD y el PCA son herramientas ampliamente utilizadas, por ejemplo, en el análisis de imágenes médicas para la reducción de dimensionalidad, la construcción de modelos, y la comprensión y exploración de datos. Tienen aplicaciones en prácticamente todas las áreas de la ciencia, machine learning, procesamiento de imágenes, ingeniería, genética, computación cognitiva, química, meteorología, y redes neuronales, sólo por nombrar algunas; en dónde nos encontramos con grandes conjuntos de datos. El propósito del análisis de componentes principales PCA es derivar un número relativamente pequeño de combinaciones lineales no correlacionadas (componentes principales) de una conjunto de variables aleatorias de media cero mientras que conserva la mayor cantidad de información de las variables originales como sea posible. Entre los objetivos del PCA podemos encontrar los siguientes:\n",
    "- Reducción de dimensionalidad.\n",
    "- Determinación de combinaciones lineales de variables.\n",
    "- Selección de características o features: la elección de las variables más útiles.\n",
    "- Visualización de datos multidimensionales.\n",
    "- Identificación de las variables subyacentes.\n",
    "- Identificación grupos de objetos o de valores atípicos."
   ]
  },
  {
   "cell_type": "code",
   "execution_count": null,
   "id": "19edb9dc",
   "metadata": {},
   "outputs": [],
   "source": [
    "import numpy as np\n",
    "\n",
    "# Crear una matriz de 7x7 con números aleatorios\n",
    "A = np.random.rand(7, 7)\n",
    "\n",
    "# Realizar la descomposición SVD\n",
    "U, Sigma, Vt = np.linalg.svd(A)\n",
    "\n",
    "# Mostrar los resultados\n",
    "print(\"Matriz A (Original):\")\n",
    "print(A)\n",
    "\n",
    "print(\"\\nMatriz U (Vectores singulares izquierdos):\")\n",
    "print(U)\n",
    "\n",
    "print(\"\\nValores singulares (Sigma):\")\n",
    "print(Sigma)\n",
    "\n",
    "print(\"\\nMatriz V^T (Vectores singulares derechos):\")\n",
    "print(Vt)"
   ]
  },
  {
   "cell_type": "code",
   "execution_count": null,
   "id": "31497c9c",
   "metadata": {},
   "outputs": [],
   "source": [
    "# Convertir Sigma en una matriz diagonal\n",
    "Sigma_matrix = np.diag(Sigma)\n",
    "\n",
    "# Reconstruir la matriz A a partir de la descomposición\n",
    "A_reconstruida = np.dot(U, np.dot(Sigma_matrix, Vt))\n",
    "\n",
    "print(\"\\nMatriz A reconstruida a partir de SVD:\")\n",
    "print(A_reconstruida)\n",
    "\n",
    "# Verificar si la reconstrucción es igual a la matriz original\n",
    "print(\"\\n¿La matriz reconstruida es igual a la matriz original?\")\n",
    "print(np.allclose(A, A_reconstruida))"
   ]
  },
  {
   "cell_type": "markdown",
   "id": "e62ce7e7",
   "metadata": {},
   "source": [
    "### **APLICACIÓN**"
   ]
  },
  {
   "cell_type": "markdown",
   "id": "0f2bd2e0",
   "metadata": {},
   "source": [
    "Para aplicar la descomposición en valores singulares (SVD) a un portafolio de inversiones con 15 activos, podemos usar la misma idea de análisis de componentes principales (PCA), pero en este caso, cada \"serie de tiempo\" corresponderá a los rendimientos de los activos financieros (acciones, bonos, etc.) durante un periodo determinado. SVD nos ayudará a analizar cómo se relacionan los rendimientos de los activos y a reducir la dimensionalidad de los datos para extraer los patrones subyacentes.\n",
    "\n",
    "Se extraerá datos históricos de 15 activos de Yahoo Finance, calculamos sus rendimientos y luego aplicamos SVD para reducir la dimensionalidad de los datos y analizar las principales fuentes de variabilidad en el portafolio."
   ]
  },
  {
   "cell_type": "code",
   "execution_count": null,
   "id": "bf63fca1",
   "metadata": {},
   "outputs": [],
   "source": [
    "import yfinance as yf\n",
    "import numpy as np\n",
    "import matplotlib.pyplot as plt\n",
    "\n",
    "# Definir los símbolos de los 15 activos (puedes elegir otros si lo prefieres)\n",
    "activos = ['AAPL', 'GOOG', 'MSFT', 'AMZN', 'TSLA', 'META', 'NVDA', 'SPY', 'BRK-B', 'BABA', 'INTC', 'V', 'NFLX', 'WMT', 'DIS']\n",
    "\n",
    "# Descargar los datos históricos de los precios de cierre ajustados\n",
    "datos = yf.download(activos, start='2020-01-01', end='2023-12-31')['Close']\n",
    "datos"
   ]
  },
  {
   "cell_type": "code",
   "execution_count": null,
   "id": "b6aa0b4f",
   "metadata": {},
   "outputs": [],
   "source": [
    "# Calcular los rendimientos diarios (logaritmos de las variaciones de los precios)\n",
    "rendimientos = np.log(datos / datos.shift(1)).dropna()\n",
    "rendimientos"
   ]
  },
  {
   "cell_type": "code",
   "execution_count": null,
   "id": "42ac60af",
   "metadata": {},
   "outputs": [],
   "source": [
    "# Realizar la descomposición SVD\n",
    "U, Sigma, Vt = np.linalg.svd(rendimientos, full_matrices=False)\n",
    "\n",
    "# Calcular la varianza explicada por cada componente\n",
    "explained_variance = (Sigma**2) / np.sum(Sigma**2)\n",
    "\n",
    "# Visualización de los resultados\n",
    "plt.figure(figsize=(12, 8))\n",
    "plt.subplot(2, 2, 1)\n",
    "plt.plot(U[:, 0], label='Componente 1')\n",
    "plt.plot(U[:, 1], label='Componente 2')\n",
    "plt.plot(U[:, 2], label='Componente 3')\n",
    "plt.title('Primeras 3 Componentes Principales')\n",
    "plt.legend()"
   ]
  },
  {
   "cell_type": "code",
   "execution_count": null,
   "id": "55a27452",
   "metadata": {},
   "outputs": [],
   "source": [
    "# Gráficamos la varianza explicada por cada componente\n",
    "plt.bar(range(1, len(explained_variance)+1), explained_variance)\n",
    "plt.title('Varianza Explicada por Componente')\n",
    "plt.xlabel('Componente')\n",
    "plt.ylabel('Varianza Explicada')"
   ]
  },
  {
   "cell_type": "code",
   "execution_count": null,
   "id": "ffa0bfdb",
   "metadata": {},
   "outputs": [],
   "source": [
    "# Ver la varianza explicada por cada componente\n",
    "explained_variance = (Sigma**2) / np.sum(Sigma**2)\n",
    "print(\"\\nVarianza explicada por cada componente:\")\n",
    "for i, var in enumerate(explained_variance):\n",
    "    print(f\"Componente {i+1}: {var:.4f}\")\n"
   ]
  },
  {
   "cell_type": "code",
   "execution_count": null,
   "id": "a47ee578",
   "metadata": {},
   "outputs": [],
   "source": [
    "# Proyección de los rendimientos originales en los primeros 2 componentes principales\n",
    "rendimientos_reducidos = np.dot(U[:, :2], np.diag(Sigma[:2]))\n",
    "plt.plot(rendimientos_reducidos)\n",
    "plt.title('Proyección de los Rendimientos en los 2 Primeros Componentes')\n",
    "\n",
    "plt.tight_layout()\n",
    "plt.show()"
   ]
  },
  {
   "cell_type": "code",
   "execution_count": null,
   "id": "ebbe7b9f",
   "metadata": {},
   "outputs": [],
   "source": [
    "# Analizar la relación entre los activos y los componentes\n",
    "componente_1 = Vt[0, :]  # El primer componente\n",
    "componente_2 = Vt[1, :]  # El segundo componente\n",
    "\n",
    "print(\"\\nRelación de las acciones con el Componente 1:\")\n",
    "for i, valor in enumerate(componente_1):\n",
    "    print(f\"{activos[i]}: {valor}\")\n",
    "\n",
    "print(\"\\nRelación de las acciones con el Componente 2:\")\n",
    "for i, valor in enumerate(componente_2):\n",
    "    print(f\"{activos[i]}: {valor}\")"
   ]
  },
  {
   "cell_type": "markdown",
   "id": "af307889",
   "metadata": {},
   "source": [
    "El Componente 1 es el primer vector singular, y está relacionado con el patrón más importante que explica la varianza en los rendimientos de las acciones. Las relaciones de las acciones con este componente reflejan cómo cada acción contribuye al riesgo común o factor de mercado. Las acciones que tienen un valor grande (en valor absoluto) en el Componente 1 están fuertemente correlacionadas con este factor común.\n",
    "\n",
    "Por ejemplo, las acciones con valores grandes en el Componente 1 incluyen:\n",
    "- APL (Apple): 0.2417\n",
    "- GOG (Google): 0.2526\n",
    "- NVDA (Nvidia): 0.2448\n",
    "\n",
    "Estas acciones parecen estar fuertemente correlacionadas con el primer componente, lo que sugiere que estas acciones tienen un comportamiento similar o responden de manera similar a un factor común, como puede ser el rendimiento del mercado tecnológico o el riesgo general del mercado."
   ]
  },
  {
   "cell_type": "markdown",
   "id": "348d6944",
   "metadata": {},
   "source": [
    "El Componente 2 está relacionado con un segundo patrón subyacente que, aunque es menos importante que el Componente 1, sigue explicando una parte significativa de la variabilidad en los rendimientos de las acciones. Las relaciones de las acciones con el Componente 2 reflejan cómo las variaciones de los precios de las acciones están asociadas con otro tipo de riesgo o patrón, que podría estar relacionado con factores sectoriales específicos.\n",
    "\n",
    "Por ejemplo, el Componente 2 tiene relaciones negativas significativas con muchas acciones, como:\n",
    "- GOOG (Google): -0.1044\n",
    "- AAPL (Apple): -0.0720\n",
    "- NVDA (Nvidia): -0.1683\n",
    "- WMT (Walmart): -0.1034\n",
    "\n",
    "Sin embargo, NFLX (Netflix) tiene una relación positiva muy alta de 0.8775 con el Componente 2, lo que sugiere que su comportamiento es muy diferente de las otras acciones en este componente. En otras palabras, Netflix puede estar reaccionando a un factores específicos del sector (como cambios en el consumo de medios) que no afectan a otras acciones en el mismo grado."
   ]
  }
 ],
 "metadata": {
  "kernelspec": {
   "display_name": "Python 3",
   "language": "python",
   "name": "python3"
  },
  "language_info": {
   "codemirror_mode": {
    "name": "ipython",
    "version": 3
   },
   "file_extension": ".py",
   "mimetype": "text/x-python",
   "name": "python",
   "nbconvert_exporter": "python",
   "pygments_lexer": "ipython3",
   "version": "3.8.8"
  }
 },
 "nbformat": 4,
 "nbformat_minor": 5
}
