{
 "cells": [
  {
   "cell_type": "markdown",
   "id": "bc853845",
   "metadata": {},
   "source": [
    "# **SESIÓN 02**\n",
    "# **CÁLCULO DIFERENCIAL**\n",
    "## **ESPECIALIZACIÓN: MATEMÁTICA Y ESTADÍSTICA PARA CIENCIA DE DATOS**\n",
    "## **MÓDULO 1: FUNDAMENTOS MATEMÁTICOS PARA CIENCIAS DE DATOS**"
   ]
  },
  {
   "cell_type": "markdown",
   "id": "a6a2344f",
   "metadata": {},
   "source": [
    "### **Docente**: Mg. Leonel Heredia Altamirano"
   ]
  },
  {
   "cell_type": "markdown",
   "id": "5b7b784b",
   "metadata": {},
   "source": [
    "# INTRODUCCIÓN"
   ]
  },
  {
   "cell_type": "markdown",
   "id": "37e1db88",
   "metadata": {},
   "source": [
    "El cálculo diferencial es una herramienta esencial en la ciencia de datos, ya que proporciona los métodos matemáticos necesarios para optimizar modelos, entender relaciones entre variables y evaluar cómo las perturbaciones en los datos pueden afectar los resultados. Sin el cálculo diferencial, muchas de las técnicas modernas de aprendizaje automático y análisis de datos no serían posibles.\n",
    "1. **Optimización de Modelos**\n",
    "      - **Minimización de Pérdidas:** En modelos de regresión y clasificación, el cálculo diferencial se utiliza para minimizar funciones de pérdida, como el error cuadrático medio (MSE). Al derivar la función de pérdida respecto a los parámetros del modelo, podemos encontrar el punto donde la pérdida es mínima, lo que nos da los valores óptimos para esos parámetros.\n",
    "      - **Métodos de Gradiente:** El descenso de gradiente es un algoritmo que utiliza derivadas para buscar mínimos locales de funciones. Al calcular la derivada de la función de pérdida, el algoritmo ajusta iterativamente los parámetros del modelo en la dirección que reduce la pérdida, logrando una optimización eficiente.\n",
    "\n",
    "2. **Análisis de Sensibilidad**\n",
    "\n",
    "Este análisis permite entender cómo los cambios en las variables de entrada (independientes) afectan las salidas (dependientes) del modelo. Se utilizan derivadas parciales para medir la sensibilidad de la salida respecto a cada entrada, ayudando a identificar qué variables tienen más impacto en las predicciones.\n",
    "\n",
    "3. **Modelado de Funciones de Probabilidad**\n",
    "\n",
    "En estadística y aprendizaje automático, las distribuciones de probabilidad (como la normal, exponencial, etc.) se modelan con funciones que requieren derivadas para entender propiedades importantes como la densidad de probabilidad y la acumulación de probabilidad. Por ejemplo, la función de densidad de probabilidad se obtiene derivando la función de distribución acumulativa.\n",
    "\n",
    "4. **Inferencia Estadística**\n",
    "\n",
    "El cálculo diferencial es fundamental para derivar estimadores de máxima verosimilitud (MLE). Estos estimadores se utilizan para hacer inferencias sobre parámetros poblacionales a partir de muestras de datos. La derivada de la función de verosimilitud permite encontrar los valores de los parámetros que maximizan la probabilidad de observar los datos.\n",
    "\n",
    "5. **Técnicas de Regularización**\n",
    "\n",
    "En modelos de regresión, técnicas como Lasso y Ridge utilizan el cálculo diferencial para ajustar los coeficientes del modelo, penalizando la complejidad del modelo y ayudando a prevenir el sobreajuste. La derivada de la función de pérdida con la regularización se utiliza para actualizar los coeficientes de forma controlada."
   ]
  },
  {
   "cell_type": "markdown",
   "id": "b50886bc",
   "metadata": {},
   "source": [
    "# SECCIÓN 01: CÁLCULO DIFERENCIAL UNIVARIADO"
   ]
  },
  {
   "cell_type": "markdown",
   "id": "7372701d",
   "metadata": {},
   "source": [
    "# I.- Límites de una función de variable real"
   ]
  },
  {
   "cell_type": "markdown",
   "id": "c7bbb4db",
   "metadata": {},
   "source": [
    "Evaluar la función $f(x)=\\frac{x^2-4}{x-2}$ cuando $x$ se aproxima a 2"
   ]
  },
  {
   "cell_type": "code",
   "execution_count": null,
   "id": "2c244e0b",
   "metadata": {},
   "outputs": [],
   "source": [
    "#Creando la función\n",
    "#---------------------------\n",
    "import numpy as np  \n",
    "\n",
    "def f(x):\n",
    "    return (x**2-4)/(x-2)"
   ]
  },
  {
   "cell_type": "code",
   "execution_count": null,
   "id": "a1f4fb8c",
   "metadata": {},
   "outputs": [],
   "source": [
    "# Creando los valores de la función\n",
    "#------------------------------------\n",
    "n=50\n",
    "x =  np.linspace(1.99, 2.01, n)\n",
    "y = f(x)\n",
    "y"
   ]
  },
  {
   "cell_type": "code",
   "execution_count": null,
   "id": "5b683c6c",
   "metadata": {},
   "outputs": [],
   "source": [
    "import pandas as pd\n",
    "tabla = pd.DataFrame( list(zip(x, y)), columns=['x', 'f(x)'] )\n",
    "tabla"
   ]
  },
  {
   "cell_type": "code",
   "execution_count": null,
   "id": "d66993d6",
   "metadata": {},
   "outputs": [],
   "source": [
    "%matplotlib inline\n",
    "import matplotlib.pyplot as plt\n",
    "\n",
    "def move_spines():\n",
    "    fix, ax = plt.subplots()\n",
    "    for spine in [\"left\", \"bottom\"]:\n",
    "        ax.spines[spine].set_position(\"zero\")\n",
    "    \n",
    "    for spine in [\"right\", \"top\"]:\n",
    "        ax.spines[spine].set_color(\"none\")\n",
    "    \n",
    "    return ax\n",
    "\n",
    "x = np.linspace(-2,3, num=50)\n",
    "\n",
    "ax = move_spines()\n",
    "ax.grid(False)\n",
    "ax.plot(x, f(x))\n",
    "plt.title(r\"Grafico de función\")\n",
    "plt.ylabel('f(x)')\n",
    "plt.xlabel('x')\n",
    "plt.show()"
   ]
  },
  {
   "cell_type": "markdown",
   "id": "2e07a0b5",
   "metadata": {},
   "source": [
    "### Ejercicio 1"
   ]
  },
  {
   "cell_type": "markdown",
   "id": "36f2d4fa",
   "metadata": {},
   "source": [
    "Calcular el límite de la siguiente función: $$\\lim _{x\\to 1}\\frac{\\sqrt{x^2+3}-2}{x-1}$$ \n",
    "\n",
    "**Solución**\n",
    "\n",
    "Si evaluamos el límite en el punto de acumulación dado, nos da un resultado indeterminado $$\\frac{0}{0}$$\n",
    "Para ello, se tendría que realizar algunas transformaciones: $$\\lim _{x\\to 1}\\frac{\\sqrt{x^2+3}-2}{x-1}\\cdot \\frac{\\sqrt{x^2+3}+2}{\\sqrt{x^2+3}+2}$$ $$\\lim _{x\\to 1}\\frac{x^2-1}{\\left(x-1\\right)\\left(\\sqrt{x^2+3}+2\\right)}$$ $$\\lim _{x\\to 1}\\frac{\\left(x-1\\right)\\left(x+1\\right)}{\\left(x-1\\right)\\left(\\sqrt{x^2+3}+2\\right)}$$ $$\\lim _{x\\to 1}\\frac{x+1}{\\sqrt{x^2+3}+2} = \\frac{1+1}{\\sqrt{4}+2}=\\frac{1}{2}$$"
   ]
  },
  {
   "cell_type": "code",
   "execution_count": null,
   "id": "408acf54",
   "metadata": {},
   "outputs": [],
   "source": [
    "# CÁLCULO CON MÓDULOS\n",
    "#---------------------------------\n",
    "#Importando los paquetes necesarios\n",
    "from sympy.interactive import printing\n",
    "from sympy import Limit, limit, Symbol, S\n",
    "import matplotlib.pyplot as plt\n",
    "import numpy as np\n",
    "import math"
   ]
  },
  {
   "cell_type": "code",
   "execution_count": null,
   "id": "4d52c35b",
   "metadata": {},
   "outputs": [],
   "source": [
    "#Calculando el límite solicitado\n",
    "x = Symbol('x') # Creando el simbolo x.\n",
    "num = (x**2+3)**(1/2)-2\n",
    "den = x-1\n",
    "frac = num/den\n",
    "Limit(frac, x, 1).doit()"
   ]
  },
  {
   "cell_type": "code",
   "execution_count": null,
   "id": "3a052f0a",
   "metadata": {},
   "outputs": [],
   "source": [
    "# Graficando la función\n",
    "#---------------------------\n",
    "# Definir la función para evaluar la fracción\n",
    "def frac_function(x):\n",
    "    return (np.sqrt(x**2 + 3) - 2) / (x - 1)\n",
    "\n",
    "# Rango de valores de x para graficar, excluyendo x = 1 para evitar la división por cero\n",
    "x_values = np.linspace(0.5, 1.5, 400)\n",
    "x_values = x_values[x_values != 1]  # Excluir x = 1\n",
    "y_values = frac_function(x_values)\n",
    "\n",
    "# Graficar la función\n",
    "plt.figure(figsize=(10, 6))\n",
    "plt.plot(x_values, y_values, label=r'$\\frac{\\sqrt{x^2 + 3} - 2}{x - 1}$')\n",
    "plt.axvline(x=1, color='r', linestyle='--', label='x = 1')\n",
    "plt.xlabel('x')\n",
    "plt.ylabel('f(x)')\n",
    "plt.title(r'Comportamiento de $\\frac{\\sqrt{x^2 + 3} - 2}{x - 1}$ cerca de $x = 1$')\n",
    "plt.legend()\n",
    "plt.grid(False)\n",
    "plt.show()"
   ]
  },
  {
   "cell_type": "markdown",
   "id": "865f0cd8",
   "metadata": {},
   "source": [
    "### Ejercicio 2"
   ]
  },
  {
   "cell_type": "markdown",
   "id": "66f4388d",
   "metadata": {},
   "source": [
    "Calcular el siguiente límite: $$\\lim _{x\\to -1}\\frac{4x^4+9x^3+3x^2-5x-3}{3x^4+9x^3+9x^2+3x}$$"
   ]
  },
  {
   "cell_type": "code",
   "execution_count": null,
   "id": "50f6a9a1",
   "metadata": {},
   "outputs": [],
   "source": [
    "x = Symbol('x')\n",
    "num = 4*x**4+9*x**3+3*x**2-5*x-3\n",
    "den=3*x**4+9*x**3+9*x**2+3*x\n",
    "frac=num/den\n",
    "Limit(frac, x, -1).doit()"
   ]
  },
  {
   "cell_type": "code",
   "execution_count": null,
   "id": "d9be16c2",
   "metadata": {},
   "outputs": [],
   "source": [
    "limit_value = Limit(frac, x, -1).doit()\n",
    "\n",
    "# Definir la función para evaluar la fracción\n",
    "def frac_function(x):\n",
    "    return (4*x**4 + 9*x**3 + 3*x**2 - 5*x - 3) / (3*x**4 + 9*x**3 + 9*x**2 + 3*x)\n",
    "\n",
    "# Rango de valores de x para graficar\n",
    "x_values = np.linspace(-1.1, -0.9, 400)\n",
    "x_values = x_values[x_values !=- 1]  # Excluir x = 1\n",
    "y_values = frac_function(x_values)\n",
    "\n",
    "# Graficar la función\n",
    "plt.figure(figsize=(10, 6))\n",
    "plt.plot(x_values, y_values, label=r'$\\frac{4x^4 + 9x^3 + 3x^2 - 5x - 3}{3x^4 + 9x^3 + 9x^2 + 3x}$')\n",
    "plt.axvline(x=-1, color='r', linestyle='--', label='x = -1')\n",
    "plt.axhline(y=float(limit_value), color='g', linestyle='--', label=f'Límite = {limit_value}')\n",
    "plt.xlabel('x')\n",
    "plt.ylabel('f(x)')\n",
    "plt.title(r'Comportamiento de $\\frac{4x^4 + 9x^3 + 3x^2 - 5x - 3}{3x^4 + 9x^3 + 9x^2 + 3x}$ cerca de $x = -1$')\n",
    "plt.legend()\n",
    "plt.grid(False)\n",
    "plt.show()"
   ]
  },
  {
   "cell_type": "markdown",
   "id": "edc06cfc",
   "metadata": {},
   "source": [
    "### Ejercicio 3"
   ]
  },
  {
   "cell_type": "markdown",
   "id": "7efd3b72",
   "metadata": {},
   "source": [
    "Calcular el siguiente límite: $$\\lim _{x\\to 4}\\frac{3-\\sqrt{5+x}}{1-\\sqrt{5-x}}$$"
   ]
  },
  {
   "cell_type": "code",
   "execution_count": null,
   "id": "7f663fe4",
   "metadata": {},
   "outputs": [],
   "source": [
    "x = Symbol('x')\n",
    "num = 3-pow(5+x,1/2)\n",
    "den=1-pow(5-x,1/2)\n",
    "frac=num/den\n",
    "Limit(frac, x, 4).doit()"
   ]
  },
  {
   "cell_type": "code",
   "execution_count": null,
   "id": "27ca3f33",
   "metadata": {},
   "outputs": [],
   "source": [
    "limit_value = Limit(frac, x, 4).doit()\n",
    "\n",
    "# Definir la función para evaluar la fracción\n",
    "def frac_function(x):\n",
    "    return (3 - np.sqrt(5 + x)) / (1 - np.sqrt(5 - x))\n",
    "\n",
    "# Rango de valores de x para graficar, excluyendo x = 4 para evitar la división por cero\n",
    "x_values = np.linspace(3, 5, 400)\n",
    "x_values = x_values[x_values != 4]  # Excluir x = 4\n",
    "y_values = frac_function(x_values)\n",
    "\n",
    "# Graficar la función\n",
    "plt.figure(figsize=(10, 6))\n",
    "plt.plot(x_values, y_values, label=r'$\\frac{3 - \\sqrt{5 + x}}{1 - \\sqrt{5 - x}}$')\n",
    "plt.axvline(x=4, color='r', linestyle='--', label='x = 4')\n",
    "plt.axhline(y=float(limit_value), color='g', linestyle='--', label=f'Límite = {limit_value}')\n",
    "plt.xlabel('x')\n",
    "plt.ylabel('f(x)')\n",
    "plt.title(r'Comportamiento de $\\frac{3 - \\sqrt{5 + x}}{1 - \\sqrt{5 - x}}$ cerca de $x = 4$')\n",
    "plt.legend()\n",
    "plt.grid(False)\n",
    "plt.show()"
   ]
  },
  {
   "cell_type": "markdown",
   "id": "143d5e6f",
   "metadata": {},
   "source": [
    "### Ejercicio 4"
   ]
  },
  {
   "cell_type": "markdown",
   "id": "f8d4dbdc",
   "metadata": {},
   "source": [
    "Calcular el siguiente límite: $$\\lim _{x\\to 1}\\frac{\\sqrt[4]{x}+\\sqrt[3]{x}+\\sqrt{x}-3}{x-1}$$"
   ]
  },
  {
   "cell_type": "code",
   "execution_count": null,
   "id": "cbf0f98f",
   "metadata": {},
   "outputs": [],
   "source": [
    "x = Symbol('x')\n",
    "num = x**(1/4)+x**(1/3)+x**(1/2)-3\n",
    "den = x-1\n",
    "frac=num/den\n",
    "Limit(frac, x, 1).doit()"
   ]
  },
  {
   "cell_type": "code",
   "execution_count": null,
   "id": "f1555091",
   "metadata": {},
   "outputs": [],
   "source": [
    "from sympy import Symbol, Limit, sqrt, root\n",
    "\n",
    "# Definir la función para evaluar la fracción\n",
    "def frac_function(x):\n",
    "    return (np.cbrt(x) + np.sqrt(x) + np.power(x, 1/4) - 3) / (x - 1)\n",
    "\n",
    "# Rango de valores de x para graficar, excluyendo x = 1 para evitar la división por cero\n",
    "x_values = np.linspace(0.5, 1.5, 400)\n",
    "x_values = x_values[x_values != 1]  # Excluir x = 1\n",
    "y_values = frac_function(x_values)\n",
    "\n",
    "# Calcular el límite para agregar al gráfico\n",
    "limit_value = float(Limit((root(x, 4) + root(x, 3) + sqrt(x) - 3) / (x - 1), x, 1).doit())\n",
    "\n",
    "# Graficar la función\n",
    "plt.figure(figsize=(10, 6))\n",
    "plt.plot(x_values, y_values, label=r'$\\frac{\\sqrt[4]{x} + \\sqrt[3]{x} + \\sqrt{x} - 3}{x - 1}$')\n",
    "plt.axvline(x=1, color='r', linestyle='--', label='x = 1')\n",
    "plt.axhline(y=limit_value, color='g', linestyle='--', label=f'Límite = {limit_value}')\n",
    "plt.xlabel('x')\n",
    "plt.ylabel('f(x)')\n",
    "plt.title(r'Comportamiento de $\\frac{\\sqrt[4]{x} + \\sqrt[3]{x} + \\sqrt{x} - 3}{x - 1}$ cerca de $x = 1$')\n",
    "plt.legend()\n",
    "plt.grid(False)\n",
    "plt.show()"
   ]
  },
  {
   "cell_type": "markdown",
   "id": "5ff1ec23",
   "metadata": {},
   "source": [
    "### Ejercicio 5"
   ]
  },
  {
   "cell_type": "markdown",
   "id": "b3c5549a",
   "metadata": {},
   "source": [
    "Calcular el siguiente límite: $$\\lim _{x\\to 1}\\frac{\\sqrt{x}+\\sqrt{4x+5}-\\sqrt{3x+13}}{x-1}$$"
   ]
  },
  {
   "cell_type": "code",
   "execution_count": null,
   "id": "83780251",
   "metadata": {},
   "outputs": [],
   "source": [
    "x = Symbol('x')\n",
    "num = x**(1/2)+(4*x+5)**(1/2)-(3*x+13)**(1/2)\n",
    "den = x-1\n",
    "frac=num/den\n",
    "Limit(frac, x, 1).doit()"
   ]
  },
  {
   "cell_type": "code",
   "execution_count": null,
   "id": "15853503",
   "metadata": {},
   "outputs": [],
   "source": [
    "# Definir la función para evaluar la fracción\n",
    "def frac_function(x):\n",
    "    return (np.sqrt(x) + np.sqrt(4*x + 5) - np.sqrt(3*x + 13)) / (x - 1)\n",
    "\n",
    "# Rango de valores de x para graficar, excluyendo x = 1 para evitar la división por cero\n",
    "x_values = np.linspace(0.5, 1.5, 400)\n",
    "x_values = x_values[x_values != 1]  # Excluir x = 1\n",
    "y_values = frac_function(x_values)\n",
    "\n",
    "# Calcular el límite para agregar al gráfico\n",
    "limit_value = float(Limit((sqrt(x) + sqrt(4*x + 5) - sqrt(3*x + 13)) / (x - 1), x, 1).doit())\n",
    "\n",
    "# Graficar la función\n",
    "plt.figure(figsize=(10, 6))\n",
    "plt.plot(x_values, y_values, label=r'$\\frac{\\sqrt{x} + \\sqrt{4x + 5} - \\sqrt{3x + 13}}{x - 1}$')\n",
    "plt.axvline(x=1, color='r', linestyle='--', label='x = 1')\n",
    "plt.axhline(y=limit_value, color='g', linestyle='--', label=f'Límite = {limit_value}')\n",
    "plt.xlabel('x')\n",
    "plt.ylabel('f(x)')\n",
    "plt.title(r'Comportamiento de $\\frac{\\sqrt{x} + \\sqrt{4x + 5} - \\sqrt{3x + 13}}{x - 1}$ cerca de $x = 1$')\n",
    "plt.legend()\n",
    "plt.grid(False)\n",
    "plt.show()"
   ]
  },
  {
   "cell_type": "markdown",
   "id": "f89fa5c1",
   "metadata": {},
   "source": [
    "## 1.- Límites al infinito"
   ]
  },
  {
   "cell_type": "markdown",
   "id": "1ac62480",
   "metadata": {},
   "source": [
    "### Ejercicio 1"
   ]
  },
  {
   "cell_type": "markdown",
   "id": "08e3048d",
   "metadata": {},
   "source": [
    "Calcular el siguiente límite: $$\\lim _{x\\to \\infty}\\frac{2x^2+3x+5}{3x^2-2x+1}$$"
   ]
  },
  {
   "cell_type": "code",
   "execution_count": null,
   "id": "91e5cb50",
   "metadata": {},
   "outputs": [],
   "source": [
    "from sympy import oo\n",
    "x = Symbol('x')\n",
    "num = 2*x**2 + 3*x + 5\n",
    "den = 3*x**2 - 2*x + 1\n",
    "frac = num / den\n",
    "Limit(frac, x, oo).doit()"
   ]
  },
  {
   "cell_type": "code",
   "execution_count": null,
   "id": "581a6f13",
   "metadata": {},
   "outputs": [],
   "source": [
    "# Calcular el límite de la fracción cuando x tiende a infinito\n",
    "limit_value = Limit(frac, x, oo).doit()\n",
    "\n",
    "def frac_function(x):\n",
    "    return (2*x**2 + 3*x + 5) / (3*x**2 - 2*x + 1)\n",
    "\n",
    "# Rango de valores de x para graficar\n",
    "x_values = np.linspace(1, 100, 400)\n",
    "y_values = frac_function(x_values)\n",
    "\n",
    "# Graficar la función\n",
    "plt.figure(figsize=(10, 6))\n",
    "plt.plot(x_values, y_values, label=r'$\\frac{2x^2 + 3x + 5}{3x^2 - 2x + 1}$')\n",
    "plt.axhline(y=limit_value, color='r', linestyle='--', label=f'Límite = {limit_value}')\n",
    "plt.xlabel('x')\n",
    "plt.ylabel('f(x)')\n",
    "plt.title(r'Comportamiento de $\\frac{2x^2 + 3x + 5}{3x^2 - 2x + 1}$ a medida que $x \\to \\infty$')\n",
    "plt.legend()\n",
    "plt.grid(False)\n",
    "plt.show()"
   ]
  },
  {
   "cell_type": "markdown",
   "id": "bedd1284",
   "metadata": {},
   "source": [
    "### Ejercicio 2"
   ]
  },
  {
   "cell_type": "markdown",
   "id": "93f00c5d",
   "metadata": {},
   "source": [
    "Calcular el siguiente límite: $$\\lim _{x\\to \\infty}\\frac{2x^2-3x-4}{\\sqrt{x^4+1}}$$"
   ]
  },
  {
   "cell_type": "code",
   "execution_count": null,
   "id": "a30b4c82",
   "metadata": {},
   "outputs": [],
   "source": [
    "x = Symbol('x')\n",
    "num =2*x**2-3*x-4\n",
    "den = (x**4+1)**(1/2)\n",
    "frac = num / den\n",
    "Limit(frac, x, oo).doit()"
   ]
  },
  {
   "cell_type": "code",
   "execution_count": null,
   "id": "bb36768a",
   "metadata": {},
   "outputs": [],
   "source": [
    "# Definir la función para evaluar la fracción\n",
    "def frac_function(x):\n",
    "    return (2*x**2 - 3*x - 4) / np.sqrt(x**4 + 1)\n",
    "\n",
    "# Rango de valores de x para graficar\n",
    "x_values = np.linspace(1, 100, 400)\n",
    "y_values = frac_function(x_values)\n",
    "\n",
    "# Calcular el límite para agregar al gráfico\n",
    "limit_value = float(Limit((2*x**2 - 3*x - 4) / sqrt(x**4 + 1), x, oo).doit())\n",
    "\n",
    "# Graficar la función\n",
    "plt.figure(figsize=(10, 6))\n",
    "plt.plot(x_values, y_values, label=r'$\\frac{2x^2 - 3x - 4}{\\sqrt{x^4 + 1}}$')\n",
    "plt.axhline(y=limit_value, color='g', linestyle='--', label=f'Límite = {limit_value}')\n",
    "plt.xlabel('x')\n",
    "plt.ylabel('f(x)')\n",
    "plt.title(r'Comportamiento de $\\frac{2x^2 - 3x - 4}{\\sqrt{x^4 + 1}}$ a medida que $x \\to \\infty$')\n",
    "plt.legend()\n",
    "plt.grid(False)\n",
    "plt.show()"
   ]
  },
  {
   "cell_type": "markdown",
   "id": "b030dcb4",
   "metadata": {},
   "source": [
    "### Ejercicio 3"
   ]
  },
  {
   "cell_type": "markdown",
   "id": "85cc31df",
   "metadata": {},
   "source": [
    "Calcular el siguiente límite: $$\\lim _{x\\to +\\infty} \\left(\\sqrt{x^2-5x+6}-x \\right)$$"
   ]
  },
  {
   "cell_type": "code",
   "execution_count": null,
   "id": "a5b36dbe",
   "metadata": {},
   "outputs": [],
   "source": [
    "x = Symbol('x')\n",
    "y = (x**2-5*x+6)**(1/2)-x\n",
    "Limit(y, x, oo).doit()"
   ]
  },
  {
   "cell_type": "code",
   "execution_count": null,
   "id": "fab7587a",
   "metadata": {},
   "outputs": [],
   "source": [
    "# Definir la función para evaluar\n",
    "def func(x):\n",
    "    return np.sqrt(x**2 - 5*x + 6) - x\n",
    "\n",
    "# Rango de valores de x para graficar\n",
    "x_values = np.linspace(3, 50, 400)\n",
    "y_values = func(x_values)\n",
    "\n",
    "# Calcular el límite para agregar al gráfico\n",
    "limit_value = float(Limit(sqrt(x**2 - 5*x + 6) - x, x, oo).doit())\n",
    "\n",
    "# Graficar la función\n",
    "plt.figure(figsize=(10, 6))\n",
    "plt.plot(x_values, y_values, label=r'$\\sqrt{x^2 - 5x + 6} - x$')\n",
    "plt.axhline(y=limit_value, color='g', linestyle='--', label=f'Límite = {limit_value}')\n",
    "plt.xlabel('x')\n",
    "plt.ylabel('f(x)')\n",
    "plt.title(r'Comportamiento de $\\sqrt{x^2 - 5x + 6} - x$ a medida que $x \\to +\\infty$')\n",
    "plt.legend()\n",
    "plt.grid(False)\n",
    "plt.show()"
   ]
  },
  {
   "cell_type": "markdown",
   "id": "f422f9d8",
   "metadata": {},
   "source": [
    "## 2.- Límites infinitos"
   ]
  },
  {
   "cell_type": "markdown",
   "id": "6f10ba7f",
   "metadata": {},
   "source": [
    "### Ejercicio 1"
   ]
  },
  {
   "cell_type": "markdown",
   "id": "e1791ada",
   "metadata": {},
   "source": [
    "Calcular el siguiente límite: $$\\lim _{x\\to 2^+}\\frac{x+2}{x^2-4}$$"
   ]
  },
  {
   "cell_type": "code",
   "execution_count": null,
   "id": "ec759794",
   "metadata": {},
   "outputs": [],
   "source": [
    "x = Symbol('x')\n",
    "y = (x + 2) / (x**2 - 4)\n",
    "Limit(y, x, 2, dir='+').doit()"
   ]
  },
  {
   "cell_type": "code",
   "execution_count": null,
   "id": "6e6eb8b9",
   "metadata": {},
   "outputs": [],
   "source": [
    "# Definir la función para evaluar\n",
    "def func(x):\n",
    "    return (x + 2) / (x**2 - 4)\n",
    "\n",
    "# Rango de valores de x para graficar, evitando el punto x = 2\n",
    "x_values = np.linspace(1, 3, 400)\n",
    "x_values = x_values[x_values != 2]  # Excluir x = 2 para evitar la división por cero\n",
    "y_values = func(x_values)\n",
    "\n",
    "# Graficar la función\n",
    "plt.figure(figsize=(10, 6))\n",
    "plt.plot(x_values, y_values, label=r'$\\frac{x + 2}{x^2 - 4}$')\n",
    "plt.axvline(x=2, color='r', linestyle='--', label='x = 2')\n",
    "plt.xlabel('x')\n",
    "plt.ylabel('f(x)')\n",
    "plt.title(r'Comportamiento de $\\frac{x + 2}{x^2 - 4}$ cerca de $x = 2^+$')\n",
    "plt.legend()\n",
    "plt.ylim(-10, 10)  # Limitar el rango de y para una mejor visualización\n",
    "plt.grid(False)\n",
    "plt.show()"
   ]
  },
  {
   "cell_type": "markdown",
   "id": "11a2ee5d",
   "metadata": {},
   "source": [
    "### Ejercicio 2"
   ]
  },
  {
   "cell_type": "markdown",
   "id": "f8b4882f",
   "metadata": {},
   "source": [
    "Calcular el siguiente límite: $$\\lim _{x\\to 1^-}\\frac{5x^3+1}{2-x-x^2}$$"
   ]
  },
  {
   "cell_type": "code",
   "execution_count": null,
   "id": "37efdb25",
   "metadata": {},
   "outputs": [],
   "source": [
    "x = Symbol('x')\n",
    "y = (5*x**3 + 1) / (2 - x - x**2)\n",
    "Limit(y, x, 1, dir='-').doit()"
   ]
  },
  {
   "cell_type": "code",
   "execution_count": null,
   "id": "8f0cd433",
   "metadata": {},
   "outputs": [],
   "source": [
    "def func(x):\n",
    "    return (5*x**3 + 1) / (2 - x - x**2)\n",
    "\n",
    "# Rango de valores de x para graficar, evitando el punto x = 1\n",
    "x_values = np.linspace(-1.999, 6, 400)\n",
    "x_values = x_values[x_values != 1]  # Excluir x = 1 para evitar la división por cero\n",
    "y_values = func(x_values)\n",
    "\n",
    "# Graficar la función\n",
    "plt.figure(figsize=(10, 6))\n",
    "plt.plot(x_values, y_values, label=r'$\\frac{5x^3 + 1}{2 - x - x^2}$')\n",
    "plt.axvline(x=1, color='r', linestyle='--', label='x = 1')\n",
    "plt.xlabel('x')\n",
    "plt.ylabel('f(x)')\n",
    "plt.title(r'Comportamiento de $\\frac{5x^3 + 1}{2 - x - x^2}$ cerca de $x = 1^-$')\n",
    "plt.legend()\n",
    "plt.ylim(-50, 10) \n",
    "plt.grid(False)\n",
    "plt.show()"
   ]
  },
  {
   "cell_type": "markdown",
   "id": "7ce79f9e",
   "metadata": {},
   "source": [
    "### Ejercicio 3"
   ]
  },
  {
   "cell_type": "markdown",
   "id": "24b749c6",
   "metadata": {},
   "source": [
    "Calcular el siguiente límite: $$\\lim _{x\\to 4^-}\\frac{\\sqrt{16-x^2}}{x-4}$$"
   ]
  },
  {
   "cell_type": "code",
   "execution_count": null,
   "id": "dc5a0d37",
   "metadata": {},
   "outputs": [],
   "source": [
    "x = Symbol('x')\n",
    "num = (16-x**2)**(1/2)\n",
    "den = x-4\n",
    "frac = num/den\n",
    "Limit(frac, x, 4, dir='-').doit()"
   ]
  },
  {
   "cell_type": "code",
   "execution_count": null,
   "id": "877247da",
   "metadata": {},
   "outputs": [],
   "source": [
    "# Definir la función para evaluar\n",
    "def func(x):\n",
    "    return np.sqrt(16 - x**2) / (x - 4)\n",
    "\n",
    "# Rango de valores de x para graficar, evitando el punto x = 4\n",
    "x_values = np.linspace(3, 4-1e-5, 400)\n",
    "y_values = func(x_values)\n",
    "\n",
    "# Graficar la función\n",
    "plt.figure(figsize=(10, 6))\n",
    "plt.plot(x_values, y_values, label=r'$\\frac{\\sqrt{16 - x^2}}{x - 4}$')\n",
    "plt.axvline(x=4, color='r', linestyle='--', label='x = 4')\n",
    "plt.xlabel('x')\n",
    "plt.ylabel('f(x)')\n",
    "plt.title(r'Comportamiento de $\\frac{\\sqrt{16 - x^2}}{x - 4}$ cerca de $x = 4^-$')\n",
    "plt.legend()\n",
    "plt.ylim(-100, 10)  \n",
    "plt.grid(False)\n",
    "plt.show()"
   ]
  },
  {
   "cell_type": "markdown",
   "id": "bd0c1733",
   "metadata": {},
   "source": [
    "## 3.- Límites de la forma $\\lim _{x\\to a} \\left( f\\left(x\\right) \\right)^{g\\left(x\\right)}$"
   ]
  },
  {
   "cell_type": "markdown",
   "id": "e7cb20ec",
   "metadata": {},
   "source": [
    "### Ejercicio 1"
   ]
  },
  {
   "cell_type": "markdown",
   "id": "7fc936b1",
   "metadata": {},
   "source": [
    "Calcular el siguiente límite: $$\\lim _{x\\to \\infty}\\left[\\frac{x-4}{x+1}\\right]^{x-2}$$"
   ]
  },
  {
   "cell_type": "code",
   "execution_count": null,
   "id": "71877202",
   "metadata": {},
   "outputs": [],
   "source": [
    "x = Symbol('x')\n",
    "y = ((x-4)/(x+1))**(x-2)\n",
    "Limit(y, x, oo).doit()"
   ]
  },
  {
   "cell_type": "code",
   "execution_count": null,
   "id": "1bc8b228",
   "metadata": {},
   "outputs": [],
   "source": [
    "# Definir la función para evaluar\n",
    "def func(x):\n",
    "    return np.power((x - 4) / (x + 1), x - 2)\n",
    "\n",
    "# Rango de valores de x para graficar\n",
    "x_values = np.linspace(4+1.e-5, 200, 400)\n",
    "y_values = func(x_values)\n",
    "\n",
    "# Graficar la función\n",
    "plt.figure(figsize=(10, 6))\n",
    "plt.plot(x_values, y_values, label=r'$\\left[\\frac{x - 4}{x + 1}\\right]^{x - 2}$')\n",
    "plt.axhline(y=np.exp(-5), color='r', linestyle='--', label='x = 4')\n",
    "plt.xlabel('x')\n",
    "plt.ylabel('f(x)')\n",
    "plt.title(r'Comportamiento de $\\left[\\frac{x - 4}{x + 1}\\right]^{x - 2}$ a medida que $x \\to \\infty$')\n",
    "plt.ylim(0.003, 0.008)  \n",
    "plt.grid(False)\n",
    "plt.show()"
   ]
  },
  {
   "cell_type": "markdown",
   "id": "a0ba1221",
   "metadata": {},
   "source": [
    "### Ejercicio 2"
   ]
  },
  {
   "cell_type": "markdown",
   "id": "afc17bf2",
   "metadata": {},
   "source": [
    "Calcular el siguiente límite: $$\\lim _{x\\to \\infty}\\left[\\frac{x^2+3}{x^2+4x}\\right]^{\\frac{x^2-1}{x}}$$"
   ]
  },
  {
   "cell_type": "code",
   "execution_count": null,
   "id": "d4c0f24e",
   "metadata": {},
   "outputs": [],
   "source": [
    "x = Symbol('x')\n",
    "base = (x**2+3)/(x**2+4*x)\n",
    "exponente = (x**2-1)/x\n",
    "expresion = base**exponente\n",
    "Limit(expresion, x, oo).doit()"
   ]
  },
  {
   "cell_type": "code",
   "execution_count": null,
   "id": "42dd7bfa",
   "metadata": {},
   "outputs": [],
   "source": [
    "# Definir la función para evaluar\n",
    "def func(x):\n",
    "    base = (x**2 + 3) / (x**2 + 4*x)\n",
    "    exponent = (x**2 - 1) / x\n",
    "    return np.power(base, exponent)\n",
    "\n",
    "# Rango de valores de x para graficar\n",
    "x_values = np.linspace(1, 50, 800)\n",
    "y_values = func(x_values)\n",
    "\n",
    "# Graficar la función\n",
    "plt.figure(figsize=(10, 6))\n",
    "plt.plot(x_values, y_values, label=r'$\\left[\\frac{x^2 + 3}{x^2 + 4x}\\right]^{\\frac{x^2 - 1}{x}}$')\n",
    "plt.axhline(y=np.exp(-4), color='r', linestyle='--')\n",
    "plt.xlabel('x')\n",
    "plt.ylabel('f(x)')\n",
    "plt.title(r'Comportamiento de $\\left[\\frac{x^2 + 3}{x^2 + 4x}\\right]^{\\frac{x^2 - 1}{x}}$ a medida que $x \\to \\infty$')\n",
    "plt.ylim(0.0001,1)  \n",
    "plt.grid(False)\n",
    "plt.legend()\n",
    "plt.show()"
   ]
  },
  {
   "cell_type": "markdown",
   "id": "427cc0ea",
   "metadata": {},
   "source": [
    "# II.- Derivada de una función de variable real"
   ]
  },
  {
   "cell_type": "markdown",
   "id": "05b0aca5",
   "metadata": {},
   "source": [
    "# 1.- Evaluación de la derivada en un punto"
   ]
  },
  {
   "cell_type": "markdown",
   "id": "b771df81",
   "metadata": {},
   "source": [
    "### Ejercicio 1"
   ]
  },
  {
   "cell_type": "markdown",
   "id": "0e18acb0",
   "metadata": {},
   "source": [
    "Evaluar la derivada en el punto indicado: $$y=\\sqrt{1+9x}, \\hspace{2mm} a=7$$"
   ]
  },
  {
   "cell_type": "code",
   "execution_count": null,
   "id": "de11e6d7",
   "metadata": {},
   "outputs": [],
   "source": [
    "# Calculando la derivada\n",
    "import sympy as sp\n",
    "x = sp.Symbol('x')\n",
    "f = sp.sqrt(1 + 9*x)\n",
    "sp.diff(f, x)"
   ]
  },
  {
   "cell_type": "code",
   "execution_count": null,
   "id": "401bb86a",
   "metadata": {},
   "outputs": [],
   "source": [
    "# Evaluando en el punto\n",
    "sp.diff(f, x).subs(x, 7)"
   ]
  },
  {
   "cell_type": "code",
   "execution_count": null,
   "id": "f19d5976",
   "metadata": {},
   "outputs": [],
   "source": [
    "import numpy as np\n",
    "import matplotlib.pyplot as plt\n",
    "\n",
    "# Calcular la derivada de la función\n",
    "f_prime = sp.diff(f, x)\n",
    "\n",
    "# Evaluar la derivada en x = 7\n",
    "a = 7\n",
    "derivative_at_a = f_prime.subs(x, a)\n",
    "\n",
    "# Evaluar la función en x = 7\n",
    "f_at_a = f.subs(x, a)\n",
    "\n",
    "# Convertir la derivada y la función a funciones de numpy\n",
    "f_lambda = sp.lambdify(x, f, 'numpy')\n",
    "f_prime_lambda = sp.lambdify(x, f_prime, 'numpy')\n",
    "\n",
    "# Definir la recta tangente\n",
    "def tangent_line(x_val):\n",
    "    return derivative_at_a * (x_val - a) + f_at_a\n",
    "\n",
    "# Valores para la gráfica\n",
    "x_values = np.linspace(-1/9+1.e-5, 12, 400)\n",
    "y_values = f_lambda(x_values)\n",
    "tangent_values = tangent_line(x_values)\n",
    "\n",
    "# Graficar la función y la recta tangente\n",
    "plt.figure(figsize=(12, 6))\n",
    "plt.plot(x_values, y_values, label=r'$y = \\sqrt{1 + 9x}$', color='blue')\n",
    "plt.plot(x_values, tangent_values, label=r'Recta Tangente en $x = 7$', color='red', linestyle='--')\n",
    "plt.scatter([a], [f_lambda(a)], color='black', zorder=5)  # Punto en x = 7\n",
    "plt.axvline(x=a, color='black', linestyle='--', label='x = 7')\n",
    "\n",
    "# Añadir etiquetas y título\n",
    "plt.xlabel('x')\n",
    "plt.ylabel('y')\n",
    "plt.title(r'Función y Recta Tangente en torno a $x = 7$')\n",
    "plt.legend()\n",
    "plt.grid(False)\n",
    "\n",
    "# Mostrar la gráfica\n",
    "plt.show()"
   ]
  },
  {
   "cell_type": "markdown",
   "id": "e9df0da4",
   "metadata": {},
   "source": [
    "### Ejercicio 2"
   ]
  },
  {
   "cell_type": "markdown",
   "id": "14caf42f",
   "metadata": {},
   "source": [
    "Evaluar la derivada en el punto indicado: $$y= \\frac{1}{\\sqrt{2x+3}}, \\hspace{2mm} a=3$$"
   ]
  },
  {
   "cell_type": "code",
   "execution_count": null,
   "id": "1c6f30df",
   "metadata": {},
   "outputs": [],
   "source": [
    "# Calculando la derivada\n",
    "import sympy as sp\n",
    "x = sp.Symbol('x')\n",
    "f = 1/sp.sqrt(2*x+3)\n",
    "sp.diff(f, x)"
   ]
  },
  {
   "cell_type": "code",
   "execution_count": null,
   "id": "6afebf35",
   "metadata": {},
   "outputs": [],
   "source": [
    "# Evaluando en el punto\n",
    "sp.diff(f, x).subs(x, 3)"
   ]
  },
  {
   "cell_type": "code",
   "execution_count": null,
   "id": "4df47bb9",
   "metadata": {},
   "outputs": [],
   "source": [
    "# Definir la variable simbólica\n",
    "x = sp.Symbol('x')\n",
    "\n",
    "# Definir la función\n",
    "f = 1 / sp.sqrt(2*x + 3)\n",
    "\n",
    "# Calcular la derivada de la función\n",
    "f_prime = sp.diff(f, x)\n",
    "\n",
    "# Evaluar la derivada en x = 3\n",
    "a = 3\n",
    "derivative_at_a = f_prime.subs(x, a)\n",
    "\n",
    "# Evaluar la función en x = 3\n",
    "f_at_a = f.subs(x, a)\n",
    "\n",
    "# Convertir la derivada y la función a funciones de numpy\n",
    "f_lambda = sp.lambdify(x, f, 'numpy')\n",
    "f_prime_lambda = sp.lambdify(x, f_prime, 'numpy')\n",
    "\n",
    "# Valores para la gráfica\n",
    "x_values = np.linspace(-1, 10, 400)\n",
    "y_values = f_lambda(x_values)\n",
    "tangent_values = tangent_line(x_values)\n",
    "\n",
    "# Graficar la función y la recta tangente\n",
    "plt.figure(figsize=(12, 6))\n",
    "plt.plot(x_values, y_values, label=r'$y = \\frac{1}{\\sqrt{2x + 3}}$', color='blue')\n",
    "plt.plot(x_values, tangent_values, label=r'Recta Tangente en $x = 3$', color='red', linestyle='--')\n",
    "plt.scatter([a], [f_lambda(a)], color='black', zorder=5)  # Punto en x = 3\n",
    "plt.axvline(x=a, color='black', linestyle='--', label='x = 3')\n",
    "\n",
    "# Añadir etiquetas y título\n",
    "plt.xlabel('x')\n",
    "plt.ylabel('y')\n",
    "plt.title(r'Función y Recta Tangente en torno a $x = 3$')\n",
    "plt.legend()\n",
    "plt.grid(False)\n",
    "\n",
    "# Mostrar la gráfica\n",
    "plt.show()"
   ]
  },
  {
   "cell_type": "markdown",
   "id": "05388e49",
   "metadata": {},
   "source": [
    "### Ejercicio 3"
   ]
  },
  {
   "cell_type": "markdown",
   "id": "1b0e6f50",
   "metadata": {},
   "source": [
    "Evaluar la derivada en el punto indicado: $$y=\\frac{1}{x}+x+x^2, \\hspace{2mm} a=-3$$"
   ]
  },
  {
   "cell_type": "code",
   "execution_count": null,
   "id": "b2f85cc9",
   "metadata": {},
   "outputs": [],
   "source": [
    "# Calculando la derivada\n",
    "import sympy as sp\n",
    "x = sp.Symbol('x')\n",
    "f = 1/x + x + x**2\n",
    "sp.diff(f, x)"
   ]
  },
  {
   "cell_type": "code",
   "execution_count": null,
   "id": "71852908",
   "metadata": {},
   "outputs": [],
   "source": [
    "# Evaluando en el punto\n",
    "sp.diff(f, x).subs(x, -3)"
   ]
  },
  {
   "cell_type": "code",
   "execution_count": null,
   "id": "ce80f563",
   "metadata": {},
   "outputs": [],
   "source": [
    "# Definir la variable simbólica\n",
    "x = sp.Symbol('x')\n",
    "\n",
    "# Definir la función\n",
    "f = 1/x + x + x**2\n",
    "\n",
    "# Calcular la derivada de la función\n",
    "f_prime = sp.diff(f, x)\n",
    "\n",
    "# Evaluar la derivada en x = -3\n",
    "a = -3\n",
    "derivative_at_a = f_prime.subs(x, a)\n",
    "\n",
    "# Convertir la derivada y la función a funciones de numpy\n",
    "f_lambda = sp.lambdify(x, f, 'numpy')\n",
    "f_prime_lambda = sp.lambdify(x, f_prime, 'numpy')\n",
    "\n",
    "# Valores para la gráfica\n",
    "x_values = np.linspace(-20, -1.5,700)\n",
    "y_values = f_lambda(x_values)\n",
    "tangent_values = tangent_line(x_values)\n",
    "\n",
    "# Graficar la función y la recta tangente\n",
    "plt.figure(figsize=(12, 6))\n",
    "plt.plot(x_values, y_values, label=r'$y = \\frac{1}{x} + x + x^2$', color='blue')\n",
    "plt.plot(x_values, tangent_values, label=r'Recta Tangente en $x = -3$', color='red', linestyle='--')\n",
    "plt.scatter([a], [f_lambda(a)], color='black', zorder=5)  # Punto en x = -3\n",
    "plt.axvline(x=a, color='black', linestyle='--', label='x = -3')\n",
    "\n",
    "# Añadir etiquetas y título\n",
    "plt.xlabel('x')\n",
    "plt.ylabel('y')\n",
    "plt.title(r'Función y Recta Tangente en torno a $x = -3$')\n",
    "plt.legend()\n",
    "plt.grid(False)\n",
    "\n",
    "# Mostrar la gráfica\n",
    "plt.show()"
   ]
  },
  {
   "cell_type": "markdown",
   "id": "38285c18",
   "metadata": {},
   "source": [
    "# 2.-Cálculo de derivadas (propiedades)"
   ]
  },
  {
   "cell_type": "markdown",
   "id": "abcb1819",
   "metadata": {},
   "source": [
    "### Ejercicio 1"
   ]
  },
  {
   "cell_type": "markdown",
   "id": "6c40da66",
   "metadata": {},
   "source": [
    "Calcular la derivada de: $$y= \\frac{1}{\\left(x+a\\right)^m}\\cdot \\frac{1}{\\left(x+b\\right)^n}$$"
   ]
  },
  {
   "cell_type": "code",
   "execution_count": null,
   "id": "9582098b",
   "metadata": {},
   "outputs": [],
   "source": [
    "x = sp.Symbol('x')\n",
    "a = sp.Symbol('a')\n",
    "b = sp.Symbol('b')\n",
    "m = sp.Symbol('m')\n",
    "n = sp.Symbol('n')\n",
    "f = (x+a)**(-m)*((x+b)**(-n))\n",
    "sp.diff(f, x)"
   ]
  },
  {
   "cell_type": "code",
   "execution_count": null,
   "id": "1596fcfd",
   "metadata": {},
   "outputs": [],
   "source": [
    "sp.simplify(sp.diff(f, x))"
   ]
  },
  {
   "cell_type": "markdown",
   "id": "a14d0eda",
   "metadata": {},
   "source": [
    "### Ejercicio 2"
   ]
  },
  {
   "cell_type": "markdown",
   "id": "97d41dbd",
   "metadata": {},
   "source": [
    "Calcular la derivada de: $$y=\\left(\\frac{x}{1+\\sqrt{1-x^2}}\\right)^n$$"
   ]
  },
  {
   "cell_type": "code",
   "execution_count": null,
   "id": "2263de44",
   "metadata": {},
   "outputs": [],
   "source": [
    "x = sp.Symbol('x')\n",
    "n = sp.Symbol('n')\n",
    "f = ((x)/(1+(1-x**2)**(1/2)))**n\n",
    "sp.diff(f, x)"
   ]
  },
  {
   "cell_type": "markdown",
   "id": "e72e4f00",
   "metadata": {},
   "source": [
    "### Ejercicio 3"
   ]
  },
  {
   "cell_type": "markdown",
   "id": "0e4e9b1c",
   "metadata": {},
   "source": [
    "Calcular la derivada de: $$y=\\frac{x}{\\sqrt{a^2-x^2}}$$"
   ]
  },
  {
   "cell_type": "code",
   "execution_count": null,
   "id": "c3985415",
   "metadata": {},
   "outputs": [],
   "source": [
    "x = sp.Symbol('x')\n",
    "a = sp.Symbol('a')\n",
    "f = x/(a**2-x**2)**(1/2)\n",
    "sp.diff(f, x)"
   ]
  },
  {
   "cell_type": "markdown",
   "id": "a4b61adc",
   "metadata": {},
   "source": [
    "### Ejercicio 4"
   ]
  },
  {
   "cell_type": "markdown",
   "id": "21993b65",
   "metadata": {},
   "source": [
    "Calcular la derivada de: $$y=\\frac{\\sqrt{x+a}}{\\sqrt{x}+\\sqrt{a}}$$"
   ]
  },
  {
   "cell_type": "code",
   "execution_count": null,
   "id": "2efc2c03",
   "metadata": {},
   "outputs": [],
   "source": [
    "x = sp.Symbol('x')\n",
    "a = sp.Symbol('a')\n",
    "f = ((x+a)**(1/2))/(x**(1/2)+a**(1/2))\n",
    "sp.diff(f, x)"
   ]
  },
  {
   "cell_type": "markdown",
   "id": "26748dd3",
   "metadata": {},
   "source": [
    "# 3.- Derivada de orden superior"
   ]
  },
  {
   "cell_type": "markdown",
   "id": "ae91391f",
   "metadata": {},
   "source": [
    "### Ejercicio 1"
   ]
  },
  {
   "cell_type": "markdown",
   "id": "53d1dfd6",
   "metadata": {},
   "source": [
    " Calcular la derivada de orden superior: $$y=\\frac{x}{\\sqrt{x^2-1}}, n=2$$"
   ]
  },
  {
   "cell_type": "code",
   "execution_count": null,
   "id": "db3048ef",
   "metadata": {},
   "outputs": [],
   "source": [
    "import sympy as sp\n",
    "x = sp.Symbol('x')\n",
    "y = x / sp.sqrt(x**2 - 1)\n",
    "\n",
    "# Calcular la primera derivada\n",
    "sp.diff(y, x)"
   ]
  },
  {
   "cell_type": "code",
   "execution_count": null,
   "id": "9d2b508a",
   "metadata": {},
   "outputs": [],
   "source": [
    "# Calcular la segunda derivada\n",
    "sp.diff(sp.diff(y, x), x)"
   ]
  },
  {
   "cell_type": "markdown",
   "id": "761788c7",
   "metadata": {},
   "source": [
    "### Ejercicio 2"
   ]
  },
  {
   "cell_type": "markdown",
   "id": "00085d0e",
   "metadata": {},
   "source": [
    " Calcular la derivada de orden superior: $$y=\\frac{1}{2}ln\\left(\\frac{1-\\sqrt{1-x^2}}{1+\\sqrt{1-x^2}}\\right),  n=2$$"
   ]
  },
  {
   "cell_type": "code",
   "execution_count": null,
   "id": "2752d371",
   "metadata": {},
   "outputs": [],
   "source": [
    "# Definir la variable simbólica\n",
    "x = sp.Symbol('x')\n",
    "\n",
    "# Definir la función\n",
    "sqrt_term = sp.sqrt(1 - x**2)\n",
    "y = (1/2) * sp.ln((1 - sqrt_term) / (1 + sqrt_term))\n",
    "\n",
    "# Calcular la primera derivada\n",
    "der_uno=sp.diff(y, x)\n",
    "der_uno"
   ]
  },
  {
   "cell_type": "code",
   "execution_count": null,
   "id": "39820441",
   "metadata": {},
   "outputs": [],
   "source": [
    "# Calcular la segunda derivada\n",
    "der_dos=sp.diff(der_uno, x)\n",
    "der_dos"
   ]
  },
  {
   "cell_type": "markdown",
   "id": "28044a9a",
   "metadata": {},
   "source": [
    "# SECCIÓN 03: SERIES DE TAYLOR Y MACLAURIN"
   ]
  },
  {
   "cell_type": "markdown",
   "id": "12e9d6f5",
   "metadata": {},
   "source": [
    "Una serie de Taylor es una aproximación de funciones mediante una serie de potencias o suma de potencias enteras de polinomios como $\\displaystyle (x-a)^{n}$ llamados términos de la serie, dicha suma se calcula a partir de las derivadas de la función para un determinado valor o punto $\\displaystyle a$ suficientemente derivable sobre la función y un entorno sobre el cual converja la serie. A la serie centrada sobre el punto cero, es decir, cuando $\\displaystyle a=0$, se le denomina también serie de Maclaurin.\n",
    "\n",
    "Esta aproximación tiene tres ventajas importantes:\n",
    "- La derivación e integración de una de estas series se puede realizar término a término, que resultan operaciones triviales\n",
    "- Se puede utilizar para calcular valores aproximados de funciones\n",
    "- Es posible calcular la optimidad de la aproximación"
   ]
  },
  {
   "cell_type": "markdown",
   "id": "583dc5b4",
   "metadata": {},
   "source": [
    "La serie de Taylor de una función real o compleja $\\displaystyle f(x)$ infinitamente diferenciable en el entorno de un número real o complejo a es la siguiente serie de potencias:\n",
    "$${\\displaystyle f(a)+{\\frac {f'(a)}{1!}}(x-a)+{\\frac {f''(a)}{2!}}(x-a)^{2}+{\\frac {f^{(3)}(a)}{3!}}(x-a)^{3}+\\cdots +{\\frac {f^{(n)}(a)}{n!}}(x-a)^{n}+\\cdots }$$\n",
    "\n",
    "Donde $\\displaystyle n!$ denota el factorial de $\\displaystyle n$. Utilizando la notación sigma, lo anterior puede ser escrito de manera compacta como: \n",
    "$${\\displaystyle \\sum _{n=0}^{\\infty }{\\frac {f^{(n)}(a)}{n!}}(x-a)^{n}}$$\n",
    "\n",
    "Donde $\\displaystyle f^{(n)}(a)$ denota la $\\displaystyle n$-ésima derivada de $\\displaystyle f$ evaluada en el punto $\\displaystyle a$. (La derivada de orden cero de $\\displaystyle f$ es definida como la propia $\\displaystyle f$ y tanto $\\displaystyle (x-a)^{0}$ como $\\displaystyle 0!$ son ambos definidos como $\\displaystyle 1$.\n",
    "\n",
    "En particular, cuando $\\displaystyle a=0$, la serie es denominada: **serie de Maclaurin**."
   ]
  },
  {
   "cell_type": "markdown",
   "id": "b8753c97",
   "metadata": {},
   "source": [
    "La serie de Maclaurin para $\\textstyle {\\frac {1}{1-x}}$ es la serie geométrica $$\\displaystyle \\sum _{n=0}^{\\infty }x^{n}=1+x+x^{2}+x^{3}+\\cdots$$\n",
    "por lo que la serie de Taylor para $\\textstyle {\\frac {1}{x}}$ en $\\displaystyle a=1$ es $$\\displaystyle 1-(x-1)+(x-1)^{2}-(x-1)^{3}+\\cdots$$\n",
    "Integrando la serie de Maclaurin de arriba, obtenemos la serie de Maclaurin de $\\displaystyle \\ln(1-x)$\n",
    "$$\\displaystyle -x-{\\frac {1}{2}}x^{2}-{\\frac {1}{3}}x^{3}-{\\frac {1}{4}}x^{4}-\\cdots$$\n",
    "más general, la serie de Taylor para $\\displaystyle \\ln(x)$ en un punto arbitrario $\\displaystyle a\\neq 0$ es \n",
    "$$\\displaystyle (x-1)-{\\frac {1}{2}}(x-1)^{2}+{\\frac {1}{3}}(x-1)^{3}-{\\frac {1}{4}}(x-1)^{4}-\\cdots$$\n",
    "La serie de Maclaurin de la función exponencial $\\displaystyle e^{x}$ es \n",
    "$${\\displaystyle {\\begin{aligned}\\sum _{n=0}^{\\infty }{\\frac {x^{n}}{n!}}&={\\frac {x^{0}}{0!}}+{\\frac {x^{1}}{1!}}+{\\frac {x^{2}}{2!}}+{\\frac {x^{3}}{3!}}+{\\frac {x^{4}}{4!}}+{\\frac {x^{5}}{5!}}+\\cdots \\\\&=1+x+{\\frac {x^{2}}{2}}+{\\frac {x^{3}}{6}}+{\\frac {x^{4}}{24}}+{\\frac {x^{5}}{120}}+\\cdots \\end{aligned}}}$$"
   ]
  },
  {
   "cell_type": "markdown",
   "id": "fff72805",
   "metadata": {},
   "source": [
    "Las función trigonométricas usuales y sus inversas tienen como series de Maclaurin:\n",
    "$${\\displaystyle {\\begin{aligned}\\operatorname {sen} x&=\\sum _{n=0}^{\\infty }{\\frac {(-1)^{n}}{(2n+1)!}}\\;x^{2n+1}\\quad {\\mbox{para toda }}x\\\\\\cos x&=\\sum _{n=0}^{\\infty }{\\frac {(-1)^{n}}{(2n)!}}\\;x^{2n}\\quad {\\mbox{para toda }}x\\\\\\tan x&=\\sum _{n=1}^{\\infty }{\\frac {B_{2n}(-4)^{n}(1-4^{n})}{(2n)!}}\\;x^{2n-1}\\quad {\\mbox{para }}|x|<{\\frac {\\pi }{2}}\\\\\\sec x&=\\sum _{n=0}^{\\infty }{\\frac {(-1)^{n}E_{2n}}{(2n)!}}\\;x^{2n}\\quad {\\mbox{para }}\\left|x\\right|<{\\frac {\\pi }{2}}\\\\\\csc x&=\\sum _{n=1}^{\\infty }{\\frac {2(-1)^{n-1}(2^{2n-1}-1)B_{2n}x^{2n-1}}{(2n)!}}\\quad {\\mbox{para }}0<\\left|{x}\\right|<\\pi \\\\{\\text{arcsen }}x&=\\sum _{n=0}^{\\infty }{\\frac {(2n)!}{4^{n}(n!)^{2}(2n+1)}}\\;x^{2n+1}\\quad {\\mbox{para }}\\left|x\\right|<1\\\\\\arccos x&={\\frac {\\pi }{2}}-{\\text{arcsen }}x\\\\\\arctan x&=\\sum _{n=0}^{\\infty }{\\frac {(-1)^{n}}{2n+1}}\\;x^{2n+1}\\quad {\\mbox{para }}\\left|x\\right|<1\\end{aligned}}}$$"
   ]
  },
  {
   "cell_type": "markdown",
   "id": "7a5b6335",
   "metadata": {},
   "source": [
    "## Ejemplo 1"
   ]
  },
  {
   "cell_type": "markdown",
   "id": "14207d78",
   "metadata": {},
   "source": [
    "Hallar el polinomio de Taylor de la siguiente función alrededor de $\\pi$: \n",
    "$$f(x)=cos(x)$$"
   ]
  },
  {
   "cell_type": "code",
   "execution_count": null,
   "id": "3c8bc57e",
   "metadata": {},
   "outputs": [],
   "source": [
    "#Función para hallar el polinomio de Taylor\n",
    "from math import factorial\n",
    "import sympy as sp\n",
    "from sympy.plotting import plot\n",
    "from IPython.display import display, Math\n",
    "\n",
    "def PolTaylor(a, n, f):\n",
    "    # Definir la variable simbólica\n",
    "    x = sp.symbols('x')\n",
    "    F = f\n",
    "    # Polinomio de Taylor T\n",
    "    T = f.subs(x, a)\n",
    "    for k in range(1, n + 1):\n",
    "        # Derivada k-ésima\n",
    "        dfk = sp.diff(f, x, k)\n",
    "        # Añadir el término k-ésimo del polinomio\n",
    "        T = T + dfk.subs(x, a) * ((x - a) ** k) / factorial(k)\n",
    "\n",
    "    # Mostrar el polinomio de Taylor en formato LaTeX\n",
    "    display(Math(sp.latex(sp.expand(T))))\n",
    "\n",
    "    # Evaluar el polinomio en el punto a\n",
    "    T_evaluated = T.subs(x, a)\n",
    "    print(f\"Polinomio de Taylor evaluado en a={a}: {T_evaluated}\")\n",
    "\n",
    "    # Gráfica de la función y el polinomio de Taylor\n",
    "    g = plot(F, T, (x, a - 5, a + 5), title=f'Polinomio de Taylor en a={a}', show=False)\n",
    "    g[0].line_color = 'k'  # Función original en negro\n",
    "    g[1].line_color = 'r'  # Polinomio de Taylor en rojo\n",
    "    g.show()"
   ]
  },
  {
   "cell_type": "code",
   "execution_count": null,
   "id": "9a8161d3",
   "metadata": {},
   "outputs": [],
   "source": [
    "#Evaluación del polinomio de grado 3\n",
    "from math import pi\n",
    "f=sp.cos(x)\n",
    "PolTaylor(pi,3,f)"
   ]
  },
  {
   "cell_type": "code",
   "execution_count": null,
   "id": "4efcfecf",
   "metadata": {},
   "outputs": [],
   "source": [
    "#Evaluación del polinomio de grado 5\n",
    "PolTaylor(pi,5,f)"
   ]
  },
  {
   "cell_type": "code",
   "execution_count": null,
   "id": "977fdd0c",
   "metadata": {
    "scrolled": false
   },
   "outputs": [],
   "source": [
    "#Evaluación del polinomio de grado 9\n",
    "PolTaylor(pi,9,f)"
   ]
  },
  {
   "cell_type": "code",
   "execution_count": null,
   "id": "38d077af",
   "metadata": {},
   "outputs": [],
   "source": [
    "#Evaluación del polinomio de grado 18\n",
    "PolTaylor(pi,18,f)"
   ]
  },
  {
   "cell_type": "markdown",
   "id": "cfa54bce",
   "metadata": {},
   "source": [
    "## Ejemplo 2"
   ]
  },
  {
   "cell_type": "markdown",
   "id": "77c7b744",
   "metadata": {},
   "source": [
    "Aproximar a través del polinomio de Taylor la función:\n",
    "$$f(x)=\\frac{ln(1+x)}{1+x^2}$$\n",
    "Evaluar alrededor de 11"
   ]
  },
  {
   "cell_type": "code",
   "execution_count": null,
   "id": "b1536df7",
   "metadata": {},
   "outputs": [],
   "source": [
    "f=sp.log(1+x)/(1+x**2)\n",
    "PolTaylor(11,2,f)"
   ]
  },
  {
   "cell_type": "markdown",
   "id": "33db4ac0",
   "metadata": {},
   "source": [
    "## Ejemplo 3"
   ]
  },
  {
   "cell_type": "markdown",
   "id": "5bdb64cf",
   "metadata": {},
   "source": [
    "Calcular aproximadamente con 4 decimales, en torno a cero,  el valor de $$\\int_{0}^{1/2}e^{-t^2}dt$$"
   ]
  },
  {
   "cell_type": "code",
   "execution_count": null,
   "id": "bacad805",
   "metadata": {},
   "outputs": [],
   "source": [
    "import sympy as sp\n",
    "import numpy as np\n",
    "import matplotlib.pyplot as plt\n",
    "from IPython.display import display, Math\n",
    "\n",
    "# Definir la variable simbólica\n",
    "t = sp.symbols('t')\n",
    "\n",
    "# Función original e^(-t^2)\n",
    "f = sp.exp(-t**2)\n",
    "\n",
    "# Expansión de la serie de Taylor de e^(-t^2) en torno a t=0\n",
    "series_expansion = sp.series(f, t, 0, 13).removeO()\n",
    "\n",
    "# Definir los límites de la integral\n",
    "a = 0\n",
    "b = 1/2\n",
    "\n",
    "# Mostrar el polinomio en formato LaTeX\n",
    "display(Math(sp.latex(series_expansion)))\n",
    "\n",
    "# Calcular la integral de la serie truncada\n",
    "integral = sp.integrate(series_expansion, (t, a, b))\n",
    "\n",
    "# Mostrar el resultado aproximado con 4 decimales\n",
    "resultado = integral.evalf()\n",
    "print(f\"El valor aproximado de la integral es: {resultado:.4f}\")\n",
    "\n",
    "# Gráfica comparativa entre e^(-t^2) y la aproximación por Taylor\n",
    "t_vals = np.linspace(0, 0.5, 400)\n",
    "f_vals = np.exp(-t_vals**2)  # Función original\n",
    "\n",
    "# Aproximación por la serie de Taylor (convertimos a función numérica)\n",
    "taylor_approx = sp.lambdify(t, series_expansion)\n",
    "taylor_vals = taylor_approx(t_vals)\n",
    "\n",
    "# Crear la gráfica\n",
    "plt.figure(figsize=(8, 5))\n",
    "plt.plot(t_vals, f_vals, label=r'$e^{-t^2}$', color='black')\n",
    "plt.plot(t_vals, taylor_vals, '--', label='Aproximación por Taylor', color='red')\n",
    "plt.title(r'Comparación de $e^{-t^2}$ y su aproximación por Taylor')\n",
    "plt.xlabel('t')\n",
    "plt.ylabel('f(t)')\n",
    "plt.legend()\n",
    "plt.grid(False)\n",
    "plt.show()"
   ]
  },
  {
   "cell_type": "markdown",
   "id": "1eff5d12",
   "metadata": {},
   "source": [
    "## Ejemplo 4"
   ]
  },
  {
   "cell_type": "markdown",
   "id": "7b5aaaf0",
   "metadata": {},
   "source": [
    "Hallar la serie de potencia de $x$ de la función, alrededor de $2\\pi$:\n",
    "$$f(x)=\\frac{cosx}{1+x}$$"
   ]
  },
  {
   "cell_type": "code",
   "execution_count": null,
   "id": "dd3d1204",
   "metadata": {},
   "outputs": [],
   "source": [
    "f=sp.cos(x)/(1+x)\n",
    "PolTaylor(2*pi,8,f)"
   ]
  },
  {
   "cell_type": "markdown",
   "id": "7872d9ad",
   "metadata": {},
   "source": [
    "## Ejemplo 5"
   ]
  },
  {
   "cell_type": "markdown",
   "id": "864d9284",
   "metadata": {},
   "source": [
    "Hallar la serie de potencia de $x$ de la función, alrededor de 6, $$f(x)=xe^{-2x}$$"
   ]
  },
  {
   "cell_type": "code",
   "execution_count": null,
   "id": "21ff2e88",
   "metadata": {},
   "outputs": [],
   "source": [
    "f=x*sp.exp(-2*x)\n",
    "PolTaylor(6,5,f)"
   ]
  },
  {
   "cell_type": "markdown",
   "id": "356540e2",
   "metadata": {},
   "source": [
    "# SECCIÓN 04: CÁLCULO DIFERENCIAL MULTIVARIADO"
   ]
  },
  {
   "cell_type": "markdown",
   "id": "352ca4ce",
   "metadata": {},
   "source": [
    "**EJERCICIO 01**\n",
    "\n",
    "La representación gráfica de la función:\n",
    "$$z=ln(x+y^2)$$"
   ]
  },
  {
   "cell_type": "code",
   "execution_count": null,
   "id": "78d9c05d",
   "metadata": {},
   "outputs": [],
   "source": [
    "import numpy as np\n",
    "import matplotlib.pyplot as plt\n",
    "from mpl_toolkits.mplot3d import Axes3D\n",
    "\n",
    "# Crear un rango de valores para x e y\n",
    "x_vals = np.linspace(0.1, 5, 400)  # x > -y^2 para evitar valores negativos dentro del logaritmo\n",
    "y_vals = np.linspace(-2, 2, 400)\n",
    "\n",
    "# Crear la malla de puntos (x, y)\n",
    "X, Y = np.meshgrid(x_vals, y_vals)\n",
    "\n",
    "# Calcular los valores de z = ln(x + y^2)\n",
    "Z = np.log(X + Y**2)\n",
    "\n",
    "# Crear la figura 3D\n",
    "fig = plt.figure(figsize=(8, 6))\n",
    "ax = fig.add_subplot(111, projection='3d')\n",
    "\n",
    "# Graficar la superficie\n",
    "ax.plot_surface(X, Y, Z, cmap='viridis', edgecolor='none')\n",
    "\n",
    "# Etiquetas de los ejes\n",
    "ax.set_xlabel('X')\n",
    "ax.set_ylabel('Y')\n",
    "ax.set_zlabel('Z')\n",
    "\n",
    "# Título\n",
    "ax.set_title(r'$z = \\ln(x + y^2)$')\n",
    "plt.show()"
   ]
  },
  {
   "cell_type": "markdown",
   "id": "a723d755",
   "metadata": {},
   "source": [
    "**EJERCICIO 02**\n",
    "\n",
    "La representación gráfica de la función:\n",
    "$$z=\\left(\\sqrt{x}+\\sqrt{y}-1\\right)^2$$"
   ]
  },
  {
   "cell_type": "code",
   "execution_count": null,
   "id": "93d30299",
   "metadata": {},
   "outputs": [],
   "source": [
    "# Definir el rango de valores para x e y (deben ser no negativos)\n",
    "x_vals = np.linspace(0, 5, 400)\n",
    "y_vals = np.linspace(0, 5, 400)\n",
    "\n",
    "# Crear la malla de puntos (x, y)\n",
    "X, Y = np.meshgrid(x_vals, y_vals)\n",
    "\n",
    "# Calcular los valores de z = (sqrt(x) + sqrt(y) - 1)^2\n",
    "Z = (np.sqrt(X) + np.sqrt(Y) - 1)**2\n",
    "\n",
    "# Crear la figura 3D\n",
    "fig = plt.figure(figsize=(8, 6))\n",
    "ax = fig.add_subplot(111, projection='3d')\n",
    "\n",
    "# Graficar la superficie\n",
    "ax.plot_surface(X, Y, Z, cmap='plasma', edgecolor='none')\n",
    "\n",
    "# Etiquetas de los ejes\n",
    "ax.set_xlabel('X')\n",
    "ax.set_ylabel('Y')\n",
    "ax.set_zlabel('Z')\n",
    "\n",
    "# Título\n",
    "ax.set_title(r'$z = \\left( \\sqrt{x} + \\sqrt{y} - 1 \\right)^2$')\n",
    "plt.show()"
   ]
  },
  {
   "cell_type": "markdown",
   "id": "3b05e425",
   "metadata": {},
   "source": [
    "## 1.- Derivadas parciales"
   ]
  },
  {
   "cell_type": "markdown",
   "id": "cbefc4eb",
   "metadata": {},
   "source": [
    "**EJERCICIO 01**\n",
    "\n",
    "Calcular la derivada parcial respecto a $x$ de: $$z=ln\\left(\\frac{x^2-y^2}{x^2+y^2}\\right)$$"
   ]
  },
  {
   "cell_type": "code",
   "execution_count": null,
   "id": "24616d78",
   "metadata": {},
   "outputs": [],
   "source": [
    "from sympy import symbols, diff,log,simplify,Derivative\n",
    "x = Symbol('x')\n",
    "y = Symbol('y')\n",
    "fxy = log((x**2-y**2)/(x**2+y**2))\n",
    "dx = Derivative(fxy, x).doit()\n",
    "dx"
   ]
  },
  {
   "cell_type": "markdown",
   "id": "6de820b1",
   "metadata": {},
   "source": [
    "Se puede solicitar los cálculos simplificados: "
   ]
  },
  {
   "cell_type": "code",
   "execution_count": null,
   "id": "08a2ceb2",
   "metadata": {},
   "outputs": [],
   "source": [
    "simplify(dx)"
   ]
  },
  {
   "cell_type": "markdown",
   "id": "a992a695",
   "metadata": {},
   "source": [
    "Si se desea derivar respecto a y: "
   ]
  },
  {
   "cell_type": "code",
   "execution_count": null,
   "id": "0045bb02",
   "metadata": {},
   "outputs": [],
   "source": [
    "dy = Derivative(fxy, y).doit()\n",
    "simplify(dy)"
   ]
  },
  {
   "cell_type": "markdown",
   "id": "009c4c3f",
   "metadata": {},
   "source": [
    "**EJERCICIO 02**\n",
    "\n",
    "Calcular las derivadas parciales de: $$f\\left(x,y\\right)=x^2cosy+y^2senx$$"
   ]
  },
  {
   "cell_type": "code",
   "execution_count": null,
   "id": "91551f4d",
   "metadata": {},
   "outputs": [],
   "source": [
    "from sympy import cos, sin\n",
    "fxy = x**2*cos(y)+y**2*sin(x)\n",
    "dx = Derivative(fxy, x).doit()\n",
    "dy = Derivative(fxy, y).doit()"
   ]
  },
  {
   "cell_type": "code",
   "execution_count": null,
   "id": "80aa7faf",
   "metadata": {},
   "outputs": [],
   "source": [
    "simplify(dx)"
   ]
  },
  {
   "cell_type": "code",
   "execution_count": null,
   "id": "c63f6916",
   "metadata": {},
   "outputs": [],
   "source": [
    "simplify(dy)"
   ]
  },
  {
   "cell_type": "markdown",
   "id": "c866aea1",
   "metadata": {},
   "source": [
    "**EJERCICIO 03**\n",
    "\n",
    "Calcular las derivadas parciales de : $$f\\left(x,y\\right)=xe^{x^2y}$$"
   ]
  },
  {
   "cell_type": "code",
   "execution_count": null,
   "id": "e626780f",
   "metadata": {},
   "outputs": [],
   "source": [
    "from sympy import exp\n",
    "fxy = x*exp(x**2*y)\n",
    "dx = Derivative(fxy, x).doit()\n",
    "dy = Derivative(fxy, y).doit()"
   ]
  },
  {
   "cell_type": "code",
   "execution_count": null,
   "id": "fba2b2c4",
   "metadata": {},
   "outputs": [],
   "source": [
    "simplify(dx)"
   ]
  },
  {
   "cell_type": "code",
   "execution_count": null,
   "id": "787d2486",
   "metadata": {},
   "outputs": [],
   "source": [
    "simplify(dy)"
   ]
  },
  {
   "cell_type": "markdown",
   "id": "d983b973",
   "metadata": {},
   "source": [
    "**EJERCICIO 04**\n",
    "\n",
    "Calcular las derivadas parciales de : $$z=ln\\left(\\frac{\\sqrt{x^2+y^2}-x}{\\sqrt{x^2+y^2}+x}\\right)$$"
   ]
  },
  {
   "cell_type": "code",
   "execution_count": null,
   "id": "b0e2c1f5",
   "metadata": {},
   "outputs": [],
   "source": [
    "from sympy import sqrt\n",
    "fxy = log((sqrt(x**2+y**2)-x)/(sqrt(x**2+y**2)+x))\n",
    "dx = Derivative(fxy, x).doit()\n",
    "dy = Derivative(fxy, y).doit()"
   ]
  },
  {
   "cell_type": "code",
   "execution_count": null,
   "id": "f5a90b9a",
   "metadata": {},
   "outputs": [],
   "source": [
    "simplify(dx)"
   ]
  },
  {
   "cell_type": "code",
   "execution_count": null,
   "id": "9c011a9a",
   "metadata": {},
   "outputs": [],
   "source": [
    "simplify(dy)"
   ]
  },
  {
   "cell_type": "markdown",
   "id": "1e21b7fc",
   "metadata": {},
   "source": [
    "**EJERCICIO 05**\n",
    "\n",
    "Calcular las derivadas parciales de : $$\\omega =e^{xyz}+arctg\\left(\\frac{3xy}{z^2}\\right)$$"
   ]
  },
  {
   "cell_type": "code",
   "execution_count": null,
   "id": "742c92d6",
   "metadata": {},
   "outputs": [],
   "source": [
    "from sympy import atan\n",
    "z= Symbol('z')\n",
    "fxyz = exp(x*y*z)+ atan(3*x*y/z**2)\n",
    "dx = Derivative(fxyz, x).doit()\n",
    "dy = Derivative(fxyz, y).doit()\n",
    "dz = Derivative(fxyz, z).doit()"
   ]
  },
  {
   "cell_type": "code",
   "execution_count": null,
   "id": "7d515408",
   "metadata": {},
   "outputs": [],
   "source": [
    "simplify(dx)"
   ]
  },
  {
   "cell_type": "code",
   "execution_count": null,
   "id": "70aba0dc",
   "metadata": {},
   "outputs": [],
   "source": [
    "simplify(dy)"
   ]
  },
  {
   "cell_type": "code",
   "execution_count": null,
   "id": "4ec86a40",
   "metadata": {},
   "outputs": [],
   "source": [
    "simplify(dz)"
   ]
  },
  {
   "cell_type": "markdown",
   "id": "45d84dda",
   "metadata": {},
   "source": [
    "# SECCIÓN 05: OPTIMIZACIÓN DE FUNCIONES"
   ]
  },
  {
   "cell_type": "markdown",
   "id": "089cd223",
   "metadata": {},
   "source": [
    "## 1.- Criterio de la matriz hessiana"
   ]
  },
  {
   "cell_type": "markdown",
   "id": "956ec521",
   "metadata": {},
   "source": [
    "**EJERCICIO 01**\n",
    "\n",
    "Hallar la matriz hessiana de la función $$f(x,y,z)=x^2+y^2+z^2-7xy+5x-3z$$"
   ]
  },
  {
   "cell_type": "code",
   "execution_count": null,
   "id": "51990a24",
   "metadata": {},
   "outputs": [],
   "source": [
    "# Definir las variables\n",
    "x, y, z = sp.symbols('x y z')\n",
    "\n",
    "# Definir la función\n",
    "f = x**2 + y**2 + z**2 - 7*x*y + 5*x - 3*z\n",
    "\n",
    "# Calcular las derivadas parciales segundas\n",
    "hessian_matrix = sp.hessian(f, (x, y, z))\n",
    "\n",
    "display(Math(sp.latex(hessian_matrix)))"
   ]
  },
  {
   "cell_type": "markdown",
   "id": "d98e1be3",
   "metadata": {},
   "source": [
    "**EJERCICIO 02**\n",
    "\n",
    "Determinar los extremos relativos de la función\n",
    "$$f(x,y,z)=x^2+2y^2+z^2-6x+3y-2z+5$$"
   ]
  },
  {
   "cell_type": "code",
   "execution_count": null,
   "id": "aeddcffd",
   "metadata": {},
   "outputs": [],
   "source": [
    "import sympy as sp\n",
    "\n",
    "# Definir las variables\n",
    "x, y, z = sp.symbols('x y z')\n",
    "\n",
    "# Definir la función\n",
    "f = x**2 + 2*y**2 + z**2 - 6*x + 3*y - 2*z + 5\n",
    "\n",
    "# Calcular las derivadas parciales\n",
    "f_x = sp.diff(f, x)\n",
    "f_y = sp.diff(f, y)\n",
    "f_z = sp.diff(f, z)\n",
    "\n",
    "# Encontrar los puntos críticos resolviendo el sistema de ecuaciones\n",
    "critical_points = sp.solve([f_x, f_y, f_z], (x, y, z))\n",
    "print(\"Los puntos críticos: \")\n",
    "display(Math(sp.latex(critical_points)))\n",
    "\n",
    "# Calcular la matriz Hessiana\n",
    "Hessian = sp.hessian(f, (x, y, z))\n",
    "print(\"La matriz hessiana: \")\n",
    "display(Math(sp.latex(Hessian)))"
   ]
  },
  {
   "cell_type": "markdown",
   "id": "c7b16549",
   "metadata": {},
   "source": [
    "**EJERCICIO 03**\n",
    "\n",
    "Determinar los extremos relativos de la función\n",
    "$$f(x,y,z)=4x+xy-x^2-y^2-z^2-yz$$"
   ]
  },
  {
   "cell_type": "code",
   "execution_count": null,
   "id": "41809ea6",
   "metadata": {},
   "outputs": [],
   "source": [
    "# Definir la función\n",
    "f = 4*x + x*y - x**2 - y**2 - z**2 - y*z\n",
    "\n",
    "# Calcular las derivadas parciales\n",
    "f_x = sp.diff(f, x)\n",
    "f_y = sp.diff(f, y)\n",
    "f_z = sp.diff(f, z)\n",
    "\n",
    "# Encontrar los puntos críticos resolviendo el sistema de ecuaciones\n",
    "critical_points = sp.solve([f_x, f_y, f_z], (x, y, z))\n",
    "print(\"Los puntos críticos: \")\n",
    "display(Math(sp.latex(critical_points)))\n",
    "\n",
    "# Calcular la matriz Hessiana\n",
    "Hessian = sp.hessian(f, (x, y, z))\n",
    "print(\"La matriz hessiana: \")\n",
    "display(Math(sp.latex(Hessian)))"
   ]
  },
  {
   "cell_type": "markdown",
   "id": "977d390e",
   "metadata": {},
   "source": [
    "**EJERCICIO 04**\n",
    "\n",
    "Determinar los extremos relativos de la función\n",
    "$$f(x,y)=x^2+xy+y^2-6x+2$$"
   ]
  },
  {
   "cell_type": "code",
   "execution_count": null,
   "id": "b7a515ee",
   "metadata": {},
   "outputs": [],
   "source": [
    "# Definir la función\n",
    "f = x**2+x*y+y**2-6*x+2\n",
    "\n",
    "# Calcular las derivadas parciales\n",
    "f_x = sp.diff(f, x)\n",
    "f_y = sp.diff(f, y)\n",
    "\n",
    "# Encontrar los puntos críticos resolviendo el sistema de ecuaciones\n",
    "critical_points = sp.solve([f_x, f_y], (x, y))\n",
    "print(\"Los puntos críticos: \")\n",
    "display(Math(sp.latex(critical_points)))\n",
    "\n",
    "# Calcular la matriz Hessiana\n",
    "Hessian = sp.hessian(f, (x, y))\n",
    "print(\"La matriz hessiana: \")\n",
    "display(Math(sp.latex(Hessian)))"
   ]
  },
  {
   "cell_type": "markdown",
   "id": "883af3e4",
   "metadata": {},
   "source": [
    "## 2.- Multiplicadores de Lagrange"
   ]
  },
  {
   "cell_type": "markdown",
   "id": "37a46fd8",
   "metadata": {},
   "source": [
    "**EJERCICIO 01**\n",
    "\n",
    "Obtener los máximos y mínimos de la función $f\\left(x,y\\right)=3x^2+4y^2-xy$, sujeta a la restricción $2x+y=21$\n",
    "\n",
    "Debe resolverse: $$F\\left(x,y,\\lambda \\right)=3x^2+4y^2-xy+\\lambda \\left(21-2x-y\\right)$$"
   ]
  },
  {
   "cell_type": "code",
   "execution_count": null,
   "id": "2f09e1b5",
   "metadata": {},
   "outputs": [],
   "source": [
    "from sympy import *\n",
    "x1,x2,k = symbols('x1,x2,k')\n",
    "f = 3*x1**2+4*x2**2-x1*x2\n",
    "g = 2*x1+x2-21\n",
    "#Construye la ecuación de Lagrange\n",
    "L=f-k*g\n",
    "#Buscando derivada, construyendo condición KKT\n",
    "dx1 = diff(L, x1)   # Encuentra la derivada parcial de x1\n",
    "print(\"dx1=\",dx1)\n",
    "dx2 = diff(L,x2)   # Encuentra la derivada parcial de x2\n",
    "print(\"dx2=\",dx2)\n",
    "dk = diff(L,k)   # Derivada parcial de k\n",
    "print(\"dk=\",dk)\n",
    "# Encuentra una solución variable\n",
    "m= solve([dx1,dx2,dk],[x1,x2,k])   \n",
    "display(Math(sp.latex(m)))"
   ]
  },
  {
   "cell_type": "markdown",
   "id": "93a96c50",
   "metadata": {},
   "source": [
    "**EJERCICIO 02**\n",
    "\n",
    "La función utilidad de un ama de casa A es $U(x,y) = 20x + 40y - 2x^2 - 3y^2$, donde $x$ e $y$ son respectivamente las cantidades que se compran los bienes X (papa) y Y (camote). Supóngase que el ingreso monetario de A es 28 u.m y que los precios de X e Y son respectivamente 4 y 5 u.m\n",
    "\n",
    "Se plantea la siguiente función: $$F\\left(x,y,\\lambda \\right)=20x\\:+\\:40y\\:-\\:2x^2\\:-\\:3y^2+\\lambda \\left(28-4x-5y\\right)$$"
   ]
  },
  {
   "cell_type": "code",
   "execution_count": null,
   "id": "e5482ca9",
   "metadata": {},
   "outputs": [],
   "source": [
    "x1,x2,k = symbols('x1,x2,k')\n",
    "f = 20*x1+40*x2-2*x1**2-3*x2**2 \n",
    "g = 4*x1+5*x2-28\n",
    "#Construye la ecuación de Lagrange\n",
    "L=f-k*g\n",
    "#Buscando derivada, construyendo condición KKT\n",
    "dx1 = diff(L, x1)   # Encuentra la derivada parcial de x1\n",
    "print(\"dx1=\",dx1)\n",
    "dx2 = diff(L,x2)   # Encuentra la derivada parcial de x2\n",
    "print(\"dx2=\",dx2)\n",
    "dk = diff(L,k)   # Derivada parcial de k\n",
    "print(\"dk=\",dk)\n",
    "# Encuentra una solución variable\n",
    "m= solve([dx1,dx2,dk],[x1,x2,k])   \n",
    "display(Math(sp.latex(m)))"
   ]
  },
  {
   "cell_type": "markdown",
   "id": "7c11ec68",
   "metadata": {},
   "source": [
    "**EJERCICIO 03**\n",
    "\n",
    "La función de producción de la empresa A es $X=26K + 15L + 2KL-2K^2-2L^2$\n",
    "\t\tdonde $K,L$ son las cantidades de insumos de los factores de producción K y L. Supóngase que los salarios para $K$ y $L$ son respectivamente \\$2 y \\$3, y que la empresa puede \tgastar únicamente \\$50 en estos insumos. Encuentre la producción máxima. \n",
    "\n",
    "  El lagrangiano planteado es: $$F\\left(k,l,\\lambda \\right)=26K\\:+\\:15L\\:+\\:2KL-2K^2-2L^2+\\lambda \\left(50-2k-2l\\right)$$"
   ]
  },
  {
   "cell_type": "code",
   "execution_count": null,
   "id": "6f375958",
   "metadata": {},
   "outputs": [],
   "source": [
    "x1,x2,k = symbols('x1,x2,k')\n",
    "f = 26*x1+15*x2+2*x1*x2-2*x1**2-2*x2**2\n",
    "g = 2*x1+2*x2-50\n",
    "#Construye la ecuación de Lagrange\n",
    "L=f-k*g\n",
    "#Buscando derivada, construyendo condición KKT\n",
    "dx1 = diff(L, x1)   # Encuentra la derivada parcial de x1\n",
    "print(\"dx1=\",dx1)\n",
    "dx2 = diff(L,x2)   # Encuentra la derivada parcial de x2\n",
    "print(\"dx2=\",dx2)\n",
    "dk = diff(L,k)   # Derivada parcial de k\n",
    "print(\"dk=\",dk)\n",
    "# Encuentra una solución variable\n",
    "m= solve([dx1,dx2,dk],[x1,x2,k])   \n",
    "display(Math(sp.latex(m)))"
   ]
  },
  {
   "cell_type": "markdown",
   "id": "98b333f2",
   "metadata": {},
   "source": [
    "## 3.- Condición de Kun - Tucker"
   ]
  },
  {
   "cell_type": "markdown",
   "id": "c308d6a8",
   "metadata": {},
   "source": [
    "**EJERCICIO 01**\n",
    "\n",
    "El costo de reparaciones $C$, en función de los números $x$ e $y$ de inspecciones en dos puntos en un proceso industrial está dado por $C=4x^2+2y^2+5xy-20x+30$ a fin de minimizar dicho costo. ¿Qué número de inspecciones debería hacerse en cada punto si el número total de inspecciones es no menor a 10?"
   ]
  },
  {
   "cell_type": "code",
   "execution_count": null,
   "id": "3e0d501b",
   "metadata": {},
   "outputs": [],
   "source": [
    "import sympy as sp\n",
    "\n",
    "# Definir las variables\n",
    "x, y, λ = sp.symbols('x y λ')\n",
    "\n",
    "# Definir la función de costo\n",
    "C = 4*x**2 + 2*y**2 + 5*x*y - 20*x + 30\n",
    "\n",
    "# Definir la restricción\n",
    "constraint = x + y - 10\n",
    "\n",
    "# Definir la función Lagrangiana\n",
    "L = C + λ * constraint\n",
    "\n",
    "# Calcular las derivadas parciales de la Lagrangiana\n",
    "dL_dx = sp.diff(L, x)\n",
    "dL_dy = sp.diff(L, y)\n",
    "dL_dλ = sp.diff(L, λ)\n",
    "\n",
    "# Resolver el sistema de ecuaciones\n",
    "solutions = sp.solve([dL_dx, dL_dy, dL_dλ], (x, y, λ))\n",
    "\n",
    "# Evaluar la función de costo en las soluciones encontradas\n",
    "x_val, y_val = solutions[x], solutions[y]\n",
    "cost = C.subs({x: x_val, y: y_val})\n",
    "\n",
    "x_val, y_val, cost"
   ]
  },
  {
   "cell_type": "markdown",
   "id": "dc8c620c",
   "metadata": {},
   "source": [
    "**EJERCICIO 02**\n",
    "\n",
    "Obtenga el máximo de $f(x,y)=10xy-5x^2-7y^2+40x$ si $x+y-13\\le 0$"
   ]
  },
  {
   "cell_type": "code",
   "execution_count": null,
   "id": "786f1b82",
   "metadata": {},
   "outputs": [],
   "source": [
    "# Definir las variables\n",
    "x, y, λ = sp.symbols('x y λ')\n",
    "\n",
    "# Definir la función de costo\n",
    "C = 10*x*y-5*x**2-7*y**2+40*x\n",
    "\n",
    "# Definir la restricción\n",
    "constraint = x + y - 13\n",
    "\n",
    "# Definir la función Lagrangiana\n",
    "L = C + λ * constraint\n",
    "\n",
    "# Calcular las derivadas parciales de la Lagrangiana\n",
    "dL_dx = sp.diff(L, x)\n",
    "dL_dy = sp.diff(L, y)\n",
    "dL_dλ = sp.diff(L, λ)\n",
    "\n",
    "# Resolver el sistema de ecuaciones\n",
    "solutions = sp.solve([dL_dx, dL_dy, dL_dλ], (x, y, λ))\n",
    "\n",
    "# Evaluar la función de costo en las soluciones encontradas\n",
    "x_val, y_val = solutions[x], solutions[y]\n",
    "cost = C.subs({x: x_val, y: y_val})\n",
    "\n",
    "x_val, y_val, cost"
   ]
  },
  {
   "cell_type": "markdown",
   "id": "4504395d",
   "metadata": {},
   "source": [
    "# SECCIÓN 06: APLICACIONES EN CIENCIA DE DATOS"
   ]
  },
  {
   "cell_type": "markdown",
   "id": "1925f950",
   "metadata": {},
   "source": [
    "## Caso 1\n",
    "\n",
    "Supongamos que tenemos un conjunto de datos que representa la relación entre la rentabilidad y la gestión de cartera de crédito de un grupo de empresas entidades financieras. Queremos encontrar la línea que mejor se ajusta a estos datos minimizando el error cuadrático medio.\n",
    "\n",
    "**Paso 1**: Primero, generaremos algunos datos sintéticos para este ejemplo.\n",
    "\n",
    "Tienes un conjunto de datos de entrada $X$ y un conjunto de valores de salida $y$. La relación que buscamos modelar es:\n",
    "$$y = wX + b$$\n",
    "Donde:\n",
    "\n",
    "- $y$ es el valor predicho.\n",
    "- $w$ es el peso (pendiente) de la recta.\n",
    "- $b$ es el sesgo (intercepto).\n",
    "- $X$ es la entrada."
   ]
  },
  {
   "cell_type": "code",
   "execution_count": null,
   "id": "6fc846d3",
   "metadata": {},
   "outputs": [],
   "source": [
    "import numpy as np\n",
    "import matplotlib.pyplot as plt\n",
    "\n",
    "# Generar datos sintéticos\n",
    "np.random.seed(0)  \n",
    "n = 300\n",
    "X = abs(20 * np.random.normal(0, 1.5, n))\n",
    "y = (40.225 - 0.09 * X + np.random.randn(n)) / 100\n",
    "\n",
    "# Graficar los datos\n",
    "plt.scatter(X, y, color='blue', label='Datos')\n",
    "plt.xlabel('Gestión de cartera')\n",
    "plt.ylabel('Tasa de rentabilidad')\n",
    "plt.title('Gestión de cartera vs rentabilidad')\n",
    "plt.legend()\n",
    "plt.show()"
   ]
  },
  {
   "cell_type": "markdown",
   "id": "962791e7",
   "metadata": {},
   "source": [
    "**Paso 2**: Normalización de datos\n",
    "\n",
    "Para mejorar el rendimiento del algoritmo, normalizamos los datos. La normalización se hace mediante la fórmula:\n",
    "$$X_{\\text{scaled}} = \\frac{X - \\mu_X}{\\sigma_X}$$\n",
    "$$y_{\\text{scaled}} = \\frac{y - \\mu_y}{\\sigma_y}$$\n",
    "\n",
    "Donde:\n",
    "\n",
    "- $\\mu_X$ es la media de $X$.\n",
    "- $\\sigma_X$ es la desviación estándar de $X$.\n",
    "- $\\mu_y$ es la media de $y$.\n",
    "- $\\sigma_y$ es la desviación estándar de $y$."
   ]
  },
  {
   "cell_type": "code",
   "execution_count": null,
   "id": "3d34e71a",
   "metadata": {},
   "outputs": [],
   "source": [
    "# Normalización de los datos\n",
    "X_mean = np.mean(X)\n",
    "X_std = np.std(X)\n",
    "X_scaled = (X - X_mean) / X_std\n",
    "\n",
    "y_mean = np.mean(y)\n",
    "y_std = np.std(y)\n",
    "y_scaled = (y - y_mean) / y_std"
   ]
  },
  {
   "cell_type": "markdown",
   "id": "77fec9fd",
   "metadata": {},
   "source": [
    "**Paso 3** Inicialización de parámetros\n",
    "\n",
    "La función de pérdida que utilizamos es el error cuadrático medio (MSE):\n",
    "$$\\text{MSE} = \\frac{1}{n} \\sum_{i=1}^{n} (y_{\\text{true}, i} - y_{\\text{pred}, i})^2$$\n",
    "Donde:\n",
    "- $y_{\\text{true}, i}$ es el valor verdadero.\n",
    "- $y_{\\text{pred}, i}$ es el valor predicho.\n",
    "- $n$ es el número total de datos.\n",
    "\n",
    "Para actualizar los parámetros $w$ y $b$, calculamos los gradientes.\n",
    "\n",
    "**Gradiente respecto a $w$:**\n",
    "$$\\frac{\\partial \\text{MSE}}{\\partial w} = \\frac{2}{n} \\sum_{i=1}^{n} (y_{\\text{pred}, i} - y_{\\text{true}, i}) \\cdot X_{\\text{scaled}, i}$$\n",
    "\n",
    "**Gradiente respecto a $b$**:\n",
    "$$\\frac{\\partial \\text{MSE}}{\\partial b} = \\frac{2}{n} \\sum_{i=1}^{n} (y_{\\text{pred}, i} - y_{\\text{true}, i})$$\n",
    "\n",
    "Usamos el gradiente descendente para actualizar $w$ y $b$:\n",
    "$$w = w - \\alpha \\cdot \\frac{\\partial \\text{MSE}}{\\partial w}$$\n",
    "$$b = b - \\alpha \\cdot \\frac{\\partial \\text{MSE}}{\\partial b}$$\n",
    "Donde $\\alpha$ es la tasa de aprendizaje."
   ]
  },
  {
   "cell_type": "code",
   "execution_count": null,
   "id": "82bed9be",
   "metadata": {},
   "outputs": [],
   "source": [
    "# Inicialización de parámetros\n",
    "learning_rate = 0.01\n",
    "iterations = 1000\n",
    "w = np.random.uniform(-0.01, 0.01)\n",
    "b = np.random.uniform(-0.01, 0.01)\n",
    "\n",
    "# Almacenamiento de la historia de pérdida\n",
    "loss_history = []\n",
    "\n",
    "# Funciones de pérdida y gradientes\n",
    "def compute_loss(y_true, y_pred):\n",
    "    return np.mean((y_true - y_pred) ** 2)\n",
    "\n",
    "def compute_gradients(y_true, y_pred, X):\n",
    "    n = len(y_true)\n",
    "    error = y_pred - y_true\n",
    "    w_grad = (2 / n) * np.dot(X.T, error)  # Gradiente respecto a w\n",
    "    b_grad = (2 / n) * np.sum(error)       # Gradiente respecto a b\n",
    "    return w_grad, b_grad\n",
    "\n",
    "# Entrenamiento de la red neuronal\n",
    "for i in range(iterations):\n",
    "    # Predicciones\n",
    "    y_pred = w * X_scaled + b\n",
    "\n",
    "    # Calcular pérdida\n",
    "    loss = compute_loss(y_scaled, y_pred)\n",
    "    loss_history.append(loss)\n",
    "\n",
    "    # Calcular gradientes\n",
    "    w_grad, b_grad = compute_gradients(y_scaled, y_pred, X_scaled)\n",
    "\n",
    "    # Actualizar parámetros\n",
    "    w -= learning_rate * w_grad\n",
    "    b -= learning_rate * b_grad\n",
    "\n",
    "    # Imprimir cada 100 iteraciones\n",
    "    if i % 100 == 0:\n",
    "        print(f\"Iteración {i}: Pérdida = {loss:.4f}, w = {w:.4f}, b = {b:.4f}\")\n",
    "\n",
    "# Resultados finales\n",
    "print(f\"\\nPeso final (w): {w}\")\n",
    "print(f\"Sesgo final (b): {b}\")"
   ]
  },
  {
   "cell_type": "code",
   "execution_count": null,
   "id": "0b732e7d",
   "metadata": {},
   "outputs": [],
   "source": [
    "# Graficar la historia de la pérdida\n",
    "plt.plot(loss_history)\n",
    "plt.xlabel('Iteraciones')\n",
    "plt.ylabel('Pérdida (MSE)')\n",
    "plt.title('Historia de la Pérdida durante el Entrenamiento')\n",
    "plt.show()\n",
    "\n",
    "# Graficar la línea de ajuste\n",
    "plt.scatter(X_scaled, y_scaled, color='blue', label='Datos')\n",
    "plt.plot(X_scaled, y_pred, color='red', label='Línea de Ajuste')\n",
    "plt.xlabel('X escalado')\n",
    "plt.ylabel('y escalado')\n",
    "plt.title('Ajuste del modelo lineal')\n",
    "plt.legend()\n",
    "plt.show()\n"
   ]
  },
  {
   "cell_type": "markdown",
   "id": "06f312b7",
   "metadata": {},
   "source": [
    "## **Caso 2**"
   ]
  },
  {
   "cell_type": "markdown",
   "id": "f5e8a642",
   "metadata": {},
   "source": [
    "Sea $X_1,X_2,\\dots, X_n$ una muestra aleatoria escogida de una población $X$ con distribución normal $N\\left(\\mu ,\\sigma ^2\\right)$. Obtener el estimador de la media $\\mu$ y de la varianza $\\sigma^2$ por el método de máxima verosimilitud.\n",
    "\n",
    "<span style=\"color:blue\">La distribución de probabilidad de la población normal de parámetros $\\mu$ y $\\sigma^2$ asociada a cada variable aleatoria $X_i$ de la muestra está dada por:\n",
    "$$f\\left(x,\\mu ,\\sigma ^2\\right)=\\frac{1}{\\sigma \\sqrt{2\\pi }}e^{-\\frac{1}{2}\\left(\\frac{x-\\mu }{\\sigma }\\right)^2}$$\n",
    "Entonces, la función de verosimilitud de la muestra es:\n",
    "$$L\\left(\\mu ,\\sigma ^2\\right)=\\prod _{i=1}^nf\\left(x,\\mu ,\\sigma ^2\\right)=\\left(\\frac{1}{\\sigma \\sqrt{2\\pi }}\\right)^n\\times \\prod _{i=1}^ne^{-\\frac{1}{2}\\left(\\frac{x-\\mu }{\\sigma }\\right)^2}$$    \n",
    "$$L\\left(\\mu ,\\sigma ^2\\right)=\\left(2\\pi \\sigma ^2\\right)^{-\\frac{n}{2}}\\times e^{-\\frac{1}{2\\sigma ^2}\\times \\sum _{i=1}^n\\left(x_i-\\mu \\right)^2}$$    \n",
    "Aplicando logaritmos naturales se tiene:\n",
    "$$L=ln\\left(L\\left(\\mu ,\\sigma ^2\\right)\\right)=-\\frac{n}{2}\\times ln\\left(2\\pi \\sigma ^2\\right)-\\frac{1}{2\\sigma ^2}\\times \\sum _{i=1}^n\\left(x_i-\\mu \\right)^2$$    \n",
    "Derivando la función $L$ con respecto a $\\mu$ e igualando a cero se obtiene:\n",
    "$$\\frac{dL}{d\\mu }=-0+\\frac{1}{\\sigma ^2}\\times \\sum _{i=1}^n\\left(x_i-\\mu \\right)=0$$\n",
    "De donde resulta:\n",
    "$$\\hat{\\mu }=\\frac{\\sum _{i=1}^nx_i\\:}{n}=\\overline{x}$$\n",
    "Por lo tanto, la media muestral $\\overline{x}$ es la estimación de máxima verosimilitud de la media $\\mu$ de la población normal.<span>\n",
    "    \n",
    "\n",
    "<span style=\"color:blue\"> Por otro lado, derivando la función $L$ con respecto a $\\sigma^2$ e igualando a cero se obtiene:\n",
    "$$\\frac{dL}{d\\sigma ^2}=-\\frac{1}{2}\\times \\frac{n}{\\sigma ^2}+\\frac{1}{2\\sigma ^4}\\times \\sum _{i=1}^n\\left(x_i-\\mu \\right)=0$$\n",
    "De donde resulta:    \n",
    "$$\\hat{\\sigma }^2=\\frac{\\sum _{i=1}^n\\left(x_i-\\overline{x}\\right)^2\\:}{n}$$    \n",
    "Por lo tanto, la varianza muestral $s^2_n$ es la estimación de máxima verosimilitud del parámetro $\\sigma^2$ de la distribución normal. <span>"
   ]
  },
  {
   "cell_type": "code",
   "execution_count": null,
   "id": "e12dfe1c",
   "metadata": {},
   "outputs": [],
   "source": [
    "from scipy.stats import norm\n",
    "\n",
    "# Parámetros verdaderos para la distribución normal\n",
    "mu_true = 50\n",
    "sigma_true = np.sqrt(4)  # varianza = 4, por lo que sigma = sqrt(4)\n",
    "\n",
    "# Número de observaciones\n",
    "n = 450\n",
    "\n",
    "# Generar datos simulados de una distribución normal\n",
    "data = np.random.normal(loc=mu_true, scale=sigma_true, size=n)\n",
    "\n",
    "# Estimación de máxima verosimilitud para mu y sigma\n",
    "mu_hat = np.mean(data)\n",
    "sigma_hat = np.sqrt(np.var(data))\n",
    "\n",
    "print(f\"Estimación de máxima verosimilitud para mu: {mu_hat:.4f}\")\n",
    "print(f\"Estimación de máxima verosimilitud para sigma: {sigma_hat:.4f}\")\n",
    "\n",
    "# Calcular la log-verosimilitud para un rango de valores de mu y sigma\n",
    "mu_values = np.linspace(mu_hat - 10, mu_hat + 10, 100)\n",
    "sigma_values = np.linspace(0.1, 10, 100)\n",
    "log_likelihood_values = np.zeros((len(mu_values), len(sigma_values)))\n",
    "\n",
    "for i, mu in enumerate(mu_values):\n",
    "    for j, sigma in enumerate(sigma_values):\n",
    "        log_likelihood_values[i, j] = np.sum(norm.logpdf(data, loc=mu, scale=sigma))\n",
    "\n",
    "# Encontrar el valor de mu y sigma que maximiza la log-verosimilitud\n",
    "max_idx = np.unravel_index(np.argmax(log_likelihood_values), log_likelihood_values.shape)\n",
    "best_mu = mu_values[max_idx[0]]\n",
    "best_sigma = sigma_values[max_idx[1]]\n",
    "\n",
    "print(f\"Mu que maximiza la log-verosimilitud: {best_mu:.4f}\")\n",
    "print(f\"Sigma que maximiza la log-verosimilitud: {best_sigma:.4f}\")\n",
    "\n",
    "# Graficar la función de log-verosimilitud para mu y sigma\n",
    "plt.figure(figsize=(12, 6))\n",
    "\n",
    "# Graficar log-verosimilitud en función de mu para un sigma fijo\n",
    "plt.subplot(1, 2, 1)\n",
    "plt.plot(mu_values, log_likelihood_values[:, max_idx[1]], label='Log-Verosimilitud')\n",
    "plt.axvline(best_mu, color='r', linestyle='--', label=f'Máxima Verosimilitud (mu = {best_mu:.4f})')\n",
    "plt.xlabel('Mu')\n",
    "plt.ylabel('Log-Verosimilitud')\n",
    "plt.title('Función de Log-Verosimilitud para Diferentes Mu')\n",
    "plt.legend()\n",
    "\n",
    "# Graficar log-verosimilitud en función de sigma para un mu fijo\n",
    "plt.subplot(1, 2, 2)\n",
    "plt.plot(sigma_values, log_likelihood_values[max_idx[0], :], label='Log-Verosimilitud')\n",
    "plt.axvline(best_sigma, color='r', linestyle='--', label=f'Máxima Verosimilitud (sigma = {best_sigma:.4f})')\n",
    "plt.xlabel('Sigma')\n",
    "plt.ylabel('Log-Verosimilitud')\n",
    "plt.title('Función de Log-Verosimilitud para Diferentes Sigma')\n",
    "plt.legend()\n",
    "\n",
    "plt.tight_layout()\n",
    "plt.show()"
   ]
  }
 ],
 "metadata": {
  "kernelspec": {
   "display_name": "Python 3 (ipykernel)",
   "language": "python",
   "name": "python3"
  },
  "language_info": {
   "codemirror_mode": {
    "name": "ipython",
    "version": 3
   },
   "file_extension": ".py",
   "mimetype": "text/x-python",
   "name": "python",
   "nbconvert_exporter": "python",
   "pygments_lexer": "ipython3",
   "version": "3.10.9"
  }
 },
 "nbformat": 4,
 "nbformat_minor": 5
}
