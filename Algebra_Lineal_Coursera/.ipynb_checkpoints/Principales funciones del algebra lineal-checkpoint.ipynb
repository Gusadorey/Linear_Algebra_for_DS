{
 "cells": [
  {
   "cell_type": "markdown",
   "id": "0ec8da6c",
   "metadata": {},
   "source": [
    "## Introduccion a la funciones del algebra lineal en python"
   ]
  },
  {
   "cell_type": "code",
   "execution_count": 1,
   "id": "4d7dd827",
   "metadata": {},
   "outputs": [],
   "source": [
    "import numpy as np\n",
    "import random\n",
    "import pandas as pd"
   ]
  },
  {
   "cell_type": "code",
   "execution_count": 67,
   "id": "38928a0c",
   "metadata": {},
   "outputs": [],
   "source": [
    "# Dadas los siguientes matrices y vectores\n",
    "\n",
    "M = np.linspace(-8,8,9).reshape(3,3) # Este codigo genera un array de 9 numeros equidistantes:\n",
    "                                        # [-8., -6., -4., -2., 0., 2., 4., 6., 8.]\n",
    "                                        # El reshape(3,3) reorganiza el array en una matriz de 3x3\n",
    "N = np.random.randint(-8,8,size = (3,3))\n",
    "O = 2*N\n",
    "v1  = np.array([1,3,5,7]) # Vector unidimensional\n",
    "v2 = np.array([2,4,6,8])\n",
    "v3 = np.array([-2,5,1,3])\n"
   ]
  },
  {
   "cell_type": "markdown",
   "id": "135967e4",
   "metadata": {},
   "source": [
    "#### La funcion dot() realiza el producto de dos matrices, o dos vectores"
   ]
  },
  {
   "cell_type": "code",
   "execution_count": 68,
   "id": "934e17b2",
   "metadata": {},
   "outputs": [
    {
     "name": "stdout",
     "output_type": "stream",
     "text": [
      "[[-8. -6. -4.]\n",
      " [-2.  0.  2.]\n",
      " [ 4.  6.  8.]]\n",
      "\n",
      "[[ 5 -5  4]\n",
      " [ 0 -4  5]\n",
      " [ 6  6 -6]]\n",
      "\n",
      "[[-64.  40. -38.]\n",
      " [  2.  22. -20.]\n",
      " [ 68.   4.  -2.]]\n",
      "\n",
      "[[-64.  40. -38.]\n",
      " [  2.  22. -20.]\n",
      " [ 68.   4.  -2.]]\n"
     ]
    }
   ],
   "source": [
    "print(M)\n",
    "print()\n",
    "print(N)\n",
    "print()\n",
    "print(M.dot(N))\n",
    "print()\n",
    "print(np.dot(M,N))"
   ]
  },
  {
   "cell_type": "code",
   "execution_count": 8,
   "id": "cc456567",
   "metadata": {},
   "outputs": [
    {
     "name": "stdout",
     "output_type": "stream",
     "text": [
      "[[ 18.  24.  30.]\n",
      " [ 12.   0. -12.]\n",
      " [-24. -18. -12.]]\n"
     ]
    }
   ],
   "source": [
    "print(N.dot(M))"
   ]
  },
  {
   "cell_type": "code",
   "execution_count": 9,
   "id": "6c1fc9af",
   "metadata": {},
   "outputs": [
    {
     "name": "stdout",
     "output_type": "stream",
     "text": [
      "[[ -4.  28. -24.]\n",
      " [ -4.  22. -18.]\n",
      " [ -4.  16. -12.]]\n"
     ]
    }
   ],
   "source": [
    "print( M @ N)"
   ]
  },
  {
   "cell_type": "code",
   "execution_count": 10,
   "id": "2c7552aa",
   "metadata": {},
   "outputs": [
    {
     "data": {
      "text/plain": [
       "100"
      ]
     },
     "execution_count": 10,
     "metadata": {},
     "output_type": "execute_result"
    }
   ],
   "source": [
    "v1.dot(v2)"
   ]
  },
  {
   "cell_type": "markdown",
   "id": "d1525ff8",
   "metadata": {},
   "source": [
    "#### La funcion multi_dot regresa el producto de varias funciones"
   ]
  },
  {
   "cell_type": "code",
   "execution_count": 11,
   "id": "1d8ed612",
   "metadata": {},
   "outputs": [
    {
     "data": {
      "text/plain": [
       "array([[-128., -360.,  -16.],\n",
       "       [-104., -264.,  -28.],\n",
       "       [ -80., -168.,  -40.]])"
      ]
     },
     "execution_count": 11,
     "metadata": {},
     "output_type": "execute_result"
    }
   ],
   "source": [
    "np.linalg.multi_dot([M,N,O])"
   ]
  },
  {
   "cell_type": "markdown",
   "id": "8c5831fd",
   "metadata": {},
   "source": [
    "#### La funcion vdot() devuelve el producto de dos vectores"
   ]
  },
  {
   "cell_type": "code",
   "execution_count": 12,
   "id": "0e7fe8fe",
   "metadata": {},
   "outputs": [
    {
     "data": {
      "text/plain": [
       "100"
      ]
     },
     "execution_count": 12,
     "metadata": {},
     "output_type": "execute_result"
    }
   ],
   "source": [
    "np.vdot(v1,v2)"
   ]
  },
  {
   "cell_type": "markdown",
   "id": "11eb21da",
   "metadata": {},
   "source": [
    "#### la funcion inner() regresa el producto interno (producto punt) de dos arrays"
   ]
  },
  {
   "cell_type": "code",
   "execution_count": 13,
   "id": "99129604",
   "metadata": {},
   "outputs": [
    {
     "data": {
      "text/plain": [
       "100"
      ]
     },
     "execution_count": 13,
     "metadata": {},
     "output_type": "execute_result"
    }
   ],
   "source": [
    "np.inner(v1,v2)"
   ]
  },
  {
   "cell_type": "markdown",
   "id": "67573f16",
   "metadata": {},
   "source": [
    "##### np.vdot e np.inner() no son funciones similares, si bien pueden calcular productos escalares, lo hacen de manera distinta\n",
    "##### inner() puede devolver un escalar o una matriz, dependiendo la dimension de las matrices, sin embargo, vdot siempre devuelve\n",
    "##### un escalar."
   ]
  },
  {
   "cell_type": "code",
   "execution_count": 14,
   "id": "89444a5a",
   "metadata": {},
   "outputs": [
    {
     "data": {
      "text/plain": [
       "39"
      ]
     },
     "execution_count": 14,
     "metadata": {},
     "output_type": "execute_result"
    }
   ],
   "source": [
    "np.inner(v3,v1)"
   ]
  },
  {
   "cell_type": "markdown",
   "id": "b3bc4220",
   "metadata": {},
   "source": [
    "##### La function np.matmul() regresa el producto de dos matrices"
   ]
  },
  {
   "cell_type": "code",
   "execution_count": 15,
   "id": "b6e6d1e1",
   "metadata": {},
   "outputs": [
    {
     "data": {
      "text/plain": [
       "array([[ -4.,  28., -24.],\n",
       "       [ -4.,  22., -18.],\n",
       "       [ -4.,  16., -12.]])"
      ]
     },
     "execution_count": 15,
     "metadata": {},
     "output_type": "execute_result"
    }
   ],
   "source": [
    "np.matmul(M,N)"
   ]
  },
  {
   "cell_type": "markdown",
   "id": "b1eb59b1",
   "metadata": {},
   "source": [
    "##### La funcion dot() y matmul() son parecidas pero dot() es un poco mas versatil para matrices de diferentes dimensiones. Ambas solo multiplican dos matrices."
   ]
  },
  {
   "cell_type": "markdown",
   "id": "817b5dfe",
   "metadata": {},
   "source": [
    "##### La funcion linalg.matrix_power(M,n) eleva la matriz M a la potencia n. "
   ]
  },
  {
   "cell_type": "code",
   "execution_count": 20,
   "id": "beaf3efe",
   "metadata": {},
   "outputs": [
    {
     "name": "stdout",
     "output_type": "stream",
     "text": [
      "[[-8. -6. -4.]\n",
      " [-2.  0.  2.]\n",
      " [ 4.  6.  8.]]\n",
      "\n",
      "[[-8. -6. -4.]\n",
      " [-2.  0.  2.]\n",
      " [ 4.  6.  8.]]\n"
     ]
    },
    {
     "data": {
      "text/plain": [
       "array([[ 60.,  24., -12.],\n",
       "       [ 24.,  24.,  24.],\n",
       "       [-12.,  24.,  60.]])"
      ]
     },
     "execution_count": 20,
     "metadata": {},
     "output_type": "execute_result"
    }
   ],
   "source": [
    "print(M)\n",
    "print()\n",
    "print(M)\n",
    "np.linalg.matrix_power(M,2)\n"
   ]
  },
  {
   "cell_type": "markdown",
   "id": "fcb96413",
   "metadata": {},
   "source": [
    "##### Existen submodulos especializados en numpy, por tal motivo sera util usar np.linalg. que contiene funciones relacionadas con el algebra lineal de ahi (linalg => linear algebra)\n",
    "##### Funciones que llevan linalg :\n",
    "#####   np.linalg.inv() --> la inversa de una matriz\n",
    "#####   np.linalg.det() --> determinante\n",
    "#####   np.linalg.eig() --> valores y vectores propios\n",
    "#####   np.linalg.solve() --> resolver sistemas lineales\n",
    "#####  np.linalg.matrix_power() --> elevar matriz a una potencia entera.\n",
    "\n",
    "##### Estas funciones no estan por defecto solo en np., por lo que usar np.linalg seran necesarias."
   ]
  },
  {
   "cell_type": "code",
   "execution_count": 21,
   "id": "0e439880",
   "metadata": {},
   "outputs": [
    {
     "data": {
      "text/plain": [
       "array([[-576., -432., -288.],\n",
       "       [-144.,    0.,  144.],\n",
       "       [ 288.,  432.,  576.]])"
      ]
     },
     "execution_count": 21,
     "metadata": {},
     "output_type": "execute_result"
    }
   ],
   "source": [
    "np.linalg.matrix_power(M,3)"
   ]
  },
  {
   "cell_type": "markdown",
   "id": "a9e6149f",
   "metadata": {},
   "source": [
    "##### El linalg.eig(O) regresa los eigenvalues y los eigenvectors de la matriz O"
   ]
  },
  {
   "cell_type": "code",
   "execution_count": 22,
   "id": "69c7e3fd",
   "metadata": {},
   "outputs": [],
   "source": [
    "eig_vals,eig_vects = np.linalg.eig(O)"
   ]
  },
  {
   "cell_type": "code",
   "execution_count": 23,
   "id": "3be854e3",
   "metadata": {},
   "outputs": [
    {
     "data": {
      "text/plain": [
       "array([ 0.90547401+2.3076693j,  0.90547401-2.3076693j,\n",
       "       -7.81094801+0.j       ])"
      ]
     },
     "execution_count": 23,
     "metadata": {},
     "output_type": "execute_result"
    }
   ],
   "source": [
    "eig_vals"
   ]
  },
  {
   "cell_type": "code",
   "execution_count": 24,
   "id": "5b413828",
   "metadata": {},
   "outputs": [
    {
     "data": {
      "text/plain": [
       "array([[-0.82271538+0.j        , -0.82271538-0.j        ,\n",
       "        -0.74915322+0.j        ],\n",
       "       [ 0.29481493-0.00576342j,  0.29481493+0.00576342j,\n",
       "        -0.09884461+0.j        ],\n",
       "       [ 0.45783862-0.16301577j,  0.45783862+0.16301577j,\n",
       "         0.6549803 +0.j        ]])"
      ]
     },
     "execution_count": 24,
     "metadata": {},
     "output_type": "execute_result"
    }
   ],
   "source": [
    "eig_vects"
   ]
  },
  {
   "attachments": {
    "image.png": {
     "image/png": "[encoded data removed]"
    }
   },
   "cell_type": "markdown",
   "id": "f6a52dac",
   "metadata": {},
   "source": [
    "##### Como funcionan: ![image.png](attachment:image.png)\n",
    "\n",
    "##### Son utiles para usar PCA (reduccion de dimensiones)\n",
    "##### Descomposicion de matrices ( diagonalizacion, SVD,etc)\n",
    "##### Analisis de estabilidad en sistemas dinamicos."
   ]
  },
  {
   "cell_type": "markdown",
   "id": "2411612a",
   "metadata": {},
   "source": [
    "### El np.linalg.eigh(N) devuelve tanto los eigenvalores y los eigenvectores de una matriz compleja Hermitiana o una matriz real simetrica de N."
   ]
  },
  {
   "cell_type": "code",
   "execution_count": 25,
   "id": "a36f718f",
   "metadata": {},
   "outputs": [
    {
     "data": {
      "text/plain": [
       "array([-8.695159  ,  1.23873024,  4.45642876])"
      ]
     },
     "execution_count": 25,
     "metadata": {},
     "output_type": "execute_result"
    }
   ],
   "source": [
    "eigh_vals,eigh_vects = np.linalg.eigh(N)\n",
    "eigh_vals"
   ]
  },
  {
   "cell_type": "code",
   "execution_count": 26,
   "id": "da8f72a9",
   "metadata": {},
   "outputs": [
    {
     "data": {
      "text/plain": [
       "array([[ 0.1276852 , -0.83473047,  0.53565058],\n",
       "       [ 0.68280674, -0.31772753, -0.65789374],\n",
       "       [-0.71935488, -0.44974912, -0.52939049]])"
      ]
     },
     "execution_count": 26,
     "metadata": {},
     "output_type": "execute_result"
    }
   ],
   "source": [
    "eigh_vects"
   ]
  },
  {
   "cell_type": "markdown",
   "id": "51c7cf73",
   "metadata": {},
   "source": [
    "### El np.linalg.det() regresa el determinante de una matriz N"
   ]
  },
  {
   "cell_type": "code",
   "execution_count": 30,
   "id": "1873ca54",
   "metadata": {},
   "outputs": [
    {
     "name": "stdout",
     "output_type": "stream",
     "text": [
      "[[ 2 -5  6]\n",
      " [-2 -2 -2]\n",
      " [ 0  6 -3]]\n",
      "\n",
      "La determinante de N es:  -5.999999999999997\n"
     ]
    }
   ],
   "source": [
    "print(N)\n",
    "print()\n",
    "print(\"La determinante de N es: \",np.linalg.det(N))"
   ]
  },
  {
   "cell_type": "markdown",
   "id": "52dfb770",
   "metadata": {},
   "source": [
    "#### la funcion np.linalg.inv() regresa la inversa de una funcion si es que la tiene "
   ]
  },
  {
   "cell_type": "code",
   "execution_count": 31,
   "id": "4bd8ed15",
   "metadata": {},
   "outputs": [
    {
     "data": {
      "text/plain": [
       "array([[-3.        , -3.5       , -3.66666667],\n",
       "       [ 1.        ,  1.        ,  1.33333333],\n",
       "       [ 2.        ,  2.        ,  2.33333333]])"
      ]
     },
     "execution_count": 31,
     "metadata": {},
     "output_type": "execute_result"
    }
   ],
   "source": [
    "np.linalg.inv(N)"
   ]
  },
  {
   "cell_type": "markdown",
   "id": "0ff54551",
   "metadata": {},
   "source": [
    "## II. Construyendo matrices en Python"
   ]
  },
  {
   "cell_type": "markdown",
   "id": "a711e05d",
   "metadata": {},
   "source": [
    "#### 1er Método"
   ]
  },
  {
   "cell_type": "code",
   "execution_count": 32,
   "id": "5db264a3",
   "metadata": {},
   "outputs": [
    {
     "data": {
      "text/plain": [
       "array([  0.,   5.,  10.,  15.,  20.,  25.,  30.,  35.,  40.,  45.,  50.,\n",
       "        55.,  60.,  65.,  70.,  75.,  80.,  85.,  90.,  95., 100., 105.,\n",
       "       110., 115., 120.])"
      ]
     },
     "execution_count": 32,
     "metadata": {},
     "output_type": "execute_result"
    }
   ],
   "source": [
    "L = np.linspace(0,120,25)\n",
    "L"
   ]
  },
  {
   "cell_type": "code",
   "execution_count": 33,
   "id": "00138514",
   "metadata": {},
   "outputs": [
    {
     "data": {
      "text/plain": [
       "array([[  0.,   5.,  10.,  15.,  20.],\n",
       "       [ 25.,  30.,  35.,  40.,  45.],\n",
       "       [ 50.,  55.,  60.,  65.,  70.],\n",
       "       [ 75.,  80.,  85.,  90.,  95.],\n",
       "       [100., 105., 110., 115., 120.]])"
      ]
     },
     "execution_count": 33,
     "metadata": {},
     "output_type": "execute_result"
    }
   ],
   "source": [
    "M = L.reshape(5,5) # El numero de elementos de L, debe ser igual al producto de la cantidad de filas x columns 5x5 = 25\n",
    "M"
   ]
  },
  {
   "cell_type": "markdown",
   "id": "63bf8fa4",
   "metadata": {},
   "source": [
    "#### 2do Método"
   ]
  },
  {
   "cell_type": "code",
   "execution_count": 37,
   "id": "25b03872",
   "metadata": {},
   "outputs": [
    {
     "data": {
      "text/plain": [
       "array([[-5, -2, -5, -3],\n",
       "       [ 3,  3, -4,  2],\n",
       "       [ 0, -4, -2,  3],\n",
       "       [ 1,  1, -1,  2]])"
      ]
     },
     "execution_count": 37,
     "metadata": {},
     "output_type": "execute_result"
    }
   ],
   "source": [
    "R = np.random.randint(-5,4,size = (4,4))  # Este metodo excluye el limite superior, osea 4\n",
    "R "
   ]
  },
  {
   "cell_type": "markdown",
   "id": "2ffc51dd",
   "metadata": {},
   "source": [
    "#### Seleccion especifica de la entrada de una matriz"
   ]
  },
  {
   "cell_type": "code",
   "execution_count": 38,
   "id": "e85c4116",
   "metadata": {},
   "outputs": [
    {
     "data": {
      "text/plain": [
       "array([[  0.,   5.,  10.,  15.,  20.],\n",
       "       [ 25.,  30.,  35.,  40.,  45.],\n",
       "       [ 50.,  55.,  60.,  65.,  70.],\n",
       "       [ 75.,  80.,  85.,  90.,  95.],\n",
       "       [100., 105., 110., 115., 120.]])"
      ]
     },
     "execution_count": 38,
     "metadata": {},
     "output_type": "execute_result"
    }
   ],
   "source": [
    "# Los indices inician en 0,1,2,3...\n",
    "M"
   ]
  },
  {
   "cell_type": "code",
   "execution_count": 39,
   "id": "f16cad7b",
   "metadata": {},
   "outputs": [
    {
     "data": {
      "text/plain": [
       "array([ 0.,  5., 10., 15., 20.])"
      ]
     },
     "execution_count": 39,
     "metadata": {},
     "output_type": "execute_result"
    }
   ],
   "source": [
    "# Obtenemos la primera fila\n",
    "M[0]"
   ]
  },
  {
   "cell_type": "code",
   "execution_count": 40,
   "id": "2ad2edeb",
   "metadata": {},
   "outputs": [
    {
     "data": {
      "text/plain": [
       "0.0"
      ]
     },
     "execution_count": 40,
     "metadata": {},
     "output_type": "execute_result"
    }
   ],
   "source": [
    "# Obtenemos el primer valor de la primera fila\n",
    "M[0][0]"
   ]
  },
  {
   "cell_type": "code",
   "execution_count": 41,
   "id": "44b217e1",
   "metadata": {},
   "outputs": [
    {
     "data": {
      "text/plain": [
       "120.0"
      ]
     },
     "execution_count": 41,
     "metadata": {},
     "output_type": "execute_result"
    }
   ],
   "source": [
    "# Obtenemos el ultimo valor de la ultima fila\n",
    "M[-1][-1]"
   ]
  },
  {
   "cell_type": "code",
   "execution_count": 43,
   "id": "4122a6c7",
   "metadata": {},
   "outputs": [
    {
     "data": {
      "text/plain": [
       "array([  0.,  25.,  50.,  75., 100.])"
      ]
     },
     "execution_count": 43,
     "metadata": {},
     "output_type": "execute_result"
    }
   ],
   "source": [
    "# Queremos obtener la primera columna, la coma separa en filas y columnas, los dos puntos indican que queremos todas las\n",
    "# filas, y la parte derecha luego de la coma, indica que deseamos la primera columna\n",
    "M[:,0]"
   ]
  },
  {
   "cell_type": "code",
   "execution_count": 45,
   "id": "184f34ff",
   "metadata": {},
   "outputs": [
    {
     "data": {
      "text/plain": [
       "array([ 20.,  45.,  70.,  95., 120.])"
      ]
     },
     "execution_count": 45,
     "metadata": {},
     "output_type": "execute_result"
    }
   ],
   "source": [
    "M[:,-1]"
   ]
  },
  {
   "cell_type": "code",
   "execution_count": 48,
   "id": "5568ea02",
   "metadata": {},
   "outputs": [
    {
     "data": {
      "text/plain": [
       "array([  0.,  25.,  50.,  75., 100.])"
      ]
     },
     "execution_count": 48,
     "metadata": {},
     "output_type": "execute_result"
    }
   ],
   "source": [
    "# Tomara las filas desde cero hasta 4, 5 no lo toma, y la primera columna(0)\n",
    "M[0:5,0]"
   ]
  },
  {
   "cell_type": "code",
   "execution_count": 49,
   "id": "25358295",
   "metadata": {},
   "outputs": [
    {
     "data": {
      "text/plain": [
       "array([[ 5., 10., 15.],\n",
       "       [30., 35., 40.],\n",
       "       [55., 60., 65.]])"
      ]
     },
     "execution_count": 49,
     "metadata": {},
     "output_type": "execute_result"
    }
   ],
   "source": [
    "#Selecciona la filas del 0 al 2, y tambien las columnas del 1 al 3\n",
    "M[0:3,1:4]"
   ]
  },
  {
   "cell_type": "markdown",
   "id": "135ac54d",
   "metadata": {},
   "source": [
    "## III. Solucionando Ecuaciones Linales usando Python"
   ]
  },
  {
   "cell_type": "code",
   "execution_count": 50,
   "id": "e3082bf4",
   "metadata": {},
   "outputs": [],
   "source": [
    "from IPython.display import display,Latex\n",
    "import sympy as sy"
   ]
  },
  {
   "attachments": {
    "image.png": {
     "image/png": "[encoded data removed]"
    }
   },
   "cell_type": "markdown",
   "id": "04696d65",
   "metadata": {},
   "source": [
    "![image.png](attachment:image.png)"
   ]
  },
  {
   "cell_type": "markdown",
   "id": "f9c37ac8",
   "metadata": {},
   "source": [
    "### 1. Solucionando un sistema de ecuaciones lineales por el metodo Inverso: la forma matricial es la siguiente AX=B entonces la inversa es X = A^(-1)B\n",
    "\n",
    "### A = Matriz de coeficientes\n",
    "### B = Vector (o matriz ) de resultados\n",
    "### X = Vector(o Matriz) de incognitas"
   ]
  },
  {
   "cell_type": "markdown",
   "id": "c66a05d2",
   "metadata": {},
   "source": [
    "#### CONSIDERACIONES:\n",
    "#### Solo puede usarse si la matriz A es invertible, significa que:\n",
    "#### * A debe ser una matriz cuadrada\n",
    "#### * El determinante de A debe ser distinto de 0: det(A) != 0"
   ]
  },
  {
   "cell_type": "code",
   "execution_count": 52,
   "id": "a0356d81",
   "metadata": {},
   "outputs": [
    {
     "data": {
      "text/plain": [
       "array([[ 4,  3,  2],\n",
       "       [-2,  2,  3],\n",
       "       [ 3, -5,  2]])"
      ]
     },
     "execution_count": 52,
     "metadata": {},
     "output_type": "execute_result"
    }
   ],
   "source": [
    "# Solucionar un sistema significa encontrar los valores para x,y,z que satisfagan todas las ecuaciones del sistema simultanemente.\n",
    "\n",
    "# Matriz de coeficientes\n",
    "M = np.array([[4,3,2],\n",
    "             [-2,2,3],\n",
    "             [3,-5,2]])\n",
    "M "
   ]
  },
  {
   "cell_type": "code",
   "execution_count": 54,
   "id": "2c711c29",
   "metadata": {},
   "outputs": [
    {
     "data": {
      "text/plain": [
       "array([[ 25],\n",
       "       [-10],\n",
       "       [ -4]])"
      ]
     },
     "execution_count": 54,
     "metadata": {},
     "output_type": "execute_result"
    }
   ],
   "source": [
    "# Matriz de resultados\n",
    "K = np.array([[25],[-10],[-4]])\n",
    "K"
   ]
  },
  {
   "cell_type": "code",
   "execution_count": 55,
   "id": "3cef95bc",
   "metadata": {},
   "outputs": [
    {
     "data": {
      "text/plain": [
       "array([['x'],\n",
       "       ['y'],\n",
       "       ['z']], dtype='<U1')"
      ]
     },
     "execution_count": 55,
     "metadata": {},
     "output_type": "execute_result"
    }
   ],
   "source": [
    "# Matriz de incognitas\n",
    "V = np.array([['x'],['y'],['z']])\n",
    "V"
   ]
  },
  {
   "attachments": {
    "image.png": {
     "image/png": "[encoded data removed]"
    }
   },
   "cell_type": "markdown",
   "id": "02d3b7a2",
   "metadata": {},
   "source": [
    "![image.png](attachment:image.png)"
   ]
  },
  {
   "cell_type": "code",
   "execution_count": 56,
   "id": "93f5f612",
   "metadata": {},
   "outputs": [
    {
     "data": {
      "text/plain": [
       "array([[ 5.],\n",
       "       [ 3.],\n",
       "       [-2.]])"
      ]
     },
     "execution_count": 56,
     "metadata": {},
     "output_type": "execute_result"
    }
   ],
   "source": [
    "V = np.linalg.inv(M).dot(K)\n",
    "V"
   ]
  },
  {
   "cell_type": "code",
   "execution_count": 57,
   "id": "e94ef947",
   "metadata": {},
   "outputs": [],
   "source": [
    "# x = 5\n",
    "# y = 3\n",
    "# z = -2"
   ]
  },
  {
   "cell_type": "markdown",
   "id": "ac3bdaa6",
   "metadata": {},
   "source": [
    "### 2. Solucionando un sistema de ecuaciones lineales usando la forma escalonada reducida de fila derecha."
   ]
  },
  {
   "attachments": {
    "image.png": {
     "image/png": "[encoded data removed]"
    }
   },
   "cell_type": "markdown",
   "id": "4dd5061e",
   "metadata": {},
   "source": [
    "![image.png](attachment:image.png)"
   ]
  },
  {
   "cell_type": "code",
   "execution_count": 59,
   "id": "34b988b3",
   "metadata": {},
   "outputs": [
    {
     "data": {
      "text/latex": [
       "$\\displaystyle \\left[\\begin{matrix}4 & 3 & 2 & 25\\\\-2 & 2 & 3 & -10\\\\3 & -5 & 2 & -4\\end{matrix}\\right]$"
      ],
      "text/plain": [
       "Matrix([\n",
       "[ 4,  3, 2,  25],\n",
       "[-2,  2, 3, -10],\n",
       "[ 3, -5, 2,  -4]])"
      ]
     },
     "execution_count": 59,
     "metadata": {},
     "output_type": "execute_result"
    }
   ],
   "source": [
    "from sympy import *\n",
    "# La matriz aumentada es:\n",
    "A = Matrix([[4,3,2,25],\n",
    "            [-2,2,3,-10],\n",
    "            [3,-5,2,-4]])\n",
    "A"
   ]
  },
  {
   "cell_type": "code",
   "execution_count": 60,
   "id": "c716ec25",
   "metadata": {},
   "outputs": [
    {
     "data": {
      "text/plain": [
       "array([[ 4,  3,  2],\n",
       "       [-2,  2,  3],\n",
       "       [ 3, -5,  2]])"
      ]
     },
     "execution_count": 60,
     "metadata": {},
     "output_type": "execute_result"
    }
   ],
   "source": [
    "M"
   ]
  },
  {
   "cell_type": "code",
   "execution_count": 61,
   "id": "d5c33ba8",
   "metadata": {},
   "outputs": [
    {
     "data": {
      "text/plain": [
       "array([[ 25],\n",
       "       [-10],\n",
       "       [ -4]])"
      ]
     },
     "execution_count": 61,
     "metadata": {},
     "output_type": "execute_result"
    }
   ],
   "source": [
    "K"
   ]
  },
  {
   "cell_type": "code",
   "execution_count": 62,
   "id": "1581630e",
   "metadata": {},
   "outputs": [
    {
     "data": {
      "text/latex": [
       "$\\displaystyle \\left[\\begin{matrix}1 & 0 & 0 & 5\\\\0 & 1 & 0 & 3\\\\0 & 0 & 1 & -2\\end{matrix}\\right]$"
      ],
      "text/plain": [
       "Matrix([\n",
       "[1, 0, 0,  5],\n",
       "[0, 1, 0,  3],\n",
       "[0, 0, 1, -2]])"
      ]
     },
     "execution_count": 62,
     "metadata": {},
     "output_type": "execute_result"
    }
   ],
   "source": [
    "Matrix(A).rref(pivots=False)"
   ]
  },
  {
   "cell_type": "code",
   "execution_count": 63,
   "id": "74dd50e7",
   "metadata": {},
   "outputs": [],
   "source": [
    "# x = 5\n",
    "# y = 3\n",
    "# z = -2"
   ]
  },
  {
   "cell_type": "markdown",
   "id": "cc28b447",
   "metadata": {},
   "source": [
    "### 3. Solucionando un sistema de ecuaciones lineales por el metodo de np.linalg.solve()"
   ]
  },
  {
   "cell_type": "code",
   "execution_count": 64,
   "id": "8179610f",
   "metadata": {},
   "outputs": [
    {
     "data": {
      "text/plain": [
       "array([[ 5.],\n",
       "       [ 3.],\n",
       "       [-2.]])"
      ]
     },
     "execution_count": 64,
     "metadata": {},
     "output_type": "execute_result"
    }
   ],
   "source": [
    "Sol = np.linalg.solve(M,K)\n",
    "Sol"
   ]
  },
  {
   "cell_type": "code",
   "execution_count": 65,
   "id": "010005e6",
   "metadata": {},
   "outputs": [],
   "source": [
    "# x = 5\n",
    "# y = 3\n",
    "# z = -2"
   ]
  },
  {
   "cell_type": "code",
   "execution_count": null,
   "id": "8a5b8908",
   "metadata": {},
   "outputs": [],
   "source": []
  }
 ],
 "metadata": {
  "kernelspec": {
   "display_name": "Python 3",
   "language": "python",
   "name": "python3"
  },
  "language_info": {
   "codemirror_mode": {
    "name": "ipython",
    "version": 3
   },
   "file_extension": ".py",
   "mimetype": "text/x-python",
   "name": "python",
   "nbconvert_exporter": "python",
   "pygments_lexer": "ipython3",
   "version": "3.8.8"
  }
 },
 "nbformat": 4,
 "nbformat_minor": 5
}
